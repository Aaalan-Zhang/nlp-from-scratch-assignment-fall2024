{
 "cells": [
  {
   "cell_type": "code",
   "execution_count": 2,
   "metadata": {},
   "outputs": [
    {
     "name": "stdout",
     "output_type": "stream",
     "text": [
      "                                     Name                       Tags  \\\n",
      "10              Pittsburgh Special Events         Events After 10.27   \n",
      "40  Carnegie Mellon Opera Upcoming events  Events After 10.27, Music   \n",
      "41    CMU School of Music upcoming events  Events After 10.27, Music   \n",
      "42                CMU all upcoming events         Events After 10.27   \n",
      "43              Pittsburgh Musical season  Events After 10.27, Music   \n",
      "\n",
      "                                           Source URL    Location   Select  \\\n",
      "10         https://pittsburghpa.gov/events/index.html  Pittsburgh  Webpage   \n",
      "40  https://www.cmu.edu/cfa/music/concerts-events/...         CMU  Webpage   \n",
      "41  https://www.cmu.edu/cfa/music/concerts-events/...         CMU  Webpage   \n",
      "42                         https://events.cmu.edu/all         CMU  Webpage   \n",
      "43             https://pittsburghmusicals.com/season/  Pittsburgh  Webpage   \n",
      "\n",
      "            Person  \n",
      "10  Chenglin Zhang  \n",
      "40    Qingyang Liu  \n",
      "41    Qingyang Liu  \n",
      "42    Qingyang Liu  \n",
      "43    Qingyang Liu  \n"
     ]
    }
   ],
   "source": [
    "import pandas as pd\n",
    "\n",
    "events_df = pd.read_csv('/Users/alan/11711/nlp-from-scratch-assignment/data/raw/raw_csv_data/data_source.csv')\n",
    "\n",
    "events = events_df[events_df['Tags'].str.contains(\"Events After 10.27\", na=False)]\n",
    "\n",
    "print(events.head())"
   ]
  },
  {
   "cell_type": "code",
   "execution_count": 4,
   "metadata": {},
   "outputs": [
    {
     "data": {
      "text/plain": [
       "40"
      ]
     },
     "execution_count": 4,
     "metadata": {},
     "output_type": "execute_result"
    }
   ],
   "source": [
    "len(events)"
   ]
  },
  {
   "cell_type": "code",
   "execution_count": 3,
   "metadata": {},
   "outputs": [],
   "source": [
    "events.to_csv('/Users/alan/11711/nlp-from-scratch-assignment/data/raw/raw_csv_data/events_after_10_27.csv')"
   ]
  },
  {
   "cell_type": "code",
   "execution_count": 5,
   "metadata": {},
   "outputs": [
    {
     "name": "stdout",
     "output_type": "stream",
     "text": [
      "Fetching: https://pittsburghpa.gov/events/index.html\n",
      "Saved content to /Users/alan/11711/nlp-from-scratch-assignment/data/crawled/events_test/0.txt\n",
      "Fetching: https://www.cmu.edu/cfa/music/concerts-events/opera-events.html\n",
      "Saved content to /Users/alan/11711/nlp-from-scratch-assignment/data/crawled/events_test/1.txt\n",
      "Fetching: https://www.cmu.edu/cfa/music/concerts-events/index.html\n",
      "Saved content to /Users/alan/11711/nlp-from-scratch-assignment/data/crawled/events_test/2.txt\n",
      "Fetching: https://events.cmu.edu/all\n",
      "Saved content to /Users/alan/11711/nlp-from-scratch-assignment/data/crawled/events_test/3.txt\n",
      "Fetching: https://pittsburghmusicals.com/season/\n",
      "Saved content to /Users/alan/11711/nlp-from-scratch-assignment/data/crawled/events_test/4.txt\n",
      "Fetching: https://www.chambermusicpittsburgh.org/2024-2025-mainstage-live/\n",
      "Saved content to /Users/alan/11711/nlp-from-scratch-assignment/data/crawled/events_test/5.txt\n",
      "Fetching: https://www.pittsburghsymphony.org/feed?format=rss\n",
      "Saved content to /Users/alan/11711/nlp-from-scratch-assignment/data/crawled/events_test/6.txt\n",
      "Fetching: https://www.pittsburghsymphony.org/pso_home/web/subscriptions/why-subscribe-24-25/24-25-fiddlesticks-musical-exploration\n",
      "Saved content to /Users/alan/11711/nlp-from-scratch-assignment/data/crawled/events_test/7.txt\n",
      "Fetching: https://www.bandsintown.com/c/pittsburgh-pa?came_from=253&utm_medium=web&utm_source=city_page&utm_campaign=top_event&sort_by_filter=Number+of+RSVPs&concerts=true\n",
      "Saved content to /Users/alan/11711/nlp-from-scratch-assignment/data/crawled/events_test/8.txt\n",
      "Fetching: https://pittsburghopera.org/calendar?timequery=month&prev=-1&start=1727755200000&end=1730415540000&hsLang=en\n",
      "Saved content to /Users/alan/11711/nlp-from-scratch-assignment/data/crawled/events_test/9.txt\n",
      "Fetching: https://pittsburghopera.org/calendar?timequery=month&prev=-1&start=1730433600000&end=1733011140000&hsLang=en\n",
      "Saved content to /Users/alan/11711/nlp-from-scratch-assignment/data/crawled/events_test/10.txt\n",
      "Fetching: https://pittsburghopera.org/calendar?timequery=month&prev=-1&start=1733029200000&end=1735689540000&hsLang=en\n",
      "Saved content to /Users/alan/11711/nlp-from-scratch-assignment/data/crawled/events_test/11.txt\n",
      "Fetching: https://pittsburghopera.org/calendar?timequery=month&prev=-1&start=1735707600000&end=1738367940000&hsLang=en\n",
      "Saved content to /Users/alan/11711/nlp-from-scratch-assignment/data/crawled/events_test/12.txt\n",
      "Fetching: https://pittsburghopera.org/calendar?timequery=month&prev=-1&start=1738386000000&end=1740787140000&hsLang=en\n",
      "Saved content to /Users/alan/11711/nlp-from-scratch-assignment/data/crawled/events_test/13.txt\n",
      "Fetching: https://pittsburghopera.org/calendar?timequery=month&prev=-1&start=1740805200000&end=1743461940000&hsLang=en\n",
      "Saved content to /Users/alan/11711/nlp-from-scratch-assignment/data/crawled/events_test/14.txt\n",
      "Fetching: https://pittsburghopera.org/calendar?timequery=month&prev=-1&start=1743480000000&end=1746053940000&hsLang=en\n",
      "Saved content to /Users/alan/11711/nlp-from-scratch-assignment/data/crawled/events_test/15.txt\n",
      "Fetching: https://pittsburghopera.org/calendar?timequery=month&prev=-1&start=1746072000000&end=1748732340000&hsLang=en\n",
      "Saved content to /Users/alan/11711/nlp-from-scratch-assignment/data/crawled/events_test/16.txt\n",
      "Fetching: https://pittsburghopera.org/season/special-events\n",
      "Saved content to /Users/alan/11711/nlp-from-scratch-assignment/data/crawled/events_test/17.txt\n",
      "Fetching: https://pittsburghopera.org/education/educators\n",
      "Saved content to /Users/alan/11711/nlp-from-scratch-assignment/data/crawled/events_test/18.txt\n",
      "Fetching: https://pittsburghopera.org/education/students\n",
      "Saved content to /Users/alan/11711/nlp-from-scratch-assignment/data/crawled/events_test/19.txt\n",
      "Fetching: https://www.pghcitypaper.com/pittsburgh/EventSearch?v=d\n",
      "Saved content to /Users/alan/11711/nlp-from-scratch-assignment/data/crawled/events_test/20.txt\n",
      "Fetching: https://downtownpittsburgh.com/events/?n=1&y=2025&cat=0\n",
      "Saved content to /Users/alan/11711/nlp-from-scratch-assignment/data/crawled/events_test/21.txt\n",
      "Fetching: https://downtownpittsburgh.com/events/?n=12&y=2024&cat=0\n",
      "Saved content to /Users/alan/11711/nlp-from-scratch-assignment/data/crawled/events_test/22.txt\n",
      "Fetching: https://downtownpittsburgh.com/events/?n=11&y=2024&cat=0\n",
      "Saved content to /Users/alan/11711/nlp-from-scratch-assignment/data/crawled/events_test/23.txt\n",
      "Fetching: https://downtownpittsburgh.com/events/?n=10&y=2024&cat=0\n",
      "Saved content to /Users/alan/11711/nlp-from-scratch-assignment/data/crawled/events_test/24.txt\n",
      "Fetching: https://pittsburgh.events/october/\n",
      "Saved content to /Users/alan/11711/nlp-from-scratch-assignment/data/crawled/events_test/25.txt\n",
      "Fetching: https://pittsburgh.events/november/\n",
      "Saved content to /Users/alan/11711/nlp-from-scratch-assignment/data/crawled/events_test/26.txt\n",
      "Fetching: https://pittsburgh.events/december/\n",
      "Saved content to /Users/alan/11711/nlp-from-scratch-assignment/data/crawled/events_test/27.txt\n",
      "Fetching: https://pittsburgh.events/january/\n",
      "Saved content to /Users/alan/11711/nlp-from-scratch-assignment/data/crawled/events_test/28.txt\n",
      "Fetching: https://pittsburgh.events/february/\n",
      "Saved content to /Users/alan/11711/nlp-from-scratch-assignment/data/crawled/events_test/29.txt\n",
      "Fetching: https://pittsburgh.events/march/\n",
      "Saved content to /Users/alan/11711/nlp-from-scratch-assignment/data/crawled/events_test/30.txt\n",
      "Fetching: https://pittsburgh.events/april/\n",
      "Saved content to /Users/alan/11711/nlp-from-scratch-assignment/data/crawled/events_test/31.txt\n",
      "Fetching: https://pittsburgh.events/may/\n",
      "Saved content to /Users/alan/11711/nlp-from-scratch-assignment/data/crawled/events_test/32.txt\n",
      "Fetching: https://pittsburgh.events/june/\n",
      "Saved content to /Users/alan/11711/nlp-from-scratch-assignment/data/crawled/events_test/33.txt\n",
      "Fetching: https://pittsburgh.events/july/\n",
      "Saved content to /Users/alan/11711/nlp-from-scratch-assignment/data/crawled/events_test/34.txt\n",
      "Fetching: https://pittsburgh.events/august/\n",
      "Saved content to /Users/alan/11711/nlp-from-scratch-assignment/data/crawled/events_test/35.txt\n",
      "Fetching: https://pittsburgh.events/september/\n",
      "Saved content to /Users/alan/11711/nlp-from-scratch-assignment/data/crawled/events_test/36.txt\n",
      "Fetching: https://www.steelers.com/schedule/\n",
      "Saved content to /Users/alan/11711/nlp-from-scratch-assignment/data/crawled/events_test/37.txt\n",
      "Fetching: https://trustarts.org/pct_home/blog\n",
      "Saved content to /Users/alan/11711/nlp-from-scratch-assignment/data/crawled/events_test/38.txt\n",
      "Fetching: https://carnegiemuseums.org/events/?start_date=2024-10-27&end_date=2025-11-29\n",
      "Saved content to /Users/alan/11711/nlp-from-scratch-assignment/data/crawled/events_test/39.txt\n"
     ]
    }
   ],
   "source": [
    "import csv\n",
    "import time\n",
    "from selenium import webdriver\n",
    "from selenium.webdriver.chrome.service import Service\n",
    "from selenium.webdriver.common.by import By\n",
    "from bs4 import BeautifulSoup\n",
    "from webdriver_manager.chrome import ChromeDriverManager\n",
    "from tqdm import tqdm\n",
    "\n",
    "# Function to fetch the page content using Selenium\n",
    "def fetch_page_text_selenium(url):\n",
    "    try:\n",
    "        driver = webdriver.Chrome(driverPath) \n",
    "        # Initialize Chrome WebDriver\n",
    "        driver.get(url)\n",
    "        \n",
    "        # Wait for the page to load (adjust time if needed)\n",
    "        time.sleep(3)\n",
    "        \n",
    "        # Get page source and close the browser\n",
    "        page_source = driver.page_source\n",
    "        driver.quit()\n",
    "\n",
    "        # Parse the page content using BeautifulSoup\n",
    "        soup = BeautifulSoup(page_source, 'html.parser')\n",
    "\n",
    "        # Extract and clean the text from the page\n",
    "        page_text = soup.get_text(separator='\\n', strip=True)\n",
    "        return page_text\n",
    "\n",
    "    except Exception as e:\n",
    "        print(f\"Error fetching {url}: {e}\")\n",
    "        return None\n",
    "\n",
    "# Function to read URLs from CSV and crawl each one\n",
    "def crawl_urls_from_csv(csv_file_path, url_column_name):\n",
    "    with open(csv_file_path, newline='', encoding='utf-8') as csvfile:\n",
    "        reader = csv.DictReader(csvfile)\n",
    "        for index, row in enumerate(reader):\n",
    "            url = row[url_column_name]\n",
    "            print(f\"Fetching: {url}\")\n",
    "            text = fetch_page_text_selenium(url)\n",
    "            if text:\n",
    "                # Save the crawled text to a file with the index as the filename\n",
    "                output_file = f\"/Users/alan/11711/nlp-from-scratch-assignment/data/crawled/events_test/{index}.txt\"\n",
    "                with open(output_file, 'w', encoding='utf-8') as f:\n",
    "                    f.write(text)\n",
    "                print(f\"Saved content to {output_file}\")\n",
    "\n",
    "if __name__ == \"__main__\":\n",
    "    csv_file_path = '/Users/alan/11711/nlp-from-scratch-assignment/data/raw/raw_csv_data/events_after_10_27.csv'\n",
    "    url_column_name = 'Source URL'\n",
    "    driverPath = '/Users/alan/Downloads/chromedriver-mac-arm64/chromedriver'\n",
    "\n",
    "\n",
    "    # Start crawling the URLs from the CSV\n",
    "    crawl_urls_from_csv(csv_file_path, url_column_name)"
   ]
  },
  {
   "cell_type": "code",
   "execution_count": null,
   "metadata": {},
   "outputs": [],
   "source": []
  }
 ],
 "metadata": {
  "kernelspec": {
   "display_name": "Python 3",
   "language": "python",
   "name": "python3"
  },
  "language_info": {
   "codemirror_mode": {
    "name": "ipython",
    "version": 3
   },
   "file_extension": ".py",
   "mimetype": "text/x-python",
   "name": "python",
   "nbconvert_exporter": "python",
   "pygments_lexer": "ipython3",
   "version": "3.8.5"
  }
 },
 "nbformat": 4,
 "nbformat_minor": 2
}
