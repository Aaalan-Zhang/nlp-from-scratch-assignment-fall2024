{
 "cells": [
  {
   "cell_type": "code",
   "execution_count": 5,
   "metadata": {},
   "outputs": [
    {
     "name": "stdout",
     "output_type": "stream",
     "text": [
      "Processing 9624_Local_Services_Tax_Regulations (1).pdf...\n",
      "Saved extracted text to 9624_Local_Services_Tax_Regulations (1).txt\n",
      "Processing 9627_UF_Regulations.pdf...\n",
      "Saved extracted text to 9627_UF_Regulations.txt\n",
      "Processing cmu_fact_sheet_02.pdf...\n",
      "Saved extracted text to cmu_fact_sheet_02.txt\n",
      "Processing cmu-leadership-org-chart.pdf...\n",
      "Saved extracted text to cmu-leadership-org-chart.txt\n",
      "Processing 9625_Parking_Tax_Regulations.pdf...\n",
      "Saved extracted text to 9625_Parking_Tax_Regulations.txt\n",
      "Processing 9626_Payroll_Tax_Regulations.pdf...\n",
      "Saved extracted text to 9626_Payroll_Tax_Regulations.txt\n",
      "Processing 9622_Amusement_Tax_Regulations.pdf...\n",
      "Saved extracted text to 9622_Amusement_Tax_Regulations.txt\n",
      "Processing 9624_Local_Services_Tax_Regulations.pdf...\n",
      "Saved extracted text to 9624_Local_Services_Tax_Regulations.txt\n",
      "Processing 9623_ISP_Tax_Regulations.pdf...\n",
      "Saved extracted text to 9623_ISP_Tax_Regulations.txt\n",
      "Processing 23255_2024_Operating_Budget.pdf...\n",
      "Saved extracted text to 23255_2024_Operating_Budget.txt\n"
     ]
    }
   ],
   "source": [
    "import os\n",
    "from pypdf import PdfReader\n",
    "\n",
    "# Function to extract text from a PDF file\n",
    "def extract_text_from_pdf(pdf_path):\n",
    "    # Create a PDF reader object\n",
    "    reader = PdfReader(pdf_path)\n",
    "    \n",
    "    # Initialize a string to hold the extracted text\n",
    "    extracted_text = \"\"\n",
    "    \n",
    "    # Loop through each page in the PDF\n",
    "    for page_num in range(len(reader.pages)):\n",
    "        page = reader.pages[page_num]\n",
    "        extracted_text += page.extract_text() + \"\\n\"  # Extract text from each page and add newline for separation\n",
    "    \n",
    "    return extracted_text\n",
    "\n",
    "# Function to list all PDF files in a directory\n",
    "def list_pdf_files(directory):\n",
    "    return [f for f in os.listdir(directory) if f.endswith('.pdf')]\n",
    "\n",
    "if __name__ == \"__main__\":\n",
    "    # Directory containing the PDF files\n",
    "    pdf_file_dir = '/Users/alan/11711/nlp-from-scratch-assignment/data/1010_160_entries/raw/raw_pdf_data'\n",
    "\n",
    "    # Get all PDF files in the directory\n",
    "    pdf_files = list_pdf_files(pdf_file_dir)\n",
    "\n",
    "    # Process each PDF file\n",
    "    for pdf_file in pdf_files:\n",
    "        pdf_file_path = os.path.join(pdf_file_dir, pdf_file)  # Full path to the PDF file\n",
    "        print(f\"Processing {pdf_file}...\")\n",
    "\n",
    "        # Extract text from the PDF\n",
    "        text = extract_text_from_pdf(pdf_file_path)\n",
    "\n",
    "        # Create a corresponding text file name (same name as the PDF, but with .txt extension)\n",
    "        txt_file_name = os.path.splitext(pdf_file)[0] + \".txt\"\n",
    "        txt_file_path = os.path.join('/Users/alan/11711/nlp-from-scratch-assignment/data/1010_160_entries/crawled/crawled_pdf_text_data', txt_file_name)\n",
    "\n",
    "        # Save the extracted text to a text file\n",
    "        with open(txt_file_path, 'w', encoding='utf-8') as text_file:\n",
    "            cleaned_text = text.replace('\\n', ' ')\n",
    "            text_file.write(cleaned_text)\n",
    "\n",
    "        print(f\"Saved extracted text to {txt_file_name}\")\n"
   ]
  },
  {
   "cell_type": "code",
   "execution_count": null,
   "metadata": {},
   "outputs": [],
   "source": []
  }
 ],
 "metadata": {
  "kernelspec": {
   "display_name": "Python 3",
   "language": "python",
   "name": "python3"
  },
  "language_info": {
   "codemirror_mode": {
    "name": "ipython",
    "version": 3
   },
   "file_extension": ".py",
   "mimetype": "text/x-python",
   "name": "python",
   "nbconvert_exporter": "python",
   "pygments_lexer": "ipython3",
   "version": "3.8.5"
  }
 },
 "nbformat": 4,
 "nbformat_minor": 2
}
