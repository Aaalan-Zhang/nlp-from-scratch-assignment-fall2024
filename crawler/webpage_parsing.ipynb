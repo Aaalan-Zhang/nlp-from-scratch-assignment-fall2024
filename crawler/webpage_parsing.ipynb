{
 "cells": [
  {
   "cell_type": "markdown",
   "metadata": {},
   "source": [
    "Sublink processing hasn't been added (but is necessary)\n",
    "selenium parsing may be useful but after some tests, it turns out to be not very useful"
   ]
  },
  {
   "cell_type": "code",
   "execution_count": 9,
   "metadata": {},
   "outputs": [
    {
     "name": "stdout",
     "output_type": "stream",
     "text": [
      "Fetching: https://en.wikipedia.org/wiki/Pittsburgh\n",
      "Fetching: https://en.wikipedia.org/wiki/History_of_Pittsburgh\n",
      "Fetching: https://pittsburghpa.gov/pittsburgh/pgh-about\n",
      "Fetching: https://www.britannica.com/place/Pittsburgh\n",
      "Fetching: https://pittsburghpa.gov/events/index.html\n",
      "Fetching: https://www.visitpittsburgh.com/blog/move-in-day-pittsburgh-college-guide/\n",
      "Fetching: https://pittsburghpa.gov/mayor/pghmayors\n",
      "Fetching: https://en.wikipedia.org/wiki/Economy_of_Pittsburgh\n",
      "Fetching: https://en.wikipedia.org/wiki/Greater_Pittsburgh#\n",
      "Fetching: https://en.wikipedia.org/wiki/Government_of_Pittsburgh\n",
      "Fetching: https://en.wikipedia.org/wiki/Transportation_in_Pittsburgh\n",
      "Fetching: https://en.wikipedia.org/wiki/List_of_colleges_and_universities_in_Pittsburgh\n",
      "Fetching: https://en.wikipedia.org/wiki/Timeline_of_Pittsburgh\n",
      "Fetching: https://en.wikipedia.org/wiki/List_of_people_from_Pittsburgh\n",
      "Fetching: https://en.wikipedia.org/wiki/List_of_corporations_in_Pittsburgh\n",
      "Fetching: https://pittsburghpa.gov/pittsburgh/pgh-sports\n",
      "Fetching: https://pittsburghpa.gov/pittsburgh/cultural-activities\n",
      "Fetching: https://www.cmu.edu/about/\n",
      "Fetching: https://www.cmu.edu/global/\n",
      "Fetching: https://en.wikipedia.org/wiki/Carnegie_Mellon_University\n",
      "Fetching: https://www.cmu.edu/student-admission/index.html\n",
      "Fetching: https://www.cmu.edu/admission/\n",
      "Fetching: https://www.cmu.edu/graduate/prospective/index.html\n",
      "Fetching: https://www.cmu.edu/leadership/\n",
      "Fetching: https://www.cmu.edu/strategic-plan/\n",
      "Fetching: https://www.cmu.edu/strategic-plan/about/vision-mission.html\n",
      "Fetching: https://www.cmu.edu/strategic-plan/about/values.html\n",
      "Fetching: https://www.cmu.edu/diversity/\n",
      "Fetching: https://en.wikipedia.org/wiki/Carnegie_Mellon_University_traditions\n",
      "Fetching: https://www.cmu.edu/about/rankings.html\n",
      "Fetching: https://www.cmu.edu/about/awards.html\n",
      "Fetching: https://www.cmu.edu/cfa/music/concerts-events/opera-events.html\n",
      "Fetching: https://www.cmu.edu/cfa/music/concerts-events/index.html\n",
      "Fetching: https://events.cmu.edu/all\n",
      "Fetching: https://pittsburghmusicals.com/season/\n",
      "Fetching: https://www.chambermusicpittsburgh.org/2024-2025-mainstage-live/\n",
      "Fetching: https://makemusicpittsburgh.org/\n",
      "Fetching: https://en.wikipedia.org/wiki/Pittsburgh_Symphony_Orchestra\n",
      "Fetching: https://www.pittsburghsymphony.org/feed?format=rss\n",
      "Fetching: https://www.pittsburghsymphony.org/pso_home/web/about-landing/melia-p-tourangeau-president\n",
      "Fetching: https://www.pittsburghsymphony.org/pso_home/biographies/pso-conductors/honeck-manfred\n",
      "Fetching: https://www.pittsburghsymphony.org/pso_home/web/musicians\n",
      "Fetching: https://www.pittsburghsymphony.org/pso_home/web/community-landing/learning-programs\n",
      "Fetching: https://www.pittsburghsymphony.org/pso_home/web/subscriptions/why-subscribe-24-25/24-25-fiddlesticks-musical-exploration\n",
      "Fetching: https://www.pittsburghsymphony.org/pso_home/web/community-landing/learning-programs/schooltime-concerts\n",
      "Fetching: https://www.pittsburghsymphony.org/pso_home/web/community-landing/learning-programs/schooltime-concerts/digital-schooltime\n",
      "Fetching: https://www.pittsburghsymphony.org/pso_home/web/give-landing/corporate-partnerships/dining-partners\n",
      "Fetching: https://www.bandsintown.com/c/pittsburgh-pa?came_from=253&utm_medium=web&utm_source=city_page&utm_campaign=top_event&sort_by_filter=Number+of+RSVPs&concerts=true\n",
      "Fetching: https://www.visitpittsburgh.com/blog/pittsburgh-music-venues/\n",
      "Fetching: https://en.wikipedia.org/wiki/Pittsburgh_Opera\n",
      "Fetching: https://pittsburghopera.org/about\n",
      "Fetching: https://pittsburghopera.org/about/mission-history\n",
      "Fetching: https://pittsburghopera.org/resident-artists/2024-25resident-artists\n",
      "Fetching: https://pittsburghopera.org/resident-artists/faculty-administration/\n",
      "Fetching: https://pittsburghopera.org/resident-artists/history-alumni/\n",
      "Fetching: https://pittsburghopera.org/our-team/board-of-directors\n",
      "Fetching: https://pittsburghopera.org/our-team/staff\n",
      "Fetching: https://pittsburghopera.org/our-team/orchestra\n",
      "Fetching: https://pittsburghopera.org/our-team/chorus\n",
      "Fetching: https://pittsburghopera.org/facilities/pittsburgh-opera-headquarters/\n",
      "Fetching: https://pittsburghopera.org/support/foundation-support\n",
      "Fetching: https://pittsburghopera.org/support/government-support\n",
      "Fetching: https://pittsburghopera.org/about/inclusion-diversity-equity-accessibility-idea/\n",
      "Fetching: https://pittsburghopera.org/education/mobile-app\n",
      "Fetching: https://pittsburghopera.org/education/bravo-academy\n",
      "Fetching: https://pittsburghopera.org/season\n",
      "Fetching: https://pittsburghopera.org/season/tosca\n",
      "Fetching: https://pittsburghopera.org/season/cavalleria-rusticana-pagliacci\n",
      "Fetching: https://pittsburghopera.org/season/armida\n",
      "Fetching: https://pittsburghopera.org/season/madama-butterfly\n",
      "Fetching: https://pittsburghopera.org/season/woman-with-eyes-closed\n",
      "Fetching: https://pittsburghopera.org/calendar?timequery=month&prev=-1&start=1727755200000&end=1730415540000&hsLang=en\n",
      "Fetching: https://pittsburghopera.org/calendar?timequery=month&prev=-1&start=1730433600000&end=1733011140000&hsLang=en\n",
      "Fetching: https://pittsburghopera.org/calendar?timequery=month&prev=-1&start=1733029200000&end=1735689540000&hsLang=en\n",
      "Fetching: https://pittsburghopera.org/calendar?timequery=month&prev=-1&start=1735707600000&end=1738367940000&hsLang=en\n",
      "Fetching: https://pittsburghopera.org/calendar?timequery=month&prev=-1&start=1738386000000&end=1740787140000&hsLang=en\n",
      "Fetching: https://pittsburghopera.org/calendar?timequery=month&prev=-1&start=1740805200000&end=1743461940000&hsLang=en\n",
      "Fetching: https://pittsburghopera.org/calendar?timequery=month&prev=-1&start=1743480000000&end=1746053940000&hsLang=en\n",
      "Fetching: https://pittsburghopera.org/calendar?timequery=month&prev=-1&start=1746072000000&end=1748732340000&hsLang=en\n",
      "Fetching: https://pittsburghopera.org/season/special-events\n",
      "Fetching: https://pittsburghopera.org/education/educators\n",
      "Fetching: https://pittsburghopera.org/education/students\n",
      "Fetching: https://www.pghcitypaper.com/pittsburgh/EventSearch?v=d\n",
      "Fetching: https://downtownpittsburgh.com/events/?n=1&y=2025&cat=0\n",
      "Fetching: https://downtownpittsburgh.com/events/?n=12&y=2024&cat=0\n",
      "Fetching: https://downtownpittsburgh.com/events/?n=11&y=2024&cat=0\n",
      "Fetching: https://downtownpittsburgh.com/events/?n=10&y=2024&cat=0\n",
      "Fetching: https://pittsburgh.events/october/\n",
      "Fetching: https://pittsburgh.events/november/\n",
      "Fetching: https://pittsburgh.events/december/\n",
      "Fetching: https://pittsburgh.events/january/\n",
      "Fetching: https://pittsburgh.events/february/\n",
      "Fetching: https://pittsburgh.events/march/\n",
      "Fetching: https://pittsburgh.events/april/\n",
      "Fetching: https://pittsburgh.events/may/\n",
      "Fetching: https://pittsburgh.events/june/\n",
      "Fetching: https://pittsburgh.events/july/\n",
      "Fetching: https://pittsburgh.events/august/\n",
      "Fetching: https://pittsburgh.events/september/\n",
      "Fetching: https://www.visitpittsburgh.com/things-to-do/pittsburgh-sports-teams/\n",
      "Fetching: https://www.visitpittsburgh.com/things-to-do/pittsburgh-sports-teams/pittsburgh-steelers/\n",
      "Fetching: https://www.visitpittsburgh.com/things-to-do/pittsburgh-sports-teams/pittsburgh-pirates/\n",
      "Fetching: https://www.visitpittsburgh.com/things-to-do/pittsburgh-sports-teams/pittsburgh-penguins/\n",
      "Fetching: https://www.visitpittsburgh.com/things-to-do/pittsburgh-sports-teams/college-sports/\n",
      "Fetching: https://www.visitpittsburgh.com/things-to-do/pittsburgh-sports-teams/other-sports-teams/\n",
      "Fetching: https://www.visitpittsburgh.com/things-to-do/pittsburgh-sports-teams/terrible-towel/\n",
      "Fetching: https://www.visitpittsburgh.com/things-to-do/pittsburgh-sports-teams/pittsburgh-riverhounds/\n",
      "Fetching: https://www.visitpittsburgh.com/blog/steelers-hall-of-honor-museum/\n",
      "Fetching: https://www.visitpittsburgh.com/blog/guide-to-acrisure-stadium-for-steelers-fans/\n",
      "Fetching: https://www.visitpittsburgh.com/blog/what-to-eat-at-pnc-park/\n",
      "Fetching: https://www.visitpittsburgh.com/blog/ppg-paints-arena-penguins-guide/\n",
      "Fetching: https://www.steelers.com/\n",
      "Fetching: https://www.steelers.com/schedule/\n",
      "Fetching: https://en.wikipedia.org/wiki/Myron_Cope\n",
      "Fetching: https://www.dkpittsburghsports.com/\n",
      "Fetching: https://en.wikipedia.org/wiki/Sports_in_Pittsburgh\n",
      "Fetching: https://www.nytimes.com/athletic/location/pittsburgh/\n",
      "Fetching: https://athletics.cmu.edu/landing/index\n",
      "Fetching: https://athletics.cmu.edu/sports/mbkb/index\n",
      "Fetching: https://athletics.cmu.edu/sports/mbkb/2024-25/schedule\n",
      "Fetching: https://x.com/tartanathletics?lang=en\n",
      "Fetching: https://trustarts.org/\n",
      "Failed to parse URL at index: 121, URL: https://trustarts.org/\n",
      "Fetching: https://trustarts.org/pct_home/blog\n",
      "Fetching: https://trustarts.org/pct_home/about\n",
      "Fetching: https://trustarts.org/pct_home/about/history\n",
      "Fetching: https://trustarts.org/pct_home/about/cultural-district\n",
      "Fetching: https://trustarts.org/pct_home/visual-arts\n",
      "Fetching: https://en.wikipedia.org/wiki/Pittsburgh_Cultural_Trust\n",
      "Fetching: https://carnegiemuseums.org/\n",
      "Fetching: https://carnegiemuseums.org/events/?start_date=2024-10-27&end_date=2025-11-29\n",
      "Fetching: https://en.wikipedia.org/wiki/Carnegie_Museums_of_Pittsburgh\n",
      "Fetching: https://en.wikipedia.org/wiki/Carnegie_Museum_of_Art\n",
      "Fetching: https://carnegiemuseums.org/about-us/our-history/\n",
      "Fetching: https://carnegiemnh.org/\n",
      "Fetching: https://carnegieart.org/\n",
      "Fetching: https://en.wikipedia.org/wiki/Carnegie_Museum_of_Natural_History\n",
      "Fetching: https://en.wikipedia.org/wiki/Heinz_History_Center\n",
      "Fetching: https://www.heinzhistorycenter.org/\n",
      "Fetching: https://www.thefrickpittsburgh.org/\n",
      "Fetching: https://en.wikipedia.org/wiki/The_Frick_Pittsburgh#:~:text=The%20Frick%20Pittsburgh%20is%20a,residence%20known%20as%20%22Clayton%22.\n",
      "Fetching: https://www.visitpittsburgh.com/events-festivals/food-festivals/\n",
      "Fetching: https://www.picklesburgh.com/\n",
      "Fetching: https://www.picklesburgh.com/vendors/\n",
      "Fetching: https://www.pghtacofest.com/about\n",
      "Fetching: https://pittsburghrestaurantweek.com/\n",
      "Fetching: https://pittsburghrestaurantweek.com/restaurants/summer-2024-restaurants/\n",
      "Fetching: https://littleitalydays.com/\n",
      "Fetching: https://littleitalydays.com/about-us/\n",
      "Fetching: https://bananasplitfest.com/\n",
      "Fetching: https://bananasplitfest.com/events/\n",
      "Fetching: https://en.wikipedia.org/wiki/Picklesburgh\n",
      "Crawling complete!\n"
     ]
    }
   ],
   "source": [
    "import requests\n",
    "from bs4 import BeautifulSoup\n",
    "import pandas as pd\n",
    "import time\n",
    "import random\n",
    "import warnings\n",
    "from urllib.parse import urljoin\n",
    "from urllib3.exceptions import InsecureRequestWarning\n",
    "\n",
    "user_agents = [\n",
    "    'Mozilla/5.0 (Windows NT 10.0; Win64; x64) AppleWebKit/537.36 (KHTML, like Gecko) Chrome/58.0.3029.110 Safari/537.3',\n",
    "    'Mozilla/5.0 (X11; Linux x86_64) AppleWebKit/537.36 (KHTML, like Gecko) Chrome/58.0.3029.110 Safari/537.3',\n",
    "    'Mozilla/5.0 (Macintosh; Intel Mac OS X 10_12_6) AppleWebKit/537.36 (KHTML, like Gecko) Chrome/60.0.3112.113 Safari/537.36',\n",
    "]\n",
    "warnings.filterwarnings('ignore', category=InsecureRequestWarning)\n",
    "\n",
    "# Define headers for requests\n",
    "headers = {'User-Agent': random.choice(user_agents)}\n",
    "session = requests.Session()\n",
    "\n",
    "# Fetch the page text with retry mechanism\n",
    "def fetch_page_text(url, retries=3, timeout=5):\n",
    "    attempt = 0\n",
    "    while attempt < retries:\n",
    "        try:\n",
    "            # Send a GET request to the URL with a timeout\n",
    "            response = session.get(url, timeout=timeout, headers=headers, verify=False)\n",
    "            response.raise_for_status()  # Raise an error for bad responses\n",
    "            \n",
    "            # Parse the page content\n",
    "            soup = BeautifulSoup(response.content, 'lxml')\n",
    "            \n",
    "            # Extract and return the text from the page and the soup object\n",
    "            return soup.get_text(separator='\\n', strip=True), soup\n",
    "        \n",
    "        except requests.exceptions.RequestException as e:\n",
    "            attempt += 1\n",
    "            time.sleep(1)  # Optional: wait before retrying\n",
    "\n",
    "        if attempt == retries:\n",
    "            return None, None\n",
    "\n",
    "# Extract all sublinks (anchor tags) and handle relative URLs\n",
    "def extract_sublinks(soup, base_url):\n",
    "    sublinks = []\n",
    "    for link in soup.find_all('a', href=True):\n",
    "        sublink = link['href']\n",
    "        # Convert relative URLs to absolute URLs using urljoin\n",
    "        full_url = urljoin(base_url, sublink)\n",
    "        sublinks.append(full_url)\n",
    "    return sublinks\n",
    "\n",
    "# Crawl through the URLs and fetch the data with retry\n",
    "def crawl_urls(url_list):\n",
    "    results = {}\n",
    "    sublinks_data = []  # List to store (parent_url, sublink) pairs\n",
    "    for index, url in enumerate(url_list):\n",
    "        print(f\"Fetching: {url}\")\n",
    "        text, soup = fetch_page_text(url)\n",
    "        if text and soup:\n",
    "            # Store the crawled text\n",
    "            results[url] = text\n",
    "            # Extract sublinks\n",
    "            sublinks = extract_sublinks(soup, url)\n",
    "            for sublink in sublinks:\n",
    "                sublinks_data.append((url, sublink))\n",
    "        else:\n",
    "            print(f\"Failed to parse URL at index: {index}, URL: {url}\")\n",
    "    return results, sublinks_data\n",
    "\n",
    "# Save the crawled text data to .txt files\n",
    "def save_crawled_data(crawled_data, urls):\n",
    "    for index, url in enumerate(urls):\n",
    "        # Fetch the text corresponding to the URL from the crawled_data dictionary\n",
    "        text = crawled_data.get(url, \"\")\n",
    "\n",
    "        # Remove all newline characters from the text\n",
    "        cleaned_text = text.replace('\\n', ' ')\n",
    "\n",
    "        # Define the file name with the index from the URLs list\n",
    "        output_file = f\"/Users/alan/11711/nlp-from-scratch-assignment/data/1010_160_entries/crawled/crawled_text_data/{index}.txt\"\n",
    "\n",
    "        # Save the cleaned text to the file\n",
    "        with open(output_file, 'w', encoding='utf-8') as file:\n",
    "            file.write(cleaned_text)\n",
    "\n",
    "# Save sublinks to a CSV file\n",
    "def save_sublinks_to_csv(sublinks_data, output_csv):\n",
    "    df = pd.DataFrame(sublinks_data, columns=['Parent URL', 'Sublink'])\n",
    "    df.to_csv(output_csv, index=False)\n",
    "\n",
    "if __name__ == \"__main__\":\n",
    "    file_path = '/Users/alan/11711/nlp-from-scratch-assignment/data/1010_160_entries/raw/raw_csv_data/data_source.csv'\n",
    "    data = pd.read_csv(file_path)\n",
    "\n",
    "    # Extract non-empty URLs from the 'Source URL' column\n",
    "    urls = data[data['Select'] == 'Webpage']['Source URL'].dropna().unique()\n",
    "\n",
    "    # Start crawling the URLs\n",
    "    crawled_data, sublinks_data = crawl_urls(urls)\n",
    "    \n",
    "    # Save the crawled text data\n",
    "    save_crawled_data(crawled_data, urls)\n",
    "\n",
    "    # Save sublinks to a CSV file\n",
    "    sublinks_output_file = \"/Users/alan/11711/nlp-from-scratch-assignment/data/1010_160_entries/crawled/crawled_sublinks.csv\"\n",
    "    save_sublinks_to_csv(sublinks_data, sublinks_output_file)\n",
    "\n",
    "    print(\"Crawling complete!\")"
   ]
  },
  {
   "cell_type": "markdown",
   "metadata": {},
   "source": [
    "The below cell create a mapping between the parent link file names (in index numbers) and the actual urls."
   ]
  },
  {
   "cell_type": "code",
   "execution_count": 18,
   "metadata": {},
   "outputs": [
    {
     "name": "stdout",
     "output_type": "stream",
     "text": [
      "CSV mapping file created at /Users/alan/11711/nlp-from-scratch-assignment/data/crawled/parentlink_file_name_url_mapping.csv\n"
     ]
    }
   ],
   "source": [
    "file_path = '/Users/alan/11711/nlp-from-scratch-assignment/data/raw/raw_csv_data/data_source.csv'\n",
    "data = pd.read_csv(file_path)\n",
    "\n",
    "# Extract non-empty URLs from the 'Source URL' column\n",
    "urls = data[data['Select'] == 'Webpage']['Source URL'].dropna().unique()\n",
    "\n",
    "import csv\n",
    "\n",
    "output_csv = '/Users/alan/11711/nlp-from-scratch-assignment/data/crawled/parentlink_file_name_url_mapping.csv'\n",
    "\n",
    "# Create the CSV mapping file\n",
    "with open(output_csv, mode='w', newline='', encoding='utf-8') as file:\n",
    "    writer = csv.writer(file)\n",
    "    \n",
    "    # Write the header (optional)\n",
    "    writer.writerow(['Index', 'Value'])\n",
    "    \n",
    "    # Write the index and value pairs to the CSV\n",
    "    for index, value in enumerate(urls):\n",
    "        writer.writerow([index, value])\n",
    "\n",
    "print(f\"CSV mapping file created at {output_csv}\")"
   ]
  },
  {
   "cell_type": "code",
   "execution_count": 11,
   "metadata": {},
   "outputs": [
    {
     "name": "stderr",
     "output_type": "stream",
     "text": [
      "  9%|▉         | 1629/18004 [12:02<2:23:07,  1.91it/s]"
     ]
    },
    {
     "name": "stdout",
     "output_type": "stream",
     "text": [
      "Failed to parse URL at index 1628, URL: https://en.wikipedia.org/w/index.php?title=Pennsylvania_American_Water&action=edit&redlink=1\n"
     ]
    },
    {
     "name": "stderr",
     "output_type": "stream",
     "text": [
      " 10%|█         | 1885/18004 [14:05<9:59:34,  2.23s/it]"
     ]
    },
    {
     "name": "stdout",
     "output_type": "stream",
     "text": [
      "Failed to parse URL at index 1884, URL: https://web.archive.org/web/20230811122527/https://triblive.com/local/regional/lawrence-county-added-to-pittsburgh-metro-area/\n"
     ]
    },
    {
     "name": "stderr",
     "output_type": "stream",
     "text": [
      " 10%|█         | 1890/18004 [14:07<3:18:24,  1.35it/s]"
     ]
    },
    {
     "name": "stdout",
     "output_type": "stream",
     "text": [
      "Failed to parse URL at index 1889, URL: http://www.phmc.pa.gov/Preservation/Historical-Markers/Pages/Approved-Markers.aspx\n"
     ]
    },
    {
     "name": "stderr",
     "output_type": "stream",
     "text": [
      " 11%|█         | 1894/18004 [14:10<2:48:18,  1.60it/s]"
     ]
    },
    {
     "name": "stdout",
     "output_type": "stream",
     "text": [
      "Failed to parse URL at index 1894, URL: https://www.usatoday.com/money/economy/2009-09-21-us-steel-pittsburgh_N.htm\n"
     ]
    },
    {
     "name": "stderr",
     "output_type": "stream",
     "text": [
      " 11%|█         | 1896/18004 [14:10<2:23:33,  1.87it/s]"
     ]
    },
    {
     "name": "stdout",
     "output_type": "stream",
     "text": [
      "Failed to parse URL at index 1895, URL: http://www.wtae.com/Just-How-Many-Bridges-Are-There-In-Pittsburgh/-/9681798/7685514/-/jaknsc/-/index.html\n"
     ]
    },
    {
     "name": "stderr",
     "output_type": "stream",
     "text": [
      " 11%|█         | 1897/18004 [14:11<2:42:15,  1.65it/s]"
     ]
    },
    {
     "name": "stdout",
     "output_type": "stream",
     "text": [
      "Failed to parse URL at index 1896, URL: http://articles.chicagotribune.com/1987-10-18/travel/8703180822_1_steel-truss-bridge-twin-bridges-arches\n"
     ]
    },
    {
     "name": "stderr",
     "output_type": "stream",
     "text": [
      " 11%|█         | 1898/18004 [14:16<8:37:35,  1.93s/it]"
     ]
    },
    {
     "name": "stdout",
     "output_type": "stream",
     "text": [
      "Failed to parse URL at index 1897, URL: https://web.archive.org/web/20091121222948/http://kdka.com/local/bridge.Pittsburgh.2.383456.html\n"
     ]
    },
    {
     "name": "stderr",
     "output_type": "stream",
     "text": [
      " 11%|█         | 1901/18004 [14:34<26:10:20,  5.85s/it]"
     ]
    },
    {
     "name": "stdout",
     "output_type": "stream",
     "text": [
      "Failed to parse URL at index 1900, URL: http://www.bivouacbooks.com/bbv4i4s4.htm\n"
     ]
    },
    {
     "name": "stderr",
     "output_type": "stream",
     "text": [
      " 11%|█         | 1902/18004 [14:34<18:47:06,  4.20s/it]"
     ]
    },
    {
     "name": "stdout",
     "output_type": "stream",
     "text": [
      "Failed to parse URL at index 1901, URL: http://www.post-gazette.com/stories/local/community-eyewitness/eyewitness-1949-tv-makes-pittsburgh-a-new-promise-247120/\n"
     ]
    },
    {
     "name": "stderr",
     "output_type": "stream",
     "text": [
      " 11%|█         | 1908/18004 [14:36<3:29:53,  1.28it/s] "
     ]
    },
    {
     "name": "stdout",
     "output_type": "stream",
     "text": [
      "Failed to parse URL at index 1906, URL: http://www.epp.cmu.edu/graduate/faq_contacts_pittsburgh.html\n"
     ]
    },
    {
     "name": "stderr",
     "output_type": "stream",
     "text": [
      " 11%|█         | 1918/18004 [14:43<2:08:03,  2.09it/s]"
     ]
    },
    {
     "name": "stdout",
     "output_type": "stream",
     "text": [
      "Failed to parse URL at index 1916, URL: https://www.uschamber.com/blog/innovate-or-die-pittsburgh-chose-innovate\n"
     ]
    },
    {
     "name": "stderr",
     "output_type": "stream",
     "text": [
      " 11%|█         | 1921/18004 [14:44<1:30:17,  2.97it/s]"
     ]
    },
    {
     "name": "stdout",
     "output_type": "stream",
     "text": [
      "Failed to parse URL at index 1919, URL: http://www.post-gazette.com/stories/business/news/in-desperate-1983-there-was-nowhere-for-pittsburghs-economy-to-go-but-up-667537/\n"
     ]
    },
    {
     "name": "stderr",
     "output_type": "stream",
     "text": [
      " 11%|█         | 1930/18004 [14:49<3:25:25,  1.30it/s]"
     ]
    },
    {
     "name": "stdout",
     "output_type": "stream",
     "text": [
      "Failed to parse URL at index 1929, URL: https://www.jstor.org/stable/j.ctt9qh7tx\n"
     ]
    },
    {
     "name": "stderr",
     "output_type": "stream",
     "text": [
      " 11%|█         | 1932/18004 [14:50<2:23:32,  1.87it/s]"
     ]
    },
    {
     "name": "stdout",
     "output_type": "stream",
     "text": [
      "Failed to parse URL at index 1931, URL: https://doi.org/10.2307%2Fj.ctt9qh7tx\n"
     ]
    },
    {
     "name": "stderr",
     "output_type": "stream",
     "text": [
      " 11%|█         | 1937/18004 [14:52<2:04:20,  2.15it/s]"
     ]
    },
    {
     "name": "stdout",
     "output_type": "stream",
     "text": [
      "Failed to parse URL at index 1936, URL: http://www.nsf.gov/statistics/infbrief/nsf13305/nsf13305.pdf\n"
     ]
    },
    {
     "name": "stderr",
     "output_type": "stream",
     "text": [
      " 11%|█         | 1943/18004 [14:58<2:53:04,  1.55it/s]"
     ]
    },
    {
     "name": "stdout",
     "output_type": "stream",
     "text": [
      "Failed to parse URL at index 1942, URL: http://www.bizjournals.com/pittsburgh/blog/morning-edition/2014/12/eaton-wins-contract-for-solar-installations.html\n"
     ]
    },
    {
     "name": "stderr",
     "output_type": "stream",
     "text": [
      " 11%|█         | 1944/18004 [15:03<8:45:07,  1.96s/it]"
     ]
    },
    {
     "name": "stdout",
     "output_type": "stream",
     "text": [
      "Failed to parse URL at index 1943, URL: http://174.143.38.57/wp-content/uploads/2010/06/S013_ROBOT-RxSellSheet.pdf\n"
     ]
    },
    {
     "name": "stderr",
     "output_type": "stream",
     "text": [
      " 11%|█         | 1949/18004 [15:07<3:47:12,  1.18it/s]"
     ]
    },
    {
     "name": "stdout",
     "output_type": "stream",
     "text": [
      "Failed to parse URL at index 1948, URL: http://www.ncfta.net/contact-ncfta.aspx\n"
     ]
    },
    {
     "name": "stderr",
     "output_type": "stream",
     "text": [
      " 11%|█         | 1951/18004 [15:08<3:00:40,  1.48it/s]"
     ]
    },
    {
     "name": "stdout",
     "output_type": "stream",
     "text": [
      "Failed to parse URL at index 1950, URL: http://www.rec.ri.cmu.edu/about/history/\n"
     ]
    },
    {
     "name": "stderr",
     "output_type": "stream",
     "text": [
      " 11%|█         | 1954/18004 [15:10<2:26:05,  1.83it/s]"
     ]
    },
    {
     "name": "stdout",
     "output_type": "stream",
     "text": [
      "Failed to parse URL at index 1953, URL: http://www.pittsburghlive.com/x/pittsburghtrib/business/s_580675.html\n"
     ]
    },
    {
     "name": "stderr",
     "output_type": "stream",
     "text": [
      " 11%|█         | 1955/18004 [15:10<2:13:17,  2.01it/s]"
     ]
    },
    {
     "name": "stdout",
     "output_type": "stream",
     "text": [
      "Failed to parse URL at index 1954, URL: http://www.post-gazette.com/stories/local/region/pittsburgh-region-sees-11th-consecutive-month-of-home-sales-increases-655305/\n"
     ]
    },
    {
     "name": "stderr",
     "output_type": "stream",
     "text": [
      " 11%|█         | 1956/18004 [15:11<3:00:36,  1.48it/s]"
     ]
    },
    {
     "name": "stdout",
     "output_type": "stream",
     "text": [
      "Failed to parse URL at index 1955, URL: http://www.boston.com/bostonglobe/ideas/articles/2010/02/28/warning_your_reality_is_out_of_date/\n"
     ]
    },
    {
     "name": "stderr",
     "output_type": "stream",
     "text": [
      " 11%|█         | 1959/18004 [15:13<2:13:03,  2.01it/s]"
     ]
    },
    {
     "name": "stdout",
     "output_type": "stream",
     "text": [
      "Failed to parse URL at index 1959, URL: https://www.nytimes.com/2009/01/08/business/economy/08collapse.html\n"
     ]
    },
    {
     "name": "stderr",
     "output_type": "stream",
     "text": [
      " 11%|█         | 1963/18004 [15:16<2:43:41,  1.63it/s]"
     ]
    },
    {
     "name": "stdout",
     "output_type": "stream",
     "text": [
      "Failed to parse URL at index 1962, URL: http://www.zillowstatic.com/vstatic/419b583f682a74b83f007039dd9c49f8/static/pages/visuals/neg-equity-map/v3/map.html?embed=1&loc=4/38.41056/-97.95410\n"
     ]
    },
    {
     "name": "stderr",
     "output_type": "stream",
     "text": [
      " 11%|█         | 1966/18004 [15:22<8:33:30,  1.92s/it]"
     ]
    },
    {
     "name": "stdout",
     "output_type": "stream",
     "text": [
      "Failed to parse URL at index 1965, URL: https://web.archive.org/web/20140515222028/http://www.post-gazette.com/in-the-lead-2014-stories/2014/05/14/Community-Pittsburgh-most-bars-per-capita-second-most-pizza/stories/201405150065\n"
     ]
    },
    {
     "name": "stderr",
     "output_type": "stream",
     "text": [
      " 11%|█         | 1971/18004 [15:30<9:43:13,  2.18s/it]"
     ]
    },
    {
     "name": "stdout",
     "output_type": "stream",
     "text": [
      "Failed to parse URL at index 1970, URL: https://web.archive.org/web/20081001234852/http://www.carnegielibrary.org/exhibit/hname.html\n"
     ]
    },
    {
     "name": "stderr",
     "output_type": "stream",
     "text": [
      " 11%|█         | 1972/18004 [15:31<8:12:28,  1.84s/it]"
     ]
    },
    {
     "name": "stdout",
     "output_type": "stream",
     "text": [
      "Failed to parse URL at index 1971, URL: http://www.carnegielibrary.org/exhibit/hname.html\n"
     ]
    },
    {
     "name": "stderr",
     "output_type": "stream",
     "text": [
      " 11%|█         | 1977/18004 [15:38<9:24:57,  2.12s/it]"
     ]
    },
    {
     "name": "stdout",
     "output_type": "stream",
     "text": [
      "Failed to parse URL at index 1976, URL: https://web.archive.org/web/20120531055755/http://old.post-gazette.com/pg/03001/700027-209.stm\n"
     ]
    },
    {
     "name": "stderr",
     "output_type": "stream",
     "text": [
      " 11%|█         | 1978/18004 [15:38<7:01:31,  1.58s/it]"
     ]
    },
    {
     "name": "stdout",
     "output_type": "stream",
     "text": [
      "Failed to parse URL at index 1977, URL: http://old.post-gazette.com/pg/03001/700027-209.stm\n"
     ]
    },
    {
     "name": "stderr",
     "output_type": "stream",
     "text": [
      " 11%|█         | 1980/18004 [15:44<10:41:56,  2.40s/it]"
     ]
    },
    {
     "name": "stdout",
     "output_type": "stream",
     "text": [
      "Failed to parse URL at index 1979, URL: https://web.archive.org/web/20070706004534/http://www.carnegielibrary.org/exhibit/hname2.html\n"
     ]
    },
    {
     "name": "stderr",
     "output_type": "stream",
     "text": [
      " 11%|█         | 1981/18004 [15:45<8:30:20,  1.91s/it] "
     ]
    },
    {
     "name": "stdout",
     "output_type": "stream",
     "text": [
      "Failed to parse URL at index 1980, URL: http://www.carnegielibrary.org/exhibit/hname2.html\n"
     ]
    },
    {
     "name": "stderr",
     "output_type": "stream",
     "text": [
      " 11%|█         | 1984/18004 [15:48<6:48:32,  1.53s/it]"
     ]
    },
    {
     "name": "stdout",
     "output_type": "stream",
     "text": [
      "Failed to parse URL at index 1983, URL: https://archive.org/details/namesonlandhisto0000stew\n"
     ]
    },
    {
     "name": "stderr",
     "output_type": "stream",
     "text": [
      " 11%|█         | 1986/18004 [15:50<5:37:23,  1.26s/it]"
     ]
    },
    {
     "name": "stdout",
     "output_type": "stream",
     "text": [
      "Failed to parse URL at index 1985, URL: https://archive.org/details/namesonlandhisto0000stew/page/342\n"
     ]
    },
    {
     "name": "stderr",
     "output_type": "stream",
     "text": [
      " 11%|█         | 1992/18004 [15:53<2:32:32,  1.75it/s]"
     ]
    },
    {
     "name": "stdout",
     "output_type": "stream",
     "text": [
      "Failed to parse URL at index 1991, URL: http://archive.org/details/wildernesstrailo01hann\n"
     ]
    },
    {
     "name": "stderr",
     "output_type": "stream",
     "text": [
      " 11%|█         | 1994/18004 [15:58<8:28:15,  1.90s/it]"
     ]
    },
    {
     "name": "stdout",
     "output_type": "stream",
     "text": [
      "Failed to parse URL at index 1993, URL: https://web.archive.org/web/20080111125520/http://www.friendsoftheriverfront.org/new_pages/historical.htm\n"
     ]
    },
    {
     "name": "stderr",
     "output_type": "stream",
     "text": [
      " 11%|█         | 1995/18004 [16:00<7:54:28,  1.78s/it]"
     ]
    },
    {
     "name": "stdout",
     "output_type": "stream",
     "text": [
      "Failed to parse URL at index 1994, URL: https://www.friendsoftheriverfront.org/new_pages/historical.htm\n"
     ]
    },
    {
     "name": "stderr",
     "output_type": "stream",
     "text": [
      " 11%|█         | 2007/18004 [16:11<6:33:55,  1.48s/it]"
     ]
    },
    {
     "name": "stdout",
     "output_type": "stream",
     "text": [
      "Failed to parse URL at index 2006, URL: https://archive.org/details/pittsburghstoryo00lora\n"
     ]
    },
    {
     "name": "stderr",
     "output_type": "stream",
     "text": [
      " 11%|█         | 2017/18004 [16:16<2:27:33,  1.81it/s]"
     ]
    },
    {
     "name": "stdout",
     "output_type": "stream",
     "text": [
      "Failed to parse URL at index 2016, URL: https://archive.org/stream/countycourtford00pagoog/countycourtford00pagoog_djvu.txt\n"
     ]
    },
    {
     "name": "stderr",
     "output_type": "stream",
     "text": [
      " 11%|█         | 2021/18004 [16:24<8:51:40,  2.00s/it]"
     ]
    },
    {
     "name": "stdout",
     "output_type": "stream",
     "text": [
      "Failed to parse URL at index 2020, URL: https://web.archive.org/web/20160822074611/http://www.pa-roots.org/data/read.php?46,219527\n"
     ]
    },
    {
     "name": "stderr",
     "output_type": "stream",
     "text": [
      " 11%|█▏        | 2036/18004 [16:36<8:35:55,  1.94s/it]"
     ]
    },
    {
     "name": "stdout",
     "output_type": "stream",
     "text": [
      "Failed to parse URL at index 2035, URL: https://web.archive.org/web/20120812191959/http://www.census.gov/population/www/documentation/twps0076/twps0076.html\n"
     ]
    },
    {
     "name": "stderr",
     "output_type": "stream",
     "text": [
      " 11%|█▏        | 2037/18004 [16:36<6:21:56,  1.44s/it]"
     ]
    },
    {
     "name": "stdout",
     "output_type": "stream",
     "text": [
      "Failed to parse URL at index 2036, URL: https://www.census.gov/population/www/documentation/twps0076/twps0076.html\n"
     ]
    },
    {
     "name": "stderr",
     "output_type": "stream",
     "text": [
      " 11%|█▏        | 2039/18004 [16:42<10:22:04,  2.34s/it]"
     ]
    },
    {
     "name": "stdout",
     "output_type": "stream",
     "text": [
      "Failed to parse URL at index 2038, URL: https://web.archive.org/web/20181209121819/http://old.post-gazette.com/lifestyle/20030218kids0218p9.asp\n"
     ]
    },
    {
     "name": "stderr",
     "output_type": "stream",
     "text": [
      " 11%|█▏        | 2040/18004 [16:42<7:33:10,  1.70s/it] "
     ]
    },
    {
     "name": "stdout",
     "output_type": "stream",
     "text": [
      "Failed to parse URL at index 2039, URL: http://old.post-gazette.com/lifestyle/20030218kids0218p9.asp\n"
     ]
    },
    {
     "name": "stderr",
     "output_type": "stream",
     "text": [
      " 11%|█▏        | 2047/18004 [16:46<2:59:41,  1.48it/s]"
     ]
    },
    {
     "name": "stdout",
     "output_type": "stream",
     "text": [
      "Failed to parse URL at index 2046, URL: http://www.post-gazette.com/columnists/20031119sally104col2p2.asp\n"
     ]
    },
    {
     "name": "stderr",
     "output_type": "stream",
     "text": [
      " 11%|█▏        | 2053/18004 [16:55<8:48:31,  1.99s/it]"
     ]
    },
    {
     "name": "stdout",
     "output_type": "stream",
     "text": [
      "Failed to parse URL at index 2052, URL: https://web.archive.org/web/20210203041049/https://hort.purdue.edu/newcrop/cropmap/pennsylvania/maps/PAeco3.html\n"
     ]
    },
    {
     "name": "stderr",
     "output_type": "stream",
     "text": [
      " 11%|█▏        | 2054/18004 [16:56<6:55:37,  1.56s/it]"
     ]
    },
    {
     "name": "stdout",
     "output_type": "stream",
     "text": [
      "Failed to parse URL at index 2053, URL: http://www.hort.purdue.edu/newcrop/cropmap/pennsylvania/maps/PAeco3.html\n"
     ]
    },
    {
     "name": "stderr",
     "output_type": "stream",
     "text": [
      " 11%|█▏        | 2056/18004 [16:56<4:18:27,  1.03it/s]"
     ]
    },
    {
     "name": "stdout",
     "output_type": "stream",
     "text": [
      "Failed to parse URL at index 2055, URL: https://www.post-gazette.com/ae/books/2004/03/16/Learning-the-steps-Pitt-researcher-fell-for-city-s-stairs-and-has-published-a-book-that-maps-them/stories/200403160099\n"
     ]
    },
    {
     "name": "stderr",
     "output_type": "stream",
     "text": [
      " 11%|█▏        | 2060/18004 [17:03<8:54:24,  2.01s/it]"
     ]
    },
    {
     "name": "stdout",
     "output_type": "stream",
     "text": [
      "Failed to parse URL at index 2059, URL: https://web.archive.org/web/20121104015251/http://www.emporis.com/borough/goldentriangle-pittsburgh\n"
     ]
    },
    {
     "name": "stderr",
     "output_type": "stream",
     "text": [
      " 11%|█▏        | 2065/18004 [17:10<7:09:06,  1.62s/it]"
     ]
    },
    {
     "name": "stdout",
     "output_type": "stream",
     "text": [
      "Failed to parse URL at index 2063, URL: https://web.archive.org/web/20070629162237/http://www.city.pittsburgh.pa.us/portal/neighborhoods.html\n",
      "Failed to parse URL at index 2064, URL: http://www.city.pittsburgh.pa.us/portal/neighborhoods.html\n"
     ]
    },
    {
     "name": "stderr",
     "output_type": "stream",
     "text": [
      " 11%|█▏        | 2067/18004 [17:16<10:42:35,  2.42s/it]"
     ]
    },
    {
     "name": "stdout",
     "output_type": "stream",
     "text": [
      "Failed to parse URL at index 2066, URL: https://web.archive.org/web/20120401112817/http://www.emporis.com/building/us-steel-tower-pittsburgh-pa-usa\n"
     ]
    },
    {
     "name": "stderr",
     "output_type": "stream",
     "text": [
      " 11%|█▏        | 2069/18004 [17:21<12:27:42,  2.82s/it]"
     ]
    },
    {
     "name": "stdout",
     "output_type": "stream",
     "text": [
      "Failed to parse URL at index 2068, URL: https://web.archive.org/web/20150221230627/http://www.portauthority.org/paac/SchedulesMaps/Maps.aspx\n"
     ]
    },
    {
     "name": "stderr",
     "output_type": "stream",
     "text": [
      " 11%|█▏        | 2070/18004 [17:22<9:49:52,  2.22s/it] "
     ]
    },
    {
     "name": "stdout",
     "output_type": "stream",
     "text": [
      "Failed to parse URL at index 2069, URL: http://www.portauthority.org/paac/SchedulesMaps/Maps.aspx\n"
     ]
    },
    {
     "name": "stderr",
     "output_type": "stream",
     "text": [
      " 12%|█▏        | 2075/18004 [17:25<3:21:59,  1.31it/s]"
     ]
    },
    {
     "name": "stdout",
     "output_type": "stream",
     "text": [
      "Failed to parse URL at index 2074, URL: https://investors.ae.com/news-releases/news-releases-details/2005/American-Eagle-Outfitters-Announces-Pittsburghs-SouthSide-Works-Location-As-New-Corporate-Headquarters/default.aspx\n"
     ]
    },
    {
     "name": "stderr",
     "output_type": "stream",
     "text": [
      " 12%|█▏        | 2076/18004 [17:26<4:21:23,  1.02it/s]"
     ]
    },
    {
     "name": "stdout",
     "output_type": "stream",
     "text": [
      "Failed to parse URL at index 2075, URL: https://archive.today/20120717005140/http://findarticles.com/p/articles/mi_m0EIN/is_2005_Oct_21/ai_n15726879\n"
     ]
    },
    {
     "name": "stderr",
     "output_type": "stream",
     "text": [
      " 12%|█▏        | 2095/18004 [18:25<8:08:38,  1.84s/it] "
     ]
    },
    {
     "name": "stdout",
     "output_type": "stream",
     "text": [
      "Failed to parse URL at index 2093, URL: https://web.archive.org/web/20061211072316/http://www.pittsburghlive.com/x/pittsburghtrib/s_429269.html\n",
      "Failed to parse URL at index 2094, URL: http://www.pittsburghlive.com/x/pittsburghtrib/s_429269.html\n"
     ]
    },
    {
     "name": "stderr",
     "output_type": "stream",
     "text": [
      " 12%|█▏        | 2097/18004 [18:31<11:14:55,  2.55s/it]"
     ]
    },
    {
     "name": "stdout",
     "output_type": "stream",
     "text": [
      "Failed to parse URL at index 2096, URL: https://web.archive.org/web/20120325084344/http://www.dailyfinance.com/2010/12/02/the-11-best-cities-for-telecommuters/\n"
     ]
    },
    {
     "name": "stderr",
     "output_type": "stream",
     "text": [
      " 12%|█▏        | 2100/18004 [18:38<11:42:18,  2.65s/it]"
     ]
    },
    {
     "name": "stdout",
     "output_type": "stream",
     "text": [
      "Failed to parse URL at index 2099, URL: https://www.washingtonpost.com/business/economy/in-the-paris-of-the-appalachians-theyre-not-buying-trumps-climate-talk/2017/06/06/6f3ddd8a-49f9-11e7-bc1b-fddbd8359dee_story.html\n"
     ]
    },
    {
     "name": "stderr",
     "output_type": "stream",
     "text": [
      " 12%|█▏        | 2107/18004 [18:42<2:53:51,  1.52it/s] "
     ]
    },
    {
     "name": "stdout",
     "output_type": "stream",
     "text": [
      "Failed to parse URL at index 2107, URL: https://search.worldcat.org/issn/1027-5606\n"
     ]
    },
    {
     "name": "stderr",
     "output_type": "stream",
     "text": [
      " 12%|█▏        | 2110/18004 [18:43<1:53:14,  2.34it/s]"
     ]
    },
    {
     "name": "stdout",
     "output_type": "stream",
     "text": [
      "Failed to parse URL at index 2109, URL: https://www.westword.com/news/photos-ten-most-chill-major-cities-in-the-summertime-and-where-denver-places-5831262\n"
     ]
    },
    {
     "name": "stderr",
     "output_type": "stream",
     "text": [
      " 12%|█▏        | 2124/18004 [18:55<2:53:28,  1.53it/s]"
     ]
    },
    {
     "name": "stdout",
     "output_type": "stream",
     "text": [
      "Failed to parse URL at index 2124, URL: https://w2.weather.gov/climate/xmacis.php?wfo=pbz\n"
     ]
    },
    {
     "name": "stderr",
     "output_type": "stream",
     "text": [
      " 12%|█▏        | 2129/18004 [19:03<8:47:48,  1.99s/it]"
     ]
    },
    {
     "name": "stdout",
     "output_type": "stream",
     "text": [
      "Failed to parse URL at index 2128, URL: http://www.erh.noaa.gov/pbz/thissnow.htm\n"
     ]
    },
    {
     "name": "stderr",
     "output_type": "stream",
     "text": [
      " 12%|█▏        | 2131/18004 [19:08<11:31:00,  2.61s/it]"
     ]
    },
    {
     "name": "stdout",
     "output_type": "stream",
     "text": [
      "Failed to parse URL at index 2130, URL: https://web.archive.org/web/20030223015937/http://www.ncdc.noaa.gov/oa/climate/online/ccd/cldy.html\n"
     ]
    },
    {
     "name": "stderr",
     "output_type": "stream",
     "text": [
      " 12%|█▏        | 2133/18004 [19:10<7:24:40,  1.68s/it] "
     ]
    },
    {
     "name": "stdout",
     "output_type": "stream",
     "text": [
      "Failed to parse URL at index 2132, URL: http://www.ncdc.noaa.gov/oa/climate/online/ccd/cldy.html\n"
     ]
    },
    {
     "name": "stderr",
     "output_type": "stream",
     "text": [
      " 12%|█▏        | 2137/18004 [19:12<3:53:08,  1.13it/s]"
     ]
    },
    {
     "name": "stdout",
     "output_type": "stream",
     "text": [
      "Failed to parse URL at index 2136, URL: http://www.ncdc.noaa.gov/oa/climate/online/ccd/pctpos.txt\n"
     ]
    },
    {
     "name": "stderr",
     "output_type": "stream",
     "text": [
      " 12%|█▏        | 2145/18004 [19:18<3:41:52,  1.19it/s]"
     ]
    },
    {
     "name": "stdout",
     "output_type": "stream",
     "text": [
      "Failed to parse URL at index 2144, URL: https://www.epa.gov/system/files/documents/2023-05/airqualitytrendsbycity2000-2022.xlsx\n"
     ]
    },
    {
     "name": "stderr",
     "output_type": "stream",
     "text": [
      " 12%|█▏        | 2151/18004 [19:22<3:04:43,  1.43it/s]"
     ]
    },
    {
     "name": "stdout",
     "output_type": "stream",
     "text": [
      "Failed to parse URL at index 2150, URL: http://www.stateoftheair.org/2013/city-rankings/most-polluted-cities.html\n"
     ]
    },
    {
     "name": "stderr",
     "output_type": "stream",
     "text": [
      " 12%|█▏        | 2152/18004 [19:27<8:47:23,  2.00s/it]"
     ]
    },
    {
     "name": "stdout",
     "output_type": "stream",
     "text": [
      "Failed to parse URL at index 2151, URL: https://web.archive.org/web/20150107185644/http://www.stateoftheair.org/2013/city-rankings/most-polluted-cities.html\n"
     ]
    },
    {
     "name": "stderr",
     "output_type": "stream",
     "text": [
      " 12%|█▏        | 2155/18004 [19:28<4:09:11,  1.06it/s]"
     ]
    },
    {
     "name": "stdout",
     "output_type": "stream",
     "text": [
      "Failed to parse URL at index 2154, URL: http://www.post-gazette.com/stories/local/neighborhoods-city/report-pittsburghs-air-quality-improving-but-still-among-most-polluted-684783/\n"
     ]
    },
    {
     "name": "stderr",
     "output_type": "stream",
     "text": [
      " 12%|█▏        | 2157/18004 [19:33<9:08:48,  2.08s/it]"
     ]
    },
    {
     "name": "stdout",
     "output_type": "stream",
     "text": [
      "Failed to parse URL at index 2156, URL: https://web.archive.org/web/20080501192453/http://www.pittsburghlive.com/x/pittsburghtrib/news/cityregion/s_565183.html\n",
      "Failed to parse URL at index 2157, URL: http://www.pittsburghlive.com/x/pittsburghtrib/news/cityregion/s_565183.html\n"
     ]
    },
    {
     "name": "stderr",
     "output_type": "stream",
     "text": [
      " 12%|█▏        | 2162/18004 [19:40<9:45:00,  2.22s/it]"
     ]
    },
    {
     "name": "stdout",
     "output_type": "stream",
     "text": [
      "Failed to parse URL at index 2161, URL: https://web.archive.org/web/20120825005342/http://www.stateoftheair.org/2012/msas/Pittsburgh-New-Castle-PA.html\n"
     ]
    },
    {
     "name": "stderr",
     "output_type": "stream",
     "text": [
      " 12%|█▏        | 2163/18004 [19:41<7:33:18,  1.72s/it]"
     ]
    },
    {
     "name": "stdout",
     "output_type": "stream",
     "text": [
      "Failed to parse URL at index 2162, URL: http://www.stateoftheair.org/2012/msas/Pittsburgh-New-Castle-PA.html\n"
     ]
    },
    {
     "name": "stderr",
     "output_type": "stream",
     "text": [
      " 12%|█▏        | 2165/18004 [19:42<5:31:33,  1.26s/it]"
     ]
    },
    {
     "name": "stdout",
     "output_type": "stream",
     "text": [
      "Failed to parse URL at index 2164, URL: https://archive.today/20120918013148/http://www.wpxi.com/news/23287732/detail.html\n"
     ]
    },
    {
     "name": "stderr",
     "output_type": "stream",
     "text": [
      " 12%|█▏        | 2166/18004 [19:43<5:02:36,  1.15s/it]"
     ]
    },
    {
     "name": "stdout",
     "output_type": "stream",
     "text": [
      "Failed to parse URL at index 2165, URL: http://www.wpxi.com/news/23287732/detail.html\n"
     ]
    },
    {
     "name": "stderr",
     "output_type": "stream",
     "text": [
      " 12%|█▏        | 2167/18004 [19:44<4:18:58,  1.02it/s]"
     ]
    },
    {
     "name": "stdout",
     "output_type": "stream",
     "text": [
      "Failed to parse URL at index 2167, URL: https://nextcity.org/daily/entry/that-tree-on-the-corner-may-be-worth-more-than-your-house\n"
     ]
    },
    {
     "name": "stderr",
     "output_type": "stream",
     "text": [
      " 12%|█▏        | 2191/18004 [20:04<8:10:31,  1.86s/it]"
     ]
    },
    {
     "name": "stdout",
     "output_type": "stream",
     "text": [
      "Failed to parse URL at index 2190, URL: https://web.archive.org/web/20190202212622/http://www.3riverswetweather.org/about-wet-weather-issue\n"
     ]
    },
    {
     "name": "stderr",
     "output_type": "stream",
     "text": [
      " 12%|█▏        | 2195/18004 [20:11<10:12:13,  2.32s/it]"
     ]
    },
    {
     "name": "stdout",
     "output_type": "stream",
     "text": [
      "Failed to parse URL at index 2194, URL: https://web.archive.org/web/20180926131554/http://www.wesa.fm/post/alcosan-more-doubling-wastewater-treatment-plant-diminish-sewage-overlows#stream/0\n"
     ]
    },
    {
     "name": "stderr",
     "output_type": "stream",
     "text": [
      " 12%|█▏        | 2215/18004 [20:24<3:15:03,  1.35it/s] "
     ]
    },
    {
     "name": "stdout",
     "output_type": "stream",
     "text": [
      "Failed to parse URL at index 2215, URL: https://search.worldcat.org/issn/1059-1028\n"
     ]
    },
    {
     "name": "stderr",
     "output_type": "stream",
     "text": [
      " 12%|█▏        | 2220/18004 [20:26<2:19:32,  1.89it/s]"
     ]
    },
    {
     "name": "stdout",
     "output_type": "stream",
     "text": [
      "Failed to parse URL at index 2220, URL: https://search.worldcat.org/issn/0261-3077\n"
     ]
    },
    {
     "name": "stderr",
     "output_type": "stream",
     "text": [
      " 12%|█▏        | 2225/18004 [20:28<2:16:59,  1.92it/s]"
     ]
    },
    {
     "name": "stdout",
     "output_type": "stream",
     "text": [
      "Failed to parse URL at index 2224, URL: https://www.pgh2o.com/news-events/news/press-release/2023-01-24-pwsa-continues-provide-protection-those-lead-service\n"
     ]
    },
    {
     "name": "stderr",
     "output_type": "stream",
     "text": [
      " 12%|█▏        | 2232/18004 [20:32<1:57:53,  2.23it/s]"
     ]
    },
    {
     "name": "stdout",
     "output_type": "stream",
     "text": [
      "Failed to parse URL at index 2231, URL: http://www.census.gov/prod/www/decennial.html\n"
     ]
    },
    {
     "name": "stderr",
     "output_type": "stream",
     "text": [
      " 12%|█▏        | 2234/18004 [20:37<8:02:16,  1.83s/it]"
     ]
    },
    {
     "name": "stdout",
     "output_type": "stream",
     "text": [
      "Failed to parse URL at index 2233, URL: https://www.census.gov/quickfacts/fact/table/pittsburghcitypennsylvania/POP010220\n"
     ]
    },
    {
     "name": "stderr",
     "output_type": "stream",
     "text": [
      " 12%|█▏        | 2237/18004 [20:44<10:24:42,  2.38s/it]"
     ]
    },
    {
     "name": "stdout",
     "output_type": "stream",
     "text": [
      "Failed to parse URL at index 2236, URL: https://www.census.gov/quickfacts/pittsburghcitypennsylvania\n"
     ]
    },
    {
     "name": "stderr",
     "output_type": "stream",
     "text": [
      " 12%|█▏        | 2240/18004 [20:50<11:14:16,  2.57s/it]"
     ]
    },
    {
     "name": "stdout",
     "output_type": "stream",
     "text": [
      "Failed to parse URL at index 2239, URL: https://web.archive.org/web/20120508162120/http://quickfacts.census.gov/qfd/states/42/4261000.html\n"
     ]
    },
    {
     "name": "stderr",
     "output_type": "stream",
     "text": [
      " 12%|█▏        | 2241/18004 [20:51<9:18:56,  2.13s/it] "
     ]
    },
    {
     "name": "stdout",
     "output_type": "stream",
     "text": [
      "Failed to parse URL at index 2240, URL: http://quickfacts.census.gov/qfd/states/42/4261000.html\n"
     ]
    },
    {
     "name": "stderr",
     "output_type": "stream",
     "text": [
      " 13%|█▎        | 2258/18004 [28:54<27:20:24,  6.25s/it]  "
     ]
    },
    {
     "name": "stdout",
     "output_type": "stream",
     "text": [
      "Failed to parse URL at index 2257, URL: https://web.archive.org/web/20100107095552/http://www.niaf.org/research/statistics2.asp\n"
     ]
    },
    {
     "name": "stderr",
     "output_type": "stream",
     "text": [
      " 13%|█▎        | 2261/18004 [29:00<16:59:42,  3.89s/it]"
     ]
    },
    {
     "name": "stdout",
     "output_type": "stream",
     "text": [
      "Failed to parse URL at index 2260, URL: https://web.archive.org/web/20080906191606/http://www.ukrweekly.com/old/archive/2000/020012.shtml\n"
     ]
    },
    {
     "name": "stderr",
     "output_type": "stream",
     "text": [
      " 13%|█▎        | 2263/18004 [29:01<9:27:48,  2.16s/it] "
     ]
    },
    {
     "name": "stdout",
     "output_type": "stream",
     "text": [
      "Failed to parse URL at index 2262, URL: http://www.ukrweekly.com/old/archive/2000/020012.shtml\n"
     ]
    },
    {
     "name": "stderr",
     "output_type": "stream",
     "text": [
      " 13%|█▎        | 2269/18004 [29:09<9:17:35,  2.13s/it]"
     ]
    },
    {
     "name": "stdout",
     "output_type": "stream",
     "text": [
      "Failed to parse URL at index 2268, URL: https://web.archive.org/web/20180412153152/http://www.thearda.com/rcms2010/r/m/38300/rcms2010_38300_metro_name_2010.asp\n"
     ]
    },
    {
     "name": "stderr",
     "output_type": "stream",
     "text": [
      " 13%|█▎        | 2270/18004 [29:10<7:33:43,  1.73s/it]"
     ]
    },
    {
     "name": "stdout",
     "output_type": "stream",
     "text": [
      "Failed to parse URL at index 2269, URL: http://www.thearda.com/rcms2010/r/m/38300/rcms2010_38300_metro_name_2010.asp\n"
     ]
    },
    {
     "name": "stderr",
     "output_type": "stream",
     "text": [
      " 13%|█▎        | 2272/18004 [29:16<10:52:32,  2.49s/it]"
     ]
    },
    {
     "name": "stdout",
     "output_type": "stream",
     "text": [
      "Failed to parse URL at index 2271, URL: https://web.archive.org/web/20191221235539/https://www.brandeis.edu/ssri/pdfs/communitystudies/PittsburghJewishCommStudy.pdf\n"
     ]
    },
    {
     "name": "stderr",
     "output_type": "stream",
     "text": [
      " 13%|█▎        | 2288/18004 [29:29<8:36:14,  1.97s/it] "
     ]
    },
    {
     "name": "stdout",
     "output_type": "stream",
     "text": [
      "Failed to parse URL at index 2287, URL: https://web.archive.org/web/20031212150154/http://www.census.gov/acs/www/Products/Ranking/2002/R02T160.htm\n"
     ]
    },
    {
     "name": "stderr",
     "output_type": "stream",
     "text": [
      " 13%|█▎        | 2289/18004 [29:30<6:21:02,  1.45s/it]"
     ]
    },
    {
     "name": "stdout",
     "output_type": "stream",
     "text": [
      "Failed to parse URL at index 2288, URL: https://www.census.gov/acs/www/Products/Ranking/2002/R02T160.htm\n"
     ]
    },
    {
     "name": "stderr",
     "output_type": "stream",
     "text": [
      " 13%|█▎        | 2292/18004 [29:36<7:24:01,  1.70s/it] "
     ]
    },
    {
     "name": "stdout",
     "output_type": "stream",
     "text": [
      "Failed to parse URL at index 2290, URL: https://web.archive.org/web/20030908122409/http://www.census.gov/acs/www/Products/Ranking/2002/R13T160.htm\n",
      "Failed to parse URL at index 2291, URL: https://www.census.gov/acs/www/Products/Ranking/2002/R13T160.htm\n"
     ]
    },
    {
     "name": "stderr",
     "output_type": "stream",
     "text": [
      " 13%|█▎        | 2294/18004 [29:37<5:51:20,  1.34s/it]"
     ]
    },
    {
     "name": "stdout",
     "output_type": "stream",
     "text": [
      "Failed to parse URL at index 2293, URL: http://www.s4.brown.edu/us2010/Data/Report/report2.pdf\n"
     ]
    },
    {
     "name": "stderr",
     "output_type": "stream",
     "text": [
      " 13%|█▎        | 2304/18004 [29:44<2:12:26,  1.98it/s]"
     ]
    },
    {
     "name": "stdout",
     "output_type": "stream",
     "text": [
      "Failed to parse URL at index 2303, URL: https://www.jstor.org/stable/j.ctv1rdtwq2\n"
     ]
    },
    {
     "name": "stderr",
     "output_type": "stream",
     "text": [
      " 13%|█▎        | 2311/18004 [29:48<2:02:21,  2.14it/s]"
     ]
    },
    {
     "name": "stdout",
     "output_type": "stream",
     "text": [
      "Failed to parse URL at index 2310, URL: http://www.pghtech.org/aboutus/about-our-region.aspx\n"
     ]
    },
    {
     "name": "stderr",
     "output_type": "stream",
     "text": [
      " 13%|█▎        | 2312/18004 [29:53<7:59:39,  1.83s/it]"
     ]
    },
    {
     "name": "stdout",
     "output_type": "stream",
     "text": [
      "Failed to parse URL at index 2311, URL: https://web.archive.org/web/20140327204307/http://www.pghtech.org/aboutus/about-our-region.aspx\n"
     ]
    },
    {
     "name": "stderr",
     "output_type": "stream",
     "text": [
      " 13%|█▎        | 2319/18004 [30:11<17:51:02,  4.10s/it]"
     ]
    },
    {
     "name": "stdout",
     "output_type": "stream",
     "text": [
      "Failed to parse URL at index 2318, URL: https://web.archive.org/web/20140202184957/http://obs.rc.fas.harvard.edu/chetty/mobility_geo.pdf\n"
     ]
    },
    {
     "name": "stderr",
     "output_type": "stream",
     "text": [
      " 13%|█▎        | 2322/18004 [30:16<11:13:56,  2.58s/it]"
     ]
    },
    {
     "name": "stdout",
     "output_type": "stream",
     "text": [
      "Failed to parse URL at index 2320, URL: https://web.archive.org/web/20140127093735/http://blog.triblive.com/thisjustin/2014/01/24/pittsburgh-2-top-10-cities-to-achieve-the-american-dream/#axzz2rbykQv6y\n",
      "Failed to parse URL at index 2321, URL: http://blog.triblive.com/thisjustin/2014/01/24/pittsburgh-2-top-10-cities-to-achieve-the-american-dream/#axzz2rbykQv6y\n"
     ]
    },
    {
     "name": "stderr",
     "output_type": "stream",
     "text": [
      " 13%|█▎        | 2329/18004 [30:25<6:42:26,  1.54s/it] "
     ]
    },
    {
     "name": "stdout",
     "output_type": "stream",
     "text": [
      "Failed to parse URL at index 2327, URL: https://web.archive.org/web/20110604181118/http://www.pittsburghlive.com/x/pittsburghtrib/business/s_739819.html\n",
      "Failed to parse URL at index 2328, URL: http://www.pittsburghlive.com/x/pittsburghtrib/business/s_739819.html\n"
     ]
    },
    {
     "name": "stderr",
     "output_type": "stream",
     "text": [
      " 13%|█▎        | 2336/18004 [30:33<8:22:55,  1.93s/it]"
     ]
    },
    {
     "name": "stdout",
     "output_type": "stream",
     "text": [
      "Failed to parse URL at index 2335, URL: https://web.archive.org/web/20061010050140/http://www.alleghenyconference.org/public/cfm/d_and_d/index.cfm\n"
     ]
    },
    {
     "name": "stderr",
     "output_type": "stream",
     "text": [
      " 13%|█▎        | 2337/18004 [30:34<6:51:59,  1.58s/it]"
     ]
    },
    {
     "name": "stdout",
     "output_type": "stream",
     "text": [
      "Failed to parse URL at index 2336, URL: http://www.alleghenyconference.org/public/cfm/d_and_d/index.cfm?\n"
     ]
    },
    {
     "name": "stderr",
     "output_type": "stream",
     "text": [
      " 13%|█▎        | 2339/18004 [30:35<4:33:32,  1.05s/it]"
     ]
    },
    {
     "name": "stdout",
     "output_type": "stream",
     "text": [
      "Failed to parse URL at index 2338, URL: https://www.bizjournals.com/pittsburgh/news/2022/05/23/2022-fortune-500-pittsburgh-company-rankings.html?ana=wpxi\n"
     ]
    },
    {
     "name": "stderr",
     "output_type": "stream",
     "text": [
      " 13%|█▎        | 2345/18004 [30:44<9:37:09,  2.21s/it]"
     ]
    },
    {
     "name": "stdout",
     "output_type": "stream",
     "text": [
      "Failed to parse URL at index 2344, URL: https://web.archive.org/web/20150924073640/http://www.pittsburghartscouncil.org/resources/research/economic-impact-studies/282-economic-impact-studies\n"
     ]
    },
    {
     "name": "stderr",
     "output_type": "stream",
     "text": [
      " 13%|█▎        | 2346/18004 [30:45<7:27:45,  1.72s/it]"
     ]
    },
    {
     "name": "stdout",
     "output_type": "stream",
     "text": [
      "Failed to parse URL at index 2345, URL: http://www.pittsburghartscouncil.org/resources/research/economic-impact-studies/282-economic-impact-studies\n"
     ]
    },
    {
     "name": "stderr",
     "output_type": "stream",
     "text": [
      " 13%|█▎        | 2348/18004 [30:51<10:51:04,  2.50s/it]"
     ]
    },
    {
     "name": "stdout",
     "output_type": "stream",
     "text": [
      "Failed to parse URL at index 2347, URL: http://www.greenfirst.us/greenfirst\n"
     ]
    },
    {
     "name": "stderr",
     "output_type": "stream",
     "text": [
      " 13%|█▎        | 2352/18004 [30:53<4:29:11,  1.03s/it] "
     ]
    },
    {
     "name": "stdout",
     "output_type": "stream",
     "text": [
      "Failed to parse URL at index 2350, URL: http://www.post-gazette.com/pg/09340/1018586-28.stm\n",
      "Failed to parse URL at index 2351, URL: http://www.google.com/hostednews/ap/article/ALeqM5hstlzVCvbYCMG7AirNjE4AaLp2jgD9HKNI5G1%7Carchiveurl=https://web.archive.org/web/20100820121952/http://www.google.com/hostednews/ap/article/ALeqM5hstlzVCvbYCMG7AirNjE4AaLp2jgD9HKNI5G1\n"
     ]
    },
    {
     "name": "stderr",
     "output_type": "stream",
     "text": [
      " 13%|█▎        | 2359/18004 [30:57<2:11:14,  1.99it/s]"
     ]
    },
    {
     "name": "stdout",
     "output_type": "stream",
     "text": [
      "Failed to parse URL at index 2358, URL: http://www.post-gazette.com/stories/ae/movies/you-saw-it-here-first-pittsburghs-nickelodeon-introduced-the-moving-picture-theater-to-the-masses-in-1905-587730/\n"
     ]
    },
    {
     "name": "stderr",
     "output_type": "stream",
     "text": [
      " 13%|█▎        | 2362/18004 [30:59<2:25:53,  1.79it/s]"
     ]
    },
    {
     "name": "stdout",
     "output_type": "stream",
     "text": [
      "Failed to parse URL at index 2361, URL: http://old.post-gazette.com/pg/12064/1214341-60.stm#ixzz2lkZSc4FQ\n"
     ]
    },
    {
     "name": "stderr",
     "output_type": "stream",
     "text": [
      " 13%|█▎        | 2365/18004 [31:00<2:07:37,  2.04it/s]"
     ]
    },
    {
     "name": "stdout",
     "output_type": "stream",
     "text": [
      "Failed to parse URL at index 2364, URL: http://www.post-gazette.com/stories/local/neighborhoods-city/4-star-film-studio-coming-to-strip-district-215569/\n"
     ]
    },
    {
     "name": "stderr",
     "output_type": "stream",
     "text": [
      " 13%|█▎        | 2368/18004 [31:01<1:26:43,  3.00it/s]"
     ]
    },
    {
     "name": "stdout",
     "output_type": "stream",
     "text": [
      "Failed to parse URL at index 2367, URL: http://www.31ststreetstudios.com/\n"
     ]
    },
    {
     "name": "stderr",
     "output_type": "stream",
     "text": [
      " 13%|█▎        | 2369/18004 [31:02<1:38:28,  2.65it/s]"
     ]
    },
    {
     "name": "stdout",
     "output_type": "stream",
     "text": [
      "Failed to parse URL at index 2368, URL: http://www.post-gazette.com/stories/opinion/editorials/lights-cameras-action-at-a-new-studio-keeps-pittsburgh-on-film-220817/\n"
     ]
    },
    {
     "name": "stderr",
     "output_type": "stream",
     "text": [
      " 13%|█▎        | 2370/18004 [31:02<1:34:05,  2.77it/s]"
     ]
    },
    {
     "name": "stdout",
     "output_type": "stream",
     "text": [
      "Failed to parse URL at index 2369, URL: http://www.cbsnews.com/8301-505245_162-57386770/pa-film-studio-to-feature-avatar-technology/\n"
     ]
    },
    {
     "name": "stderr",
     "output_type": "stream",
     "text": [
      " 13%|█▎        | 2374/18004 [31:06<3:50:04,  1.13it/s]"
     ]
    },
    {
     "name": "stdout",
     "output_type": "stream",
     "text": [
      "Failed to parse URL at index 2373, URL: http://www.pghfilm.org/about/about_filmography.jsp\n"
     ]
    },
    {
     "name": "stderr",
     "output_type": "stream",
     "text": [
      " 13%|█▎        | 2378/18004 [31:08<2:34:30,  1.69it/s]"
     ]
    },
    {
     "name": "stdout",
     "output_type": "stream",
     "text": [
      "Failed to parse URL at index 2377, URL: http://www.post-gazette.com/local/city/2013/06/19/Invention-convention-INPEX-gathers-in-Pittsburgh/stories/2013061902140000000\n"
     ]
    },
    {
     "name": "stderr",
     "output_type": "stream",
     "text": [
      " 13%|█▎        | 2397/18004 [31:23<3:14:02,  1.34it/s]"
     ]
    },
    {
     "name": "stdout",
     "output_type": "stream",
     "text": [
      "Failed to parse URL at index 2396, URL: https://www.discogs.com/release/3047883-Mary-Lou-Williams-And-Group-Pittsburgh\n"
     ]
    },
    {
     "name": "stderr",
     "output_type": "stream",
     "text": [
      " 13%|█▎        | 2404/18004 [31:31<8:13:49,  1.90s/it]"
     ]
    },
    {
     "name": "stdout",
     "output_type": "stream",
     "text": [
      "Failed to parse URL at index 2403, URL: https://web.archive.org/web/20200806073139/http://www.pghartplaces.org/accounts/view/MrSmalls\n"
     ]
    },
    {
     "name": "stderr",
     "output_type": "stream",
     "text": [
      " 13%|█▎        | 2420/18004 [31:47<6:44:53,  1.56s/it]"
     ]
    },
    {
     "name": "stdout",
     "output_type": "stream",
     "text": [
      "Failed to parse URL at index 2418, URL: https://web.archive.org/web/20210509122342/https://old.post-gazette.com/regionstate/20000926ecstasy3.asp\n",
      "Failed to parse URL at index 2419, URL: https://old.post-gazette.com/regionstate/20000926ecstasy3.asp\n"
     ]
    },
    {
     "name": "stderr",
     "output_type": "stream",
     "text": [
      " 13%|█▎        | 2422/18004 [31:52<10:19:07,  2.38s/it]"
     ]
    },
    {
     "name": "stdout",
     "output_type": "stream",
     "text": [
      "Failed to parse URL at index 2421, URL: https://web.archive.org/web/20210509081950/https://old.post-gazette.com/neigh_city/20010109ravecity3.asp\n",
      "Failed to parse URL at index 2422, URL: https://old.post-gazette.com/neigh_city/20010109ravecity3.asp\n"
     ]
    },
    {
     "name": "stderr",
     "output_type": "stream",
     "text": [
      " 13%|█▎        | 2425/18004 [31:58<11:52:48,  2.75s/it]"
     ]
    },
    {
     "name": "stdout",
     "output_type": "stream",
     "text": [
      "Failed to parse URL at index 2424, URL: https://web.archive.org/web/20210509062324/https://old.post-gazette.com/regionstate/20010103ravereg5.asp\n",
      "Failed to parse URL at index 2425, URL: https://old.post-gazette.com/regionstate/20010103ravereg5.asp\n"
     ]
    },
    {
     "name": "stderr",
     "output_type": "stream",
     "text": [
      " 13%|█▎        | 2429/18004 [32:04<8:58:19,  2.07s/it] "
     ]
    },
    {
     "name": "stdout",
     "output_type": "stream",
     "text": [
      "Failed to parse URL at index 2427, URL: https://web.archive.org/web/20210509081951/http://old.post-gazette.com/forum/20001003edlets6.asp\n",
      "Failed to parse URL at index 2428, URL: http://old.post-gazette.com/forum/20001003edlets6.asp\n"
     ]
    },
    {
     "name": "stderr",
     "output_type": "stream",
     "text": [
      " 14%|█▎        | 2444/18004 [32:20<8:16:17,  1.91s/it]"
     ]
    },
    {
     "name": "stdout",
     "output_type": "stream",
     "text": [
      "Failed to parse URL at index 2443, URL: https://web.archive.org/web/20100611135106/http://www.pabook.libraries.psu.edu/palitmap/bios/Carson__Rachel_Louise.html\n"
     ]
    },
    {
     "name": "stderr",
     "output_type": "stream",
     "text": [
      " 14%|█▎        | 2445/18004 [32:21<6:17:48,  1.46s/it]"
     ]
    },
    {
     "name": "stdout",
     "output_type": "stream",
     "text": [
      "Failed to parse URL at index 2444, URL: http://www.pabook.libraries.psu.edu/palitmap/bios/Carson__Rachel_Louise.html\n"
     ]
    },
    {
     "name": "stderr",
     "output_type": "stream",
     "text": [
      " 14%|█▎        | 2452/18004 [32:28<6:15:25,  1.45s/it]"
     ]
    },
    {
     "name": "stdout",
     "output_type": "stream",
     "text": [
      "Failed to parse URL at index 2450, URL: https://web.archive.org/web/20220118153645/https://old.post-gazette.com/magazine/19981011playw2.asp\n",
      "Failed to parse URL at index 2451, URL: https://old.post-gazette.com/magazine/19981011playw2.asp\n"
     ]
    },
    {
     "name": "stderr",
     "output_type": "stream",
     "text": [
      " 14%|█▎        | 2458/18004 [32:37<9:11:35,  2.13s/it]"
     ]
    },
    {
     "name": "stdout",
     "output_type": "stream",
     "text": [
      "Failed to parse URL at index 2457, URL: https://web.archive.org/web/20080512090859/http://parsec-sff.org/links.html\n"
     ]
    },
    {
     "name": "stderr",
     "output_type": "stream",
     "text": [
      " 14%|█▎        | 2461/18004 [32:45<11:56:41,  2.77s/it]"
     ]
    },
    {
     "name": "stdout",
     "output_type": "stream",
     "text": [
      "Failed to parse URL at index 2460, URL: https://web.archive.org/web/20080512030939/http://www.revenantmagazine.com/MarkMenoldinterview.htm\n"
     ]
    },
    {
     "name": "stderr",
     "output_type": "stream",
     "text": [
      " 14%|█▎        | 2466/18004 [32:53<9:55:51,  2.30s/it] "
     ]
    },
    {
     "name": "stdout",
     "output_type": "stream",
     "text": [
      "Failed to parse URL at index 2465, URL: https://web.archive.org/web/20071025142835/http://www.interzone.com/~jafriedl/SW/sowrites.htm\n"
     ]
    },
    {
     "name": "stderr",
     "output_type": "stream",
     "text": [
      " 14%|█▎        | 2467/18004 [32:54<8:36:35,  1.99s/it]"
     ]
    },
    {
     "name": "stdout",
     "output_type": "stream",
     "text": [
      "Failed to parse URL at index 2466, URL: http://www.interzone.com/~jafriedl/SW/sowrites.htm\n"
     ]
    },
    {
     "name": "stderr",
     "output_type": "stream",
     "text": [
      " 14%|█▎        | 2469/18004 [33:00<11:13:26,  2.60s/it]"
     ]
    },
    {
     "name": "stdout",
     "output_type": "stream",
     "text": [
      "Failed to parse URL at index 2468, URL: https://web.archive.org/web/19990420000917/https://www.cs.cmu.edu/~mslee/pw.html\n"
     ]
    },
    {
     "name": "stderr",
     "output_type": "stream",
     "text": [
      " 14%|█▎        | 2470/18004 [33:00<8:13:22,  1.91s/it] "
     ]
    },
    {
     "name": "stdout",
     "output_type": "stream",
     "text": [
      "Failed to parse URL at index 2469, URL: https://www.cs.cmu.edu/~mslee/pw.html/\n"
     ]
    },
    {
     "name": "stderr",
     "output_type": "stream",
     "text": [
      " 14%|█▍        | 2485/18004 [33:09<2:29:32,  1.73it/s]"
     ]
    },
    {
     "name": "stdout",
     "output_type": "stream",
     "text": [
      "Failed to parse URL at index 2485, URL: https://www.nytimes.com/2006/03/17/travel/escapes/its-not-the-sights-its-the-sounds.html\n"
     ]
    },
    {
     "name": "stderr",
     "output_type": "stream",
     "text": [
      " 14%|█▍        | 2487/18004 [33:14<5:02:01,  1.17s/it]"
     ]
    },
    {
     "name": "stdout",
     "output_type": "stream",
     "text": [
      "Failed to parse URL at index 2486, URL: https://web.archive.org/web/20070109203001/http://travel2.nytimes.com/2006/03/17/travel/escapes/17accent.html?pagewanted=2\n"
     ]
    },
    {
     "name": "stderr",
     "output_type": "stream",
     "text": [
      " 14%|█▍        | 2495/18004 [33:24<8:54:06,  2.07s/it]"
     ]
    },
    {
     "name": "stdout",
     "output_type": "stream",
     "text": [
      "Failed to parse URL at index 2494, URL: https://web.archive.org/web/20100520062827/http://www.pittsburghlive.com/x/pittsburghtrib/news/regional/s_681477.html\n"
     ]
    },
    {
     "name": "stderr",
     "output_type": "stream",
     "text": [
      " 14%|█▍        | 2500/18004 [33:32<9:22:37,  2.18s/it]"
     ]
    },
    {
     "name": "stdout",
     "output_type": "stream",
     "text": [
      "Failed to parse URL at index 2499, URL: https://pubs.usgs.gov/circ/circ1202/introduction.htm\n"
     ]
    },
    {
     "name": "stderr",
     "output_type": "stream",
     "text": [
      " 14%|█▍        | 2504/18004 [33:39<9:46:49,  2.27s/it]"
     ]
    },
    {
     "name": "stdout",
     "output_type": "stream",
     "text": [
      "Failed to parse URL at index 2503, URL: https://web.archive.org/web/20111220190930/http://aol.sportingnews.com/mlb/story/2009-10-06/black-gold-mettle-pittsburgh-best-sports-city-0\n"
     ]
    },
    {
     "name": "stderr",
     "output_type": "stream",
     "text": [
      " 14%|█▍        | 2505/18004 [33:40<8:15:15,  1.92s/it]"
     ]
    },
    {
     "name": "stdout",
     "output_type": "stream",
     "text": [
      "Failed to parse URL at index 2504, URL: http://aol.sportingnews.com/mlb/story/2009-10-06/black-gold-mettle-pittsburgh-best-sports-city-0\n"
     ]
    },
    {
     "name": "stderr",
     "output_type": "stream",
     "text": [
      " 14%|█▍        | 2507/18004 [33:41<5:17:33,  1.23s/it]"
     ]
    },
    {
     "name": "stdout",
     "output_type": "stream",
     "text": [
      "Failed to parse URL at index 2506, URL: http://www.post-gazette.com/stories/life/zillow/pittsburgh-among-top-baseball-cities-676043/\n"
     ]
    },
    {
     "name": "stderr",
     "output_type": "stream",
     "text": [
      " 14%|█▍        | 2520/18004 [33:55<8:43:05,  2.03s/it]"
     ]
    },
    {
     "name": "stdout",
     "output_type": "stream",
     "text": [
      "Failed to parse URL at index 2519, URL: https://web.archive.org/web/20071112120043/http://www.timesonline.com/site/news.cfm?newsid=17047895&BRD=2305&PAG=461&dept_id=478568&rfi=6\n"
     ]
    },
    {
     "name": "stderr",
     "output_type": "stream",
     "text": [
      " 14%|█▍        | 2522/18004 [33:57<6:22:37,  1.48s/it]"
     ]
    },
    {
     "name": "stdout",
     "output_type": "stream",
     "text": [
      "Failed to parse URL at index 2521, URL: http://www.timesonline.com/site/news.cfm?newsid=17047895&BRD=2305&PAG=461&dept_id=478568&rfi=6\n"
     ]
    },
    {
     "name": "stderr",
     "output_type": "stream",
     "text": [
      " 14%|█▍        | 2524/18004 [34:03<10:09:48,  2.36s/it]"
     ]
    },
    {
     "name": "stdout",
     "output_type": "stream",
     "text": [
      "Failed to parse URL at index 2523, URL: https://web.archive.org/web/20150211020347/http://archive.alexreisner.com/baseball/history/race?y=1997\n",
      "Failed to parse URL at index 2524, URL: http://archive.alexreisner.com/baseball/history/race?y=1997\n"
     ]
    },
    {
     "name": "stderr",
     "output_type": "stream",
     "text": [
      " 14%|█▍        | 2529/18004 [34:09<9:55:44,  2.31s/it] "
     ]
    },
    {
     "name": "stdout",
     "output_type": "stream",
     "text": [
      "Failed to parse URL at index 2528, URL: https://web.archive.org/web/20081008134730/http://www.pittsburghlive.com/x/pittsburghtrib/sports/steelers/s_585606.html?source=rss&feed=3\n"
     ]
    },
    {
     "name": "stderr",
     "output_type": "stream",
     "text": [
      " 14%|█▍        | 2530/18004 [34:11<8:30:02,  1.98s/it]"
     ]
    },
    {
     "name": "stdout",
     "output_type": "stream",
     "text": [
      "Failed to parse URL at index 2529, URL: http://www.pittsburghlive.com/x/pittsburghtrib/sports/steelers/s_585606.html?source=rss&feed=3\n"
     ]
    },
    {
     "name": "stderr",
     "output_type": "stream",
     "text": [
      " 14%|█▍        | 2536/18004 [34:22<10:26:06,  2.43s/it]"
     ]
    },
    {
     "name": "stdout",
     "output_type": "stream",
     "text": [
      "Failed to parse URL at index 2535, URL: https://web.archive.org/web/20100823084558/http://www.pittsburghlive.com/x/pittsburghtrib/sports/s_695755.html\n",
      "Failed to parse URL at index 2536, URL: http://www.pittsburghlive.com/x/pittsburghtrib/sports/s_695755.html\n"
     ]
    },
    {
     "name": "stderr",
     "output_type": "stream",
     "text": [
      " 14%|█▍        | 2545/18004 [34:26<2:16:46,  1.88it/s] "
     ]
    },
    {
     "name": "stdout",
     "output_type": "stream",
     "text": [
      "Failed to parse URL at index 2544, URL: http://www.nba.com/history/records/regular_fieldgoals.html\n"
     ]
    },
    {
     "name": "stderr",
     "output_type": "stream",
     "text": [
      " 14%|█▍        | 2546/18004 [34:31<8:04:06,  1.88s/it]"
     ]
    },
    {
     "name": "stdout",
     "output_type": "stream",
     "text": [
      "Failed to parse URL at index 2545, URL: https://web.archive.org/web/20130724045308/http://www.nba.com/history/records/regular_fieldgoals.html\n"
     ]
    },
    {
     "name": "stderr",
     "output_type": "stream",
     "text": [
      " 14%|█▍        | 2552/18004 [34:38<3:50:31,  1.12it/s] "
     ]
    },
    {
     "name": "stdout",
     "output_type": "stream",
     "text": [
      "Failed to parse URL at index 2551, URL: http://www.nba.com/history/season/19501951.html\n"
     ]
    },
    {
     "name": "stderr",
     "output_type": "stream",
     "text": [
      " 14%|█▍        | 2553/18004 [34:43<9:08:31,  2.13s/it]"
     ]
    },
    {
     "name": "stdout",
     "output_type": "stream",
     "text": [
      "Failed to parse URL at index 2552, URL: https://web.archive.org/web/20150320095356/http://www.nba.com/history/season/19501951.html\n"
     ]
    },
    {
     "name": "stderr",
     "output_type": "stream",
     "text": [
      " 14%|█▍        | 2561/18004 [34:50<2:44:30,  1.56it/s] "
     ]
    },
    {
     "name": "stdout",
     "output_type": "stream",
     "text": [
      "Failed to parse URL at index 2560, URL: https://search.worldcat.org/oclc/1102593197\n"
     ]
    },
    {
     "name": "stderr",
     "output_type": "stream",
     "text": [
      " 14%|█▍        | 2563/18004 [34:51<2:29:26,  1.72it/s]"
     ]
    },
    {
     "name": "stdout",
     "output_type": "stream",
     "text": [
      "Failed to parse URL at index 2562, URL: https://wpga.org/nws/2021/210211-foxburg-country-club-the-oldest-course-in-continuous-use-in-us.html\n"
     ]
    },
    {
     "name": "stderr",
     "output_type": "stream",
     "text": [
      " 14%|█▍        | 2565/18004 [34:52<1:59:10,  2.16it/s]"
     ]
    },
    {
     "name": "stdout",
     "output_type": "stream",
     "text": [
      "Failed to parse URL at index 2564, URL: https://www.golfdigest.com/story/golf_palmer_80_shedloski_0914\n"
     ]
    },
    {
     "name": "stderr",
     "output_type": "stream",
     "text": [
      " 14%|█▍        | 2572/18004 [35:02<9:04:15,  2.12s/it]"
     ]
    },
    {
     "name": "stdout",
     "output_type": "stream",
     "text": [
      "Failed to parse URL at index 2571, URL: https://web.archive.org/web/20100619184138/http://gmfus.org/template/page.cfm?page_id=481\n"
     ]
    },
    {
     "name": "stderr",
     "output_type": "stream",
     "text": [
      " 14%|█▍        | 2573/18004 [35:03<6:59:29,  1.63s/it]"
     ]
    },
    {
     "name": "stdout",
     "output_type": "stream",
     "text": [
      "Failed to parse URL at index 2572, URL: http://www.gmfus.org/template/page.cfm?page_id=481\n"
     ]
    },
    {
     "name": "stderr",
     "output_type": "stream",
     "text": [
      " 14%|█▍        | 2577/18004 [35:04<2:57:47,  1.45it/s]"
     ]
    },
    {
     "name": "stdout",
     "output_type": "stream",
     "text": [
      "Failed to parse URL at index 2576, URL: https://www.fbi.gov/about-us/cjis/ucr/crime-in-the-u.s/2010/crime-in-the-u.s.-2010/caution-against-ranking\n"
     ]
    },
    {
     "name": "stderr",
     "output_type": "stream",
     "text": [
      " 14%|█▍        | 2580/18004 [35:10<8:16:15,  1.93s/it]"
     ]
    },
    {
     "name": "stdout",
     "output_type": "stream",
     "text": [
      "Failed to parse URL at index 2579, URL: https://web.archive.org/web/20100923231201/http://www.fbi.gov/ucr/word.htm\n",
      "Failed to parse URL at index 2580, URL: https://www.fbi.gov/ucr/word.htm\n"
     ]
    },
    {
     "name": "stderr",
     "output_type": "stream",
     "text": [
      " 14%|█▍        | 2586/18004 [35:13<3:11:38,  1.34it/s]"
     ]
    },
    {
     "name": "stdout",
     "output_type": "stream",
     "text": [
      "Failed to parse URL at index 2585, URL: https://www.ceapittsburgh.org/wp-content/uploads/2020/01/A-Ground-Up-Model-for-Gun-Violence-Reduction.pdf\n"
     ]
    },
    {
     "name": "stderr",
     "output_type": "stream",
     "text": [
      " 14%|█▍        | 2587/18004 [35:14<2:57:21,  1.45it/s]"
     ]
    },
    {
     "name": "stdout",
     "output_type": "stream",
     "text": [
      "Failed to parse URL at index 2586, URL: https://doi.org/10.1080%2F15433714.2014.997090\n",
      "Failed to parse URL at index 2587, URL: https://search.worldcat.org/issn/2376-1407\n"
     ]
    },
    {
     "name": "stderr",
     "output_type": "stream",
     "text": [
      " 14%|█▍        | 2604/18004 [35:24<3:34:19,  1.20it/s]"
     ]
    },
    {
     "name": "stdout",
     "output_type": "stream",
     "text": [
      "Failed to parse URL at index 2603, URL: http://colleges.usnews.rankingsandreviews.com/best-colleges/rankings/national-universities/page+3\n"
     ]
    },
    {
     "name": "stderr",
     "output_type": "stream",
     "text": [
      " 14%|█▍        | 2606/18004 [35:30<8:44:14,  2.04s/it]"
     ]
    },
    {
     "name": "stdout",
     "output_type": "stream",
     "text": [
      "Failed to parse URL at index 2605, URL: https://web.archive.org/web/20090111115606/http://mac10.umc.pitt.edu/u/FMPro?-db=ustory.fp5&-format=d.html&-lay=a&-sortfield=issueid%3A%3Aissuedate&-sortorder=descend&keywords=U.S.%20News&-max=50&-recid=39345&-find=\n",
      "Failed to parse URL at index 2606, URL: http://mac10.umc.pitt.edu/u/FMPro?-db=ustory.fp5&-format=d.html&-lay=a&-sortfield=issueid%3a%3aissuedate&-sortorder=descend&keywords=U.S.%20News&-max=50&-recid=39345&-find=\n"
     ]
    },
    {
     "name": "stderr",
     "output_type": "stream",
     "text": [
      " 15%|█▍        | 2611/18004 [35:36<9:32:22,  2.23s/it]"
     ]
    },
    {
     "name": "stdout",
     "output_type": "stream",
     "text": [
      "Failed to parse URL at index 2610, URL: https://web.archive.org/web/20080114214829/http://www.pittmag.pitt.edu/fall2007/feature1.html\n"
     ]
    },
    {
     "name": "stderr",
     "output_type": "stream",
     "text": [
      " 15%|█▍        | 2612/18004 [35:37<7:47:29,  1.82s/it]"
     ]
    },
    {
     "name": "stdout",
     "output_type": "stream",
     "text": [
      "Failed to parse URL at index 2611, URL: http://www.pittmag.pitt.edu/fall2007/feature1.html\n"
     ]
    },
    {
     "name": "stderr",
     "output_type": "stream",
     "text": [
      " 15%|█▍        | 2614/18004 [35:43<10:47:45,  2.53s/it]"
     ]
    },
    {
     "name": "stdout",
     "output_type": "stream",
     "text": [
      "Failed to parse URL at index 2613, URL: https://web.archive.org/web/20090111162510/http://mac10.umc.pitt.edu/u/FMPro?-db=ustory.fp5&-format=d.html&-lay=a&-sortfield=issueid%3A%3Aissuedate&-sortorder=descend&keywords=School%20of%20Public%20Health%20ranked&-max=50&-recid=39152&-find=\n",
      "Failed to parse URL at index 2614, URL: http://mac10.umc.pitt.edu/u/FMPro?-db=ustory.fp5&-format=d.html&-lay=a&-sortfield=issueid%3a%3aissuedate&-sortorder=descend&keywords=School%20of%20Public%20Health%20ranked&-max=50&-recid=39152&-find=\n"
     ]
    },
    {
     "name": "stderr",
     "output_type": "stream",
     "text": [
      " 15%|█▍        | 2621/18004 [35:52<9:33:01,  2.24s/it] "
     ]
    },
    {
     "name": "stdout",
     "output_type": "stream",
     "text": [
      "Failed to parse URL at index 2620, URL: https://web.archive.org/web/20070529215517/http://www.libraryspot.com/lists/listlargestlibs.htm\n"
     ]
    },
    {
     "name": "stderr",
     "output_type": "stream",
     "text": [
      " 15%|█▍        | 2625/18004 [35:55<4:11:12,  1.02it/s]"
     ]
    },
    {
     "name": "stdout",
     "output_type": "stream",
     "text": [
      "Failed to parse URL at index 2624, URL: https://www.law.pitt.edu/about/engaged/jurist\n"
     ]
    },
    {
     "name": "stderr",
     "output_type": "stream",
     "text": [
      " 15%|█▍        | 2627/18004 [35:56<3:16:42,  1.30it/s]"
     ]
    },
    {
     "name": "stdout",
     "output_type": "stream",
     "text": [
      "Failed to parse URL at index 2626, URL: http://www.prnewswire.com/news-releases/nielsen-reports-11-increase-in-us-television-households-for-the-2006-2007-season-56231032.html\n"
     ]
    },
    {
     "name": "stderr",
     "output_type": "stream",
     "text": [
      " 15%|█▍        | 2628/18004 [36:01<8:46:56,  2.06s/it]"
     ]
    },
    {
     "name": "stdout",
     "output_type": "stream",
     "text": [
      "Failed to parse URL at index 2627, URL: https://web.archive.org/web/20170120125716/http://www.prnewswire.com/news-releases/nielsen-reports-11-increase-in-us-television-households-for-the-2006-2007-season-56231032.html\n"
     ]
    },
    {
     "name": "stderr",
     "output_type": "stream",
     "text": [
      " 15%|█▍        | 2633/18004 [36:08<9:03:48,  2.12s/it]"
     ]
    },
    {
     "name": "stdout",
     "output_type": "stream",
     "text": [
      "Failed to parse URL at index 2632, URL: https://web.archive.org/web/20150211064835/http://www.ieeeghn.org/wiki/index.php/KDKA%2C_First_Commercial_Radio_Station\n"
     ]
    },
    {
     "name": "stderr",
     "output_type": "stream",
     "text": [
      " 15%|█▍        | 2664/18004 [36:35<9:12:02,  2.16s/it]"
     ]
    },
    {
     "name": "stdout",
     "output_type": "stream",
     "text": [
      "Failed to parse URL at index 2663, URL: https://www.k12academics.com/national-directories/film-schools/Pennsylvania/Pittsburgh\n"
     ]
    },
    {
     "name": "stderr",
     "output_type": "stream",
     "text": [
      " 15%|█▍        | 2673/18004 [36:40<2:55:24,  1.46it/s]"
     ]
    },
    {
     "name": "stdout",
     "output_type": "stream",
     "text": [
      "Failed to parse URL at index 2672, URL: https://postscriptproductions.com/\n"
     ]
    },
    {
     "name": "stderr",
     "output_type": "stream",
     "text": [
      " 15%|█▍        | 2684/18004 [36:50<5:47:06,  1.36s/it]"
     ]
    },
    {
     "name": "stdout",
     "output_type": "stream",
     "text": [
      "Failed to parse URL at index 2682, URL: https://web.archive.org/web/20100516165911/http://www.pgh2o.com/index.htm\n",
      "Failed to parse URL at index 2683, URL: http://www.pgh2o.com/index.htm\n"
     ]
    },
    {
     "name": "stderr",
     "output_type": "stream",
     "text": [
      " 15%|█▍        | 2686/18004 [36:56<9:50:49,  2.31s/it]"
     ]
    },
    {
     "name": "stdout",
     "output_type": "stream",
     "text": [
      "Failed to parse URL at index 2685, URL: http://www.puc.pa.gov/consumer_info/natural_gas/natural_gas_shopping/natural_gas_suppliers_list_.aspx\n"
     ]
    },
    {
     "name": "stderr",
     "output_type": "stream",
     "text": [
      " 15%|█▍        | 2691/18004 [37:03<9:29:22,  2.23s/it]"
     ]
    },
    {
     "name": "stdout",
     "output_type": "stream",
     "text": [
      "Failed to parse URL at index 2690, URL: https://web.archive.org/web/20120223134412/http://www.upmc.com/HospitalsFacilities/Hospitals/Mercy/about/Pages/mission-and-history.aspx\n"
     ]
    },
    {
     "name": "stderr",
     "output_type": "stream",
     "text": [
      " 15%|█▍        | 2696/18004 [37:07<3:30:41,  1.21it/s]"
     ]
    },
    {
     "name": "stdout",
     "output_type": "stream",
     "text": [
      "Failed to parse URL at index 2695, URL: http://www.post-gazette.com/newslinks/timeline1961.asp\n"
     ]
    },
    {
     "name": "stderr",
     "output_type": "stream",
     "text": [
      " 15%|█▍        | 2700/18004 [37:09<3:08:43,  1.35it/s]"
     ]
    },
    {
     "name": "stdout",
     "output_type": "stream",
     "text": [
      "Failed to parse URL at index 2699, URL: https://www.nytimes.com/1995/12/15/us/man-gets-baboon-marrow-in-risky-aids-treatment.html\n"
     ]
    },
    {
     "name": "stderr",
     "output_type": "stream",
     "text": [
      " 15%|█▌        | 2702/18004 [37:15<8:30:09,  2.00s/it]"
     ]
    },
    {
     "name": "stdout",
     "output_type": "stream",
     "text": [
      "Failed to parse URL at index 2701, URL: https://web.archive.org/web/20120722185336/http://www.isbd.org/edcenter/aboutisbd.asp\n"
     ]
    },
    {
     "name": "stderr",
     "output_type": "stream",
     "text": [
      " 15%|█▌        | 2703/18004 [37:16<7:38:34,  1.80s/it]"
     ]
    },
    {
     "name": "stdout",
     "output_type": "stream",
     "text": [
      "Failed to parse URL at index 2702, URL: http://www.isbd.org/edcenter/aboutisbd.asp\n"
     ]
    },
    {
     "name": "stderr",
     "output_type": "stream",
     "text": [
      " 15%|█▌        | 2707/18004 [37:23<9:20:05,  2.20s/it]"
     ]
    },
    {
     "name": "stdout",
     "output_type": "stream",
     "text": [
      "Failed to parse URL at index 2706, URL: https://web.archive.org/web/20120705071803/http://www.post-gazette.com/stories/local/neighborhoods-north/penguins-plan-sports-training-medicine-complex-in-cranberry-642087/?p=0\n"
     ]
    },
    {
     "name": "stderr",
     "output_type": "stream",
     "text": [
      " 15%|█▌        | 2708/18004 [37:24<7:02:06,  1.66s/it]"
     ]
    },
    {
     "name": "stdout",
     "output_type": "stream",
     "text": [
      "Failed to parse URL at index 2707, URL: http://www.post-gazette.com/stories/local/neighborhoods-north/penguins-plan-sports-training-medicine-complex-in-cranberry-642087/?p=0\n"
     ]
    },
    {
     "name": "stderr",
     "output_type": "stream",
     "text": [
      " 15%|█▌        | 2710/18004 [37:24<4:14:09,  1.00it/s]"
     ]
    },
    {
     "name": "stdout",
     "output_type": "stream",
     "text": [
      "Failed to parse URL at index 2709, URL: http://www.post-gazette.com/stories/news/education/pitts-medical-school-to-help-nazarbayev-university-in-kazakhstan-develop-its-own-696530/\n"
     ]
    },
    {
     "name": "stderr",
     "output_type": "stream",
     "text": [
      " 15%|█▌        | 2716/18004 [37:32<8:03:32,  1.90s/it]"
     ]
    },
    {
     "name": "stdout",
     "output_type": "stream",
     "text": [
      "Failed to parse URL at index 2715, URL: https://web.archive.org/web/20160112152702/http://www.clpgh.org/research/pittsburgh/history/pghsts1.html\n"
     ]
    },
    {
     "name": "stderr",
     "output_type": "stream",
     "text": [
      " 15%|█▌        | 2719/18004 [37:38<10:10:28,  2.40s/it]"
     ]
    },
    {
     "name": "stdout",
     "output_type": "stream",
     "text": [
      "Failed to parse URL at index 2718, URL: https://web.archive.org/web/20130207011641/http://www.post-gazette.com/stories/news/health/pitt-team-inserts-computer-chip-in-brain-so-a-persons-thoughts-can-instigate-motion-666707/\n"
     ]
    },
    {
     "name": "stderr",
     "output_type": "stream",
     "text": [
      " 15%|█▌        | 2720/18004 [37:38<7:38:45,  1.80s/it] "
     ]
    },
    {
     "name": "stdout",
     "output_type": "stream",
     "text": [
      "Failed to parse URL at index 2719, URL: http://www.post-gazette.com/stories/news/health/pitt-team-inserts-computer-chip-in-brain-so-a-persons-thoughts-can-instigate-motion-666707\n"
     ]
    },
    {
     "name": "stderr",
     "output_type": "stream",
     "text": [
      " 15%|█▌        | 2722/18004 [37:40<5:16:54,  1.24s/it]"
     ]
    },
    {
     "name": "stdout",
     "output_type": "stream",
     "text": [
      "Failed to parse URL at index 2721, URL: http://kdka.com/local/bridge.Pittsburgh.2.383456.html\n"
     ]
    },
    {
     "name": "stderr",
     "output_type": "stream",
     "text": [
      " 15%|█▌        | 2724/18004 [37:45<9:30:04,  2.24s/it]"
     ]
    },
    {
     "name": "stdout",
     "output_type": "stream",
     "text": [
      "Failed to parse URL at index 2723, URL: https://web.archive.org/web/20110707075415/http://www.abridgetovenezia.com/ponts.php?langue=en\n"
     ]
    },
    {
     "name": "stderr",
     "output_type": "stream",
     "text": [
      " 15%|█▌        | 2732/18004 [41:19<33:45:19,  7.96s/it] "
     ]
    },
    {
     "name": "stdout",
     "output_type": "stream",
     "text": [
      "Failed to parse URL at index 2731, URL: https://www.greyhound.com/en/explore-places/pittsburgh\n"
     ]
    },
    {
     "name": "stderr",
     "output_type": "stream",
     "text": [
      " 15%|█▌        | 2736/18004 [41:26<16:06:02,  3.80s/it]"
     ]
    },
    {
     "name": "stdout",
     "output_type": "stream",
     "text": [
      "Failed to parse URL at index 2735, URL: https://web.archive.org/web/20070927220849/http://www.apta.com/research/stats/ridership/riderep/documents/07q1bus.pdf\n"
     ]
    },
    {
     "name": "stderr",
     "output_type": "stream",
     "text": [
      " 15%|█▌        | 2737/18004 [41:27<12:37:17,  2.98s/it]"
     ]
    },
    {
     "name": "stdout",
     "output_type": "stream",
     "text": [
      "Failed to parse URL at index 2736, URL: http://www.apta.com/research/stats/ridership/riderep/documents/07q1bus.pdf\n"
     ]
    },
    {
     "name": "stderr",
     "output_type": "stream",
     "text": [
      " 15%|█▌        | 2743/18004 [41:36<9:42:56,  2.29s/it] "
     ]
    },
    {
     "name": "stdout",
     "output_type": "stream",
     "text": [
      "Failed to parse URL at index 2742, URL: https://web.archive.org/web/20210519061309/https://www.sistercitiespgh.org/sister-cities\n"
     ]
    },
    {
     "name": "stderr",
     "output_type": "stream",
     "text": [
      " 15%|█▌        | 2744/18004 [41:41<13:34:30,  3.20s/it]"
     ]
    },
    {
     "name": "stdout",
     "output_type": "stream",
     "text": [
      "Failed to parse URL at index 2743, URL: https://www.sistercitiespgh.org/sister-cities\n"
     ]
    },
    {
     "name": "stderr",
     "output_type": "stream",
     "text": [
      " 20%|█▉        | 3524/18004 [46:42<5:58:29,  1.49s/it] "
     ]
    },
    {
     "name": "stdout",
     "output_type": "stream",
     "text": [
      "Failed to parse URL at index 3523, URL: http://catalogo.bne.es/uhtbin/authoritybrowse.cgi?action=display&authority_id=XX5044829\n"
     ]
    },
    {
     "name": "stderr",
     "output_type": "stream",
     "text": [
      " 22%|██▏       | 3989/18004 [49:26<1:41:39,  2.30it/s]"
     ]
    },
    {
     "name": "stdout",
     "output_type": "stream",
     "text": [
      "Failed to parse URL at index 3988, URL: https://en.wikipedia.org/w/index.php?title=Arnout_Viele&action=edit&redlink=1\n"
     ]
    },
    {
     "name": "stderr",
     "output_type": "stream",
     "text": [
      " 22%|██▏       | 4007/18004 [49:32<1:12:57,  3.20it/s]"
     ]
    },
    {
     "name": "stdout",
     "output_type": "stream",
     "text": [
      "Failed to parse URL at index 4006, URL: http://www.post-gazette.com/regionstate/20010513mound4.asp\n"
     ]
    },
    {
     "name": "stderr",
     "output_type": "stream",
     "text": [
      " 22%|██▏       | 4016/18004 [49:36<1:24:05,  2.77it/s]"
     ]
    },
    {
     "name": "stdout",
     "output_type": "stream",
     "text": [
      "Failed to parse URL at index 4015, URL: https://archive.org/details/wildernesstrailo01hann\n"
     ]
    },
    {
     "name": "stderr",
     "output_type": "stream",
     "text": [
      " 22%|██▏       | 4037/18004 [49:43<1:31:57,  2.53it/s]"
     ]
    },
    {
     "name": "stdout",
     "output_type": "stream",
     "text": [
      "Failed to parse URL at index 4036, URL: https://archive.org/details/reportcommissio12unkngoog\n"
     ]
    },
    {
     "name": "stderr",
     "output_type": "stream",
     "text": [
      " 22%|██▏       | 4038/18004 [49:45<2:45:06,  1.41it/s]"
     ]
    },
    {
     "name": "stdout",
     "output_type": "stream",
     "text": [
      "Failed to parse URL at index 4037, URL: https://archive.org/details/reportcommissio12unkngoog/page/n450\n"
     ]
    },
    {
     "name": "stderr",
     "output_type": "stream",
     "text": [
      " 23%|██▎       | 4054/18004 [49:55<6:44:48,  1.74s/it]"
     ]
    },
    {
     "name": "stdout",
     "output_type": "stream",
     "text": [
      "Failed to parse URL at index 4053, URL: https://web.archive.org/web/20070207152801/http://www.fortpittmuseum.com/History.html\n"
     ]
    },
    {
     "name": "stderr",
     "output_type": "stream",
     "text": [
      " 23%|██▎       | 4055/18004 [49:55<5:11:33,  1.34s/it]"
     ]
    },
    {
     "name": "stdout",
     "output_type": "stream",
     "text": [
      "Failed to parse URL at index 4054, URL: http://www.fortpittmuseum.com/History.html\n"
     ]
    },
    {
     "name": "stderr",
     "output_type": "stream",
     "text": [
      " 23%|██▎       | 4061/18004 [50:00<4:41:51,  1.21s/it]"
     ]
    },
    {
     "name": "stdout",
     "output_type": "stream",
     "text": [
      "Failed to parse URL at index 4060, URL: https://archive.org/details/crucibleofwarsev00ande_0\n"
     ]
    },
    {
     "name": "stderr",
     "output_type": "stream",
     "text": [
      " 23%|██▎       | 4094/18004 [50:17<6:37:13,  1.71s/it]"
     ]
    },
    {
     "name": "stdout",
     "output_type": "stream",
     "text": [
      "Failed to parse URL at index 4093, URL: https://web.archive.org/web/20080318002320/http://www.wqed.org/education/pghist/units/WPAhist/keyevents.html\n"
     ]
    },
    {
     "name": "stderr",
     "output_type": "stream",
     "text": [
      " 23%|██▎       | 4095/18004 [50:19<7:23:16,  1.91s/it]"
     ]
    },
    {
     "name": "stdout",
     "output_type": "stream",
     "text": [
      "Failed to parse URL at index 4094, URL: http://www.wqed.org/education/pghist/units/WPAhist/keyevents.html\n"
     ]
    },
    {
     "name": "stderr",
     "output_type": "stream",
     "text": [
      " 23%|██▎       | 4107/18004 [50:31<7:20:55,  1.90s/it]"
     ]
    },
    {
     "name": "stdout",
     "output_type": "stream",
     "text": [
      "Failed to parse URL at index 4106, URL: https://web.archive.org/web/20081202145839/http://www.clpgh.org/research/Pittsburgh/history/pgh1816.html\n"
     ]
    },
    {
     "name": "stderr",
     "output_type": "stream",
     "text": [
      " 23%|██▎       | 4111/18004 [50:34<5:07:19,  1.33s/it]"
     ]
    },
    {
     "name": "stdout",
     "output_type": "stream",
     "text": [
      "Failed to parse URL at index 4110, URL: https://archive.org/details/centuryandhalfof03bouc\n"
     ]
    },
    {
     "name": "stderr",
     "output_type": "stream",
     "text": [
      " 23%|██▎       | 4116/18004 [50:36<1:52:19,  2.06it/s]"
     ]
    },
    {
     "name": "stdout",
     "output_type": "stream",
     "text": [
      "Failed to parse URL at index 4115, URL: https://www.census.gov/population/www/documentation/twps0027/twps0027.html\n"
     ]
    },
    {
     "name": "stderr",
     "output_type": "stream",
     "text": [
      " 23%|██▎       | 4127/18004 [50:44<6:40:56,  1.73s/it]"
     ]
    },
    {
     "name": "stdout",
     "output_type": "stream",
     "text": [
      "Failed to parse URL at index 4126, URL: https://web.archive.org/web/20040509071422/http://www.westinghouse.com/timeline.html\n"
     ]
    },
    {
     "name": "stderr",
     "output_type": "stream",
     "text": [
      " 23%|██▎       | 4128/18004 [50:45<5:16:35,  1.37s/it]"
     ]
    },
    {
     "name": "stdout",
     "output_type": "stream",
     "text": [
      "Failed to parse URL at index 4127, URL: http://www.westinghouse.com/timeline.html\n"
     ]
    },
    {
     "name": "stderr",
     "output_type": "stream",
     "text": [
      " 23%|██▎       | 4135/18004 [50:51<3:46:31,  1.02it/s]"
     ]
    },
    {
     "name": "stdout",
     "output_type": "stream",
     "text": [
      "Failed to parse URL at index 4134, URL: http://www.heinzfamily.org/aboutus/heinzhistory.html\n"
     ]
    },
    {
     "name": "stderr",
     "output_type": "stream",
     "text": [
      " 23%|██▎       | 4140/18004 [50:53<1:40:53,  2.29it/s]"
     ]
    },
    {
     "name": "stdout",
     "output_type": "stream",
     "text": [
      "Failed to parse URL at index 4139, URL: http://digital.library.cornell.edu/cgi/t/text/text-idx?c=nora;cc=;view=toc;subview=short;idno=nora0148-6\n"
     ]
    },
    {
     "name": "stderr",
     "output_type": "stream",
     "text": [
      " 23%|██▎       | 4150/18004 [51:04<8:55:05,  2.32s/it]"
     ]
    },
    {
     "name": "stdout",
     "output_type": "stream",
     "text": [
      "Failed to parse URL at index 4149, URL: http://muse.jhu.edu/journals/pnh/summary/v077/77.2.comte.html\n"
     ]
    },
    {
     "name": "stderr",
     "output_type": "stream",
     "text": [
      " 23%|██▎       | 4158/18004 [51:11<2:46:27,  1.39it/s]"
     ]
    },
    {
     "name": "stdout",
     "output_type": "stream",
     "text": [
      "Failed to parse URL at index 4157, URL: http://www.post-gazette.com/stories/sectionfront/life/pittsburgh-gets-its-first-distillery-since-before-prohibition-298761/?p=0\n"
     ]
    },
    {
     "name": "stderr",
     "output_type": "stream",
     "text": [
      " 23%|██▎       | 4163/18004 [51:14<1:52:37,  2.05it/s]"
     ]
    },
    {
     "name": "stdout",
     "output_type": "stream",
     "text": [
      "Failed to parse URL at index 4162, URL: http://docs.lib.noaa.gov/rescue/mwr/055/mwr-055-11-0500a.pdf\n"
     ]
    },
    {
     "name": "stderr",
     "output_type": "stream",
     "text": [
      " 23%|██▎       | 4171/18004 [51:25<7:07:43,  1.86s/it]"
     ]
    },
    {
     "name": "stdout",
     "output_type": "stream",
     "text": [
      "Failed to parse URL at index 4170, URL: https://web.archive.org/web/20160310045941/http://ujfpittsburgh.org/page.aspx?id=46650\n"
     ]
    },
    {
     "name": "stderr",
     "output_type": "stream",
     "text": [
      " 23%|██▎       | 4172/18004 [51:25<5:28:15,  1.42s/it]"
     ]
    },
    {
     "name": "stdout",
     "output_type": "stream",
     "text": [
      "Failed to parse URL at index 4171, URL: http://www.ujfpittsburgh.org/page.aspx?ID=46650\n"
     ]
    },
    {
     "name": "stderr",
     "output_type": "stream",
     "text": [
      " 23%|██▎       | 4187/18004 [51:38<1:16:25,  3.01it/s] "
     ]
    },
    {
     "name": "stdout",
     "output_type": "stream",
     "text": [
      "Failed to parse URL at index 4187, URL: https://www.nytimes.com/2000/05/13/us/john-p-robin-87-led-the-redevelopment-of-downtown-pittsburgh.html\n"
     ]
    },
    {
     "name": "stderr",
     "output_type": "stream",
     "text": [
      " 23%|██▎       | 4190/18004 [51:43<6:33:42,  1.71s/it]"
     ]
    },
    {
     "name": "stdout",
     "output_type": "stream",
     "text": [
      "Failed to parse URL at index 4189, URL: https://web.archive.org/web/20070629201856/http://www.pittsburghheritage.com/projects/Igloo/History.htm\n"
     ]
    },
    {
     "name": "stderr",
     "output_type": "stream",
     "text": [
      " 23%|██▎       | 4199/18004 [51:57<12:46:46,  3.33s/it]"
     ]
    },
    {
     "name": "stdout",
     "output_type": "stream",
     "text": [
      "Failed to parse URL at index 4198, URL: https://wayback.archive-it.org/all/20110514165416/http://www.dcnr.state.pa.us/stateparks/parks/point.aspx\n"
     ]
    },
    {
     "name": "stderr",
     "output_type": "stream",
     "text": [
      " 23%|██▎       | 4202/18004 [52:02<7:20:41,  1.92s/it] "
     ]
    },
    {
     "name": "stdout",
     "output_type": "stream",
     "text": [
      "Failed to parse URL at index 4201, URL: http://juh.sagepub.com/content/39/2/147.abstract?etoc\n"
     ]
    },
    {
     "name": "stderr",
     "output_type": "stream",
     "text": [
      " 23%|██▎       | 4206/18004 [52:03<2:45:27,  1.39it/s]"
     ]
    },
    {
     "name": "stdout",
     "output_type": "stream",
     "text": [
      "Failed to parse URL at index 4205, URL: https://archive.org/details/andwolffinallyca00hoer\n"
     ]
    },
    {
     "name": "stderr",
     "output_type": "stream",
     "text": [
      " 23%|██▎       | 4219/18004 [52:12<6:40:47,  1.74s/it]"
     ]
    },
    {
     "name": "stdout",
     "output_type": "stream",
     "text": [
      "Failed to parse URL at index 4218, URL: https://web.archive.org/web/20080317235201/http://www.wqed.org/education/pghist/units/WPAhist/wpa6.shtml\n"
     ]
    },
    {
     "name": "stderr",
     "output_type": "stream",
     "text": [
      " 23%|██▎       | 4220/18004 [52:15<7:21:27,  1.92s/it]"
     ]
    },
    {
     "name": "stdout",
     "output_type": "stream",
     "text": [
      "Failed to parse URL at index 4219, URL: http://www.wqed.org/education/pghist/units/WPAhist/wpa6.shtml\n"
     ]
    },
    {
     "name": "stderr",
     "output_type": "stream",
     "text": [
      " 23%|██▎       | 4226/18004 [52:24<8:40:30,  2.27s/it]"
     ]
    },
    {
     "name": "stdout",
     "output_type": "stream",
     "text": [
      "Failed to parse URL at index 4225, URL: https://web.archive.org/web/20080929032210/http://www.phlf.org/about-landmarks/a-brief-history-of-pittsburgh-history-landmarks-foundation/\n"
     ]
    },
    {
     "name": "stderr",
     "output_type": "stream",
     "text": [
      " 23%|██▎       | 4227/18004 [52:26<8:23:04,  2.19s/it]"
     ]
    },
    {
     "name": "stdout",
     "output_type": "stream",
     "text": [
      "Failed to parse URL at index 4226, URL: http://www.phlf.org/about-landmarks/a-brief-history-of-pittsburgh-history-landmarks-foundation/\n"
     ]
    },
    {
     "name": "stderr",
     "output_type": "stream",
     "text": [
      " 23%|██▎       | 4229/18004 [52:31<10:07:50,  2.65s/it]"
     ]
    },
    {
     "name": "stdout",
     "output_type": "stream",
     "text": [
      "Failed to parse URL at index 4228, URL: https://web.archive.org/web/20170710155618/http://old.post-gazette.com/planb/\n"
     ]
    },
    {
     "name": "stderr",
     "output_type": "stream",
     "text": [
      " 23%|██▎       | 4230/18004 [52:32<7:57:28,  2.08s/it] "
     ]
    },
    {
     "name": "stdout",
     "output_type": "stream",
     "text": [
      "Failed to parse URL at index 4229, URL: http://www.post-gazette.com/planb/\n"
     ]
    },
    {
     "name": "stderr",
     "output_type": "stream",
     "text": [
      " 24%|██▎       | 4234/18004 [52:33<2:43:41,  1.40it/s]"
     ]
    },
    {
     "name": "stdout",
     "output_type": "stream",
     "text": [
      "Failed to parse URL at index 4233, URL: http://www.post-gazette.com/pg/07116/781162-53.stm\n"
     ]
    },
    {
     "name": "stderr",
     "output_type": "stream",
     "text": [
      " 24%|██▎       | 4242/18004 [52:40<6:42:06,  1.75s/it]"
     ]
    },
    {
     "name": "stdout",
     "output_type": "stream",
     "text": [
      "Failed to parse URL at index 4241, URL: https://web.archive.org/web/20120821200638/http://www.census.gov/popest/data/cities/totals/2011/tables/SUB-EST2011-01.csv\n"
     ]
    },
    {
     "name": "stderr",
     "output_type": "stream",
     "text": [
      " 24%|██▎       | 4243/18004 [52:40<5:00:57,  1.31s/it]"
     ]
    },
    {
     "name": "stdout",
     "output_type": "stream",
     "text": [
      "Failed to parse URL at index 4242, URL: https://www.census.gov/popest/data/cities/totals/2011/tables/SUB-EST2011-01.csv\n"
     ]
    },
    {
     "name": "stderr",
     "output_type": "stream",
     "text": [
      " 24%|██▎       | 4246/18004 [52:46<7:53:04,  2.06s/it]"
     ]
    },
    {
     "name": "stdout",
     "output_type": "stream",
     "text": [
      "Failed to parse URL at index 4245, URL: https://web.archive.org/web/20121010135905/http://www2.census.gov/geo/ua/ua_list_ua.xls\n"
     ]
    },
    {
     "name": "stderr",
     "output_type": "stream",
     "text": [
      " 24%|██▎       | 4247/18004 [52:46<5:58:28,  1.56s/it]"
     ]
    },
    {
     "name": "stdout",
     "output_type": "stream",
     "text": [
      "Failed to parse URL at index 4246, URL: http://www2.census.gov/geo/ua/ua_list_ua.xls\n"
     ]
    },
    {
     "name": "stderr",
     "output_type": "stream",
     "text": [
      " 24%|██▎       | 4249/18004 [52:48<4:46:10,  1.25s/it]"
     ]
    },
    {
     "name": "stdout",
     "output_type": "stream",
     "text": [
      "Failed to parse URL at index 4248, URL: https://archive.today/20130414154507/http://www.bchistory.org/beavercounty/BeaverCountyTopical/Timelines/EarlyBCChronology.html\n"
     ]
    },
    {
     "name": "stderr",
     "output_type": "stream",
     "text": [
      " 24%|██▎       | 4250/18004 [52:53<9:11:54,  2.41s/it]"
     ]
    },
    {
     "name": "stdout",
     "output_type": "stream",
     "text": [
      "Failed to parse URL at index 4249, URL: http://www.bchistory.org/beavercounty/BeaverCountyTopical/Timelines/EarlyBCChronology.html\n"
     ]
    },
    {
     "name": "stderr",
     "output_type": "stream",
     "text": [
      " 24%|██▎       | 4253/18004 [52:59<9:20:36,  2.45s/it]"
     ]
    },
    {
     "name": "stdout",
     "output_type": "stream",
     "text": [
      "Failed to parse URL at index 4252, URL: https://web.archive.org/web/20150924063249/http://www.pagenweb.org/~somerset/bedford.htm\n"
     ]
    },
    {
     "name": "stderr",
     "output_type": "stream",
     "text": [
      " 24%|██▎       | 4254/18004 [53:01<9:11:01,  2.40s/it]"
     ]
    },
    {
     "name": "stdout",
     "output_type": "stream",
     "text": [
      "Failed to parse URL at index 4253, URL: http://www.pagenweb.org/~somerset/bedford.htm\n"
     ]
    },
    {
     "name": "stderr",
     "output_type": "stream",
     "text": [
      " 24%|██▎       | 4257/18004 [53:03<5:17:51,  1.39s/it]"
     ]
    },
    {
     "name": "stdout",
     "output_type": "stream",
     "text": [
      "Failed to parse URL at index 4256, URL: https://archive.org/stream/historyofalleghe1889cush#page/115/mode/2up/\n"
     ]
    },
    {
     "name": "stderr",
     "output_type": "stream",
     "text": [
      " 24%|██▎       | 4259/18004 [53:09<8:37:37,  2.26s/it]"
     ]
    },
    {
     "name": "stdout",
     "output_type": "stream",
     "text": [
      "Failed to parse URL at index 4258, URL: https://web.archive.org/web/20140221075636/http://www.clpgh.org/exhibit/apology3.html\n"
     ]
    },
    {
     "name": "stderr",
     "output_type": "stream",
     "text": [
      " 24%|██▎       | 4263/18004 [53:10<3:06:16,  1.23it/s]"
     ]
    },
    {
     "name": "stdout",
     "output_type": "stream",
     "text": [
      "Failed to parse URL at index 4262, URL: https://archive.org/details/pittsburghstoryo0000bald\n"
     ]
    },
    {
     "name": "stderr",
     "output_type": "stream",
     "text": [
      " 24%|██▎       | 4268/18004 [53:13<2:11:25,  1.74it/s]"
     ]
    },
    {
     "name": "stdout",
     "output_type": "stream",
     "text": [
      "Failed to parse URL at index 4266, URL: https://archive.org/details/biographicaldict0000unse_r8s1\n",
      "Failed to parse URL at index 4267, URL: https://www.jstor.org/stable/205101\n"
     ]
    },
    {
     "name": "stderr",
     "output_type": "stream",
     "text": [
      " 24%|██▎       | 4270/18004 [53:16<3:13:31,  1.18it/s]"
     ]
    },
    {
     "name": "stdout",
     "output_type": "stream",
     "text": [
      "Failed to parse URL at index 4268, URL: https://archive.org/details/andrewcarnegie00nasa\n"
     ]
    },
    {
     "name": "stderr",
     "output_type": "stream",
     "text": [
      " 24%|██▎       | 4272/18004 [53:20<6:15:57,  1.64s/it]"
     ]
    },
    {
     "name": "stdout",
     "output_type": "stream",
     "text": [
      "Failed to parse URL at index 4272, URL: https://search.worldcat.org/oclc/21956933\n"
     ]
    },
    {
     "name": "stderr",
     "output_type": "stream",
     "text": [
      " 24%|██▎       | 4275/18004 [53:26<9:03:49,  2.38s/it]"
     ]
    },
    {
     "name": "stdout",
     "output_type": "stream",
     "text": [
      "Failed to parse URL at index 4274, URL: https://openlibrary.org/books/OL24166640M\n",
      "Failed to parse URL at index 4275, URL: https://search.worldcat.org/oclc/30696960\n"
     ]
    },
    {
     "name": "stderr",
     "output_type": "stream",
     "text": [
      " 24%|██▍       | 4277/18004 [53:31<9:14:39,  2.42s/it]"
     ]
    },
    {
     "name": "stdout",
     "output_type": "stream",
     "text": [
      "Failed to parse URL at index 4276, URL: https://openlibrary.org/books/OL24467282M\n"
     ]
    },
    {
     "name": "stderr",
     "output_type": "stream",
     "text": [
      " 24%|██▍       | 4278/18004 [53:32<8:05:13,  2.12s/it]"
     ]
    },
    {
     "name": "stdout",
     "output_type": "stream",
     "text": [
      "Failed to parse URL at index 4277, URL: https://archive.org/stream/americanadvertis00newy#page/110/mode/2up\n",
      "Failed to parse URL at index 4278, URL: https://search.worldcat.org/oclc/1018684\n",
      "Failed to parse URL at index 4279, URL: https://search.worldcat.org/oclc/22234968\n"
     ]
    },
    {
     "name": "stderr",
     "output_type": "stream",
     "text": [
      " 24%|██▍       | 4281/18004 [53:37<7:36:14,  1.99s/it]"
     ]
    },
    {
     "name": "stdout",
     "output_type": "stream",
     "text": [
      "Failed to parse URL at index 4280, URL: https://openlibrary.org/books/OL23302955M\n"
     ]
    },
    {
     "name": "stderr",
     "output_type": "stream",
     "text": [
      " 24%|██▍       | 4282/18004 [53:42<11:04:12,  2.90s/it]"
     ]
    },
    {
     "name": "stdout",
     "output_type": "stream",
     "text": [
      "Failed to parse URL at index 4281, URL: https://openlibrary.org/books/OL24349698M\n"
     ]
    },
    {
     "name": "stderr",
     "output_type": "stream",
     "text": [
      " 24%|██▍       | 4285/18004 [53:45<5:40:24,  1.49s/it] "
     ]
    },
    {
     "name": "stdout",
     "output_type": "stream",
     "text": [
      "Failed to parse URL at index 4284, URL: http://digital.library.pitt.edu/pittsburgh\n"
     ]
    },
    {
     "name": "stderr",
     "output_type": "stream",
     "text": [
      " 24%|██▍       | 4288/18004 [53:51<8:17:25,  2.18s/it]"
     ]
    },
    {
     "name": "stdout",
     "output_type": "stream",
     "text": [
      "Failed to parse URL at index 4287, URL: https://web.archive.org/web/20160905052723/http://peoplemaps.esri.com/pittviewer/\n",
      "Failed to parse URL at index 4288, URL: http://peoplemaps.esri.com/pittviewer/\n"
     ]
    },
    {
     "name": "stderr",
     "output_type": "stream",
     "text": [
      " 24%|██▍       | 4290/18004 [53:56<8:42:27,  2.29s/it]"
     ]
    },
    {
     "name": "stdout",
     "output_type": "stream",
     "text": [
      "Failed to parse URL at index 4289, URL: https://web.archive.org/web/20140103102217/http://lifeinwesternpa.org/\n"
     ]
    },
    {
     "name": "stderr",
     "output_type": "stream",
     "text": [
      " 24%|██▍       | 4292/18004 [54:03<11:20:11,  2.98s/it]"
     ]
    },
    {
     "name": "stdout",
     "output_type": "stream",
     "text": [
      "Failed to parse URL at index 4291, URL: https://web.archive.org/web/20140222011517/http://www2.washjeff.edu/german/pittsburgh/\n"
     ]
    },
    {
     "name": "stderr",
     "output_type": "stream",
     "text": [
      " 24%|██▍       | 4293/18004 [54:08<13:42:57,  3.60s/it]"
     ]
    },
    {
     "name": "stdout",
     "output_type": "stream",
     "text": [
      "Failed to parse URL at index 4292, URL: http://www2.washjeff.edu/german/pittsburgh/\n"
     ]
    },
    {
     "name": "stderr",
     "output_type": "stream",
     "text": [
      " 24%|██▍       | 4294/18004 [54:13<15:20:30,  4.03s/it]"
     ]
    },
    {
     "name": "stdout",
     "output_type": "stream",
     "text": [
      "Failed to parse URL at index 4293, URL: https://web.archive.org/web/20160331220728/http://billkamm.net/pittsburgh/\n"
     ]
    },
    {
     "name": "stderr",
     "output_type": "stream",
     "text": [
      " 24%|██▍       | 4296/18004 [54:19<14:32:04,  3.82s/it]"
     ]
    },
    {
     "name": "stdout",
     "output_type": "stream",
     "text": [
      "Failed to parse URL at index 4295, URL: https://web.archive.org/web/20160610020538/http://www.steelcactus.com/OLDPGH1\n"
     ]
    },
    {
     "name": "stderr",
     "output_type": "stream",
     "text": [
      " 24%|██▍       | 4311/18004 [54:27<1:09:38,  3.28it/s] "
     ]
    },
    {
     "name": "stdout",
     "output_type": "stream",
     "text": [
      "Failed to parse URL at index 4309, URL: https://www.votespa.com/Pages/default.aspx\n"
     ]
    },
    {
     "name": "stderr",
     "output_type": "stream",
     "text": [
      " 24%|██▍       | 4336/18004 [54:42<6:40:27,  1.76s/it]"
     ]
    },
    {
     "name": "stdout",
     "output_type": "stream",
     "text": [
      "Failed to parse URL at index 4335, URL: https://pittsburghpa.shinyapps.io/BurghsEyeView/\n"
     ]
    },
    {
     "name": "stderr",
     "output_type": "stream",
     "text": [
      " 24%|██▍       | 4360/18004 [54:50<1:30:16,  2.52it/s]"
     ]
    },
    {
     "name": "stdout",
     "output_type": "stream",
     "text": [
      "Failed to parse URL at index 4360, URL: https://pittsburghpa.gov/dashburgh/index.html\n"
     ]
    },
    {
     "name": "stderr",
     "output_type": "stream",
     "text": [
      " 24%|██▍       | 4366/18004 [54:53<1:10:24,  3.23it/s]"
     ]
    },
    {
     "name": "stdout",
     "output_type": "stream",
     "text": [
      "Failed to parse URL at index 4364, URL: https://webstats.pittsburghpa.gov/\n"
     ]
    },
    {
     "name": "stderr",
     "output_type": "stream",
     "text": [
      " 24%|██▍       | 4386/18004 [55:01<39:50,  5.70it/s]  "
     ]
    },
    {
     "name": "stdout",
     "output_type": "stream",
     "text": [
      "Failed to parse URL at index 4384, URL: httpss://www.google.com/maps/place/Pittsburgh,+PA/data=!4m2!3m1!1s0x8834f16f48068503:0x8df915a15aa21b34?ved=2ahUKEwjW-r6fis3gAhXvRd8KHau2Bk0Q8gEwAHoECAAQAQ\n"
     ]
    },
    {
     "name": "stderr",
     "output_type": "stream",
     "text": [
      " 24%|██▍       | 4397/18004 [55:02<30:27,  7.45it/s]"
     ]
    },
    {
     "name": "stdout",
     "output_type": "stream",
     "text": [
      "Failed to parse URL at index 4395, URL: https://pittsburghpa.gov/city-info/release-notes.html\n"
     ]
    },
    {
     "name": "stderr",
     "output_type": "stream",
     "text": [
      " 26%|██▌       | 4620/18004 [57:05<8:39:10,  2.33s/it] "
     ]
    },
    {
     "name": "stdout",
     "output_type": "stream",
     "text": [
      "Failed to parse URL at index 4619, URL: https://www.pinterest.com/visitpittsburgh/\n"
     ]
    },
    {
     "name": "stderr",
     "output_type": "stream",
     "text": [
      " 26%|██▌       | 4686/18004 [58:33<3:43:40,  1.01s/it]"
     ]
    },
    {
     "name": "stdout",
     "output_type": "stream",
     "text": [
      "Failed to parse URL at index 4685, URL: https://www.visitpittsburgh.com/directory/primanti-bros-south-side-1038106-disabled/\n"
     ]
    },
    {
     "name": "stderr",
     "output_type": "stream",
     "text": [
      " 26%|██▌       | 4701/18004 [58:50<4:09:49,  1.13s/it]"
     ]
    },
    {
     "name": "stdout",
     "output_type": "stream",
     "text": [
      "Failed to parse URL at index 4700, URL: http://www.arrival.pitt.edu/view-your-fall-2023-move-date-time\n"
     ]
    },
    {
     "name": "stderr",
     "output_type": "stream",
     "text": [
      " 26%|██▋       | 4765/18004 [1:00:05<3:35:06,  1.03it/s]"
     ]
    },
    {
     "name": "stdout",
     "output_type": "stream",
     "text": [
      "Failed to parse URL at index 4765, URL: https://www.visittheusa.com/\n"
     ]
    },
    {
     "name": "stderr",
     "output_type": "stream",
     "text": [
      " 27%|██▋       | 4928/18004 [1:00:52<1:13:10,  2.98it/s]"
     ]
    },
    {
     "name": "stdout",
     "output_type": "stream",
     "text": [
      "Failed to parse URL at index 4927, URL: https://en.wikipedia.org/w/index.php?title=McKeesport_Tube_Works&action=edit&redlink=1\n"
     ]
    },
    {
     "name": "stderr",
     "output_type": "stream",
     "text": [
      " 27%|██▋       | 4932/18004 [1:00:53<1:26:03,  2.53it/s]"
     ]
    },
    {
     "name": "stdout",
     "output_type": "stream",
     "text": [
      "Failed to parse URL at index 4931, URL: https://en.wikipedia.org/w/index.php?title=Clairton_Steel_Works&action=edit&redlink=1\n"
     ]
    },
    {
     "name": "stderr",
     "output_type": "stream",
     "text": [
      " 27%|██▋       | 4935/18004 [1:00:54<1:18:01,  2.79it/s]"
     ]
    },
    {
     "name": "stdout",
     "output_type": "stream",
     "text": [
      "Failed to parse URL at index 4934, URL: https://en.wikipedia.org/w/index.php?title=Duquesne_Steel_Works&action=edit&redlink=1\n"
     ]
    },
    {
     "name": "stderr",
     "output_type": "stream",
     "text": [
      " 27%|██▋       | 4941/18004 [1:00:56<1:15:20,  2.89it/s]"
     ]
    },
    {
     "name": "stdout",
     "output_type": "stream",
     "text": [
      "Failed to parse URL at index 4940, URL: https://en.wikipedia.org/w/index.php?title=Mon_Valley_Works_%E2%80%93_Irvin_Plant&action=edit&redlink=1\n"
     ]
    },
    {
     "name": "stderr",
     "output_type": "stream",
     "text": [
      " 28%|██▊       | 4982/18004 [1:01:10<1:29:36,  2.42it/s]"
     ]
    },
    {
     "name": "stdout",
     "output_type": "stream",
     "text": [
      "Failed to parse URL at index 4981, URL: https://en.wikipedia.org/w/index.php?title=IGA_(Supermarkets)&action=edit&redlink=1\n"
     ]
    },
    {
     "name": "stderr",
     "output_type": "stream",
     "text": [
      " 28%|██▊       | 5072/18004 [1:01:48<6:29:15,  1.81s/it]"
     ]
    },
    {
     "name": "stdout",
     "output_type": "stream",
     "text": [
      "Failed to parse URL at index 5071, URL: https://web.archive.org/web/20010228171805/http://www.pittsburgh.net/about_pittsburgh.cfm\n"
     ]
    },
    {
     "name": "stderr",
     "output_type": "stream",
     "text": [
      " 28%|██▊       | 5081/18004 [1:01:56<6:29:52,  1.81s/it]"
     ]
    },
    {
     "name": "stdout",
     "output_type": "stream",
     "text": [
      "Failed to parse URL at index 5080, URL: https://web.archive.org/web/20091228071847/http://www.carnegie.org/sub/about/biography.html\n"
     ]
    },
    {
     "name": "stderr",
     "output_type": "stream",
     "text": [
      " 28%|██▊       | 5082/18004 [1:01:57<5:16:14,  1.47s/it]"
     ]
    },
    {
     "name": "stdout",
     "output_type": "stream",
     "text": [
      "Failed to parse URL at index 5081, URL: http://www.carnegie.org/sub/about/biography.html\n"
     ]
    },
    {
     "name": "stderr",
     "output_type": "stream",
     "text": [
      " 28%|██▊       | 5089/18004 [1:01:59<1:20:36,  2.67it/s]"
     ]
    },
    {
     "name": "stdout",
     "output_type": "stream",
     "text": [
      "Failed to parse URL at index 5088, URL: http://www.bgsu.edu/departments/acs/1890s/carnegie/strike.html\n"
     ]
    },
    {
     "name": "stderr",
     "output_type": "stream",
     "text": [
      " 28%|██▊       | 5090/18004 [1:02:04<6:25:40,  1.79s/it]"
     ]
    },
    {
     "name": "stdout",
     "output_type": "stream",
     "text": [
      "Failed to parse URL at index 5089, URL: https://web.archive.org/web/20100213000636/http://www.bgsu.edu/departments/acs/1890s/carnegie/strike.html\n"
     ]
    },
    {
     "name": "stderr",
     "output_type": "stream",
     "text": [
      " 28%|██▊       | 5097/18004 [1:02:06<1:19:21,  2.71it/s]"
     ]
    },
    {
     "name": "stdout",
     "output_type": "stream",
     "text": [
      "Failed to parse URL at index 5096, URL: https://www.nytimes.com/1987/02/05/business/usx-to-shut-3-plants-cut-3700-jobs.html\n"
     ]
    },
    {
     "name": "stderr",
     "output_type": "stream",
     "text": [
      " 28%|██▊       | 5109/18004 [1:02:14<6:03:09,  1.69s/it]"
     ]
    },
    {
     "name": "stdout",
     "output_type": "stream",
     "text": [
      "Failed to parse URL at index 5108, URL: https://web.archive.org/web/20160309065821/https://www.riversofsteel.com/routestoroots/3RsWindows/homestead_works.html\n"
     ]
    },
    {
     "name": "stderr",
     "output_type": "stream",
     "text": [
      " 28%|██▊       | 5110/18004 [1:02:16<6:37:40,  1.85s/it]"
     ]
    },
    {
     "name": "stdout",
     "output_type": "stream",
     "text": [
      "Failed to parse URL at index 5109, URL: http://www.riversofsteel.com/routestoroots/3RsWindows/homestead_works.html\n"
     ]
    },
    {
     "name": "stderr",
     "output_type": "stream",
     "text": [
      " 29%|██▊       | 5134/18004 [1:02:49<7:39:09,  2.14s/it] "
     ]
    },
    {
     "name": "stdout",
     "output_type": "stream",
     "text": [
      "Failed to parse URL at index 5133, URL: http://digital.library.pitt.edu/cgi-bin/chronology/chronology_driver.pl?searchtype=dbrowse;year=1900;year2=1909;start_line=15\n"
     ]
    },
    {
     "name": "stderr",
     "output_type": "stream",
     "text": [
      " 29%|██▊       | 5144/18004 [1:02:57<4:53:56,  1.37s/it]"
     ]
    },
    {
     "name": "stdout",
     "output_type": "stream",
     "text": [
      "Failed to parse URL at index 5142, URL: https://web.archive.org/web/20130513125258/http://ushistory.pwnet.org/resources/II.2.b.php\n",
      "Failed to parse URL at index 5143, URL: http://ushistory.pwnet.org/resources/II.2.b.php\n"
     ]
    },
    {
     "name": "stderr",
     "output_type": "stream",
     "text": [
      " 29%|██▊       | 5146/18004 [1:02:58<3:23:20,  1.05it/s]"
     ]
    },
    {
     "name": "stdout",
     "output_type": "stream",
     "text": [
      "Failed to parse URL at index 5145, URL: http://www.civics-online.org/library/formatted/texts/wagner_act.html\n"
     ]
    },
    {
     "name": "stderr",
     "output_type": "stream",
     "text": [
      " 29%|██▊       | 5147/18004 [1:03:03<7:45:20,  2.17s/it]"
     ]
    },
    {
     "name": "stdout",
     "output_type": "stream",
     "text": [
      "Failed to parse URL at index 5146, URL: https://web.archive.org/web/20100415165650/http://www.civics-online.org/library/formatted/texts/wagner_act.html\n"
     ]
    },
    {
     "name": "stderr",
     "output_type": "stream",
     "text": [
      " 29%|██▊       | 5149/18004 [1:03:08<9:23:50,  2.63s/it]"
     ]
    },
    {
     "name": "stdout",
     "output_type": "stream",
     "text": [
      "Failed to parse URL at index 5148, URL: https://web.archive.org/web/20131102223145/http://www.ridc.org/pages/about_who.aspx\n"
     ]
    },
    {
     "name": "stderr",
     "output_type": "stream",
     "text": [
      " 29%|██▊       | 5150/18004 [1:03:09<7:01:35,  1.97s/it]"
     ]
    },
    {
     "name": "stdout",
     "output_type": "stream",
     "text": [
      "Failed to parse URL at index 5149, URL: http://www.ridc.org/pages/about_who.aspx\n"
     ]
    },
    {
     "name": "stderr",
     "output_type": "stream",
     "text": [
      " 29%|██▊       | 5153/18004 [1:03:14<6:29:35,  1.82s/it]"
     ]
    },
    {
     "name": "stdout",
     "output_type": "stream",
     "text": [
      "Failed to parse URL at index 5151, URL: https://web.archive.org/web/20131102223100/http://www.ridc.org/pages/about_what.aspx\n",
      "Failed to parse URL at index 5152, URL: http://www.ridc.org/pages/about_what.aspx\n"
     ]
    },
    {
     "name": "stderr",
     "output_type": "stream",
     "text": [
      " 29%|██▊       | 5169/18004 [1:03:21<1:33:47,  2.28it/s]"
     ]
    },
    {
     "name": "stdout",
     "output_type": "stream",
     "text": [
      "Failed to parse URL at index 5168, URL: http://www.pittsburghfuture.com/economy.html\n"
     ]
    },
    {
     "name": "stderr",
     "output_type": "stream",
     "text": [
      " 29%|██▊       | 5170/18004 [1:03:21<1:21:35,  2.62it/s]"
     ]
    },
    {
     "name": "stdout",
     "output_type": "stream",
     "text": [
      "Failed to parse URL at index 5170, URL: http://pittsburghlive.com/images/video//2008_pdfs/GX-pncTimeline-JL-10-28.pdf\n"
     ]
    },
    {
     "name": "stderr",
     "output_type": "stream",
     "text": [
      " 29%|██▊       | 5174/18004 [1:03:27<6:07:27,  1.72s/it]"
     ]
    },
    {
     "name": "stdout",
     "output_type": "stream",
     "text": [
      "Failed to parse URL at index 5173, URL: https://web.archive.org/web/20100411031812/http://blogs.oilandgasinvestor.com/nissa/2009/10/01/dug-east%E2%80%94or-bust-this-oct-19-pittsburgh/\n"
     ]
    },
    {
     "name": "stderr",
     "output_type": "stream",
     "text": [
      " 29%|██▊       | 5176/18004 [1:03:32<8:35:00,  2.41s/it]"
     ]
    },
    {
     "name": "stdout",
     "output_type": "stream",
     "text": [
      "Failed to parse URL at index 5175, URL: https://web.archive.org/web/20160914064203/http://gomarcellusshale.com/profiles/blogs/developing-unconventional-gas\n"
     ]
    },
    {
     "name": "stderr",
     "output_type": "stream",
     "text": [
      " 29%|██▉       | 5179/18004 [1:03:34<4:08:51,  1.16s/it]"
     ]
    },
    {
     "name": "stdout",
     "output_type": "stream",
     "text": [
      "Failed to parse URL at index 5178, URL: http://www.bls.gov/ro3/cesqpitt.htm\n"
     ]
    },
    {
     "name": "stderr",
     "output_type": "stream",
     "text": [
      " 29%|██▉       | 5181/18004 [1:03:39<7:35:11,  2.13s/it]"
     ]
    },
    {
     "name": "stdout",
     "output_type": "stream",
     "text": [
      "Failed to parse URL at index 5180, URL: https://web.archive.org/web/20151008095924/http://www.alleghenyconference.org/PittsburghRegionalAlliance/RegionalData/RegionalOverview/CountyAllegheny.php\n"
     ]
    },
    {
     "name": "stderr",
     "output_type": "stream",
     "text": [
      " 29%|██▉       | 5182/18004 [1:03:40<6:02:32,  1.70s/it]"
     ]
    },
    {
     "name": "stdout",
     "output_type": "stream",
     "text": [
      "Failed to parse URL at index 5181, URL: http://www.alleghenyconference.org/PittsburghRegionalAlliance/RegionalData/RegionalOverview/CountyAllegheny.php\n"
     ]
    },
    {
     "name": "stderr",
     "output_type": "stream",
     "text": [
      " 29%|██▉       | 5184/18004 [1:03:45<8:32:17,  2.40s/it]"
     ]
    },
    {
     "name": "stdout",
     "output_type": "stream",
     "text": [
      "Failed to parse URL at index 5183, URL: https://web.archive.org/web/20091122201658/http://www.pittsburghlive.com/x/pittsburghtrib/business/s_631379.html\n"
     ]
    },
    {
     "name": "stderr",
     "output_type": "stream",
     "text": [
      " 29%|██▉       | 5185/18004 [1:03:48<8:20:07,  2.34s/it]"
     ]
    },
    {
     "name": "stdout",
     "output_type": "stream",
     "text": [
      "Failed to parse URL at index 5184, URL: http://www.pittsburghlive.com/x/pittsburghtrib/business/s_631379.html\n"
     ]
    },
    {
     "name": "stderr",
     "output_type": "stream",
     "text": [
      " 29%|██▉       | 5188/18004 [1:03:49<4:27:00,  1.25s/it]"
     ]
    },
    {
     "name": "stdout",
     "output_type": "stream",
     "text": [
      "Failed to parse URL at index 5187, URL: http://www.ldaamerica.org/about/index.asp\n"
     ]
    },
    {
     "name": "stderr",
     "output_type": "stream",
     "text": [
      " 29%|██▉       | 5197/18004 [1:03:56<2:06:03,  1.69it/s]"
     ]
    },
    {
     "name": "stdout",
     "output_type": "stream",
     "text": [
      "Failed to parse URL at index 5196, URL: http://www.brookings.edu/reports/2009/06_metro_monitor.aspx\n"
     ]
    },
    {
     "name": "stderr",
     "output_type": "stream",
     "text": [
      " 29%|██▉       | 5205/18004 [1:04:04<6:31:17,  1.83s/it]"
     ]
    },
    {
     "name": "stdout",
     "output_type": "stream",
     "text": [
      "Failed to parse URL at index 5204, URL: https://web.archive.org/web/20101025123027/http://alleghenyconference.org/PDFs/PRAFactSheets/FS09ThreeReasons.pdf\n"
     ]
    },
    {
     "name": "stderr",
     "output_type": "stream",
     "text": [
      " 29%|██▉       | 5206/18004 [1:04:05<5:05:56,  1.43s/it]"
     ]
    },
    {
     "name": "stdout",
     "output_type": "stream",
     "text": [
      "Failed to parse URL at index 5205, URL: http://www.alleghenyconference.org/PDFs/PRAFactSheets/FS09ThreeReasons.pdf\n"
     ]
    },
    {
     "name": "stderr",
     "output_type": "stream",
     "text": [
      " 29%|██▉       | 5215/18004 [1:04:15<4:11:01,  1.18s/it]"
     ]
    },
    {
     "name": "stdout",
     "output_type": "stream",
     "text": [
      "Failed to parse URL at index 5214, URL: https://en.wikipedia.org/w/index.php?title=Margaret_Wilder_and_Barry_Rubin&action=edit&redlink=1\n"
     ]
    },
    {
     "name": "stderr",
     "output_type": "stream",
     "text": [
      " 29%|██▉       | 5216/18004 [1:04:17<4:54:37,  1.38s/it]"
     ]
    },
    {
     "name": "stdout",
     "output_type": "stream",
     "text": [
      "Failed to parse URL at index 5215, URL: https://doi.org/10.1080%2F01944369608975713\n"
     ]
    },
    {
     "name": "stderr",
     "output_type": "stream",
     "text": [
      " 29%|██▉       | 5220/18004 [1:04:19<2:02:55,  1.73it/s]"
     ]
    },
    {
     "name": "stdout",
     "output_type": "stream",
     "text": [
      "Failed to parse URL at index 5219, URL: http://obs.rc.fas.harvard.edu/chetty/mobility_geo.pdf\n"
     ]
    },
    {
     "name": "stderr",
     "output_type": "stream",
     "text": [
      " 29%|██▉       | 5223/18004 [1:04:20<1:48:27,  1.96it/s]"
     ]
    },
    {
     "name": "stdout",
     "output_type": "stream",
     "text": [
      "Failed to parse URL at index 5222, URL: http://www.bizjournals.com/pittsburgh/feature/03-29-13-cbre.html\n"
     ]
    },
    {
     "name": "stderr",
     "output_type": "stream",
     "text": [
      " 29%|██▉       | 5225/18004 [1:04:20<1:22:19,  2.59it/s]"
     ]
    },
    {
     "name": "stdout",
     "output_type": "stream",
     "text": [
      "Failed to parse URL at index 5224, URL: http://www.bizjournals.com/pittsburgh/feature/03-29-13-oxford-development-co.html\n"
     ]
    },
    {
     "name": "stderr",
     "output_type": "stream",
     "text": [
      " 29%|██▉       | 5227/18004 [1:04:21<1:05:03,  3.27it/s]"
     ]
    },
    {
     "name": "stdout",
     "output_type": "stream",
     "text": [
      "Failed to parse URL at index 5226, URL: http://www.bizjournals.com/pittsburgh/feature/03-29-13-regional-industrial-development.html\n"
     ]
    },
    {
     "name": "stderr",
     "output_type": "stream",
     "text": [
      " 29%|██▉       | 5229/18004 [1:04:21<57:12,  3.72it/s]  "
     ]
    },
    {
     "name": "stdout",
     "output_type": "stream",
     "text": [
      "Failed to parse URL at index 5228, URL: http://www.bizjournals.com/pittsburgh/feature/03-29-13-jones-lang-lasalle.html\n"
     ]
    },
    {
     "name": "stderr",
     "output_type": "stream",
     "text": [
      " 29%|██▉       | 5231/18004 [1:04:22<59:36,  3.57it/s]"
     ]
    },
    {
     "name": "stdout",
     "output_type": "stream",
     "text": [
      "Failed to parse URL at index 5230, URL: http://www.post-gazette.com/stories/business/news/new-heinz-owners-cut-600-jobs-including-350-in-pittsburgh-699153/\n"
     ]
    },
    {
     "name": "stderr",
     "output_type": "stream",
     "text": [
      " 29%|██▉       | 5233/18004 [1:04:22<55:05,  3.86it/s]  "
     ]
    },
    {
     "name": "stdout",
     "output_type": "stream",
     "text": [
      "Failed to parse URL at index 5232, URL: http://www.bizjournals.com/pittsburgh/blog/techflash/2014/11/work-underway-on-pittsburgh-s-innovation-roadmap.html\n"
     ]
    },
    {
     "name": "stderr",
     "output_type": "stream",
     "text": [
      " 29%|██▉       | 5235/18004 [1:04:23<53:17,  3.99it/s]"
     ]
    },
    {
     "name": "stdout",
     "output_type": "stream",
     "text": [
      "Failed to parse URL at index 5234, URL: http://www.bls.gov/ro3/oesphl.htm\n"
     ]
    },
    {
     "name": "stderr",
     "output_type": "stream",
     "text": [
      " 29%|██▉       | 5241/18004 [1:04:30<6:35:21,  1.86s/it]"
     ]
    },
    {
     "name": "stdout",
     "output_type": "stream",
     "text": [
      "Failed to parse URL at index 5240, URL: https://web.archive.org/web/20100612060013/http://pittsburgh.net/about_pittsburgh_toptenemployers.cfm\n"
     ]
    },
    {
     "name": "stderr",
     "output_type": "stream",
     "text": [
      " 29%|██▉       | 5242/18004 [1:04:35<10:02:03,  2.83s/it]"
     ]
    },
    {
     "name": "stdout",
     "output_type": "stream",
     "text": [
      "Failed to parse URL at index 5241, URL: http://www.g20pittsburghsummit.org/media-resources/pittsburgh-in-the-news/\n"
     ]
    },
    {
     "name": "stderr",
     "output_type": "stream",
     "text": [
      " 29%|██▉       | 5243/18004 [1:04:40<12:22:14,  3.49s/it]"
     ]
    },
    {
     "name": "stdout",
     "output_type": "stream",
     "text": [
      "Failed to parse URL at index 5242, URL: https://web.archive.org/web/20090822001149/http://www.g20pittsburghsummit.org/media-resources/pittsburgh-in-the-news/\n"
     ]
    },
    {
     "name": "stderr",
     "output_type": "stream",
     "text": [
      " 29%|██▉       | 5246/18004 [1:04:41<6:22:17,  1.80s/it] "
     ]
    },
    {
     "name": "stdout",
     "output_type": "stream",
     "text": [
      "Failed to parse URL at index 5244, URL: https://www.nytimes.com/2005/01/12/sports/football/12steelers.html?_r=0\n"
     ]
    },
    {
     "name": "stderr",
     "output_type": "stream",
     "text": [
      " 29%|██▉       | 5264/18004 [1:04:52<6:07:26,  1.73s/it]"
     ]
    },
    {
     "name": "stdout",
     "output_type": "stream",
     "text": [
      "Failed to parse URL at index 5263, URL: https://en.wikipedia.org/wiki/Economy_of_Iowa\n"
     ]
    },
    {
     "name": "stderr",
     "output_type": "stream",
     "text": [
      " 31%|███       | 5588/18004 [1:06:56<1:32:43,  2.23it/s]"
     ]
    },
    {
     "name": "stdout",
     "output_type": "stream",
     "text": [
      "Failed to parse URL at index 5587, URL: https://en.wikipedia.org/w/index.php?title=The_Maridon_Museum&action=edit&redlink=1\n"
     ]
    },
    {
     "name": "stderr",
     "output_type": "stream",
     "text": [
      " 31%|███       | 5589/18004 [1:06:57<1:36:41,  2.14it/s]"
     ]
    },
    {
     "name": "stdout",
     "output_type": "stream",
     "text": [
      "Failed to parse URL at index 5588, URL: https://en.wikipedia.org/w/index.php?title=University_Museum_at_Indiana_University_of_Pennsylvania&action=edit&redlink=1\n"
     ]
    },
    {
     "name": "stderr",
     "output_type": "stream",
     "text": [
      " 31%|███       | 5590/18004 [1:06:57<1:39:28,  2.08it/s]"
     ]
    },
    {
     "name": "stdout",
     "output_type": "stream",
     "text": [
      "Failed to parse URL at index 5589, URL: https://en.wikipedia.org/w/index.php?title=Hoyt_Institute_of_Fine_Arts&action=edit&redlink=1\n"
     ]
    },
    {
     "name": "stderr",
     "output_type": "stream",
     "text": [
      " 31%|███       | 5591/18004 [1:06:58<1:54:14,  1.81it/s]"
     ]
    },
    {
     "name": "stdout",
     "output_type": "stream",
     "text": [
      "Failed to parse URL at index 5590, URL: https://en.wikipedia.org/w/index.php?title=Venango_Museum_of_Art,_Science,_and_Industry&action=edit&redlink=1\n"
     ]
    },
    {
     "name": "stderr",
     "output_type": "stream",
     "text": [
      " 31%|███       | 5596/18004 [1:06:59<1:22:50,  2.50it/s]"
     ]
    },
    {
     "name": "stdout",
     "output_type": "stream",
     "text": [
      "Failed to parse URL at index 5595, URL: https://en.wikipedia.org/w/index.php?title=Juniata_College_Museum_of_Art&action=edit&redlink=1\n"
     ]
    },
    {
     "name": "stderr",
     "output_type": "stream",
     "text": [
      " 31%|███▏      | 5665/18004 [1:07:24<1:44:40,  1.96it/s]"
     ]
    },
    {
     "name": "stdout",
     "output_type": "stream",
     "text": [
      "Failed to parse URL at index 5664, URL: https://www2.census.gov/programs-surveys/metro-micro/geographies/reference-files/2020/delineation-files/list2_2020.xls\n"
     ]
    },
    {
     "name": "stderr",
     "output_type": "stream",
     "text": [
      " 31%|███▏      | 5671/18004 [1:07:38<8:44:01,  2.55s/it]"
     ]
    },
    {
     "name": "stdout",
     "output_type": "stream",
     "text": [
      "Failed to parse URL at index 5670, URL: https://www.census.gov/programs-surveys/decennial-census.html\n"
     ]
    },
    {
     "name": "stderr",
     "output_type": "stream",
     "text": [
      " 32%|███▏      | 5675/18004 [1:07:40<3:18:18,  1.04it/s]"
     ]
    },
    {
     "name": "stdout",
     "output_type": "stream",
     "text": [
      "Failed to parse URL at index 5674, URL: https://www.census.gov/population/cencounts/az190090.txt\n"
     ]
    },
    {
     "name": "stderr",
     "output_type": "stream",
     "text": [
      " 32%|███▏      | 5677/18004 [1:07:41<2:15:38,  1.51it/s]"
     ]
    },
    {
     "name": "stdout",
     "output_type": "stream",
     "text": [
      "Failed to parse URL at index 5676, URL: https://www.census.gov/population/www/cen2000/briefs/phc-t4/tables/tab02.pdf\n"
     ]
    },
    {
     "name": "stderr",
     "output_type": "stream",
     "text": [
      " 32%|███▏      | 5683/18004 [1:07:44<1:36:27,  2.13it/s]"
     ]
    },
    {
     "name": "stdout",
     "output_type": "stream",
     "text": [
      "Failed to parse URL at index 5682, URL: https://search.worldcat.org/issn/1932-6203\n"
     ]
    },
    {
     "name": "stderr",
     "output_type": "stream",
     "text": [
      " 32%|███▏      | 5692/18004 [1:07:54<6:34:26,  1.92s/it]"
     ]
    },
    {
     "name": "stdout",
     "output_type": "stream",
     "text": [
      "Failed to parse URL at index 5691, URL: https://web.archive.org/web/20170915092117/https://www.census.gov/data/tables/2016/demo/popest/counties-total.html\n"
     ]
    },
    {
     "name": "stderr",
     "output_type": "stream",
     "text": [
      " 32%|███▏      | 5693/18004 [1:07:55<5:07:57,  1.50s/it]"
     ]
    },
    {
     "name": "stdout",
     "output_type": "stream",
     "text": [
      "Failed to parse URL at index 5692, URL: https://www.census.gov/data/tables/2016/demo/popest/counties-total.html\n"
     ]
    },
    {
     "name": "stderr",
     "output_type": "stream",
     "text": [
      " 32%|███▏      | 5703/18004 [1:08:23<10:49:37,  3.17s/it]"
     ]
    },
    {
     "name": "stdout",
     "output_type": "stream",
     "text": [
      "Failed to parse URL at index 5702, URL: https://www.washingtonpost.com/wp-dyn/content/article/2009/09/23/AR2009092304713.html\n"
     ]
    },
    {
     "name": "stderr",
     "output_type": "stream",
     "text": [
      " 32%|███▏      | 5707/18004 [1:08:25<3:46:58,  1.11s/it] "
     ]
    },
    {
     "name": "stdout",
     "output_type": "stream",
     "text": [
      "Failed to parse URL at index 5706, URL: https://thehill.com/blogs/congress-blog/politics/376813-great-lakes-chambers-of-commerce-congressional-leaders-need-to\n"
     ]
    },
    {
     "name": "stderr",
     "output_type": "stream",
     "text": [
      " 32%|███▏      | 5713/18004 [1:08:28<1:29:58,  2.28it/s]"
     ]
    },
    {
     "name": "stdout",
     "output_type": "stream",
     "text": [
      "Failed to parse URL at index 5712, URL: http://www.post-gazette.com/pg/11002/1114678-109.stm\n"
     ]
    },
    {
     "name": "stderr",
     "output_type": "stream",
     "text": [
      " 32%|███▏      | 5718/18004 [1:08:30<1:26:49,  2.36it/s]"
     ]
    },
    {
     "name": "stdout",
     "output_type": "stream",
     "text": [
      "Failed to parse URL at index 5717, URL: http://www.crainscleveland.com/article/20070423/SUB/70420005\n"
     ]
    },
    {
     "name": "stderr",
     "output_type": "stream",
     "text": [
      " 32%|███▏      | 5724/18004 [1:08:39<7:06:29,  2.08s/it]"
     ]
    },
    {
     "name": "stdout",
     "output_type": "stream",
     "text": [
      "Failed to parse URL at index 5723, URL: https://web.archive.org/web/20200803134857/https://www.visitpittsburgh.com/\n"
     ]
    },
    {
     "name": "stderr",
     "output_type": "stream",
     "text": [
      " 32%|███▏      | 5727/18004 [1:08:45<7:57:25,  2.33s/it]"
     ]
    },
    {
     "name": "stdout",
     "output_type": "stream",
     "text": [
      "Failed to parse URL at index 5726, URL: https://web.archive.org/web/20160304082637/http://aapa.files.cms-plus.com/PDFs/2011%20U%20S%20%20PORT%20RANKINGS%20BY%20CARGO%20TONNAGE.pdf\n"
     ]
    },
    {
     "name": "stderr",
     "output_type": "stream",
     "text": [
      " 32%|███▏      | 5729/18004 [1:08:50<9:15:07,  2.71s/it]"
     ]
    },
    {
     "name": "stdout",
     "output_type": "stream",
     "text": [
      "Failed to parse URL at index 5728, URL: https://web.archive.org/web/20111108094635/http://www.spcregion.org/pdf/servicearea10.pdf\n"
     ]
    },
    {
     "name": "stderr",
     "output_type": "stream",
     "text": [
      " 32%|███▏      | 5730/18004 [1:08:51<7:10:34,  2.10s/it]"
     ]
    },
    {
     "name": "stdout",
     "output_type": "stream",
     "text": [
      "Failed to parse URL at index 5729, URL: http://www.spcregion.org/pdf/servicearea10.pdf\n"
     ]
    },
    {
     "name": "stderr",
     "output_type": "stream",
     "text": [
      " 32%|███▏      | 5739/18004 [1:08:59<4:36:58,  1.35s/it]"
     ]
    },
    {
     "name": "stdout",
     "output_type": "stream",
     "text": [
      "Failed to parse URL at index 5737, URL: https://web.archive.org/web/20180307151129/http://geography.vt.edu/department/people/scarpaci.html\n",
      "Failed to parse URL at index 5738, URL: https://geography.vt.edu/department/people/scarpaci.html\n"
     ]
    },
    {
     "name": "stderr",
     "output_type": "stream",
     "text": [
      " 32%|███▏      | 5747/18004 [1:09:03<2:21:14,  1.45it/s]"
     ]
    },
    {
     "name": "stdout",
     "output_type": "stream",
     "text": [
      "Failed to parse URL at index 5746, URL: http://www.mattress.org/content/history\n"
     ]
    },
    {
     "name": "stderr",
     "output_type": "stream",
     "text": [
      " 32%|███▏      | 5807/18004 [1:09:28<1:21:27,  2.50it/s]"
     ]
    },
    {
     "name": "stdout",
     "output_type": "stream",
     "text": [
      "Failed to parse URL at index 5806, URL: https://en.wikipedia.org/w/index.php?title=U.S._District_Attorney_for_the_Western_District_of_Pennsylvania&action=edit&redlink=1\n"
     ]
    },
    {
     "name": "stderr",
     "output_type": "stream",
     "text": [
      " 32%|███▏      | 5819/18004 [1:09:31<56:02,  3.62it/s]  "
     ]
    },
    {
     "name": "stdout",
     "output_type": "stream",
     "text": [
      "Failed to parse URL at index 5819, URL: http://www.city.pittsburgh.pa.us/mayor/html/boards_commissions.html\n"
     ]
    },
    {
     "name": "stderr",
     "output_type": "stream",
     "text": [
      " 33%|███▎      | 5988/18004 [1:10:33<2:21:53,  1.41it/s]"
     ]
    },
    {
     "name": "stdout",
     "output_type": "stream",
     "text": [
      "Failed to parse URL at index 5987, URL: http://www.bike-pgh.org/\n"
     ]
    },
    {
     "name": "stderr",
     "output_type": "stream",
     "text": [
      " 33%|███▎      | 5989/18004 [1:10:38<6:43:15,  2.01s/it]"
     ]
    },
    {
     "name": "stdout",
     "output_type": "stream",
     "text": [
      "Failed to parse URL at index 5988, URL: https://web.archive.org/web/20070927200419/http://www.bikecollectives.org/wiki/index.php?title=List_of_Community_Bicycle_Groups%2F\n"
     ]
    },
    {
     "name": "stderr",
     "output_type": "stream",
     "text": [
      " 33%|███▎      | 5991/18004 [1:10:51<13:22:18,  4.01s/it]"
     ]
    },
    {
     "name": "stdout",
     "output_type": "stream",
     "text": [
      "Failed to parse URL at index 5990, URL: https://web.archive.org/web/20070515114205/http://www.friendsoftheriverfront.org/new_pages/community_bike.htm\n"
     ]
    },
    {
     "name": "stderr",
     "output_type": "stream",
     "text": [
      " 34%|███▎      | 6049/18004 [1:11:12<1:12:13,  2.76it/s] "
     ]
    },
    {
     "name": "stdout",
     "output_type": "stream",
     "text": [
      "Failed to parse URL at index 6048, URL: http://www.post-gazette.com/pg/05030/448976.stm\n"
     ]
    },
    {
     "name": "stderr",
     "output_type": "stream",
     "text": [
      " 34%|███▎      | 6051/18004 [1:11:13<1:02:22,  3.19it/s]"
     ]
    },
    {
     "name": "stdout",
     "output_type": "stream",
     "text": [
      "Failed to parse URL at index 6050, URL: https://www.wired.com/autopia/2010/12/the-steepest-road-on-earth-takes-no-prisoners/\n"
     ]
    },
    {
     "name": "stderr",
     "output_type": "stream",
     "text": [
      " 34%|███▎      | 6057/18004 [1:11:14<53:38,  3.71it/s]  "
     ]
    },
    {
     "name": "stdout",
     "output_type": "stream",
     "text": [
      "Failed to parse URL at index 6056, URL: http://www.portauthority.org/PAAC/CompanyInfo/GeneralStatistics/tabid/68/Default.aspx\n"
     ]
    },
    {
     "name": "stderr",
     "output_type": "stream",
     "text": [
      " 34%|███▎      | 6059/18004 [1:11:15<1:26:13,  2.31it/s]"
     ]
    },
    {
     "name": "stdout",
     "output_type": "stream",
     "text": [
      "Failed to parse URL at index 6058, URL: http://www.myerscoachlines.com/myers/PageInfo/commuter.aspx\n"
     ]
    },
    {
     "name": "stderr",
     "output_type": "stream",
     "text": [
      " 34%|███▎      | 6063/18004 [1:11:17<1:24:33,  2.35it/s]"
     ]
    },
    {
     "name": "stdout",
     "output_type": "stream",
     "text": [
      "Failed to parse URL at index 6062, URL: http://www.spcregion.org/pdf/RegionalTransitProfile.pdf\n"
     ]
    },
    {
     "name": "stderr",
     "output_type": "stream",
     "text": [
      " 34%|███▎      | 6066/18004 [1:11:18<1:03:48,  3.12it/s]"
     ]
    },
    {
     "name": "stdout",
     "output_type": "stream",
     "text": [
      "Failed to parse URL at index 6065, URL: http://www.usairways.com/common/resources/_downloads/usaroutemap.pdf\n"
     ]
    },
    {
     "name": "stderr",
     "output_type": "stream",
     "text": [
      " 34%|███▎      | 6074/18004 [1:11:25<5:35:25,  1.69s/it]"
     ]
    },
    {
     "name": "stdout",
     "output_type": "stream",
     "text": [
      "Failed to parse URL at index 6073, URL: https://web.archive.org/web/20060929211109/http://www.phlf.org/news/mediaclips/2005/20050326TR_Steps.html\n"
     ]
    },
    {
     "name": "stderr",
     "output_type": "stream",
     "text": [
      " 34%|███▎      | 6075/18004 [1:11:27<5:42:18,  1.72s/it]"
     ]
    },
    {
     "name": "stdout",
     "output_type": "stream",
     "text": [
      "Failed to parse URL at index 6074, URL: http://www.phlf.org/news/mediaclips/2005/20050326TR_Steps.html\n"
     ]
    },
    {
     "name": "stderr",
     "output_type": "stream",
     "text": [
      " 34%|███▍      | 6202/18004 [1:12:10<1:10:35,  2.79it/s]"
     ]
    },
    {
     "name": "stdout",
     "output_type": "stream",
     "text": [
      "Failed to parse URL at index 6201, URL: https://en.wikipedia.org/w/index.php?title=Pennsylvania_Institute_of_Health_and_Technology&action=edit&redlink=1\n"
     ]
    },
    {
     "name": "stderr",
     "output_type": "stream",
     "text": [
      " 34%|███▍      | 6203/18004 [1:12:10<1:25:42,  2.29it/s]"
     ]
    },
    {
     "name": "stdout",
     "output_type": "stream",
     "text": [
      "Failed to parse URL at index 6202, URL: https://en.wikipedia.org/w/index.php?title=Rosedale_Technical_Institute&action=edit&redlink=1\n"
     ]
    },
    {
     "name": "stderr",
     "output_type": "stream",
     "text": [
      " 34%|███▍      | 6204/18004 [1:12:11<1:30:37,  2.17it/s]"
     ]
    },
    {
     "name": "stdout",
     "output_type": "stream",
     "text": [
      "Failed to parse URL at index 6203, URL: https://en.wikipedia.org/w/index.php?title=Penn_Commercial_Business_and_Technical_School&action=edit&redlink=1\n"
     ]
    },
    {
     "name": "stderr",
     "output_type": "stream",
     "text": [
      " 34%|███▍      | 6205/18004 [1:12:11<1:33:10,  2.11it/s]"
     ]
    },
    {
     "name": "stdout",
     "output_type": "stream",
     "text": [
      "Failed to parse URL at index 6204, URL: https://en.wikipedia.org/w/index.php?title=Newport_Business_Institute&action=edit&redlink=1\n"
     ]
    },
    {
     "name": "stderr",
     "output_type": "stream",
     "text": [
      " 34%|███▍      | 6207/18004 [1:12:12<1:24:07,  2.34it/s]"
     ]
    },
    {
     "name": "stdout",
     "output_type": "stream",
     "text": [
      "Failed to parse URL at index 6206, URL: https://en.wikipedia.org/w/index.php?title=Laurel_Business_Institute&action=edit&redlink=1\n"
     ]
    },
    {
     "name": "stderr",
     "output_type": "stream",
     "text": [
      " 34%|███▍      | 6209/18004 [1:12:13<1:24:13,  2.33it/s]"
     ]
    },
    {
     "name": "stdout",
     "output_type": "stream",
     "text": [
      "Failed to parse URL at index 6208, URL: https://en.wikipedia.org/w/index.php?title=Erie_Business_Center&action=edit&redlink=1\n"
     ]
    },
    {
     "name": "stderr",
     "output_type": "stream",
     "text": [
      " 34%|███▍      | 6211/18004 [1:12:14<1:24:35,  2.32it/s]"
     ]
    },
    {
     "name": "stdout",
     "output_type": "stream",
     "text": [
      "Failed to parse URL at index 6210, URL: https://en.wikipedia.org/w/index.php?title=Dean_Institute_of_Technology&action=edit&redlink=1\n"
     ]
    },
    {
     "name": "stderr",
     "output_type": "stream",
     "text": [
      " 35%|███▍      | 6213/18004 [1:12:15<1:23:46,  2.35it/s]"
     ]
    },
    {
     "name": "stdout",
     "output_type": "stream",
     "text": [
      "Failed to parse URL at index 6212, URL: https://en.wikipedia.org/w/index.php?title=Cambria-Rowe_Business_College&action=edit&redlink=1\n"
     ]
    },
    {
     "name": "stderr",
     "output_type": "stream",
     "text": [
      " 35%|███▍      | 6214/18004 [1:12:15<1:36:08,  2.04it/s]"
     ]
    },
    {
     "name": "stdout",
     "output_type": "stream",
     "text": [
      "Failed to parse URL at index 6213, URL: https://en.wikipedia.org/w/index.php?title=Career_Training_Academy&action=edit&redlink=1\n"
     ]
    },
    {
     "name": "stderr",
     "output_type": "stream",
     "text": [
      " 35%|███▍      | 6220/18004 [1:12:18<1:35:01,  2.07it/s]"
     ]
    },
    {
     "name": "stdout",
     "output_type": "stream",
     "text": [
      "Failed to parse URL at index 6219, URL: https://en.wikipedia.org/w/index.php?title=American_Academy_of_Culinary_Arts_(AACA)&action=edit&redlink=1\n"
     ]
    },
    {
     "name": "stderr",
     "output_type": "stream",
     "text": [
      " 35%|███▍      | 6228/18004 [1:12:22<1:35:41,  2.05it/s]"
     ]
    },
    {
     "name": "stdout",
     "output_type": "stream",
     "text": [
      "Failed to parse URL at index 6227, URL: https://ptcollege.edu/programs/\n"
     ]
    },
    {
     "name": "stderr",
     "output_type": "stream",
     "text": [
      " 37%|███▋      | 6627/18004 [1:14:38<50:42,  3.74it/s]  "
     ]
    },
    {
     "name": "stdout",
     "output_type": "stream",
     "text": [
      "Failed to parse URL at index 6626, URL: http://www.princeton.edu/~davpro/databases/index.html\n"
     ]
    },
    {
     "name": "stderr",
     "output_type": "stream",
     "text": [
      " 37%|███▋      | 6631/18004 [1:14:42<3:00:21,  1.05it/s]"
     ]
    },
    {
     "name": "stdout",
     "output_type": "stream",
     "text": [
      "Failed to parse URL at index 6630, URL: https://archive.org/stream/americanalmanacr1832adam\n"
     ]
    },
    {
     "name": "stderr",
     "output_type": "stream",
     "text": [
      " 37%|███▋      | 6633/18004 [1:14:42<1:47:08,  1.77it/s]"
     ]
    },
    {
     "name": "stdout",
     "output_type": "stream",
     "text": [
      "Failed to parse URL at index 6632, URL: https://search.worldcat.org/oclc/4173355\n"
     ]
    },
    {
     "name": "stderr",
     "output_type": "stream",
     "text": [
      " 37%|███▋      | 6634/18004 [1:14:47<6:06:51,  1.94s/it]"
     ]
    },
    {
     "name": "stdout",
     "output_type": "stream",
     "text": [
      "Failed to parse URL at index 6633, URL: https://openlibrary.org/books/OL6905087M\n"
     ]
    },
    {
     "name": "stderr",
     "output_type": "stream",
     "text": [
      " 37%|███▋      | 6661/18004 [1:15:00<1:44:00,  1.82it/s]"
     ]
    },
    {
     "name": "stdout",
     "output_type": "stream",
     "text": [
      "Failed to parse URL at index 6660, URL: http://coloredconventions.org/conventions?by=year\n"
     ]
    },
    {
     "name": "stderr",
     "output_type": "stream",
     "text": [
      " 37%|███▋      | 6680/18004 [1:15:15<5:44:56,  1.83s/it]"
     ]
    },
    {
     "name": "stdout",
     "output_type": "stream",
     "text": [
      "Failed to parse URL at index 6679, URL: https://web.archive.org/web/20141129030336/http://blogs.piratesprospects.com/history/pittsburghs-first-minor-league-team/\n",
      "Failed to parse URL at index 6680, URL: http://blogs.piratesprospects.com/history/pittsburghs-first-minor-league-team/\n"
     ]
    },
    {
     "name": "stderr",
     "output_type": "stream",
     "text": [
      " 37%|███▋      | 6684/18004 [1:15:17<3:35:21,  1.14s/it]"
     ]
    },
    {
     "name": "stdout",
     "output_type": "stream",
     "text": [
      "Failed to parse URL at index 6683, URL: https://archive.org/details/oxfordcompaniont00paul_0\n"
     ]
    },
    {
     "name": "stderr",
     "output_type": "stream",
     "text": [
      " 37%|███▋      | 6685/18004 [1:15:20<4:47:26,  1.52s/it]"
     ]
    },
    {
     "name": "stdout",
     "output_type": "stream",
     "text": [
      "Failed to parse URL at index 6684, URL: https://archive.org/details/oxfordcompaniont00paul_0/page/405\n"
     ]
    },
    {
     "name": "stderr",
     "output_type": "stream",
     "text": [
      " 37%|███▋      | 6693/18004 [1:15:27<4:07:42,  1.31s/it]"
     ]
    },
    {
     "name": "stdout",
     "output_type": "stream",
     "text": [
      "Failed to parse URL at index 6691, URL: https://web.archive.org/web/20131006074350/http://www.heinzhistorycenter.org/secondary.aspx?id=216\n",
      "Failed to parse URL at index 6692, URL: http://www.heinzhistorycenter.org/secondary.aspx?id=216\n"
     ]
    },
    {
     "name": "stderr",
     "output_type": "stream",
     "text": [
      " 37%|███▋      | 6707/18004 [1:15:37<1:20:15,  2.35it/s]"
     ]
    },
    {
     "name": "stdout",
     "output_type": "stream",
     "text": [
      "Failed to parse URL at index 6706, URL: https://www.census.gov/statab/hist/HS-07.pdf\n"
     ]
    },
    {
     "name": "stderr",
     "output_type": "stream",
     "text": [
      " 37%|███▋      | 6729/18004 [1:15:47<2:11:20,  1.43it/s]"
     ]
    },
    {
     "name": "stdout",
     "output_type": "stream",
     "text": [
      "Failed to parse URL at index 6728, URL: http://pittsburghfoundation.org/history\n"
     ]
    },
    {
     "name": "stderr",
     "output_type": "stream",
     "text": [
      " 37%|███▋      | 6734/18004 [1:15:54<5:41:37,  1.82s/it]"
     ]
    },
    {
     "name": "stdout",
     "output_type": "stream",
     "text": [
      "Failed to parse URL at index 6733, URL: https://web.archive.org/web/20131004231626/http://www.newmuseum.org/spaces/listing/country:USA\n"
     ]
    },
    {
     "name": "stderr",
     "output_type": "stream",
     "text": [
      " 37%|███▋      | 6736/18004 [1:15:55<3:32:39,  1.13s/it]"
     ]
    },
    {
     "name": "stdout",
     "output_type": "stream",
     "text": [
      "Failed to parse URL at index 6735, URL: http://www.newmuseum.org/spaces/listing/country:USA\n"
     ]
    },
    {
     "name": "stderr",
     "output_type": "stream",
     "text": [
      " 37%|███▋      | 6741/18004 [1:15:58<2:15:38,  1.38it/s]"
     ]
    },
    {
     "name": "stdout",
     "output_type": "stream",
     "text": [
      "Failed to parse URL at index 6740, URL: http://pluralism.org/religion/timelines\n"
     ]
    },
    {
     "name": "stderr",
     "output_type": "stream",
     "text": [
      " 37%|███▋      | 6743/18004 [1:15:58<1:36:08,  1.95it/s]"
     ]
    },
    {
     "name": "stdout",
     "output_type": "stream",
     "text": [
      "Failed to parse URL at index 6742, URL: http://www.svtemple.org/CustomMenu.aspx?EE683979-F4D5-484d-B5ED-1B66C8175838=097dcfc4-88a7-43a9-8a0d-886c05230213&7DD70F2F-A2ED-4e2c-AC6C-6C92715C95B1=2\n"
     ]
    },
    {
     "name": "stderr",
     "output_type": "stream",
     "text": [
      " 37%|███▋      | 6745/18004 [1:16:04<5:41:31,  1.82s/it]"
     ]
    },
    {
     "name": "stdout",
     "output_type": "stream",
     "text": [
      "Failed to parse URL at index 6744, URL: https://web.archive.org/web/20131031003951/http://www.pittsburghfoodbank.org/about/history.aspx\n"
     ]
    },
    {
     "name": "stderr",
     "output_type": "stream",
     "text": [
      " 37%|███▋      | 6746/18004 [1:16:07<6:50:01,  2.19s/it]"
     ]
    },
    {
     "name": "stdout",
     "output_type": "stream",
     "text": [
      "Failed to parse URL at index 6745, URL: http://www.pittsburghfoodbank.org/about/history.aspx\n"
     ]
    },
    {
     "name": "stderr",
     "output_type": "stream",
     "text": [
      " 38%|███▊      | 6753/18004 [1:16:10<1:46:53,  1.75it/s]"
     ]
    },
    {
     "name": "stdout",
     "output_type": "stream",
     "text": [
      "Failed to parse URL at index 6753, URL: https://www.nytimes.com/1992/03/18/us/pittsburgh-transit-strike-makes-commuters-scramble.html\n"
     ]
    },
    {
     "name": "stderr",
     "output_type": "stream",
     "text": [
      " 38%|███▊      | 6755/18004 [1:16:10<1:25:19,  2.20it/s]"
     ]
    },
    {
     "name": "stdout",
     "output_type": "stream",
     "text": [
      "Failed to parse URL at index 6755, URL: https://www.nytimes.com/1992/07/16/us/new-talks-set-in-pittsburgh-newspaper-strike.html\n"
     ]
    },
    {
     "name": "stderr",
     "output_type": "stream",
     "text": [
      " 38%|███▊      | 6758/18004 [1:16:15<5:30:25,  1.76s/it]"
     ]
    },
    {
     "name": "stdout",
     "output_type": "stream",
     "text": [
      "Failed to parse URL at index 6757, URL: https://web.archive.org/web/19981202015845/http://www.city.pittsburgh.pa.us/\n",
      "Failed to parse URL at index 6758, URL: http://www.city.pittsburgh.pa.us/\n"
     ]
    },
    {
     "name": "stderr",
     "output_type": "stream",
     "text": [
      " 38%|███▊      | 6761/18004 [1:16:19<6:15:02,  2.00s/it]"
     ]
    },
    {
     "name": "stdout",
     "output_type": "stream",
     "text": [
      "Failed to parse URL at index 6760, URL: http://www.sustainablepittsburgh.org/whatisSP.html\n"
     ]
    },
    {
     "name": "stderr",
     "output_type": "stream",
     "text": [
      " 38%|███▊      | 6763/18004 [1:16:20<3:57:07,  1.27s/it]"
     ]
    },
    {
     "name": "stdout",
     "output_type": "stream",
     "text": [
      "Failed to parse URL at index 6762, URL: http://iheartpgh.com/about/\n"
     ]
    },
    {
     "name": "stderr",
     "output_type": "stream",
     "text": [
      " 38%|███▊      | 6774/18004 [1:16:30<4:04:31,  1.31s/it]"
     ]
    },
    {
     "name": "stdout",
     "output_type": "stream",
     "text": [
      "Failed to parse URL at index 6773, URL: https://archive.org/stream/westernaddressdi00lyfo#page/36/mode/2up\n"
     ]
    },
    {
     "name": "stderr",
     "output_type": "stream",
     "text": [
      " 38%|███▊      | 6775/18004 [1:16:32<5:08:44,  1.65s/it]"
     ]
    },
    {
     "name": "stdout",
     "output_type": "stream",
     "text": [
      "Failed to parse URL at index 6774, URL: https://archive.org/stream/harrisgeneralbus_01harr#page/n5/mode/2up\n"
     ]
    },
    {
     "name": "stderr",
     "output_type": "stream",
     "text": [
      " 38%|███▊      | 6776/18004 [1:16:34<4:56:21,  1.58s/it]"
     ]
    },
    {
     "name": "stdout",
     "output_type": "stream",
     "text": [
      "Failed to parse URL at index 6775, URL: https://archive.org/stream/harrissgeneralbu00harr#page/n5/mode/2up\n"
     ]
    },
    {
     "name": "stderr",
     "output_type": "stream",
     "text": [
      " 38%|███▊      | 6778/18004 [1:16:35<2:59:08,  1.04it/s]"
     ]
    },
    {
     "name": "stdout",
     "output_type": "stream",
     "text": [
      "Failed to parse URL at index 6778, URL: https://search.worldcat.org/oclc/2455241\n"
     ]
    },
    {
     "name": "stderr",
     "output_type": "stream",
     "text": [
      " 38%|███▊      | 6780/18004 [1:16:40<4:28:05,  1.43s/it]"
     ]
    },
    {
     "name": "stdout",
     "output_type": "stream",
     "text": [
      "Failed to parse URL at index 6779, URL: https://openlibrary.org/books/OL6905174M\n"
     ]
    },
    {
     "name": "stderr",
     "output_type": "stream",
     "text": [
      " 38%|███▊      | 6783/18004 [1:16:48<8:41:41,  2.79s/it]"
     ]
    },
    {
     "name": "stdout",
     "output_type": "stream",
     "text": [
      "Failed to parse URL at index 6782, URL: https://openlibrary.org/books/OL24590545M\n"
     ]
    },
    {
     "name": "stderr",
     "output_type": "stream",
     "text": [
      " 38%|███▊      | 6784/18004 [1:16:49<6:25:12,  2.06s/it]"
     ]
    },
    {
     "name": "stdout",
     "output_type": "stream",
     "text": [
      "Failed to parse URL at index 6783, URL: https://archive.org/stream/ballouspictorial1112ball#page/120/mode/2up\n"
     ]
    },
    {
     "name": "stderr",
     "output_type": "stream",
     "text": [
      " 38%|███▊      | 6788/18004 [1:16:50<2:11:38,  1.42it/s]"
     ]
    },
    {
     "name": "stdout",
     "output_type": "stream",
     "text": [
      "Failed to parse URL at index 6787, URL: https://archive.org/stream/manualofdatesdic00townrich#page/779/mode/1up\n"
     ]
    },
    {
     "name": "stderr",
     "output_type": "stream",
     "text": [
      " 38%|███▊      | 6790/18004 [1:16:58<7:29:52,  2.41s/it]"
     ]
    },
    {
     "name": "stdout",
     "output_type": "stream",
     "text": [
      "Failed to parse URL at index 6789, URL: https://openlibrary.org/books/OL24485655M\n"
     ]
    },
    {
     "name": "stderr",
     "output_type": "stream",
     "text": [
      " 38%|███▊      | 6791/18004 [1:16:58<5:35:15,  1.79s/it]"
     ]
    },
    {
     "name": "stdout",
     "output_type": "stream",
     "text": [
      "Failed to parse URL at index 6790, URL: https://archive.org/stream/jamessriverguide00jame#page/n95/mode/2up\n"
     ]
    },
    {
     "name": "stderr",
     "output_type": "stream",
     "text": [
      " 38%|███▊      | 6792/18004 [1:16:58<4:17:26,  1.38s/it]"
     ]
    },
    {
     "name": "stdout",
     "output_type": "stream",
     "text": [
      "Failed to parse URL at index 6791, URL: https://archive.org/stream/appletonsillustr00newy#page/76/mode/2up\n",
      "Failed to parse URL at index 6792, URL: https://search.worldcat.org/oclc/1395886\n"
     ]
    },
    {
     "name": "stderr",
     "output_type": "stream",
     "text": [
      " 38%|███▊      | 6794/18004 [1:17:03<5:21:50,  1.72s/it]"
     ]
    },
    {
     "name": "stdout",
     "output_type": "stream",
     "text": [
      "Failed to parse URL at index 6793, URL: https://openlibrary.org/books/OL6905177M\n",
      "Failed to parse URL at index 6794, URL: https://search.worldcat.org/oclc/11213848\n"
     ]
    },
    {
     "name": "stderr",
     "output_type": "stream",
     "text": [
      " 38%|███▊      | 6796/18004 [1:17:08<6:08:09,  1.97s/it]"
     ]
    },
    {
     "name": "stdout",
     "output_type": "stream",
     "text": [
      "Failed to parse URL at index 6795, URL: https://openlibrary.org/books/OL24653077M\n"
     ]
    },
    {
     "name": "stderr",
     "output_type": "stream",
     "text": [
      " 38%|███▊      | 6798/18004 [1:17:09<3:32:08,  1.14s/it]"
     ]
    },
    {
     "name": "stdout",
     "output_type": "stream",
     "text": [
      "Failed to parse URL at index 6797, URL: https://archive.org/stream/dictionaryofbook15sabi#page/156/mode/2up\n",
      "Failed to parse URL at index 6798, URL: https://search.worldcat.org/oclc/13972268\n",
      "Failed to parse URL at index 6799, URL: https://search.worldcat.org/oclc/21545881\n"
     ]
    },
    {
     "name": "stderr",
     "output_type": "stream",
     "text": [
      " 38%|███▊      | 6801/18004 [1:17:14<4:03:38,  1.30s/it]"
     ]
    },
    {
     "name": "stdout",
     "output_type": "stream",
     "text": [
      "Failed to parse URL at index 6800, URL: https://openlibrary.org/books/OL24149754M\n",
      "Failed to parse URL at index 6801, URL: https://search.worldcat.org/oclc/25607897\n"
     ]
    },
    {
     "name": "stderr",
     "output_type": "stream",
     "text": [
      " 38%|███▊      | 6803/18004 [1:17:19<5:12:35,  1.67s/it]"
     ]
    },
    {
     "name": "stdout",
     "output_type": "stream",
     "text": [
      "Failed to parse URL at index 6802, URL: https://openlibrary.org/books/OL24166650M\n"
     ]
    },
    {
     "name": "stderr",
     "output_type": "stream",
     "text": [
      " 38%|███▊      | 6804/18004 [1:17:22<5:54:56,  1.90s/it]"
     ]
    },
    {
     "name": "stdout",
     "output_type": "stream",
     "text": [
      "Failed to parse URL at index 6803, URL: https://archive.org/stream/historictownsmi00powegoog#page/n435/mode/2up\n"
     ]
    },
    {
     "name": "stderr",
     "output_type": "stream",
     "text": [
      " 38%|███▊      | 6805/18004 [1:17:22<4:29:14,  1.44s/it]"
     ]
    },
    {
     "name": "stdout",
     "output_type": "stream",
     "text": [
      "Failed to parse URL at index 6805, URL: https://search.worldcat.org/oclc/248109\n"
     ]
    },
    {
     "name": "stderr",
     "output_type": "stream",
     "text": [
      " 38%|███▊      | 6809/18004 [1:17:24<3:13:23,  1.04s/it]"
     ]
    },
    {
     "name": "stdout",
     "output_type": "stream",
     "text": [
      "Failed to parse URL at index 6808, URL: https://archive.org/stream/bibliographyofmu00broorich#page/226/mode/1up\n",
      "Failed to parse URL at index 6809, URL: https://search.worldcat.org/oclc/1855351\n"
     ]
    },
    {
     "name": "stderr",
     "output_type": "stream",
     "text": [
      " 38%|███▊      | 6815/18004 [1:17:29<4:12:20,  1.35s/it]"
     ]
    },
    {
     "name": "stdout",
     "output_type": "stream",
     "text": [
      "Failed to parse URL at index 6814, URL: https://archive.org/stream/shameofcities00stefuoft#page/146/mode/2up\n"
     ]
    },
    {
     "name": "stderr",
     "output_type": "stream",
     "text": [
      " 38%|███▊      | 6818/18004 [1:17:31<3:02:28,  1.02it/s]"
     ]
    },
    {
     "name": "stdout",
     "output_type": "stream",
     "text": [
      "Failed to parse URL at index 6817, URL: https://archive.org/stream/historypittsbur00killgoog#page/n14/mode/2up\n"
     ]
    },
    {
     "name": "stderr",
     "output_type": "stream",
     "text": [
      " 38%|███▊      | 6819/18004 [1:17:36<6:48:46,  2.19s/it]"
     ]
    },
    {
     "name": "stdout",
     "output_type": "stream",
     "text": [
      "Failed to parse URL at index 6818, URL: https://openlibrary.org/books/OL23285465M\n",
      "Failed to parse URL at index 6819, URL: https://search.worldcat.org/oclc/9034197\n"
     ]
    },
    {
     "name": "stderr",
     "output_type": "stream",
     "text": [
      " 38%|███▊      | 6821/18004 [1:17:41<7:08:08,  2.30s/it]"
     ]
    },
    {
     "name": "stdout",
     "output_type": "stream",
     "text": [
      "Failed to parse URL at index 6820, URL: https://openlibrary.org/books/OL23412848M\n",
      "Failed to parse URL at index 6821, URL: https://search.worldcat.org/oclc/21352097\n"
     ]
    },
    {
     "name": "stderr",
     "output_type": "stream",
     "text": [
      " 38%|███▊      | 6823/18004 [1:17:46<7:21:46,  2.37s/it]"
     ]
    },
    {
     "name": "stdout",
     "output_type": "stream",
     "text": [
      "Failed to parse URL at index 6822, URL: https://openlibrary.org/books/OL6666128M\n"
     ]
    },
    {
     "name": "stderr",
     "output_type": "stream",
     "text": [
      " 38%|███▊      | 6825/18004 [1:17:49<5:36:48,  1.81s/it]"
     ]
    },
    {
     "name": "stdout",
     "output_type": "stream",
     "text": [
      "Failed to parse URL at index 6823, URL: https://archive.org/stream/unitedstateswith00karl#page/n347/mode/2up\n",
      "Failed to parse URL at index 6824, URL: https://search.worldcat.org/oclc/02338437\n"
     ]
    },
    {
     "name": "stderr",
     "output_type": "stream",
     "text": [
      " 38%|███▊      | 6826/18004 [1:17:52<7:08:46,  2.30s/it]"
     ]
    },
    {
     "name": "stdout",
     "output_type": "stream",
     "text": [
      "Failed to parse URL at index 6825, URL: https://archive.org/stream/pittsburghsurvey01kelluoft#page/n11/mode/2up\n"
     ]
    },
    {
     "name": "stderr",
     "output_type": "stream",
     "text": [
      " 38%|███▊      | 6828/18004 [1:17:55<5:55:03,  1.91s/it]"
     ]
    },
    {
     "name": "stdout",
     "output_type": "stream",
     "text": [
      "Failed to parse URL at index 6827, URL: https://archive.org/stream/pittsburghsurvey02kelluoft#page/n9/mode/2up\n"
     ]
    },
    {
     "name": "stderr",
     "output_type": "stream",
     "text": [
      " 38%|███▊      | 6829/18004 [1:17:58<6:23:46,  2.06s/it]"
     ]
    },
    {
     "name": "stdout",
     "output_type": "stream",
     "text": [
      "Failed to parse URL at index 6828, URL: https://archive.org/stream/pittsburghsurvey03kelluoft#page/n7/mode/2up\n"
     ]
    },
    {
     "name": "stderr",
     "output_type": "stream",
     "text": [
      " 38%|███▊      | 6830/18004 [1:17:59<5:47:56,  1.87s/it]"
     ]
    },
    {
     "name": "stdout",
     "output_type": "stream",
     "text": [
      "Failed to parse URL at index 6829, URL: https://archive.org/stream/pittsburghsurvey04kelluoft#page/n7/mode/2up\n"
     ]
    },
    {
     "name": "stderr",
     "output_type": "stream",
     "text": [
      " 38%|███▊      | 6831/18004 [1:18:00<5:24:34,  1.74s/it]"
     ]
    },
    {
     "name": "stdout",
     "output_type": "stream",
     "text": [
      "Failed to parse URL at index 6830, URL: https://archive.org/stream/pittsburghsurvey05kelluoft#page/n7/mode/2up\n"
     ]
    },
    {
     "name": "stderr",
     "output_type": "stream",
     "text": [
      " 38%|███▊      | 6832/18004 [1:18:03<6:04:03,  1.96s/it]"
     ]
    },
    {
     "name": "stdout",
     "output_type": "stream",
     "text": [
      "Failed to parse URL at index 6831, URL: https://archive.org/stream/pittsburghsurvey06kelluoft#page/n5/mode/2up\n"
     ]
    },
    {
     "name": "stderr",
     "output_type": "stream",
     "text": [
      " 38%|███▊      | 6833/18004 [1:18:06<7:25:57,  2.40s/it]"
     ]
    },
    {
     "name": "stdout",
     "output_type": "stream",
     "text": [
      "Failed to parse URL at index 6832, URL: https://archive.org/stream/haydnsdictionary00hayd#page/1078/mode/1up\n"
     ]
    },
    {
     "name": "stderr",
     "output_type": "stream",
     "text": [
      " 38%|███▊      | 6838/18004 [1:18:12<4:50:45,  1.56s/it]"
     ]
    },
    {
     "name": "stdout",
     "output_type": "stream",
     "text": [
      "Failed to parse URL at index 6837, URL: https://archive.org/stream/personalityofame00hungrich#page/171/mode/1up\n",
      "Failed to parse URL at index 6838, URL: https://search.worldcat.org/oclc/7590447\n"
     ]
    },
    {
     "name": "stderr",
     "output_type": "stream",
     "text": [
      " 38%|███▊      | 6840/18004 [1:18:17<5:45:52,  1.86s/it]"
     ]
    },
    {
     "name": "stdout",
     "output_type": "stream",
     "text": [
      "Failed to parse URL at index 6839, URL: https://openlibrary.org/books/OL6587215M\n"
     ]
    },
    {
     "name": "stderr",
     "output_type": "stream",
     "text": [
      " 38%|███▊      | 6844/18004 [1:18:18<2:05:26,  1.48it/s]"
     ]
    },
    {
     "name": "stdout",
     "output_type": "stream",
     "text": [
      "Failed to parse URL at index 6843, URL: https://archive.org/stream/pittsburghpennsy00unse#page/20/mode/2up\n"
     ]
    },
    {
     "name": "stderr",
     "output_type": "stream",
     "text": [
      " 38%|███▊      | 6846/18004 [1:18:20<2:31:02,  1.23it/s]"
     ]
    },
    {
     "name": "stdout",
     "output_type": "stream",
     "text": [
      "Failed to parse URL at index 6845, URL: https://archive.org/details/bub_gb_iGROWogZLRkC\n"
     ]
    },
    {
     "name": "stderr",
     "output_type": "stream",
     "text": [
      " 38%|███▊      | 6851/18004 [1:18:27<5:57:47,  1.92s/it]"
     ]
    },
    {
     "name": "stdout",
     "output_type": "stream",
     "text": [
      "Failed to parse URL at index 6850, URL: https://openlibrary.org/books/OL6408386M\n"
     ]
    },
    {
     "name": "stderr",
     "output_type": "stream",
     "text": [
      " 38%|███▊      | 6855/18004 [1:18:33<6:54:16,  2.23s/it]"
     ]
    },
    {
     "name": "stdout",
     "output_type": "stream",
     "text": [
      "Failed to parse URL at index 6854, URL: https://archive.org/details/challenginggrowt0000ferm\n"
     ]
    },
    {
     "name": "stderr",
     "output_type": "stream",
     "text": [
      " 38%|███▊      | 6857/18004 [1:18:34<4:18:51,  1.39s/it]"
     ]
    },
    {
     "name": "stdout",
     "output_type": "stream",
     "text": [
      "Failed to parse URL at index 6856, URL: https://archive.org/stream/usa00lyon#page/n263/mode/2up\n"
     ]
    },
    {
     "name": "stderr",
     "output_type": "stream",
     "text": [
      " 38%|███▊      | 6860/18004 [1:18:41<6:55:21,  2.24s/it]"
     ]
    },
    {
     "name": "stdout",
     "output_type": "stream",
     "text": [
      "Failed to parse URL at index 6859, URL: https://openlibrary.org/books/OL19682441M\n"
     ]
    },
    {
     "name": "stderr",
     "output_type": "stream",
     "text": [
      " 38%|███▊      | 6866/18004 [1:18:49<6:37:27,  2.14s/it]"
     ]
    },
    {
     "name": "stdout",
     "output_type": "stream",
     "text": [
      "Failed to parse URL at index 6865, URL: https://web.archive.org/web/20160310002430/http://www.theatlantic.com/national/category/pittsburgh-pa/\n"
     ]
    },
    {
     "name": "stderr",
     "output_type": "stream",
     "text": [
      " 38%|███▊      | 6868/18004 [1:18:54<8:09:24,  2.64s/it]"
     ]
    },
    {
     "name": "stdout",
     "output_type": "stream",
     "text": [
      "Failed to parse URL at index 6867, URL: https://web.archive.org/web/20131015094732/http://www.clpgh.org/research/pittsburgh/\n"
     ]
    },
    {
     "name": "stderr",
     "output_type": "stream",
     "text": [
      " 38%|███▊      | 6872/18004 [1:19:01<7:23:39,  2.39s/it]"
     ]
    },
    {
     "name": "stdout",
     "output_type": "stream",
     "text": [
      "Failed to parse URL at index 6871, URL: https://web.archive.org/web/20130915122230/http://www.wqed.org/education/pghist/units/WPAhist/WPAhist_rsc.php\n"
     ]
    },
    {
     "name": "stderr",
     "output_type": "stream",
     "text": [
      " 38%|███▊      | 6873/18004 [1:19:03<6:59:14,  2.26s/it]"
     ]
    },
    {
     "name": "stdout",
     "output_type": "stream",
     "text": [
      "Failed to parse URL at index 6872, URL: http://www.wqed.org/education/pghist/units/WPAhist/WPAhist_rsc.php\n"
     ]
    },
    {
     "name": "stderr",
     "output_type": "stream",
     "text": [
      " 45%|████▍     | 8054/18004 [1:26:30<2:08:57,  1.29it/s] "
     ]
    },
    {
     "name": "stdout",
     "output_type": "stream",
     "text": [
      "Failed to parse URL at index 8053, URL: https://archive.today/20120717190058/http://www.allaboutjazz.com/php/news.php?id=47573\n"
     ]
    },
    {
     "name": "stderr",
     "output_type": "stream",
     "text": [
      " 45%|████▍     | 8057/18004 [1:26:31<1:30:52,  1.82it/s]"
     ]
    },
    {
     "name": "stdout",
     "output_type": "stream",
     "text": [
      "Failed to parse URL at index 8056, URL: https://www.proquest.com/docview/264219092\n"
     ]
    },
    {
     "name": "stderr",
     "output_type": "stream",
     "text": [
      " 45%|████▍     | 8061/18004 [1:26:33<1:08:21,  2.42it/s]"
     ]
    },
    {
     "name": "stdout",
     "output_type": "stream",
     "text": [
      "Failed to parse URL at index 8061, URL: https://www.nytimes.com/2010/06/16/arts/dance/16wolken.html\n"
     ]
    },
    {
     "name": "stderr",
     "output_type": "stream",
     "text": [
      " 45%|████▍     | 8064/18004 [1:26:34<57:10,  2.90it/s]  "
     ]
    },
    {
     "name": "stdout",
     "output_type": "stream",
     "text": [
      "Failed to parse URL at index 8063, URL: http://www.insidenorthside.com/james-michalopoulos-adventures-in-painting/\n"
     ]
    },
    {
     "name": "stderr",
     "output_type": "stream",
     "text": [
      " 45%|████▍     | 8070/18004 [1:26:37<1:57:39,  1.41it/s]"
     ]
    },
    {
     "name": "stdout",
     "output_type": "stream",
     "text": [
      "Failed to parse URL at index 8069, URL: https://archive.org/details/baseballencyclop00reic\n"
     ]
    },
    {
     "name": "stderr",
     "output_type": "stream",
     "text": [
      " 45%|████▍     | 8073/18004 [1:26:43<5:17:00,  1.92s/it]"
     ]
    },
    {
     "name": "stdout",
     "output_type": "stream",
     "text": [
      "Failed to parse URL at index 8072, URL: https://web.archive.org/web/20121023021500/http://www.databasefootball.com/players/playerpage.htm?ilkid=BULGEMAR01\n"
     ]
    },
    {
     "name": "stderr",
     "output_type": "stream",
     "text": [
      " 45%|████▍     | 8074/18004 [1:26:46<6:05:05,  2.21s/it]"
     ]
    },
    {
     "name": "stdout",
     "output_type": "stream",
     "text": [
      "Failed to parse URL at index 8073, URL: http://www.databasefootball.com/players/playerpage.htm?ilkid=BULGEMAR01\n"
     ]
    },
    {
     "name": "stderr",
     "output_type": "stream",
     "text": [
      " 45%|████▍     | 8076/18004 [1:26:47<3:20:39,  1.21s/it]"
     ]
    },
    {
     "name": "stdout",
     "output_type": "stream",
     "text": [
      "Failed to parse URL at index 8075, URL: https://swimswam.com/bio/allison-schmitt/\n"
     ]
    },
    {
     "name": "stderr",
     "output_type": "stream",
     "text": [
      " 45%|████▍     | 8079/18004 [1:26:52<5:39:50,  2.05s/it]"
     ]
    },
    {
     "name": "stdout",
     "output_type": "stream",
     "text": [
      "Failed to parse URL at index 8078, URL: https://web.archive.org/web/20110609055712/http://www.post-gazette.com/pg/11157/1151670-139.stm\n"
     ]
    },
    {
     "name": "stderr",
     "output_type": "stream",
     "text": [
      " 45%|████▍     | 8080/18004 [1:26:53<4:16:20,  1.55s/it]"
     ]
    },
    {
     "name": "stdout",
     "output_type": "stream",
     "text": [
      "Failed to parse URL at index 8079, URL: http://www.post-gazette.com/pg/11157/1151670-139.stm\n"
     ]
    },
    {
     "name": "stderr",
     "output_type": "stream",
     "text": [
      " 45%|████▍     | 8081/18004 [1:26:53<3:16:27,  1.19s/it]"
     ]
    },
    {
     "name": "stdout",
     "output_type": "stream",
     "text": [
      "Failed to parse URL at index 8081, URL: https://www.nytimes.com/2011/11/07/books/my-long-trip-home-by-mark-whitaker-review.html\n"
     ]
    },
    {
     "name": "stderr",
     "output_type": "stream",
     "text": [
      " 45%|████▍     | 8084/18004 [1:26:59<5:53:33,  2.14s/it]"
     ]
    },
    {
     "name": "stdout",
     "output_type": "stream",
     "text": [
      "Failed to parse URL at index 8083, URL: https://web.archive.org/web/20090123014305/http://adm.com/en-US/company/leadership/Pages/default.aspx\n"
     ]
    },
    {
     "name": "stderr",
     "output_type": "stream",
     "text": [
      " 45%|████▍     | 8085/18004 [1:26:59<4:43:30,  1.71s/it]"
     ]
    },
    {
     "name": "stdout",
     "output_type": "stream",
     "text": [
      "Failed to parse URL at index 8084, URL: http://www.adm.com/en-US/company/leadership/Pages/default.aspx\n"
     ]
    },
    {
     "name": "stderr",
     "output_type": "stream",
     "text": [
      " 45%|████▍     | 8091/18004 [1:27:07<3:04:42,  1.12s/it]"
     ]
    },
    {
     "name": "stdout",
     "output_type": "stream",
     "text": [
      "Failed to parse URL at index 8091, URL: https://www.nytimes.com/1999/05/20/us/jerome-wolken-82-scientist-who-gave-sight-to-some-blind.html\n"
     ]
    },
    {
     "name": "stderr",
     "output_type": "stream",
     "text": [
      " 45%|████▍     | 8094/18004 [1:27:09<2:55:09,  1.06s/it]"
     ]
    },
    {
     "name": "stdout",
     "output_type": "stream",
     "text": [
      "Failed to parse URL at index 8093, URL: http://www.nashuatelegraph.com/news/983569-469/nashua-guardsman-to-lead-ny-based-42nd-infantry.html\n"
     ]
    },
    {
     "name": "stderr",
     "output_type": "stream",
     "text": [
      " 45%|████▌     | 8138/18004 [1:27:27<1:09:18,  2.37it/s]"
     ]
    },
    {
     "name": "stdout",
     "output_type": "stream",
     "text": [
      "Failed to parse URL at index 8137, URL: https://www.jstor.org/action/doBasicSearch?Query=%22List+of+corporations+in+Pittsburgh%22&acc=on&wc=on\n"
     ]
    },
    {
     "name": "stderr",
     "output_type": "stream",
     "text": [
      " 45%|████▌     | 8146/18004 [1:27:30<1:00:45,  2.70it/s]"
     ]
    },
    {
     "name": "stdout",
     "output_type": "stream",
     "text": [
      "Failed to parse URL at index 8145, URL: https://en.wikipedia.org/w/index.php?title=L.B._Foster_Company&action=edit&redlink=1\n"
     ]
    },
    {
     "name": "stderr",
     "output_type": "stream",
     "text": [
      " 45%|████▌     | 8189/18004 [1:27:44<1:39:05,  1.65it/s]"
     ]
    },
    {
     "name": "stdout",
     "output_type": "stream",
     "text": [
      "Failed to parse URL at index 8188, URL: https://www.vectorsecurity.com/Company-Profile\n"
     ]
    },
    {
     "name": "stderr",
     "output_type": "stream",
     "text": [
      " 45%|████▌     | 8191/18004 [1:27:50<5:18:46,  1.95s/it]"
     ]
    },
    {
     "name": "stdout",
     "output_type": "stream",
     "text": [
      "Failed to parse URL at index 8190, URL: http://www.wexfordhealth.com/Contact-Us\n"
     ]
    },
    {
     "name": "stderr",
     "output_type": "stream",
     "text": [
      " 46%|████▌     | 8193/18004 [1:27:51<3:00:10,  1.10s/it]"
     ]
    },
    {
     "name": "stdout",
     "output_type": "stream",
     "text": [
      "Failed to parse URL at index 8192, URL: http://www.post-gazette.com/pg/09102/962006-28.stm\n"
     ]
    },
    {
     "name": "stderr",
     "output_type": "stream",
     "text": [
      " 46%|████▌     | 8211/18004 [1:28:13<5:45:58,  2.12s/it]"
     ]
    },
    {
     "name": "stdout",
     "output_type": "stream",
     "text": [
      "Failed to parse URL at index 8210, URL: https://www.inc.com/magazine/201902/leigh-buchanan/pittsburgh-pennsylvania-food-hall-accelerator-2018-surge-cities.html\n",
      "Failed to parse URL at index 8211, URL: https://www.fastcompany.com/90285175/how-americas-dying-rust-belt-town-can-transform-into-smart-cities-of-the-future\n"
     ]
    },
    {
     "name": "stderr",
     "output_type": "stream",
     "text": [
      " 46%|████▌     | 8215/18004 [1:28:20<6:32:07,  2.40s/it]"
     ]
    },
    {
     "name": "stdout",
     "output_type": "stream",
     "text": [
      "Failed to parse URL at index 8214, URL: https://www.usnews.com/best-colleges/rankings/computer-science-overall\n"
     ]
    },
    {
     "name": "stderr",
     "output_type": "stream",
     "text": [
      " 46%|████▌     | 8217/18004 [1:28:25<6:17:21,  2.31s/it]"
     ]
    },
    {
     "name": "stdout",
     "output_type": "stream",
     "text": [
      "Failed to parse URL at index 8215, URL: https://www.usnews.com/best-colleges/rankings/undergrad-research-programs\n"
     ]
    },
    {
     "name": "stderr",
     "output_type": "stream",
     "text": [
      " 46%|████▌     | 8218/18004 [1:28:30<8:30:58,  3.13s/it]"
     ]
    },
    {
     "name": "stdout",
     "output_type": "stream",
     "text": [
      "Failed to parse URL at index 8217, URL: https://www.usnews.com/best-graduate-schools/top-business-schools/information-systems-rankings\n"
     ]
    },
    {
     "name": "stderr",
     "output_type": "stream",
     "text": [
      " 46%|████▌     | 8219/18004 [1:28:35<10:05:57,  3.72s/it]"
     ]
    },
    {
     "name": "stdout",
     "output_type": "stream",
     "text": [
      "Failed to parse URL at index 8218, URL: https://www.usnews.com/best-colleges/rankings/national-universities/innovative\n"
     ]
    },
    {
     "name": "stderr",
     "output_type": "stream",
     "text": [
      " 46%|████▌     | 8228/18004 [1:28:40<1:27:27,  1.86it/s] "
     ]
    },
    {
     "name": "stdout",
     "output_type": "stream",
     "text": [
      "Failed to parse URL at index 8227, URL: http://www.heinz.cmu.edu/\n"
     ]
    },
    {
     "name": "stderr",
     "output_type": "stream",
     "text": [
      " 46%|████▌     | 8250/18004 [1:28:46<1:27:06,  1.87it/s]"
     ]
    },
    {
     "name": "stdout",
     "output_type": "stream",
     "text": [
      "Failed to parse URL at index 8249, URL: https://www.linkedin.com/company/carnegie-mellon-university\n"
     ]
    },
    {
     "name": "stderr",
     "output_type": "stream",
     "text": [
      " 46%|████▌     | 8270/18004 [1:28:51<17:54,  9.06it/s]  "
     ]
    },
    {
     "name": "stdout",
     "output_type": "stream",
     "text": [
      "Failed to parse URL at index 8266, URL: https://www.cmu.edu/visit/welcome-center.html\n"
     ]
    },
    {
     "name": "stderr",
     "output_type": "stream",
     "text": [
      " 48%|████▊     | 8690/18004 [1:31:34<58:32,  2.65it/s]  "
     ]
    },
    {
     "name": "stdout",
     "output_type": "stream",
     "text": [
      "Failed to parse URL at index 8689, URL: https://en.wikipedia.org/w/index.php?title=Carnegie_Mellon_Neuroscience_Institute&action=edit&redlink=1\n"
     ]
    },
    {
     "name": "stderr",
     "output_type": "stream",
     "text": [
      " 48%|████▊     | 8722/18004 [1:31:48<1:13:56,  2.09it/s]"
     ]
    },
    {
     "name": "stdout",
     "output_type": "stream",
     "text": [
      "Failed to parse URL at index 8721, URL: https://en.wikipedia.org/w/index.php?title=Athens_Information_Technology&action=edit&redlink=1\n"
     ]
    },
    {
     "name": "stderr",
     "output_type": "stream",
     "text": [
      " 49%|████▉     | 8810/18004 [1:32:25<54:53,  2.79it/s]  "
     ]
    },
    {
     "name": "stdout",
     "output_type": "stream",
     "text": [
      "Failed to parse URL at index 8809, URL: https://en.wikipedia.org/w/index.php?title=Carnegie_Mellon_University_Pre-College_Program&action=edit&redlink=1\n"
     ]
    },
    {
     "name": "stderr",
     "output_type": "stream",
     "text": [
      " 49%|████▉     | 8889/18004 [1:32:54<1:24:32,  1.80it/s]"
     ]
    },
    {
     "name": "stdout",
     "output_type": "stream",
     "text": [
      "Failed to parse URL at index 8888, URL: https://en.wikipedia.org/w/index.php?title=D._B._Russell&action=edit&redlink=1\n"
     ]
    },
    {
     "name": "stderr",
     "output_type": "stream",
     "text": [
      " 50%|█████     | 9045/18004 [1:33:50<1:01:28,  2.43it/s]"
     ]
    },
    {
     "name": "stdout",
     "output_type": "stream",
     "text": [
      "Failed to parse URL at index 9044, URL: https://en.wikipedia.org/w/index.php?title=Davey_Quinn&action=edit&redlink=1\n"
     ]
    },
    {
     "name": "stderr",
     "output_type": "stream",
     "text": [
      " 51%|█████     | 9098/18004 [1:34:08<55:15,  2.69it/s]  "
     ]
    },
    {
     "name": "stdout",
     "output_type": "stream",
     "text": [
      "Failed to parse URL at index 9097, URL: https://en.wikipedia.org/w/index.php?title=W.B._(Walter_Booser)_%22Chip%22_Detweiler&action=edit&redlink=1\n"
     ]
    },
    {
     "name": "stderr",
     "output_type": "stream",
     "text": [
      " 51%|█████     | 9205/18004 [1:35:07<7:37:24,  3.12s/it]"
     ]
    },
    {
     "name": "stdout",
     "output_type": "stream",
     "text": [
      "Failed to parse URL at index 9204, URL: https://web.archive.org/web/20230714122436/https://www.cmu.edu/ira/factbook/pdf/facts2016/history-and-organization.pdf\n"
     ]
    },
    {
     "name": "stderr",
     "output_type": "stream",
     "text": [
      " 51%|█████     | 9208/18004 [1:35:14<6:47:46,  2.78s/it]"
     ]
    },
    {
     "name": "stdout",
     "output_type": "stream",
     "text": [
      "Failed to parse URL at index 9207, URL: https://web.archive.org/web/20220104220132/https://www.cmu.edu/news/stories/archives/2021/november/endowment.html\n"
     ]
    },
    {
     "name": "stderr",
     "output_type": "stream",
     "text": [
      " 51%|█████     | 9211/18004 [1:35:39<16:27:32,  6.74s/it]"
     ]
    },
    {
     "name": "stdout",
     "output_type": "stream",
     "text": [
      "Failed to parse URL at index 9210, URL: https://web.archive.org/web/20230122153509/https://www.cmu.edu/assets/pdfs/cmu-fact-sheet.pdf\n"
     ]
    },
    {
     "name": "stderr",
     "output_type": "stream",
     "text": [
      " 51%|█████     | 9216/18004 [1:35:46<6:52:20,  2.82s/it] "
     ]
    },
    {
     "name": "stdout",
     "output_type": "stream",
     "text": [
      "Failed to parse URL at index 9215, URL: https://web.archive.org/web/20220104215517/https://www.cmu.edu/ira/Enrollment/index.html\n"
     ]
    },
    {
     "name": "stderr",
     "output_type": "stream",
     "text": [
      " 51%|█████     | 9220/18004 [1:36:20<20:16:56,  8.31s/it]"
     ]
    },
    {
     "name": "stdout",
     "output_type": "stream",
     "text": [
      "Failed to parse URL at index 9219, URL: https://web.archive.org/web/20220104214956/https://www.cmu.edu/annual-report-2021/assets/2020-2021-financial-report.pdf\n"
     ]
    },
    {
     "name": "stderr",
     "output_type": "stream",
     "text": [
      " 51%|█████     | 9223/18004 [1:36:27<11:20:31,  4.65s/it]"
     ]
    },
    {
     "name": "stdout",
     "output_type": "stream",
     "text": [
      "Failed to parse URL at index 9222, URL: https://web.archive.org/web/20211107194245/https://nces.ed.gov/collegenavigator/?q=carnegie&s=all&id=211440\n"
     ]
    },
    {
     "name": "stderr",
     "output_type": "stream",
     "text": [
      " 51%|█████     | 9226/18004 [1:36:32<7:49:24,  3.21s/it] "
     ]
    },
    {
     "name": "stdout",
     "output_type": "stream",
     "text": [
      "Failed to parse URL at index 9225, URL: https://web.archive.org/web/20210803043239/https://www.cmu.edu/brand/brand-guidelines/web.html\n"
     ]
    },
    {
     "name": "stderr",
     "output_type": "stream",
     "text": [
      " 51%|█████▏    | 9229/18004 [1:36:38<6:34:45,  2.70s/it]"
     ]
    },
    {
     "name": "stdout",
     "output_type": "stream",
     "text": [
      "Failed to parse URL at index 9228, URL: https://web.archive.org/web/20210803043240/https://www.cmu.edu/brand/brand-guidelines/visual-identity/colors.html\n"
     ]
    },
    {
     "name": "stderr",
     "output_type": "stream",
     "text": [
      " 51%|█████▏    | 9231/18004 [1:36:43<7:04:32,  2.90s/it]"
     ]
    },
    {
     "name": "stdout",
     "output_type": "stream",
     "text": [
      "Failed to parse URL at index 9230, URL: https://web.archive.org/web/20151013005359/http://coursecatalog.web.cmu.edu/servicesandoptions/departmentofathleticsandphysicaleducation/\n"
     ]
    },
    {
     "name": "stderr",
     "output_type": "stream",
     "text": [
      " 51%|█████▏    | 9234/18004 [1:36:49<6:28:17,  2.66s/it]"
     ]
    },
    {
     "name": "stdout",
     "output_type": "stream",
     "text": [
      "Failed to parse URL at index 9233, URL: https://web.archive.org/web/20090503022011/http://www.cmu.edu/mascot/\n"
     ]
    },
    {
     "name": "stderr",
     "output_type": "stream",
     "text": [
      " 51%|█████▏    | 9237/18004 [1:36:56<6:29:21,  2.66s/it]"
     ]
    },
    {
     "name": "stdout",
     "output_type": "stream",
     "text": [
      "Failed to parse URL at index 9236, URL: https://web.archive.org/web/20180903035237/https://www.cmu.edu/about/history.html\n"
     ]
    },
    {
     "name": "stderr",
     "output_type": "stream",
     "text": [
      " 51%|█████▏    | 9239/18004 [1:37:01<7:01:55,  2.89s/it]"
     ]
    },
    {
     "name": "stdout",
     "output_type": "stream",
     "text": [
      "Failed to parse URL at index 9238, URL: https://web.archive.org/web/20180904154033/https://www.cmu.edu/academics/\n"
     ]
    },
    {
     "name": "stderr",
     "output_type": "stream",
     "text": [
      " 51%|█████▏    | 9243/18004 [1:37:07<4:32:52,  1.87s/it]"
     ]
    },
    {
     "name": "stdout",
     "output_type": "stream",
     "text": [
      "Failed to parse URL at index 9242, URL: https://web.archive.org/web/20230315024857/https://www.cmu.edu/global/\n"
     ]
    },
    {
     "name": "stderr",
     "output_type": "stream",
     "text": [
      " 51%|█████▏    | 9246/18004 [1:37:12<5:28:00,  2.25s/it]"
     ]
    },
    {
     "name": "stdout",
     "output_type": "stream",
     "text": [
      "Failed to parse URL at index 9245, URL: https://web.archive.org/web/20220307193908/https://www.cmu.edu/ira/university-information/index.html\n"
     ]
    },
    {
     "name": "stderr",
     "output_type": "stream",
     "text": [
      " 51%|█████▏    | 9249/18004 [1:37:18<5:49:29,  2.40s/it]"
     ]
    },
    {
     "name": "stdout",
     "output_type": "stream",
     "text": [
      "Failed to parse URL at index 9248, URL: https://web.archive.org/web/20220628155931/https://www.cmu.edu/tepper/why-tepper/our-history.html\n"
     ]
    },
    {
     "name": "stderr",
     "output_type": "stream",
     "text": [
      " 51%|█████▏    | 9253/18004 [1:37:26<6:06:51,  2.52s/it]"
     ]
    },
    {
     "name": "stdout",
     "output_type": "stream",
     "text": [
      "Failed to parse URL at index 9252, URL: https://web.archive.org/web/20200727074230/https://carnegieclassifications.iu.edu/lookup/view_institution.php?unit_id=211440\n"
     ]
    },
    {
     "name": "stderr",
     "output_type": "stream",
     "text": [
      " 51%|█████▏    | 9256/18004 [1:37:31<5:58:09,  2.46s/it]"
     ]
    },
    {
     "name": "stdout",
     "output_type": "stream",
     "text": [
      "Failed to parse URL at index 9255, URL: https://web.archive.org/web/20230812031335/https://athletics.cmu.edu/landing/index\n"
     ]
    },
    {
     "name": "stderr",
     "output_type": "stream",
     "text": [
      " 51%|█████▏    | 9259/18004 [1:37:37<6:00:40,  2.47s/it]"
     ]
    },
    {
     "name": "stdout",
     "output_type": "stream",
     "text": [
      "Failed to parse URL at index 9258, URL: https://web.archive.org/web/20160909004709/http://www.cmu.edu/about/awards.html\n"
     ]
    },
    {
     "name": "stderr",
     "output_type": "stream",
     "text": [
      " 51%|█████▏    | 9262/18004 [1:37:44<6:38:04,  2.73s/it]"
     ]
    },
    {
     "name": "stdout",
     "output_type": "stream",
     "text": [
      "Failed to parse URL at index 9261, URL: https://web.archive.org/web/20210818230958/https://books.google.com/books?id=CTsXAAAAYAAJ&q=clifford%20b%20connelley&pg=PA1805\n"
     ]
    },
    {
     "name": "stderr",
     "output_type": "stream",
     "text": [
      " 51%|█████▏    | 9265/18004 [1:37:50<6:24:35,  2.64s/it]"
     ]
    },
    {
     "name": "stdout",
     "output_type": "stream",
     "text": [
      "Failed to parse URL at index 9264, URL: https://web.archive.org/web/20160512201902/https://news.google.com/newspapers?nid=2249&dat=19020116&id=zZ4-AAAAIBAJ&sjid=R1oMAAAAIBAJ&pg=3973,2142724\n"
     ]
    },
    {
     "name": "stderr",
     "output_type": "stream",
     "text": [
      " 51%|█████▏    | 9267/18004 [1:37:56<7:02:39,  2.90s/it]"
     ]
    },
    {
     "name": "stdout",
     "output_type": "stream",
     "text": [
      "Failed to parse URL at index 9266, URL: https://web.archive.org/web/20171114202539/https://www.acs.org/content/acs/en/education/whatischemistry/landmarks/mellon-institute.html\n"
     ]
    },
    {
     "name": "stderr",
     "output_type": "stream",
     "text": [
      " 51%|█████▏    | 9270/18004 [1:38:01<6:24:55,  2.64s/it]"
     ]
    },
    {
     "name": "stdout",
     "output_type": "stream",
     "text": [
      "Failed to parse URL at index 9269, URL: https://web.archive.org/web/20090221125329/http://www.carnegiemellontoday.com/article.asp?Aid=347\n",
      "Failed to parse URL at index 9270, URL: http://www.carnegiemellontoday.com/article.asp?Aid=347\n"
     ]
    },
    {
     "name": "stderr",
     "output_type": "stream",
     "text": [
      " 52%|█████▏    | 9273/18004 [1:38:02<3:23:57,  1.40s/it]"
     ]
    },
    {
     "name": "stdout",
     "output_type": "stream",
     "text": [
      "Failed to parse URL at index 9272, URL: http://old.post-gazette.com/healthscience/20010331cmuhealth2.asp\n"
     ]
    },
    {
     "name": "stderr",
     "output_type": "stream",
     "text": [
      " 52%|█████▏    | 9274/18004 [1:38:07<6:03:21,  2.50s/it]"
     ]
    },
    {
     "name": "stdout",
     "output_type": "stream",
     "text": [
      "Failed to parse URL at index 9273, URL: https://web.archive.org/web/20131004214223/http://old.post-gazette.com/healthscience/20010331cmuhealth2.asp\n"
     ]
    },
    {
     "name": "stderr",
     "output_type": "stream",
     "text": [
      " 52%|█████▏    | 9277/18004 [1:38:13<5:59:25,  2.47s/it]"
     ]
    },
    {
     "name": "stdout",
     "output_type": "stream",
     "text": [
      "Failed to parse URL at index 9276, URL: https://web.archive.org/web/20140326001925/http://www.post-gazette.com/local/city/2014/03/24/CMU-student-center-to-be-renamed-for-Cohon/stories/201403240210\n"
     ]
    },
    {
     "name": "stderr",
     "output_type": "stream",
     "text": [
      " 52%|█████▏    | 9280/18004 [1:38:18<5:59:59,  2.48s/it]"
     ]
    },
    {
     "name": "stdout",
     "output_type": "stream",
     "text": [
      "Failed to parse URL at index 9279, URL: https://web.archive.org/web/20210518005843/https://www.cmu.edu/environment/energy-water/energy-mix/index.html\n"
     ]
    },
    {
     "name": "stderr",
     "output_type": "stream",
     "text": [
      " 52%|█████▏    | 9283/18004 [1:38:25<6:32:52,  2.70s/it]"
     ]
    },
    {
     "name": "stdout",
     "output_type": "stream",
     "text": [
      "Failed to parse URL at index 9282, URL: https://web.archive.org/web/20220502163843/https://timesmachine.nytimes.com/timesmachine/1904/10/27/101400667.pdf?pdf_redirect=true&ip=0\n"
     ]
    },
    {
     "name": "stderr",
     "output_type": "stream",
     "text": [
      " 52%|█████▏    | 9285/18004 [1:38:31<7:03:55,  2.92s/it]"
     ]
    },
    {
     "name": "stdout",
     "output_type": "stream",
     "text": [
      "Failed to parse URL at index 9284, URL: https://web.archive.org/web/20080513212745/http://download.srv.cs.cmu.edu/~pausch/Randy/pauschlastlecturetranscript.pdf\n"
     ]
    },
    {
     "name": "stderr",
     "output_type": "stream",
     "text": [
      " 52%|█████▏    | 9286/18004 [1:38:34<7:08:23,  2.95s/it]"
     ]
    },
    {
     "name": "stdout",
     "output_type": "stream",
     "text": [
      "Failed to parse URL at index 9285, URL: http://download.srv.cs.cmu.edu/~pausch/Randy/pauschlastlecturetranscript.pdf\n"
     ]
    },
    {
     "name": "stderr",
     "output_type": "stream",
     "text": [
      " 52%|█████▏    | 9288/18004 [1:38:39<7:25:00,  3.06s/it]"
     ]
    },
    {
     "name": "stdout",
     "output_type": "stream",
     "text": [
      "Failed to parse URL at index 9287, URL: https://www.usnews.com/education/worlds-best-universities-rankings/top-400-universities-in-the-world?page=2\n"
     ]
    },
    {
     "name": "stderr",
     "output_type": "stream",
     "text": [
      " 52%|█████▏    | 9289/18004 [1:38:44<8:50:03,  3.65s/it]"
     ]
    },
    {
     "name": "stdout",
     "output_type": "stream",
     "text": [
      "Failed to parse URL at index 9288, URL: https://web.archive.org/web/20130906025126/http://www.usnews.com/education/worlds-best-universities-rankings/top-400-universities-in-the-world?page=2\n"
     ]
    },
    {
     "name": "stderr",
     "output_type": "stream",
     "text": [
      " 52%|█████▏    | 9292/18004 [1:38:51<7:26:13,  3.07s/it]"
     ]
    },
    {
     "name": "stdout",
     "output_type": "stream",
     "text": [
      "Failed to parse URL at index 9291, URL: https://web.archive.org/web/20120913192241/http://www.topuniversities.com/university-rankings/world-university-rankings/2012?page=1\n"
     ]
    },
    {
     "name": "stderr",
     "output_type": "stream",
     "text": [
      " 52%|█████▏    | 9294/18004 [1:38:56<7:29:48,  3.10s/it]"
     ]
    },
    {
     "name": "stdout",
     "output_type": "stream",
     "text": [
      "Failed to parse URL at index 9293, URL: https://web.archive.org/web/20090114015946/http://www.thetartan.org/2006/5/1/forum/thistles_and_thorns\n"
     ]
    },
    {
     "name": "stderr",
     "output_type": "stream",
     "text": [
      " 52%|█████▏    | 9297/18004 [1:39:03<6:44:38,  2.79s/it]"
     ]
    },
    {
     "name": "stdout",
     "output_type": "stream",
     "text": [
      "Failed to parse URL at index 9296, URL: https://web.archive.org/web/20110208021108/http://whenwillwemove.com/\n"
     ]
    },
    {
     "name": "stderr",
     "output_type": "stream",
     "text": [
      " 52%|█████▏    | 9300/18004 [1:39:12<7:52:06,  3.25s/it]"
     ]
    },
    {
     "name": "stdout",
     "output_type": "stream",
     "text": [
      "Failed to parse URL at index 9299, URL: https://web.archive.org/web/20080115134333/http://www.timeshighereducation.co.uk/hybrid.asp?typeCode=144\n"
     ]
    },
    {
     "name": "stderr",
     "output_type": "stream",
     "text": [
      " 52%|█████▏    | 9303/18004 [1:39:17<6:36:16,  2.73s/it]"
     ]
    },
    {
     "name": "stdout",
     "output_type": "stream",
     "text": [
      "Failed to parse URL at index 9302, URL: https://web.archive.org/web/20091130174202/http://www.cmu.edu/campaign/about/index.html\n"
     ]
    },
    {
     "name": "stderr",
     "output_type": "stream",
     "text": [
      " 52%|█████▏    | 9305/18004 [1:39:18<3:34:51,  1.48s/it]"
     ]
    },
    {
     "name": "stdout",
     "output_type": "stream",
     "text": [
      "Failed to parse URL at index 9304, URL: http://www.cmu.edu/dietrich/=2011-09-07\n"
     ]
    },
    {
     "name": "stderr",
     "output_type": "stream",
     "text": [
      " 52%|█████▏    | 9307/18004 [1:39:23<5:35:23,  2.31s/it]"
     ]
    },
    {
     "name": "stdout",
     "output_type": "stream",
     "text": [
      "Failed to parse URL at index 9306, URL: https://web.archive.org/web/20140625085908/http://www.cmu.edu/homepage/environment/2012/summer/new-energy-institute.shtml\n"
     ]
    },
    {
     "name": "stderr",
     "output_type": "stream",
     "text": [
      " 52%|█████▏    | 9311/18004 [1:39:29<4:14:02,  1.75s/it]"
     ]
    },
    {
     "name": "stdout",
     "output_type": "stream",
     "text": [
      "Failed to parse URL at index 9309, URL: https://web.archive.org/web/20131213203905/http://www.cmu.edu/homepage/society/2013/fall/heinz-endowment-gift.shtml\n"
     ]
    },
    {
     "name": "stderr",
     "output_type": "stream",
     "text": [
      " 52%|█████▏    | 9313/18004 [1:39:34<5:54:08,  2.44s/it]"
     ]
    },
    {
     "name": "stdout",
     "output_type": "stream",
     "text": [
      "Failed to parse URL at index 9312, URL: https://web.archive.org/web/20160320065709/http://www.cmu.edu/homepage/society/2013/fall/visionary-beginnings.shtml\n"
     ]
    },
    {
     "name": "stderr",
     "output_type": "stream",
     "text": [
      " 52%|█████▏    | 9317/18004 [1:39:41<5:26:00,  2.25s/it]"
     ]
    },
    {
     "name": "stdout",
     "output_type": "stream",
     "text": [
      "Failed to parse URL at index 9316, URL: https://web.archive.org/web/20150424191829/http://www.post-gazette.com/business/development/2015/04/22/CMU-carnegie-mellon-university-plans-hotel-retail-development-as-part-of-innovation-corridor-pittsburgh/stories/201504220154\n"
     ]
    },
    {
     "name": "stderr",
     "output_type": "stream",
     "text": [
      " 52%|█████▏    | 9320/18004 [1:39:47<6:10:38,  2.56s/it]"
     ]
    },
    {
     "name": "stdout",
     "output_type": "stream",
     "text": [
      "Failed to parse URL at index 9319, URL: https://web.archive.org/web/20220421081238/https://www.cmu.edu/news/stories/archives/2019/october/cmu-launches-make-possible-campaign.html\n"
     ]
    },
    {
     "name": "stderr",
     "output_type": "stream",
     "text": [
      " 52%|█████▏    | 9322/18004 [1:39:53<6:51:44,  2.85s/it]"
     ]
    },
    {
     "name": "stdout",
     "output_type": "stream",
     "text": [
      "Failed to parse URL at index 9321, URL: https://web.archive.org/web/20150828124653/http://www.cmu.edu/news/stories/archives/2015/august/historic-gift.html\n"
     ]
    },
    {
     "name": "stderr",
     "output_type": "stream",
     "text": [
      " 52%|█████▏    | 9326/18004 [1:40:00<6:03:23,  2.51s/it]"
     ]
    },
    {
     "name": "stdout",
     "output_type": "stream",
     "text": [
      "Failed to parse URL at index 9325, URL: https://web.archive.org/web/20220104235943/https://magazine.mcs.cmu.edu/2021-issue/building-for-the-future/\n"
     ]
    },
    {
     "name": "stderr",
     "output_type": "stream",
     "text": [
      " 52%|█████▏    | 9329/18004 [1:40:05<5:56:00,  2.46s/it]"
     ]
    },
    {
     "name": "stdout",
     "output_type": "stream",
     "text": [
      "Failed to parse URL at index 9328, URL: https://web.archive.org/web/20220106200409/https://www.cs.cmu.edu/news/2021/cmu-richard-king-mellon-foundation-announce-partnership-new-robotics-center-hazelwood-green\n"
     ]
    },
    {
     "name": "stderr",
     "output_type": "stream",
     "text": [
      " 52%|█████▏    | 9331/18004 [1:40:11<6:43:27,  2.79s/it]"
     ]
    },
    {
     "name": "stdout",
     "output_type": "stream",
     "text": [
      "Failed to parse URL at index 9330, URL: https://web.archive.org/web/20141215094152/http://www.cmu.edu/news/stories/archives/2013/february/feb5_ninthpresident.html\n"
     ]
    },
    {
     "name": "stderr",
     "output_type": "stream",
     "text": [
      " 52%|█████▏    | 9334/18004 [1:40:17<6:27:21,  2.68s/it]"
     ]
    },
    {
     "name": "stdout",
     "output_type": "stream",
     "text": [
      "Failed to parse URL at index 9333, URL: https://web.archive.org/web/20180904191814/https://www.cmu.edu/news/stories/archives/2017/june/leadership-transition.html\n"
     ]
    },
    {
     "name": "stderr",
     "output_type": "stream",
     "text": [
      " 52%|█████▏    | 9337/18004 [1:40:23<6:12:53,  2.58s/it]"
     ]
    },
    {
     "name": "stdout",
     "output_type": "stream",
     "text": [
      "Failed to parse URL at index 9336, URL: https://web.archive.org/web/20180321231959/https://www.cmu.edu/news/stories/archives/2018/march/president-named.html\n"
     ]
    },
    {
     "name": "stderr",
     "output_type": "stream",
     "text": [
      " 52%|█████▏    | 9341/18004 [1:40:30<5:33:39,  2.31s/it]"
     ]
    },
    {
     "name": "stdout",
     "output_type": "stream",
     "text": [
      "Failed to parse URL at index 9340, URL: https://web.archive.org/web/20240913231836/https://www.cmu.edu/bio/news/2023/1106_lanes-invest-25-million-computational-biology.html\n"
     ]
    },
    {
     "name": "stderr",
     "output_type": "stream",
     "text": [
      " 52%|█████▏    | 9344/18004 [1:40:35<5:46:40,  2.40s/it]"
     ]
    },
    {
     "name": "stdout",
     "output_type": "stream",
     "text": [
      "Failed to parse URL at index 9343, URL: https://web.archive.org/web/20240913231841/https://www.cmu.edu/mcs/news-events/2024/0412_carnegie-mellon-breaks-ground-for-richard-king-mellon-hall-of-sciences.html\n"
     ]
    },
    {
     "name": "stderr",
     "output_type": "stream",
     "text": [
      " 52%|█████▏    | 9349/18004 [1:40:41<5:25:09,  2.25s/it]"
     ]
    },
    {
     "name": "stdout",
     "output_type": "stream",
     "text": [
      "Failed to parse URL at index 9348, URL: https://www.usnews.com/best-colleges/rankings/national-universities\n"
     ]
    },
    {
     "name": "stderr",
     "output_type": "stream",
     "text": [
      " 52%|█████▏    | 9354/18004 [1:40:43<1:26:30,  1.67it/s]"
     ]
    },
    {
     "name": "stdout",
     "output_type": "stream",
     "text": [
      "Failed to parse URL at index 9353, URL: https://www.wsj.com/rankings/college-rankings/best-colleges-2025\n"
     ]
    },
    {
     "name": "stderr",
     "output_type": "stream",
     "text": [
      " 52%|█████▏    | 9361/18004 [1:40:50<4:15:10,  1.77s/it]"
     ]
    },
    {
     "name": "stdout",
     "output_type": "stream",
     "text": [
      "Failed to parse URL at index 9360, URL: https://www.usnews.com/education/best-global-universities/rankings\n"
     ]
    },
    {
     "name": "stderr",
     "output_type": "stream",
     "text": [
      " 52%|█████▏    | 9363/18004 [1:40:56<5:57:58,  2.49s/it]"
     ]
    },
    {
     "name": "stdout",
     "output_type": "stream",
     "text": [
      "Failed to parse URL at index 9362, URL: https://www.usnews.com/best-graduate-schools/carnegie-mellon-university-211440/overall-rankings\n"
     ]
    },
    {
     "name": "stderr",
     "output_type": "stream",
     "text": [
      " 52%|█████▏    | 9364/18004 [1:41:01<7:47:26,  3.25s/it]"
     ]
    },
    {
     "name": "stdout",
     "output_type": "stream",
     "text": [
      "Failed to parse URL at index 9363, URL: https://web.archive.org/web/20190515011618/https://www.usnews.com/best-graduate-schools/carnegie-mellon-university-211440/overall-rankings\n"
     ]
    },
    {
     "name": "stderr",
     "output_type": "stream",
     "text": [
      " 52%|█████▏    | 9366/18004 [1:41:06<7:36:08,  3.17s/it]"
     ]
    },
    {
     "name": "stdout",
     "output_type": "stream",
     "text": [
      "Failed to parse URL at index 9365, URL: https://web.archive.org/web/20191223135332/https://www.usnews.com/best-colleges/rankings/national-universities\n"
     ]
    },
    {
     "name": "stderr",
     "output_type": "stream",
     "text": [
      " 52%|█████▏    | 9369/18004 [1:41:12<6:46:05,  2.82s/it]"
     ]
    },
    {
     "name": "stdout",
     "output_type": "stream",
     "text": [
      "Failed to parse URL at index 9368, URL: https://web.archive.org/web/20220401162920/https://www.cmu.edu/news/stories/archives/2022/march/grad-rankings.html\n"
     ]
    },
    {
     "name": "stderr",
     "output_type": "stream",
     "text": [
      " 52%|█████▏    | 9371/18004 [1:41:18<7:18:32,  3.05s/it]"
     ]
    },
    {
     "name": "stdout",
     "output_type": "stream",
     "text": [
      "Failed to parse URL at index 9370, URL: https://www.usnews.com/best-graduate-schools/top-science-schools/computer-science-rankings\n"
     ]
    },
    {
     "name": "stderr",
     "output_type": "stream",
     "text": [
      " 52%|█████▏    | 9372/18004 [1:41:23<8:43:50,  3.64s/it]"
     ]
    },
    {
     "name": "stdout",
     "output_type": "stream",
     "text": [
      "Failed to parse URL at index 9371, URL: https://web.archive.org/web/20181126024755/https://www.usnews.com/best-graduate-schools/top-science-schools/computer-science-rankings\n"
     ]
    },
    {
     "name": "stderr",
     "output_type": "stream",
     "text": [
      " 52%|█████▏    | 9375/18004 [1:41:29<6:56:18,  2.89s/it]"
     ]
    },
    {
     "name": "stdout",
     "output_type": "stream",
     "text": [
      "Failed to parse URL at index 9374, URL: https://web.archive.org/web/20110714175956/http://www.newsweek.com/2006/08/20/25-new-ivies.html\n"
     ]
    },
    {
     "name": "stderr",
     "output_type": "stream",
     "text": [
      " 52%|█████▏    | 9376/18004 [1:41:29<5:12:23,  2.17s/it]"
     ]
    },
    {
     "name": "stdout",
     "output_type": "stream",
     "text": [
      "Failed to parse URL at index 9376, URL: https://www.wsj.com/articles/SB10001424052748704554104575435563989873060\n"
     ]
    },
    {
     "name": "stderr",
     "output_type": "stream",
     "text": [
      " 52%|█████▏    | 9378/18004 [1:41:34<5:27:59,  2.28s/it]"
     ]
    },
    {
     "name": "stdout",
     "output_type": "stream",
     "text": [
      "Failed to parse URL at index 9377, URL: https://web.archive.org/web/20141226023122/http://www.wsj.com/articles/SB10001424052748704554104575435563989873060\n"
     ]
    },
    {
     "name": "stderr",
     "output_type": "stream",
     "text": [
      " 52%|█████▏    | 9380/18004 [1:41:40<6:30:44,  2.72s/it]"
     ]
    },
    {
     "name": "stdout",
     "output_type": "stream",
     "text": [
      "Failed to parse URL at index 9379, URL: https://web.archive.org/web/20161223035559/http://www.payscale.com/college-salary-report/all-bachelors\n"
     ]
    },
    {
     "name": "stderr",
     "output_type": "stream",
     "text": [
      " 52%|█████▏    | 9384/18004 [1:41:46<5:41:54,  2.38s/it]"
     ]
    },
    {
     "name": "stdout",
     "output_type": "stream",
     "text": [
      "Failed to parse URL at index 9383, URL: https://web.archive.org/web/20190416170842/https://www.bloomberg.com/business-schools/2018/us/#ranking=0\n"
     ]
    },
    {
     "name": "stderr",
     "output_type": "stream",
     "text": [
      " 52%|█████▏    | 9387/18004 [1:41:53<6:34:56,  2.75s/it]"
     ]
    },
    {
     "name": "stdout",
     "output_type": "stream",
     "text": [
      "Failed to parse URL at index 9386, URL: https://web.archive.org/web/20160523122314/http://www.hollywoodreporter.com/lists/top-25-undergraduate-drama-schools-895399\n"
     ]
    },
    {
     "name": "stderr",
     "output_type": "stream",
     "text": [
      " 52%|█████▏    | 9390/18004 [1:42:00<6:47:12,  2.84s/it]"
     ]
    },
    {
     "name": "stdout",
     "output_type": "stream",
     "text": [
      "Failed to parse URL at index 9389, URL: https://web.archive.org/web/20150530002117/http://www.hollywoodreporter.com/news/25-best-drama-schools-a-797949\n"
     ]
    },
    {
     "name": "stderr",
     "output_type": "stream",
     "text": [
      " 52%|█████▏    | 9393/18004 [1:42:06<6:10:10,  2.58s/it]"
     ]
    },
    {
     "name": "stdout",
     "output_type": "stream",
     "text": [
      "Failed to parse URL at index 9392, URL: https://web.archive.org/web/20191210045214/https://www.timeshighereducation.com/world-university-rankings/2020/subject-ranking/social-sciences#!/page/0/length/25/sort_by/rank/sort_order/asc/cols/stats\n"
     ]
    },
    {
     "name": "stderr",
     "output_type": "stream",
     "text": [
      " 52%|█████▏    | 9396/18004 [1:42:12<6:22:37,  2.67s/it]"
     ]
    },
    {
     "name": "stdout",
     "output_type": "stream",
     "text": [
      "Failed to parse URL at index 9395, URL: https://web.archive.org/web/20191210045212/https://www.timeshighereducation.com/world-university-rankings/2020/subject-ranking/arts-and-humanities#!/page/0/length/25/sort_by/rank/sort_order/asc/cols/stats\n"
     ]
    },
    {
     "name": "stderr",
     "output_type": "stream",
     "text": [
      " 52%|█████▏    | 9398/18004 [1:42:18<6:57:00,  2.91s/it]"
     ]
    },
    {
     "name": "stdout",
     "output_type": "stream",
     "text": [
      "Failed to parse URL at index 9397, URL: https://web.archive.org/web/20191129070921/https://www.cmu.edu/about/rankings.html\n"
     ]
    },
    {
     "name": "stderr",
     "output_type": "stream",
     "text": [
      " 52%|█████▏    | 9401/18004 [1:42:22<4:54:04,  2.05s/it]"
     ]
    },
    {
     "name": "stdout",
     "output_type": "stream",
     "text": [
      "Failed to parse URL at index 9400, URL: http://www3.weforum.org/docs/GULF_Members_2015.pdf\n"
     ]
    },
    {
     "name": "stderr",
     "output_type": "stream",
     "text": [
      " 52%|█████▏    | 9402/18004 [1:42:27<7:01:21,  2.94s/it]"
     ]
    },
    {
     "name": "stdout",
     "output_type": "stream",
     "text": [
      "Failed to parse URL at index 9401, URL: https://web.archive.org/web/20150906000853/http://www3.weforum.org/docs/GULF_Members_2015.pdf\n"
     ]
    },
    {
     "name": "stderr",
     "output_type": "stream",
     "text": [
      " 52%|█████▏    | 9405/18004 [1:42:33<6:26:15,  2.70s/it]"
     ]
    },
    {
     "name": "stdout",
     "output_type": "stream",
     "text": [
      "Failed to parse URL at index 9404, URL: https://web.archive.org/web/20240916031055/https://www.cmu.edu/news/stories/archives/2023/august/cmu-president-jahanian-welcomes-the-class-of-2027\n"
     ]
    },
    {
     "name": "stderr",
     "output_type": "stream",
     "text": [
      " 52%|█████▏    | 9408/18004 [1:42:39<6:14:25,  2.61s/it]"
     ]
    },
    {
     "name": "stdout",
     "output_type": "stream",
     "text": [
      "Failed to parse URL at index 9407, URL: https://web.archive.org/web/20220822213618/https://www.cmu.edu/news/stories/archives/2022/august/presidents-welcome.html\n"
     ]
    },
    {
     "name": "stderr",
     "output_type": "stream",
     "text": [
      " 52%|█████▏    | 9410/18004 [1:42:39<3:23:46,  1.42s/it]"
     ]
    },
    {
     "name": "stdout",
     "output_type": "stream",
     "text": [
      "Failed to parse URL at index 9409, URL: https://www.cmu.edu/ira/undergraduate-admission/pdfs/2021-pdfs/fall-2021-first-year-cohort-admission-rates.pdf\n"
     ]
    },
    {
     "name": "stderr",
     "output_type": "stream",
     "text": [
      " 52%|█████▏    | 9411/18004 [1:42:44<5:58:04,  2.50s/it]"
     ]
    },
    {
     "name": "stdout",
     "output_type": "stream",
     "text": [
      "Failed to parse URL at index 9410, URL: https://web.archive.org/web/20211204055522/https://www.cmu.edu/ira/undergraduate-admission/pdfs/2021-pdfs/fall-2021-first-year-cohort-admission-rates.pdf\n"
     ]
    },
    {
     "name": "stderr",
     "output_type": "stream",
     "text": [
      " 52%|█████▏    | 9414/18004 [1:42:50<5:51:41,  2.46s/it]"
     ]
    },
    {
     "name": "stdout",
     "output_type": "stream",
     "text": [
      "Failed to parse URL at index 9413, URL: https://web.archive.org/web/20220120073814/https://www.cmu.edu/ira/CDS/cds_2021.html\n"
     ]
    },
    {
     "name": "stderr",
     "output_type": "stream",
     "text": [
      " 52%|█████▏    | 9417/18004 [1:42:56<5:50:35,  2.45s/it]"
     ]
    },
    {
     "name": "stdout",
     "output_type": "stream",
     "text": [
      "Failed to parse URL at index 9416, URL: https://web.archive.org/web/20201112010943/https://www.cmu.edu/ira/CDS/cds_1920.html\n"
     ]
    },
    {
     "name": "stderr",
     "output_type": "stream",
     "text": [
      " 52%|█████▏    | 9420/18004 [1:43:01<5:49:53,  2.45s/it]"
     ]
    },
    {
     "name": "stdout",
     "output_type": "stream",
     "text": [
      "Failed to parse URL at index 9419, URL: https://web.archive.org/web/20201111193631/https://www.cmu.edu/ira/CDS/cds_1819.html\n"
     ]
    },
    {
     "name": "stderr",
     "output_type": "stream",
     "text": [
      " 52%|█████▏    | 9423/18004 [1:43:07<5:51:41,  2.46s/it]"
     ]
    },
    {
     "name": "stdout",
     "output_type": "stream",
     "text": [
      "Failed to parse URL at index 9422, URL: https://web.archive.org/web/20181011030730/https://www.cmu.edu/ira/CDS/cds_1718.html\n"
     ]
    },
    {
     "name": "stderr",
     "output_type": "stream",
     "text": [
      " 52%|█████▏    | 9426/18004 [1:43:13<5:50:44,  2.45s/it]"
     ]
    },
    {
     "name": "stdout",
     "output_type": "stream",
     "text": [
      "Failed to parse URL at index 9425, URL: https://web.archive.org/web/20210518050527/https://www.cmu.edu/ira/CDS/cds_1617.html\n"
     ]
    },
    {
     "name": "stderr",
     "output_type": "stream",
     "text": [
      " 52%|█████▏    | 9428/18004 [1:43:18<6:45:24,  2.84s/it]"
     ]
    },
    {
     "name": "stdout",
     "output_type": "stream",
     "text": [
      "Failed to parse URL at index 9427, URL: https://www.usnews.com/best-colleges/carnegie-mellon-university-3242\n"
     ]
    },
    {
     "name": "stderr",
     "output_type": "stream",
     "text": [
      " 52%|█████▏    | 9429/18004 [1:43:23<8:20:11,  3.50s/it]"
     ]
    },
    {
     "name": "stdout",
     "output_type": "stream",
     "text": [
      "Failed to parse URL at index 9428, URL: https://web.archive.org/web/20170227032311/https://www.usnews.com/best-colleges/carnegie-mellon-university-3242\n"
     ]
    },
    {
     "name": "stderr",
     "output_type": "stream",
     "text": [
      " 52%|█████▏    | 9432/18004 [1:43:29<6:42:16,  2.82s/it]"
     ]
    },
    {
     "name": "stdout",
     "output_type": "stream",
     "text": [
      "Failed to parse URL at index 9431, URL: https://web.archive.org/web/20220104215002/https://www.cmu.edu/ira/undergraduate-admission/index.html\n"
     ]
    },
    {
     "name": "stderr",
     "output_type": "stream",
     "text": [
      " 52%|█████▏    | 9436/18004 [1:43:35<5:37:17,  2.36s/it]"
     ]
    },
    {
     "name": "stdout",
     "output_type": "stream",
     "text": [
      "Failed to parse URL at index 9435, URL: https://web.archive.org/web/20191212200356/https://admission.enrollment.cmu.edu/media/W1siZiIsIjIwMTkvMTEvMjAvNjVmbnBxOTlvc19BRE1fMjBfMDc3X0dlbmVyYWxfRmFjdF9TaGVldF8wNF9Gb3JXZWIucGRmIl1d/ADM-20-077_General_Fact_Sheet_04_ForWeb.pdf\n"
     ]
    },
    {
     "name": "stderr",
     "output_type": "stream",
     "text": [
      " 52%|█████▏    | 9437/18004 [1:43:35<4:05:40,  1.72s/it]"
     ]
    },
    {
     "name": "stdout",
     "output_type": "stream",
     "text": [
      "Failed to parse URL at index 9436, URL: https://admission.enrollment.cmu.edu/media/W1siZiIsIjIwMTkvMTEvMjAvNjVmbnBxOTlvc19BRE1fMjBfMDc3X0dlbmVyYWxfRmFjdF9TaGVldF8wNF9Gb3JXZWIucGRmIl1d/ADM-20-077_General_Fact_Sheet_04_ForWeb.pdf\n"
     ]
    },
    {
     "name": "stderr",
     "output_type": "stream",
     "text": [
      " 52%|█████▏    | 9439/18004 [1:43:36<2:20:48,  1.01it/s]"
     ]
    },
    {
     "name": "stdout",
     "output_type": "stream",
     "text": [
      "Failed to parse URL at index 9438, URL: https://www.cmu.edu/ira/undergraduate-admission/pdfs/2021-pdfs/fall-2021-first-year-cohort-by-college-and-racecitizenship.pdf\n"
     ]
    },
    {
     "name": "stderr",
     "output_type": "stream",
     "text": [
      " 52%|█████▏    | 9440/18004 [1:43:41<5:13:29,  2.20s/it]"
     ]
    },
    {
     "name": "stdout",
     "output_type": "stream",
     "text": [
      "Failed to parse URL at index 9439, URL: https://web.archive.org/web/20220104215001/https://www.cmu.edu/ira/undergraduate-admission/pdfs/2021-pdfs/fall-2021-first-year-cohort-by-college-and-racecitizenship.pdf\n"
     ]
    },
    {
     "name": "stderr",
     "output_type": "stream",
     "text": [
      " 52%|█████▏    | 9443/18004 [1:43:47<5:37:19,  2.36s/it]"
     ]
    },
    {
     "name": "stdout",
     "output_type": "stream",
     "text": [
      "Failed to parse URL at index 9442, URL: https://web.archive.org/web/20230105031345/https://www.cmu.edu/ira/CDS/cds_2122.html\n"
     ]
    },
    {
     "name": "stderr",
     "output_type": "stream",
     "text": [
      " 52%|█████▏    | 9446/18004 [1:43:53<6:09:02,  2.59s/it]"
     ]
    },
    {
     "name": "stdout",
     "output_type": "stream",
     "text": [
      "Failed to parse URL at index 9445, URL: https://web.archive.org/web/20210118011556/https://admission.enrollment.cmu.edu/pages/financial-aid\n"
     ]
    },
    {
     "name": "stderr",
     "output_type": "stream",
     "text": [
      " 52%|█████▏    | 9449/18004 [1:44:00<6:16:12,  2.64s/it]"
     ]
    },
    {
     "name": "stdout",
     "output_type": "stream",
     "text": [
      "Failed to parse URL at index 9448, URL: https://web.archive.org/web/20240913231726/https://www.cmu.edu/sfs/tuition/undergraduate/index.html\n"
     ]
    },
    {
     "name": "stderr",
     "output_type": "stream",
     "text": [
      " 52%|█████▏    | 9452/18004 [1:44:06<6:16:33,  2.64s/it]"
     ]
    },
    {
     "name": "stdout",
     "output_type": "stream",
     "text": [
      "Failed to parse URL at index 9451, URL: https://web.archive.org/web/20220731121956/https://ncsesdata.nsf.gov/profiles/site?method=report&tin=U0548001&id=h3\n"
     ]
    },
    {
     "name": "stderr",
     "output_type": "stream",
     "text": [
      " 53%|█████▎    | 9455/18004 [1:44:12<6:07:21,  2.58s/it]"
     ]
    },
    {
     "name": "stdout",
     "output_type": "stream",
     "text": [
      "Failed to parse URL at index 9454, URL: https://web.archive.org/web/20160505112825/https://news.google.com/newspapers?id=PNVRAAAAIBAJ&sjid=320DAAAAIBAJ&pg=1637,7096194\n"
     ]
    },
    {
     "name": "stderr",
     "output_type": "stream",
     "text": [
      " 53%|█████▎    | 9457/18004 [1:44:17<6:46:13,  2.85s/it]"
     ]
    },
    {
     "name": "stdout",
     "output_type": "stream",
     "text": [
      "Failed to parse URL at index 9456, URL: https://web.archive.org/web/20080208171920/http://www.psc.edu/\n"
     ]
    },
    {
     "name": "stderr",
     "output_type": "stream",
     "text": [
      " 53%|█████▎    | 9460/18004 [1:44:19<3:14:26,  1.37s/it]"
     ]
    },
    {
     "name": "stdout",
     "output_type": "stream",
     "text": [
      "Failed to parse URL at index 9459, URL: https://www.bizjournals.com/pittsburgh/news/2018/02/27/professor-to-lead-new-neuroscience-institute-at.html\n"
     ]
    },
    {
     "name": "stderr",
     "output_type": "stream",
     "text": [
      " 53%|█████▎    | 9461/18004 [1:44:24<5:50:44,  2.46s/it]"
     ]
    },
    {
     "name": "stdout",
     "output_type": "stream",
     "text": [
      "Failed to parse URL at index 9460, URL: https://web.archive.org/web/20240913231726/https://www.bizjournals.com/pittsburgh/news/2018/02/27/professor-to-lead-new-neuroscience-institute-at.html\n"
     ]
    },
    {
     "name": "stderr",
     "output_type": "stream",
     "text": [
      " 53%|█████▎    | 9464/18004 [1:44:31<6:35:25,  2.78s/it]"
     ]
    },
    {
     "name": "stdout",
     "output_type": "stream",
     "text": [
      "Failed to parse URL at index 9463, URL: https://web.archive.org/web/20240913231750/https://www.technologynetworks.com/neuroscience/news/barbara-shinn-cunningham-to-lead-carnegie-mellons-new-neuroscience-institute-298061\n"
     ]
    },
    {
     "name": "stderr",
     "output_type": "stream",
     "text": [
      " 53%|█████▎    | 9469/18004 [1:44:39<5:39:20,  2.39s/it]"
     ]
    },
    {
     "name": "stdout",
     "output_type": "stream",
     "text": [
      "Failed to parse URL at index 9468, URL: https://web.archive.org/web/20170331145926/http://philanthropynewsdigest.org/news/carnegie-mellon-launches-75-million-brain-research-initiative\n"
     ]
    },
    {
     "name": "stderr",
     "output_type": "stream",
     "text": [
      " 53%|█████▎    | 9472/18004 [1:44:47<6:32:44,  2.76s/it]"
     ]
    },
    {
     "name": "stdout",
     "output_type": "stream",
     "text": [
      "Failed to parse URL at index 9471, URL: https://web.archive.org/web/20240913231727/https://www.wesa.fm/science-health-tech/2017-07-03/cmu-researchers-are-teaching-computers-to-read-minds\n"
     ]
    },
    {
     "name": "stderr",
     "output_type": "stream",
     "text": [
      " 53%|█████▎    | 9475/18004 [1:44:53<6:10:05,  2.60s/it]"
     ]
    },
    {
     "name": "stdout",
     "output_type": "stream",
     "text": [
      "Failed to parse URL at index 9474, URL: https://web.archive.org/web/20240913231728/https://www.freethink.com/health/stentrode\n"
     ]
    },
    {
     "name": "stderr",
     "output_type": "stream",
     "text": [
      " 53%|█████▎    | 9478/18004 [1:44:59<6:09:20,  2.60s/it]"
     ]
    },
    {
     "name": "stdout",
     "output_type": "stream",
     "text": [
      "Failed to parse URL at index 9477, URL: https://web.archive.org/web/20240913231728/https://www.neurotechreports.com/pages/Cell-targeted-DBS.html\n"
     ]
    },
    {
     "name": "stderr",
     "output_type": "stream",
     "text": [
      " 53%|█████▎    | 9485/18004 [1:45:07<4:50:40,  2.05s/it]"
     ]
    },
    {
     "name": "stdout",
     "output_type": "stream",
     "text": [
      "Failed to parse URL at index 9484, URL: https://web.archive.org/web/20230816201136/https://nida.nih.gov/research/research-training-career-development/extramural-research-training-career-development/blueprint-research-training-sites-computational\n"
     ]
    },
    {
     "name": "stderr",
     "output_type": "stream",
     "text": [
      " 53%|█████▎    | 9488/18004 [1:45:12<5:32:23,  2.34s/it]"
     ]
    },
    {
     "name": "stdout",
     "output_type": "stream",
     "text": [
      "Failed to parse URL at index 9487, URL: https://web.archive.org/web/20240913232255/https://reporter.nih.gov/search/avNbxToFkE-Zu0NQ43X7YQ/project-details/10411631#similar-Projects\n"
     ]
    },
    {
     "name": "stderr",
     "output_type": "stream",
     "text": [
      " 53%|█████▎    | 9491/18004 [1:45:19<6:13:47,  2.63s/it]"
     ]
    },
    {
     "name": "stdout",
     "output_type": "stream",
     "text": [
      "Failed to parse URL at index 9490, URL: https://web.archive.org/web/20221206145945/https://www.rkmf.org/news_posts/carnegie-mellon-richard-king-mellon-foundation-announce-historic-partnership-to-accelerate-cmu-s-science-and-technology-leadership-and-the-transformation-of-hazelwood-green\n"
     ]
    },
    {
     "name": "stderr",
     "output_type": "stream",
     "text": [
      " 53%|█████▎    | 9494/18004 [1:45:25<6:11:28,  2.62s/it]"
     ]
    },
    {
     "name": "stdout",
     "output_type": "stream",
     "text": [
      "Failed to parse URL at index 9493, URL: https://web.archive.org/web/20240913232323/https://philanthropynewsdigest.org/news/carnegie-mellon-awarded-10-million-for-science-building-neuroscience\n"
     ]
    },
    {
     "name": "stderr",
     "output_type": "stream",
     "text": [
      " 53%|█████▎    | 9497/18004 [1:45:36<8:41:18,  3.68s/it]"
     ]
    },
    {
     "name": "stdout",
     "output_type": "stream",
     "text": [
      "Failed to parse URL at index 9496, URL: https://web.archive.org/web/20240913232253/https://www.pittsburghlifesci.org/\n"
     ]
    },
    {
     "name": "stderr",
     "output_type": "stream",
     "text": [
      " 53%|█████▎    | 9500/18004 [1:45:43<7:19:57,  3.10s/it]"
     ]
    },
    {
     "name": "stdout",
     "output_type": "stream",
     "text": [
      "Failed to parse URL at index 9499, URL: https://web.archive.org/web/20240913232402/https://www.myscience.org/news/wire/three_new_trustees_elected_to_cmu_board-2021-cmu\n"
     ]
    },
    {
     "name": "stderr",
     "output_type": "stream",
     "text": [
      " 53%|█████▎    | 9503/18004 [1:45:50<7:02:20,  2.98s/it]"
     ]
    },
    {
     "name": "stdout",
     "output_type": "stream",
     "text": [
      "Failed to parse URL at index 9502, URL: https://web.archive.org/web/20240913232327/https://app.scientist.com/providers/carnegie-mellon-university-center-for-the-neural-basis-of-cognition-cnbc\n"
     ]
    },
    {
     "name": "stderr",
     "output_type": "stream",
     "text": [
      " 53%|█████▎    | 9508/18004 [1:45:57<5:08:46,  2.18s/it]"
     ]
    },
    {
     "name": "stdout",
     "output_type": "stream",
     "text": [
      "Failed to parse URL at index 9507, URL: https://web.archive.org/web/20161020172805/http://www.cs.cmu.edu/news/carnegie-mellon-lunar-rover-wows-xprize-judges-wins-first-milestone-prize-development-toward-flight-readiness\n"
     ]
    },
    {
     "name": "stderr",
     "output_type": "stream",
     "text": [
      " 53%|█████▎    | 9511/18004 [1:46:03<5:45:21,  2.44s/it]"
     ]
    },
    {
     "name": "stdout",
     "output_type": "stream",
     "text": [
      "Failed to parse URL at index 9510, URL: https://web.archive.org/web/20071024045523/http://www.ri.cmu.edu/\n"
     ]
    },
    {
     "name": "stderr",
     "output_type": "stream",
     "text": [
      " 53%|█████▎    | 9520/18004 [1:46:12<4:32:20,  1.93s/it]"
     ]
    },
    {
     "name": "stdout",
     "output_type": "stream",
     "text": [
      "Failed to parse URL at index 9519, URL: https://web.archive.org/web/20091203001849/http://www.sei.cmu.edu/\n"
     ]
    },
    {
     "name": "stderr",
     "output_type": "stream",
     "text": [
      " 53%|█████▎    | 9522/18004 [1:46:17<5:59:39,  2.54s/it]"
     ]
    },
    {
     "name": "stdout",
     "output_type": "stream",
     "text": [
      "Failed to parse URL at index 9521, URL: https://web.archive.org/web/20080509093930/http://www.hcii.cmu.edu/\n"
     ]
    },
    {
     "name": "stderr",
     "output_type": "stream",
     "text": [
      " 53%|█████▎    | 9525/18004 [1:46:23<5:58:46,  2.54s/it]"
     ]
    },
    {
     "name": "stdout",
     "output_type": "stream",
     "text": [
      "Failed to parse URL at index 9524, URL: https://web.archive.org/web/20081216045852/http://www.lti.cs.cmu.edu/\n"
     ]
    },
    {
     "name": "stderr",
     "output_type": "stream",
     "text": [
      " 53%|█████▎    | 9529/18004 [1:46:29<5:22:35,  2.28s/it]"
     ]
    },
    {
     "name": "stdout",
     "output_type": "stream",
     "text": [
      "Failed to parse URL at index 9528, URL: https://web.archive.org/web/20140622171841/http://www.cs.cmu.edu/~claytronics/\n"
     ]
    },
    {
     "name": "stderr",
     "output_type": "stream",
     "text": [
      " 53%|█████▎    | 9532/18004 [1:46:35<5:47:08,  2.46s/it]"
     ]
    },
    {
     "name": "stdout",
     "output_type": "stream",
     "text": [
      "Failed to parse URL at index 9531, URL: https://www.washingtonpost.com/local/education/in-qatars-education-city-us-colleges-are-building-an-academic-oasis/2015/12/06/6b538702-8e01-11e5-ae1f-af46b7df8483_story.html\n"
     ]
    },
    {
     "name": "stderr",
     "output_type": "stream",
     "text": [
      " 53%|█████▎    | 9533/18004 [1:46:40<7:35:44,  3.23s/it]"
     ]
    },
    {
     "name": "stdout",
     "output_type": "stream",
     "text": [
      "Failed to parse URL at index 9532, URL: https://web.archive.org/web/20160305031005/https://www.washingtonpost.com/local/education/in-qatars-education-city-us-colleges-are-building-an-academic-oasis/2015/12/06/6b538702-8e01-11e5-ae1f-af46b7df8483_story.html\n"
     ]
    },
    {
     "name": "stderr",
     "output_type": "stream",
     "text": [
      " 53%|█████▎    | 9535/18004 [1:46:46<7:26:53,  3.17s/it]"
     ]
    },
    {
     "name": "stdout",
     "output_type": "stream",
     "text": [
      "Failed to parse URL at index 9534, URL: https://web.archive.org/web/20160418235507/http://gulfnewsjournal.com/stories/510712102-advocate-questions-motive-behind-qatar-s-financial-ties-to-u-s-colleges\n"
     ]
    },
    {
     "name": "stderr",
     "output_type": "stream",
     "text": [
      " 53%|█████▎    | 9539/18004 [1:46:52<4:36:40,  1.96s/it]"
     ]
    },
    {
     "name": "stdout",
     "output_type": "stream",
     "text": [
      "Failed to parse URL at index 9537, URL: https://web.archive.org/web/20151004021757/http://gulfnewsjournal.com/stories/510639673-while-u-s-universities-see-dollar-signs-in-qatari-partnerships-some-cry-foul\n"
     ]
    },
    {
     "name": "stderr",
     "output_type": "stream",
     "text": [
      " 53%|█████▎    | 9542/18004 [1:46:58<5:28:18,  2.33s/it]"
     ]
    },
    {
     "name": "stdout",
     "output_type": "stream",
     "text": [
      "Failed to parse URL at index 9541, URL: https://web.archive.org/web/20161022024014/http://www.huffingtonpost.com/david-andrew-weinberg/hate-preachers-on-qatar-c_b_9785706.html\n"
     ]
    },
    {
     "name": "stderr",
     "output_type": "stream",
     "text": [
      " 53%|█████▎    | 9544/18004 [1:47:03<6:26:38,  2.74s/it]"
     ]
    },
    {
     "name": "stdout",
     "output_type": "stream",
     "text": [
      "Failed to parse URL at index 9543, URL: https://web.archive.org/web/20170202011619/http://cmtoday.cmu.edu/artsculture_entertainment/alumnus-gets-star-treatment/\n"
     ]
    },
    {
     "name": "stderr",
     "output_type": "stream",
     "text": [
      " 53%|█████▎    | 9548/18004 [1:47:09<4:27:09,  1.90s/it]"
     ]
    },
    {
     "name": "stdout",
     "output_type": "stream",
     "text": [
      "Failed to parse URL at index 9546, URL: https://web.archive.org/web/20160604050612/http://www.cmu.edu/cmnews/extra/061016_smart.html\n"
     ]
    },
    {
     "name": "stderr",
     "output_type": "stream",
     "text": [
      " 53%|█████▎    | 9550/18004 [1:47:15<5:56:01,  2.53s/it]"
     ]
    },
    {
     "name": "stdout",
     "output_type": "stream",
     "text": [
      "Failed to parse URL at index 9549, URL: https://web.archive.org/web/20070912023132/http://local.lancasteronline.com/4/28490\n",
      "Failed to parse URL at index 9550, URL: http://local.lancasteronline.com/4/28490\n"
     ]
    },
    {
     "name": "stderr",
     "output_type": "stream",
     "text": [
      " 53%|█████▎    | 9554/18004 [1:47:20<5:42:57,  2.44s/it]"
     ]
    },
    {
     "name": "stdout",
     "output_type": "stream",
     "text": [
      "Failed to parse URL at index 9553, URL: https://web.archive.org/web/20210625024734/https://www.mtishows.com/show-history/533\n"
     ]
    },
    {
     "name": "stderr",
     "output_type": "stream",
     "text": [
      " 53%|█████▎    | 9557/18004 [1:47:27<6:00:12,  2.56s/it]"
     ]
    },
    {
     "name": "stdout",
     "output_type": "stream",
     "text": [
      "Failed to parse URL at index 9556, URL: https://web.archive.org/web/20210624203358/https://www.latimes.com/archives/la-xpm-1995-05-21-tv-4112-story.html\n"
     ]
    },
    {
     "name": "stderr",
     "output_type": "stream",
     "text": [
      " 53%|█████▎    | 9560/18004 [1:47:33<5:56:57,  2.54s/it]"
     ]
    },
    {
     "name": "stdout",
     "output_type": "stream",
     "text": [
      "Failed to parse URL at index 9559, URL: https://web.archive.org/web/20120606192142/http://www.time.com/time/specials/2007/article/0,28804,1733748_1733756_1736194,00.html\n"
     ]
    },
    {
     "name": "stderr",
     "output_type": "stream",
     "text": [
      " 53%|█████▎    | 9561/18004 [1:47:33<4:31:01,  1.93s/it]"
     ]
    },
    {
     "name": "stdout",
     "output_type": "stream",
     "text": [
      "Failed to parse URL at index 9560, URL: http://www.time.com/time/specials/2007/article/0,28804,1733748_1733756_1736194,00.html\n"
     ]
    },
    {
     "name": "stderr",
     "output_type": "stream",
     "text": [
      " 53%|█████▎    | 9563/18004 [1:47:34<2:47:33,  1.19s/it]"
     ]
    },
    {
     "name": "stdout",
     "output_type": "stream",
     "text": [
      "Failed to parse URL at index 9562, URL: http://www.playbill.com/news/article/191914-Zachary-Quinto-and-Matt-Bomer-Will-Introduce-New-Educator-Honor-at-2014-Tony-Awards\n"
     ]
    },
    {
     "name": "stderr",
     "output_type": "stream",
     "text": [
      " 53%|█████▎    | 9564/18004 [1:47:39<5:29:14,  2.34s/it]"
     ]
    },
    {
     "name": "stdout",
     "output_type": "stream",
     "text": [
      "Failed to parse URL at index 9563, URL: https://web.archive.org/web/20140714141426/http://www.playbill.com/news/article/191914-Zachary-Quinto-and-Matt-Bomer-Will-Introduce-New-Educator-Honor-at-2014-Tony-Awards\n"
     ]
    },
    {
     "name": "stderr",
     "output_type": "stream",
     "text": [
      " 53%|█████▎    | 9566/18004 [1:47:44<6:25:33,  2.74s/it]"
     ]
    },
    {
     "name": "stdout",
     "output_type": "stream",
     "text": [
      "Failed to parse URL at index 9565, URL: https://web.archive.org/web/20110208162108/http://www.drama.cmu.edu/147/admissions-requirements\n"
     ]
    },
    {
     "name": "stderr",
     "output_type": "stream",
     "text": [
      " 53%|█████▎    | 9567/18004 [1:47:45<4:54:40,  2.10s/it]"
     ]
    },
    {
     "name": "stdout",
     "output_type": "stream",
     "text": [
      "Failed to parse URL at index 9566, URL: http://drama.cmu.edu/147/admissions-requirements\n"
     ]
    },
    {
     "name": "stderr",
     "output_type": "stream",
     "text": [
      " 53%|█████▎    | 9569/18004 [1:47:51<6:09:09,  2.63s/it]"
     ]
    },
    {
     "name": "stdout",
     "output_type": "stream",
     "text": [
      "Failed to parse URL at index 9568, URL: https://web.archive.org/web/20160709233247/http://soa.cmu.edu/undergraduateadmissions/\n"
     ]
    },
    {
     "name": "stderr",
     "output_type": "stream",
     "text": [
      " 53%|█████▎    | 9570/18004 [1:47:51<4:50:17,  2.07s/it]"
     ]
    },
    {
     "name": "stdout",
     "output_type": "stream",
     "text": [
      "Failed to parse URL at index 9569, URL: http://soa.cmu.edu/undergraduateadmissions/\n"
     ]
    },
    {
     "name": "stderr",
     "output_type": "stream",
     "text": [
      " 53%|█████▎    | 9572/18004 [1:47:57<6:05:56,  2.60s/it]"
     ]
    },
    {
     "name": "stdout",
     "output_type": "stream",
     "text": [
      "Failed to parse URL at index 9571, URL: https://web.archive.org/web/20160807121119/http://design.cmu.edu/node/123\n"
     ]
    },
    {
     "name": "stderr",
     "output_type": "stream",
     "text": [
      " 53%|█████▎    | 9575/18004 [1:48:04<6:19:59,  2.70s/it]"
     ]
    },
    {
     "name": "stdout",
     "output_type": "stream",
     "text": [
      "Failed to parse URL at index 9574, URL: https://web.archive.org/web/20160807121952/http://cfa.cmu.edu/pages/bxa-intercollege-degree-programs\n"
     ]
    },
    {
     "name": "stderr",
     "output_type": "stream",
     "text": [
      " 53%|█████▎    | 9578/18004 [1:48:09<6:01:01,  2.57s/it]"
     ]
    },
    {
     "name": "stdout",
     "output_type": "stream",
     "text": [
      "Failed to parse URL at index 9577, URL: https://web.archive.org/web/20171002021723/http://www.cmu.edu/interdisciplinary/programs/\n"
     ]
    },
    {
     "name": "stderr",
     "output_type": "stream",
     "text": [
      " 53%|█████▎    | 9581/18004 [1:48:15<5:50:47,  2.50s/it]"
     ]
    },
    {
     "name": "stdout",
     "output_type": "stream",
     "text": [
      "Failed to parse URL at index 9580, URL: https://web.archive.org/web/20180207182933/https://www.cmu.edu/interdisciplinary/programs/bhaprogram.html\n"
     ]
    },
    {
     "name": "stderr",
     "output_type": "stream",
     "text": [
      " 53%|█████▎    | 9584/18004 [1:48:21<5:53:03,  2.52s/it]"
     ]
    },
    {
     "name": "stdout",
     "output_type": "stream",
     "text": [
      "Failed to parse URL at index 9583, URL: https://web.archive.org/web/20180207122733/https://www.cmu.edu/interdisciplinary/programs/bsaprogram.html\n"
     ]
    },
    {
     "name": "stderr",
     "output_type": "stream",
     "text": [
      " 53%|█████▎    | 9587/18004 [1:48:22<2:29:57,  1.07s/it]"
     ]
    },
    {
     "name": "stdout",
     "output_type": "stream",
     "text": [
      "Failed to parse URL at index 9586, URL: http://grad-schools.usnews.rankingsandreviews.com/usnews/edu/grad/rankings/phdsci/brief/com_brief.php\n"
     ]
    },
    {
     "name": "stderr",
     "output_type": "stream",
     "text": [
      " 53%|█████▎    | 9588/18004 [1:48:27<5:16:02,  2.25s/it]"
     ]
    },
    {
     "name": "stdout",
     "output_type": "stream",
     "text": [
      "Failed to parse URL at index 9587, URL: https://web.archive.org/web/20071011021933/http://grad-schools.usnews.rankingsandreviews.com/usnews/edu/grad/rankings/phdsci/brief/com_brief.php\n"
     ]
    },
    {
     "name": "stderr",
     "output_type": "stream",
     "text": [
      " 53%|█████▎    | 9590/18004 [1:48:32<6:17:03,  2.69s/it]"
     ]
    },
    {
     "name": "stdout",
     "output_type": "stream",
     "text": [
      "Failed to parse URL at index 9589, URL: https://web.archive.org/web/20180207123154/https://www.cmu.edu/interdisciplinary/programs/bcsaprogram.html\n"
     ]
    },
    {
     "name": "stderr",
     "output_type": "stream",
     "text": [
      " 53%|█████▎    | 9593/18004 [1:48:39<6:12:06,  2.65s/it]"
     ]
    },
    {
     "name": "stdout",
     "output_type": "stream",
     "text": [
      "Failed to parse URL at index 9592, URL: https://web.archive.org/web/20150925084623/http://mytepper.tepper.cmu.edu/current-students/Undergraduate-Students/Business%20Administration%20Degrees\n",
      "Failed to parse URL at index 9593, URL: http://mytepper.tepper.cmu.edu/current-students/Undergraduate-Students/Business%20Administration%20Degrees\n"
     ]
    },
    {
     "name": "stderr",
     "output_type": "stream",
     "text": [
      " 53%|█████▎    | 9597/18004 [1:48:44<4:47:02,  2.05s/it]"
     ]
    },
    {
     "name": "stdout",
     "output_type": "stream",
     "text": [
      "Failed to parse URL at index 9595, URL: https://web.archive.org/web/20140117132124/http://www.cmu.edu/ideate/index.html\n",
      "Failed to parse URL at index 9596, URL: http://www.cmu.edu/ideate/index.html\n"
     ]
    },
    {
     "name": "stderr",
     "output_type": "stream",
     "text": [
      " 53%|█████▎    | 9599/18004 [1:48:50<6:02:45,  2.59s/it]"
     ]
    },
    {
     "name": "stdout",
     "output_type": "stream",
     "text": [
      "Failed to parse URL at index 9598, URL: https://web.archive.org/web/20080509054707/http://huntbot.andrew.cmu.edu/HIBD/Default.shtml\n",
      "Failed to parse URL at index 9599, URL: http://huntbot.andrew.cmu.edu/HIBD/Default.shtml\n"
     ]
    },
    {
     "name": "stderr",
     "output_type": "stream",
     "text": [
      " 53%|█████▎    | 9602/18004 [1:48:55<6:36:55,  2.83s/it]"
     ]
    },
    {
     "name": "stdout",
     "output_type": "stream",
     "text": [
      "Failed to parse URL at index 9601, URL: https://web.archive.org/web/20130723213047/http://www.cmu.edu/middlestates/\n"
     ]
    },
    {
     "name": "stderr",
     "output_type": "stream",
     "text": [
      " 53%|█████▎    | 9605/18004 [1:48:56<2:47:31,  1.20s/it]"
     ]
    },
    {
     "name": "stdout",
     "output_type": "stream",
     "text": [
      "Failed to parse URL at index 9604, URL: http://www.post-gazette.com/stories/local/neighborhoods-city/pitt-cmu-make-most-of-proximity-266578/?p=0\n"
     ]
    },
    {
     "name": "stderr",
     "output_type": "stream",
     "text": [
      " 53%|█████▎    | 9606/18004 [1:49:01<5:27:56,  2.34s/it]"
     ]
    },
    {
     "name": "stdout",
     "output_type": "stream",
     "text": [
      "Failed to parse URL at index 9605, URL: https://web.archive.org/web/20130406215240/http://www.post-gazette.com/stories/local/neighborhoods-city/pitt-cmu-make-most-of-proximity-266578/?p=0\n"
     ]
    },
    {
     "name": "stderr",
     "output_type": "stream",
     "text": [
      " 53%|█████▎    | 9608/18004 [1:49:02<3:10:52,  1.36s/it]"
     ]
    },
    {
     "name": "stdout",
     "output_type": "stream",
     "text": [
      "Failed to parse URL at index 9607, URL: http://www.pitt.edu/~oafa/community.html\n"
     ]
    },
    {
     "name": "stderr",
     "output_type": "stream",
     "text": [
      " 53%|█████▎    | 9609/18004 [1:49:07<5:44:21,  2.46s/it]"
     ]
    },
    {
     "name": "stdout",
     "output_type": "stream",
     "text": [
      "Failed to parse URL at index 9608, URL: https://web.archive.org/web/20120119052355/http://www.pitt.edu/~oafa/community.html\n"
     ]
    },
    {
     "name": "stderr",
     "output_type": "stream",
     "text": [
      " 53%|█████▎    | 9611/18004 [1:49:13<6:32:35,  2.81s/it]"
     ]
    },
    {
     "name": "stdout",
     "output_type": "stream",
     "text": [
      "Failed to parse URL at index 9610, URL: https://web.archive.org/web/20111205130048/http://www.learnlab.org/\n"
     ]
    },
    {
     "name": "stderr",
     "output_type": "stream",
     "text": [
      " 53%|█████▎    | 9614/18004 [1:49:20<6:30:58,  2.80s/it]"
     ]
    },
    {
     "name": "stdout",
     "output_type": "stream",
     "text": [
      "Failed to parse URL at index 9613, URL: https://web.archive.org/web/20200727073538/http://www.pchepa.org/index.php?option=com_content&task=view&id=14&Itemid=29\n"
     ]
    },
    {
     "name": "stderr",
     "output_type": "stream",
     "text": [
      " 53%|█████▎    | 9617/18004 [1:49:29<7:10:15,  3.08s/it]"
     ]
    },
    {
     "name": "stdout",
     "output_type": "stream",
     "text": [
      "Failed to parse URL at index 9616, URL: https://web.archive.org/web/20120119201506/http://ml.hss.cmu.edu/slrf2012/\n",
      "Failed to parse URL at index 9617, URL: http://ml.hss.cmu.edu/slrf2012/\n"
     ]
    },
    {
     "name": "stderr",
     "output_type": "stream",
     "text": [
      " 53%|█████▎    | 9620/18004 [1:49:34<7:07:59,  3.06s/it]"
     ]
    },
    {
     "name": "stdout",
     "output_type": "stream",
     "text": [
      "Failed to parse URL at index 9619, URL: https://web.archive.org/web/20150313234137/http://healthdataalliance.com/\n"
     ]
    },
    {
     "name": "stderr",
     "output_type": "stream",
     "text": [
      " 53%|█████▎    | 9623/18004 [1:49:40<6:25:55,  2.76s/it]"
     ]
    },
    {
     "name": "stdout",
     "output_type": "stream",
     "text": [
      "Failed to parse URL at index 9622, URL: https://web.archive.org/web/20170520063744/http://www.alice.org/index.php?page=what_is_alice%2Fwhat_is_alice\n"
     ]
    },
    {
     "name": "stderr",
     "output_type": "stream",
     "text": [
      " 53%|█████▎    | 9624/18004 [1:49:42<5:50:30,  2.51s/it]"
     ]
    },
    {
     "name": "stdout",
     "output_type": "stream",
     "text": [
      "Failed to parse URL at index 9623, URL: http://www.alice.org/index.php?page=what_is_alice/what_is_alice\n"
     ]
    },
    {
     "name": "stderr",
     "output_type": "stream",
     "text": [
      " 53%|█████▎    | 9627/18004 [1:49:48<5:50:00,  2.51s/it]"
     ]
    },
    {
     "name": "stdout",
     "output_type": "stream",
     "text": [
      "Failed to parse URL at index 9626, URL: https://web.archive.org/web/20120717075926/http://www.cmu.edu/corporate/news/2007/features/andrew/history_overview.shtml\n"
     ]
    },
    {
     "name": "stderr",
     "output_type": "stream",
     "text": [
      " 53%|█████▎    | 9629/18004 [1:49:54<6:34:55,  2.83s/it]"
     ]
    },
    {
     "name": "stdout",
     "output_type": "stream",
     "text": [
      "Failed to parse URL at index 9628, URL: https://web.archive.org/web/20161026080152/http://university-discoveries.com/carnegie-mellon-university\n"
     ]
    },
    {
     "name": "stderr",
     "output_type": "stream",
     "text": [
      " 54%|█████▎    | 9633/18004 [1:50:03<6:45:36,  2.91s/it]"
     ]
    },
    {
     "name": "stdout",
     "output_type": "stream",
     "text": [
      "Failed to parse URL at index 9632, URL: https://web.archive.org/web/20190411212656/https://www.cs.tufts.edu/~nr/cs257/archive/ronald-brender/bliss.pdf\n"
     ]
    },
    {
     "name": "stderr",
     "output_type": "stream",
     "text": [
      " 54%|█████▎    | 9643/18004 [1:50:12<4:28:06,  1.92s/it]"
     ]
    },
    {
     "name": "stdout",
     "output_type": "stream",
     "text": [
      "Failed to parse URL at index 9642, URL: https://web.archive.org/web/20161202054801/http://www.popcitymedia.com/innovationnews/wifi100511.aspx\n"
     ]
    },
    {
     "name": "stderr",
     "output_type": "stream",
     "text": [
      " 54%|█████▎    | 9644/18004 [1:50:28<14:27:21,  6.23s/it]"
     ]
    },
    {
     "name": "stdout",
     "output_type": "stream",
     "text": [
      "Failed to parse URL at index 9643, URL: http://www.popcitymedia.com/innovationnews/wifi100511.aspx\n"
     ]
    },
    {
     "name": "stderr",
     "output_type": "stream",
     "text": [
      " 54%|█████▎    | 9647/18004 [1:50:34<7:39:56,  3.30s/it] "
     ]
    },
    {
     "name": "stdout",
     "output_type": "stream",
     "text": [
      "Failed to parse URL at index 9645, URL: https://web.archive.org/web/20161026163407/http://www.cmu.edu/epp/people/faculty/alex-hills.html\n",
      "Failed to parse URL at index 9646, URL: http://www.cmu.edu/epp/people/faculty/alex-hills.html\n"
     ]
    },
    {
     "name": "stderr",
     "output_type": "stream",
     "text": [
      " 54%|█████▎    | 9650/18004 [1:50:40<6:35:32,  2.84s/it]"
     ]
    },
    {
     "name": "stdout",
     "output_type": "stream",
     "text": [
      "Failed to parse URL at index 9649, URL: https://web.archive.org/web/20230102232949/https://archive.triblive.com/local/pittsburgh-allegheny/shrewd-venture-capitalist-makes-31m-bet-on-carnegie-mellon/\n"
     ]
    },
    {
     "name": "stderr",
     "output_type": "stream",
     "text": [
      " 54%|█████▎    | 9654/18004 [1:50:47<5:45:06,  2.48s/it]"
     ]
    },
    {
     "name": "stdout",
     "output_type": "stream",
     "text": [
      "Failed to parse URL at index 9653, URL: https://web.archive.org/web/20230102232945/https://techcrunch.com/2021/06/28/how-cmu-is-helping-build-its-own-startups-and-keeping-them-in-pittsburgh/\n"
     ]
    },
    {
     "name": "stderr",
     "output_type": "stream",
     "text": [
      " 54%|█████▎    | 9657/18004 [1:50:55<7:06:55,  3.07s/it]"
     ]
    },
    {
     "name": "stdout",
     "output_type": "stream",
     "text": [
      "Failed to parse URL at index 9656, URL: https://web.archive.org/web/20230102232950/https://technical.ly/startups/cmu-project-olympus-show-tell/\n"
     ]
    },
    {
     "name": "stderr",
     "output_type": "stream",
     "text": [
      " 54%|█████▎    | 9659/18004 [1:51:01<7:14:26,  3.12s/it]"
     ]
    },
    {
     "name": "stdout",
     "output_type": "stream",
     "text": [
      "Failed to parse URL at index 9658, URL: https://web.archive.org/web/20171201034951/https://www.cmu.edu/corporate/pod/affiliated_companies.html\n"
     ]
    },
    {
     "name": "stderr",
     "output_type": "stream",
     "text": [
      " 54%|█████▎    | 9660/18004 [1:51:01<5:14:38,  2.26s/it]"
     ]
    },
    {
     "name": "stdout",
     "output_type": "stream",
     "text": [
      "Failed to parse URL at index 9659, URL: https://www.cmu.edu/corporate/pod/affiliated_companies.html\n"
     ]
    },
    {
     "name": "stderr",
     "output_type": "stream",
     "text": [
      " 54%|█████▎    | 9662/18004 [1:51:06<6:13:55,  2.69s/it]"
     ]
    },
    {
     "name": "stdout",
     "output_type": "stream",
     "text": [
      "Failed to parse URL at index 9661, URL: https://web.archive.org/web/20171019062635/http://www.alumni.cmu.edu/s/1410/images/editor_documents/alumnirelations/about/notable/notable-alumni.pdf?no_cookie=1\n"
     ]
    },
    {
     "name": "stderr",
     "output_type": "stream",
     "text": [
      " 54%|█████▎    | 9663/18004 [1:51:07<4:39:08,  2.01s/it]"
     ]
    },
    {
     "name": "stdout",
     "output_type": "stream",
     "text": [
      "Failed to parse URL at index 9662, URL: http://www.alumni.cmu.edu/s/1410/images/editor_documents/alumnirelations/about/notable/notable-alumni.pdf?no_cookie=1\n"
     ]
    },
    {
     "name": "stderr",
     "output_type": "stream",
     "text": [
      " 54%|█████▎    | 9667/18004 [1:51:13<4:56:21,  2.13s/it]"
     ]
    },
    {
     "name": "stdout",
     "output_type": "stream",
     "text": [
      "Failed to parse URL at index 9666, URL: https://web.archive.org/web/20220630215122/https://collegescorecard.ed.gov/school/?211440-Carnegie-Mellon-University\n"
     ]
    },
    {
     "name": "stderr",
     "output_type": "stream",
     "text": [
      " 54%|█████▎    | 9670/18004 [1:51:18<5:23:28,  2.33s/it]"
     ]
    },
    {
     "name": "stdout",
     "output_type": "stream",
     "text": [
      "Failed to parse URL at index 9669, URL: https://web.archive.org/web/20230714052213/https://thetartan.org/2011/10/24/special/background\n"
     ]
    },
    {
     "name": "stderr",
     "output_type": "stream",
     "text": [
      " 54%|█████▎    | 9672/18004 [1:51:24<6:17:45,  2.72s/it]"
     ]
    },
    {
     "name": "stdout",
     "output_type": "stream",
     "text": [
      "Failed to parse URL at index 9671, URL: https://web.archive.org/web/20080516000420/http://www.cmu.edu/walkingtour/\n"
     ]
    },
    {
     "name": "stderr",
     "output_type": "stream",
     "text": [
      " 54%|█████▎    | 9676/18004 [1:51:30<5:27:51,  2.36s/it]"
     ]
    },
    {
     "name": "stdout",
     "output_type": "stream",
     "text": [
      "Failed to parse URL at index 9675, URL: https://web.archive.org/web/20210922105820/https://www.atlasobscura.com/places/the-fence\n"
     ]
    },
    {
     "name": "stderr",
     "output_type": "stream",
     "text": [
      " 54%|█████▍    | 9679/18004 [1:51:36<5:38:18,  2.44s/it]"
     ]
    },
    {
     "name": "stdout",
     "output_type": "stream",
     "text": [
      "Failed to parse URL at index 9678, URL: https://web.archive.org/web/20230326042635/https://www.cmu.edu/housing/our-communities/residences/room-types.html\n"
     ]
    },
    {
     "name": "stderr",
     "output_type": "stream",
     "text": [
      " 54%|█████▍    | 9682/18004 [1:51:42<5:43:06,  2.47s/it]"
     ]
    },
    {
     "name": "stdout",
     "output_type": "stream",
     "text": [
      "Failed to parse URL at index 9681, URL: https://web.archive.org/web/20230326042638/https://map.concept3d.com/?id=192\n"
     ]
    },
    {
     "name": "stderr",
     "output_type": "stream",
     "text": [
      " 54%|█████▍    | 9684/18004 [1:51:47<6:33:37,  2.84s/it]"
     ]
    },
    {
     "name": "stdout",
     "output_type": "stream",
     "text": [
      "Failed to parse URL at index 9683, URL: https://web.archive.org/web/20110724042655/http://www.housing.cmu.edu/buildings/\n",
      "Failed to parse URL at index 9684, URL: http://www.housing.cmu.edu/buildings/\n"
     ]
    },
    {
     "name": "stderr",
     "output_type": "stream",
     "text": [
      " 54%|█████▍    | 9688/18004 [1:51:53<5:56:07,  2.57s/it]"
     ]
    },
    {
     "name": "stdout",
     "output_type": "stream",
     "text": [
      "Failed to parse URL at index 9687, URL: https://web.archive.org/web/20240913232330/https://www.cmu.edu/housing/our-communities/specialized-communities/index.html\n"
     ]
    },
    {
     "name": "stderr",
     "output_type": "stream",
     "text": [
      " 54%|█████▍    | 9691/18004 [1:51:59<5:48:35,  2.52s/it]"
     ]
    },
    {
     "name": "stdout",
     "output_type": "stream",
     "text": [
      "Failed to parse URL at index 9690, URL: https://web.archive.org/web/20240913232315/https://www.cmu.edu/housing/our-communities/residences/spirit.html\n"
     ]
    },
    {
     "name": "stderr",
     "output_type": "stream",
     "text": [
      " 54%|█████▍    | 9693/18004 [1:52:04<6:32:23,  2.83s/it]"
     ]
    },
    {
     "name": "stdout",
     "output_type": "stream",
     "text": [
      "Failed to parse URL at index 9692, URL: https://web.archive.org/web/20090901235405/http://www.nrahq.org/compete/nat-trophy/tro-113.pdf\n"
     ]
    },
    {
     "name": "stderr",
     "output_type": "stream",
     "text": [
      " 54%|█████▍    | 9697/18004 [1:52:12<6:01:25,  2.61s/it]"
     ]
    },
    {
     "name": "stdout",
     "output_type": "stream",
     "text": [
      "Failed to parse URL at index 9696, URL: https://web.archive.org/web/20210422170941/https://www.sports-reference.com/cbb/conferences/eic/\n"
     ]
    },
    {
     "name": "stderr",
     "output_type": "stream",
     "text": [
      " 54%|█████▍    | 9700/18004 [1:57:53<238:00:45, 103.18s/it]"
     ]
    },
    {
     "name": "stdout",
     "output_type": "stream",
     "text": [
      "Failed to parse URL at index 9699, URL: https://web.archive.org/web/20210422164622/https://news.google.com/newspapers?id=0VIbAAAAIBAJ&sjid=7EsEAAAAIBAJ&pg=4252,6933810\n"
     ]
    },
    {
     "name": "stderr",
     "output_type": "stream",
     "text": [
      " 54%|█████▍    | 9701/18004 [1:57:58<170:04:51, 73.74s/it] "
     ]
    },
    {
     "name": "stdout",
     "output_type": "stream",
     "text": [
      "Failed to parse URL at index 9700, URL: https://en.wikipedia.org/wiki/Carnegie_Mellon_University#cite_ref-169\n"
     ]
    },
    {
     "name": "stderr",
     "output_type": "stream",
     "text": [
      " 54%|█████▍    | 9702/18004 [2:13:11<750:14:08, 325.33s/it]"
     ]
    },
    {
     "name": "stdout",
     "output_type": "stream",
     "text": [
      "Failed to parse URL at index 9701, URL: https://web.archive.org/web/20070430235242/http://www.contrib.andrew.cmu.edu/~ultimate/\n"
     ]
    },
    {
     "name": "stderr",
     "output_type": "stream",
     "text": [
      " 54%|█████▍    | 9703/18004 [2:13:11<525:14:49, 227.79s/it]"
     ]
    },
    {
     "name": "stdout",
     "output_type": "stream",
     "text": [
      "Failed to parse URL at index 9702, URL: http://www.contrib.andrew.cmu.edu/~ultimate/\n"
     ]
    },
    {
     "name": "stderr",
     "output_type": "stream",
     "text": [
      " 54%|█████▍    | 9705/18004 [2:16:03<375:53:08, 163.05s/it]"
     ]
    },
    {
     "name": "stdout",
     "output_type": "stream",
     "text": [
      "Failed to parse URL at index 9704, URL: https://web.archive.org/web/20080311185634/http://www.tartancrew.org/\n"
     ]
    },
    {
     "name": "stderr",
     "output_type": "stream",
     "text": [
      " 54%|█████▍    | 9706/18004 [2:16:04<263:46:28, 114.44s/it]"
     ]
    },
    {
     "name": "stdout",
     "output_type": "stream",
     "text": [
      "Failed to parse URL at index 9706, URL: https://en.wikipedia.org/wiki/Carnegie_Mellon_University#cite_ref-171\n"
     ]
    },
    {
     "name": "stderr",
     "output_type": "stream",
     "text": [
      " 54%|█████▍    | 9709/18004 [2:16:09<130:30:41, 56.64s/it] "
     ]
    },
    {
     "name": "stdout",
     "output_type": "stream",
     "text": [
      "Failed to parse URL at index 9707, URL: https://web.archive.org/web/20110201133215/http://tartanhockey.com/\n",
      "Failed to parse URL at index 9708, URL: http://www.tartanhockey.com\n"
     ]
    },
    {
     "name": "stderr",
     "output_type": "stream",
     "text": [
      " 54%|█████▍    | 9711/18004 [2:16:14<67:44:06, 29.40s/it] "
     ]
    },
    {
     "name": "stdout",
     "output_type": "stream",
     "text": [
      "Failed to parse URL at index 9710, URL: https://web.archive.org/web/20080513180427/http://www.cmubaseball.com/\n"
     ]
    },
    {
     "name": "stderr",
     "output_type": "stream",
     "text": [
      " 54%|█████▍    | 9712/18004 [2:16:15<48:05:22, 20.88s/it]"
     ]
    },
    {
     "name": "stdout",
     "output_type": "stream",
     "text": [
      "Failed to parse URL at index 9711, URL: http://www.cmubaseball.com/\n"
     ]
    },
    {
     "name": "stderr",
     "output_type": "stream",
     "text": [
      " 54%|█████▍    | 9714/18004 [2:16:21<27:15:09, 11.83s/it]"
     ]
    },
    {
     "name": "stdout",
     "output_type": "stream",
     "text": [
      "Failed to parse URL at index 9713, URL: https://web.archive.org/web/20140607080950/http://athletics.cmu.edu/recreation/clubsports\n"
     ]
    },
    {
     "name": "stderr",
     "output_type": "stream",
     "text": [
      " 54%|█████▍    | 9717/18004 [2:16:27<13:23:33,  5.82s/it]"
     ]
    },
    {
     "name": "stdout",
     "output_type": "stream",
     "text": [
      "Failed to parse URL at index 9716, URL: https://web.archive.org/web/20090626065621/http://www.andrew.cmu.edu/org/cmuwp/\n"
     ]
    },
    {
     "name": "stderr",
     "output_type": "stream",
     "text": [
      " 54%|█████▍    | 9718/18004 [2:16:28<9:37:32,  4.18s/it] "
     ]
    },
    {
     "name": "stdout",
     "output_type": "stream",
     "text": [
      "Failed to parse URL at index 9717, URL: http://www.andrew.cmu.edu/org/cmuwp/\n"
     ]
    },
    {
     "name": "stderr",
     "output_type": "stream",
     "text": [
      " 54%|█████▍    | 9720/18004 [2:16:33<8:24:07,  3.65s/it]"
     ]
    },
    {
     "name": "stdout",
     "output_type": "stream",
     "text": [
      "Failed to parse URL at index 9719, URL: https://web.archive.org/web/20080905182828/http://www.andrew.cmu.edu/~cycling\n"
     ]
    },
    {
     "name": "stderr",
     "output_type": "stream",
     "text": [
      " 54%|█████▍    | 9721/18004 [2:16:34<6:02:25,  2.63s/it]"
     ]
    },
    {
     "name": "stdout",
     "output_type": "stream",
     "text": [
      "Failed to parse URL at index 9720, URL: http://www.andrew.cmu.edu/~cycling/\n"
     ]
    },
    {
     "name": "stderr",
     "output_type": "stream",
     "text": [
      " 54%|█████▍    | 9723/18004 [2:16:39<6:39:04,  2.89s/it]"
     ]
    },
    {
     "name": "stdout",
     "output_type": "stream",
     "text": [
      "Failed to parse URL at index 9722, URL: https://web.archive.org/web/20080317194853/http://www.carnegiemellontoday.com/article.asp?Aid=380\n",
      "Failed to parse URL at index 9723, URL: http://www.carnegiemellontoday.com/article.asp?Aid=380\n"
     ]
    },
    {
     "name": "stderr",
     "output_type": "stream",
     "text": [
      " 54%|█████▍    | 9727/18004 [2:16:45<5:55:11,  2.57s/it]"
     ]
    },
    {
     "name": "stdout",
     "output_type": "stream",
     "text": [
      "Failed to parse URL at index 9726, URL: https://web.archive.org/web/20131106053812/http://sports.espn.go.com/espn/wire?section=ncf&id=3006504\n"
     ]
    },
    {
     "name": "stderr",
     "output_type": "stream",
     "text": [
      " 54%|█████▍    | 9730/18004 [2:16:52<6:18:12,  2.74s/it]"
     ]
    },
    {
     "name": "stdout",
     "output_type": "stream",
     "text": [
      "Failed to parse URL at index 9729, URL: https://web.archive.org/web/20240913232316/https://thetartan.org/2005/4/4/sports/track\n"
     ]
    },
    {
     "name": "stderr",
     "output_type": "stream",
     "text": [
      " 54%|█████▍    | 9732/18004 [2:16:53<3:43:56,  1.62s/it]"
     ]
    },
    {
     "name": "stdout",
     "output_type": "stream",
     "text": [
      "Failed to parse URL at index 9731, URL: http://www.wellsville.wnyric.org/education/components/scrapbook/default.php?sectiondetailid=104408&pagecat=546\n"
     ]
    },
    {
     "name": "stderr",
     "output_type": "stream",
     "text": [
      " 54%|█████▍    | 9733/18004 [2:16:58<6:03:58,  2.64s/it]"
     ]
    },
    {
     "name": "stdout",
     "output_type": "stream",
     "text": [
      "Failed to parse URL at index 9732, URL: https://web.archive.org/web/20110929001025/http://www.wellsville.wnyric.org/education/components/scrapbook/default.php?sectiondetailid=104408&pagecat=546\n"
     ]
    },
    {
     "name": "stderr",
     "output_type": "stream",
     "text": [
      " 54%|█████▍    | 9736/18004 [2:17:05<6:27:33,  2.81s/it]"
     ]
    },
    {
     "name": "stdout",
     "output_type": "stream",
     "text": [
      "Failed to parse URL at index 9735, URL: https://web.archive.org/web/20190707200034/http://athletics.cmu.edu/intramurals/IMhome\n"
     ]
    },
    {
     "name": "stderr",
     "output_type": "stream",
     "text": [
      " 54%|█████▍    | 9739/18004 [2:17:11<6:03:53,  2.64s/it]"
     ]
    },
    {
     "name": "stdout",
     "output_type": "stream",
     "text": [
      "Failed to parse URL at index 9738, URL: https://web.archive.org/web/20230813214952/https://www.cmu.edu/ira/alumni/index.html\n"
     ]
    },
    {
     "name": "stderr",
     "output_type": "stream",
     "text": [
      " 54%|█████▍    | 9742/18004 [2:17:17<5:53:19,  2.57s/it]"
     ]
    },
    {
     "name": "stdout",
     "output_type": "stream",
     "text": [
      "Failed to parse URL at index 9741, URL: https://web.archive.org/web/20171107060123/http://collection.cmoa.org/CollectionDetail.aspx?item=1021883&retPrompt=Back+to+Results&retUrl=CollectionSearch.aspx%3Fsrch%3DPearlstein%252c+Philip\n"
     ]
    },
    {
     "name": "stderr",
     "output_type": "stream",
     "text": [
      " 54%|█████▍    | 9745/18004 [2:17:22<5:48:34,  2.53s/it]"
     ]
    },
    {
     "name": "stdout",
     "output_type": "stream",
     "text": [
      "Failed to parse URL at index 9744, URL: https://web.archive.org/web/20170830111655/http://www.gagosian.com/artists/john-currin\n"
     ]
    },
    {
     "name": "stderr",
     "output_type": "stream",
     "text": [
      " 54%|█████▍    | 9748/18004 [2:17:29<6:10:40,  2.69s/it]"
     ]
    },
    {
     "name": "stdout",
     "output_type": "stream",
     "text": [
      "Failed to parse URL at index 9747, URL: https://web.archive.org/web/20170908020305/http://www.mcall.com/entertainment/arts/mc-international-fusion-easton-shalom-neuman-20170415-story.html\n"
     ]
    },
    {
     "name": "stderr",
     "output_type": "stream",
     "text": [
      " 54%|█████▍    | 9749/18004 [2:17:30<4:38:47,  2.03s/it]"
     ]
    },
    {
     "name": "stdout",
     "output_type": "stream",
     "text": [
      "Failed to parse URL at index 9748, URL: https://www.mcall.com/entertainment/arts/mc-international-fusion-easton-shalom-neuman-20170415-story.html\n"
     ]
    },
    {
     "name": "stderr",
     "output_type": "stream",
     "text": [
      " 54%|█████▍    | 9751/18004 [2:17:35<5:59:22,  2.61s/it]"
     ]
    },
    {
     "name": "stdout",
     "output_type": "stream",
     "text": [
      "Failed to parse URL at index 9750, URL: https://web.archive.org/web/20170914220237/http://cmtoday.cmu.edu/issues/dec-2006-issue/news-flash/jonathan-borofsky-interview/\n"
     ]
    },
    {
     "name": "stderr",
     "output_type": "stream",
     "text": [
      " 54%|█████▍    | 9755/18004 [2:17:42<4:15:46,  1.86s/it]"
     ]
    },
    {
     "name": "stdout",
     "output_type": "stream",
     "text": [
      "Failed to parse URL at index 9754, URL: https://web.archive.org/web/20190502133300/https://www.cmu.edu/cmnews/extra/040223_makeoverman.html\n"
     ]
    },
    {
     "name": "stderr",
     "output_type": "stream",
     "text": [
      " 54%|█████▍    | 9757/18004 [2:17:47<5:49:10,  2.54s/it]"
     ]
    },
    {
     "name": "stdout",
     "output_type": "stream",
     "text": [
      "Failed to parse URL at index 9756, URL: https://web.archive.org/web/20190724042144/https://cms-staging.andrew.cmu.edu/cfa/news-and-events/index.html\n"
     ]
    },
    {
     "name": "stderr",
     "output_type": "stream",
     "text": [
      " 54%|█████▍    | 9761/18004 [2:17:54<5:32:13,  2.42s/it]"
     ]
    },
    {
     "name": "stdout",
     "output_type": "stream",
     "text": [
      "Failed to parse URL at index 9760, URL: https://web.archive.org/web/20230327190827/https://www.cmu.edu/news/stories/archives/2012/january/jan24_dramaplayground.html\n"
     ]
    },
    {
     "name": "stderr",
     "output_type": "stream",
     "text": [
      " 54%|█████▍    | 9764/18004 [2:18:00<5:47:49,  2.53s/it]"
     ]
    },
    {
     "name": "stdout",
     "output_type": "stream",
     "text": [
      "Failed to parse URL at index 9763, URL: https://web.archive.org/web/20151218101315/http://www.alumni.cmu.edu/s/1410/alumni/index-social.aspx?sid=1410&gid=1&pgid=377\n"
     ]
    },
    {
     "name": "stderr",
     "output_type": "stream",
     "text": [
      " 54%|█████▍    | 9765/18004 [2:18:01<4:19:30,  1.89s/it]"
     ]
    },
    {
     "name": "stdout",
     "output_type": "stream",
     "text": [
      "Failed to parse URL at index 9764, URL: http://www.alumni.cmu.edu/s/1410/alumni/index-social.aspx?sid=1410&gid=1&pgid=377\n"
     ]
    },
    {
     "name": "stderr",
     "output_type": "stream",
     "text": [
      " 54%|█████▍    | 9768/18004 [2:18:06<4:09:30,  1.82s/it]"
     ]
    },
    {
     "name": "stdout",
     "output_type": "stream",
     "text": [
      "Failed to parse URL at index 9766, URL: https://web.archive.org/web/20160131084112/http://www.cmu.edu/piper/piper/2011/march/judyresnik.html\n",
      "Failed to parse URL at index 9767, URL: http://www.cmu.edu/piper/piper/2011/march/judyresnik.html\n"
     ]
    },
    {
     "name": "stderr",
     "output_type": "stream",
     "text": [
      " 56%|█████▌    | 10031/18004 [2:20:12<2:24:10,  1.09s/it]"
     ]
    },
    {
     "name": "stdout",
     "output_type": "stream",
     "text": [
      "Failed to parse URL at index 10031, URL: https://www.moma.org/artists/33300\n"
     ]
    },
    {
     "name": "stderr",
     "output_type": "stream",
     "text": [
      " 56%|█████▌    | 10049/18004 [2:20:22<1:21:17,  1.63it/s]"
     ]
    },
    {
     "name": "stdout",
     "output_type": "stream",
     "text": [
      "Failed to parse URL at index 10049, URL: http://www.cmu.edu/graduate/prospective-students/index.html\n"
     ]
    },
    {
     "name": "stderr",
     "output_type": "stream",
     "text": [
      " 57%|█████▋    | 10213/18004 [2:21:00<19:38,  6.61it/s]  "
     ]
    },
    {
     "name": "stdout",
     "output_type": "stream",
     "text": [
      "Failed to parse URL at index 10210, URL: https://www.cmu.edu/leadership/president/lecture-series/index-old.html\n"
     ]
    },
    {
     "name": "stderr",
     "output_type": "stream",
     "text": [
      " 58%|█████▊    | 10360/18004 [2:21:52<3:41:04,  1.74s/it]"
     ]
    },
    {
     "name": "stdout",
     "output_type": "stream",
     "text": [
      "Failed to parse URL at index 10359, URL: https://web.archive.org/web/20110808212730/http://www.cmu.edu/about/traditions.shtml\n"
     ]
    },
    {
     "name": "stderr",
     "output_type": "stream",
     "text": [
      " 58%|█████▊    | 10365/18004 [2:21:53<56:53,  2.24it/s]  "
     ]
    },
    {
     "name": "stdout",
     "output_type": "stream",
     "text": [
      "Failed to parse URL at index 10364, URL: https://thetartan.org/2012/8/19/pillbox/traditions\n"
     ]
    },
    {
     "name": "stderr",
     "output_type": "stream",
     "text": [
      " 58%|█████▊    | 10367/18004 [2:21:58<3:46:11,  1.78s/it]"
     ]
    },
    {
     "name": "stdout",
     "output_type": "stream",
     "text": [
      "Failed to parse URL at index 10366, URL: https://web.archive.org/web/20170203081422/https://engineering.cmu.edu/prospective_students/undergraduates/traditions.html\n"
     ]
    },
    {
     "name": "stderr",
     "output_type": "stream",
     "text": [
      " 58%|█████▊    | 10371/18004 [2:21:59<1:35:19,  1.33it/s]"
     ]
    },
    {
     "name": "stdout",
     "output_type": "stream",
     "text": [
      "Failed to parse URL at index 10370, URL: http://www.therepublic.com/view/story/1cf66a3f4fb44440b130a824561e15b9/PA--Member-Exchange-CMU-Fence/\n"
     ]
    },
    {
     "name": "stderr",
     "output_type": "stream",
     "text": [
      " 58%|█████▊    | 10374/18004 [2:22:05<3:53:51,  1.84s/it]"
     ]
    },
    {
     "name": "stdout",
     "output_type": "stream",
     "text": [
      "Failed to parse URL at index 10373, URL: https://web.archive.org/web/20110325102812/http://thetartan.org/2011/3/21/news/fence_attack\n"
     ]
    },
    {
     "name": "stderr",
     "output_type": "stream",
     "text": [
      " 58%|█████▊    | 10377/18004 [2:22:10<3:38:25,  1.72s/it]"
     ]
    },
    {
     "name": "stdout",
     "output_type": "stream",
     "text": [
      "Failed to parse URL at index 10376, URL: https://web.archive.org/web/20160304053848/http://thetartan.org/2011/3/28/news/heal_the_fence\n"
     ]
    },
    {
     "name": "stderr",
     "output_type": "stream",
     "text": [
      " 58%|█████▊    | 10384/18004 [2:22:17<3:58:31,  1.88s/it]"
     ]
    },
    {
     "name": "stdout",
     "output_type": "stream",
     "text": [
      "Failed to parse URL at index 10383, URL: https://web.archive.org/web/20160530185959/http://cmubuggy.org/gallery/1950s/Start_1954\n"
     ]
    },
    {
     "name": "stderr",
     "output_type": "stream",
     "text": [
      " 58%|█████▊    | 10386/18004 [2:22:18<2:14:20,  1.06s/it]"
     ]
    },
    {
     "name": "stdout",
     "output_type": "stream",
     "text": [
      "Failed to parse URL at index 10385, URL: http://cmubuggy.org/video/1969raceday\n"
     ]
    },
    {
     "name": "stderr",
     "output_type": "stream",
     "text": [
      " 58%|█████▊    | 10387/18004 [2:22:23<4:45:23,  2.25s/it]"
     ]
    },
    {
     "name": "stdout",
     "output_type": "stream",
     "text": [
      "Failed to parse URL at index 10386, URL: https://web.archive.org/web/20160306014843/http://cmubuggy.org/video/1969raceday\n"
     ]
    },
    {
     "name": "stderr",
     "output_type": "stream",
     "text": [
      " 58%|█████▊    | 10390/18004 [2:22:29<5:13:46,  2.47s/it]"
     ]
    },
    {
     "name": "stdout",
     "output_type": "stream",
     "text": [
      "Failed to parse URL at index 10389, URL: https://web.archive.org/web/20160529200712/http://cmubuggy.org/gallery/1980s/KingEider1988\n"
     ]
    },
    {
     "name": "stderr",
     "output_type": "stream",
     "text": [
      " 58%|█████▊    | 10397/18004 [2:22:35<4:02:28,  1.91s/it]"
     ]
    },
    {
     "name": "stdout",
     "output_type": "stream",
     "text": [
      "Failed to parse URL at index 10396, URL: https://web.archive.org/web/20160913071022/http://cmubuggy.org/history/raceday\n"
     ]
    },
    {
     "name": "stderr",
     "output_type": "stream",
     "text": [
      " 58%|█████▊    | 10413/18004 [2:22:44<3:35:21,  1.70s/it]"
     ]
    },
    {
     "name": "stdout",
     "output_type": "stream",
     "text": [
      "Failed to parse URL at index 10412, URL: https://web.archive.org/web/20170202145537/https://www.cmu.edu/student-affairs/dean/kiltie/index.html\n"
     ]
    },
    {
     "name": "stderr",
     "output_type": "stream",
     "text": [
      " 58%|█████▊    | 10414/18004 [2:22:45<3:00:08,  1.42s/it]"
     ]
    },
    {
     "name": "stdout",
     "output_type": "stream",
     "text": [
      "Failed to parse URL at index 10413, URL: https://www.cmu.edu/student-affairs/dean/kiltie/index.html\n"
     ]
    },
    {
     "name": "stderr",
     "output_type": "stream",
     "text": [
      " 58%|█████▊    | 10430/18004 [2:23:08<4:11:34,  1.99s/it]"
     ]
    },
    {
     "name": "stdout",
     "output_type": "stream",
     "text": [
      "Failed to parse URL at index 10429, URL: https://www.usnews.com/best-colleges/carnegie-mellon-university-3242/overall-rankings\n"
     ]
    },
    {
     "name": "stderr",
     "output_type": "stream",
     "text": [
      " 58%|█████▊    | 10432/18004 [2:23:08<2:18:07,  1.09s/it]"
     ]
    },
    {
     "name": "stdout",
     "output_type": "stream",
     "text": [
      "Failed to parse URL at index 10432, URL: https://www.backstage.com/magazine/article/top-acting-colleges-5772/\n"
     ]
    },
    {
     "name": "stderr",
     "output_type": "stream",
     "text": [
      " 58%|█████▊    | 10436/18004 [2:23:11<1:54:57,  1.10it/s]"
     ]
    },
    {
     "name": "stdout",
     "output_type": "stream",
     "text": [
      "Failed to parse URL at index 10435, URL: https://www.princetonreview.com/college-rankings?rankings=best-389-colleges\n"
     ]
    },
    {
     "name": "stderr",
     "output_type": "stream",
     "text": [
      " 59%|█████▉    | 10656/18004 [2:23:50<34:53,  3.51it/s]  "
     ]
    },
    {
     "name": "stdout",
     "output_type": "stream",
     "text": [
      "Failed to parse URL at index 10654, URL: https://events.cmu.edu/social-media/index.html\n",
      "Failed to parse URL at index 10655, URL: https://events.cmu.edu/about/index.html\n"
     ]
    },
    {
     "name": "stderr",
     "output_type": "stream",
     "text": [
      " 60%|█████▉    | 10716/18004 [2:23:57<16:30,  7.36it/s]"
     ]
    },
    {
     "name": "stdout",
     "output_type": "stream",
     "text": [
      "Failed to parse URL at index 10713, URL: https://pittsburghmusicals.com/support/donate/\n"
     ]
    },
    {
     "name": "stderr",
     "output_type": "stream",
     "text": [
      " 60%|█████▉    | 10724/18004 [2:24:03<59:26,  2.04it/s]  "
     ]
    },
    {
     "name": "stdout",
     "output_type": "stream",
     "text": [
      "Failed to parse URL at index 10723, URL: https://www.grazecraze.com/north-pittsburgh-pa\n"
     ]
    },
    {
     "name": "stderr",
     "output_type": "stream",
     "text": [
      " 60%|█████▉    | 10731/18004 [2:24:05<39:25,  3.07it/s]  "
     ]
    },
    {
     "name": "stdout",
     "output_type": "stream",
     "text": [
      "Failed to parse URL at index 10729, URL: https://pittsburghmusicals.com/community-connections/\n"
     ]
    },
    {
     "name": "stderr",
     "output_type": "stream",
     "text": [
      " 60%|█████▉    | 10733/18004 [2:24:06<42:15,  2.87it/s]"
     ]
    },
    {
     "name": "stdout",
     "output_type": "stream",
     "text": [
      "Failed to parse URL at index 10732, URL: https://www.pa.gov/en.html\n"
     ]
    },
    {
     "name": "stderr",
     "output_type": "stream",
     "text": [
      " 60%|█████▉    | 10744/18004 [2:24:22<2:32:35,  1.26s/it]"
     ]
    },
    {
     "name": "stdout",
     "output_type": "stream",
     "text": [
      "Failed to parse URL at index 10743, URL: https://playhouse.culturaldistrict.org/package/13739\n",
      "Failed to parse URL at index 10744, URL: https://playhouse.culturaldistrict.org/session?forward_to=https%3A%2F%2Fplayhouse.culturaldistrict.org%2Fpackage%2Frenew%2F27793\n"
     ]
    },
    {
     "name": "stderr",
     "output_type": "stream",
     "text": [
      " 60%|█████▉    | 10749/18004 [2:24:25<1:34:33,  1.28it/s]"
     ]
    },
    {
     "name": "stdout",
     "output_type": "stream",
     "text": [
      "Failed to parse URL at index 10749, URL: https://playhouse.culturaldistrict.org/production/95831/escher-quartet\n"
     ]
    },
    {
     "name": "stderr",
     "output_type": "stream",
     "text": [
      " 60%|█████▉    | 10752/18004 [2:24:50<7:17:12,  3.62s/it]"
     ]
    },
    {
     "name": "stdout",
     "output_type": "stream",
     "text": [
      "Failed to parse URL at index 10752, URL: https://playhouse.culturaldistrict.org/production/95837/tommy-mesa-and-michelle-cann\n"
     ]
    },
    {
     "name": "stderr",
     "output_type": "stream",
     "text": [
      " 60%|█████▉    | 10755/18004 [2:25:11<8:44:45,  4.34s/it] "
     ]
    },
    {
     "name": "stdout",
     "output_type": "stream",
     "text": [
      "Failed to parse URL at index 10755, URL: https://playhouse.culturaldistrict.org/production/95841/les-delices\n"
     ]
    },
    {
     "name": "stderr",
     "output_type": "stream",
     "text": [
      " 60%|█████▉    | 10758/18004 [2:25:27<8:10:42,  4.06s/it] "
     ]
    },
    {
     "name": "stdout",
     "output_type": "stream",
     "text": [
      "Failed to parse URL at index 10758, URL: https://playhouse.culturaldistrict.org/production/95846/publiquartet\n"
     ]
    },
    {
     "name": "stderr",
     "output_type": "stream",
     "text": [
      " 60%|█████▉    | 10761/18004 [2:25:53<10:15:34,  5.10s/it]"
     ]
    },
    {
     "name": "stdout",
     "output_type": "stream",
     "text": [
      "Failed to parse URL at index 10761, URL: https://playhouse.culturaldistrict.org/production/95850/dover-quartet\n"
     ]
    },
    {
     "name": "stderr",
     "output_type": "stream",
     "text": [
      " 60%|█████▉    | 10776/18004 [2:25:58<1:15:26,  1.60it/s] "
     ]
    },
    {
     "name": "stdout",
     "output_type": "stream",
     "text": [
      "Failed to parse URL at index 10775, URL: https://nammfoundation.org\n"
     ]
    },
    {
     "name": "stderr",
     "output_type": "stream",
     "text": [
      " 60%|██████    | 10808/18004 [2:26:28<5:52:56,  2.94s/it]"
     ]
    },
    {
     "name": "stdout",
     "output_type": "stream",
     "text": [
      "Failed to parse URL at index 10807, URL: https://www.youtube.com/results?search_query=%23MySongIsYourSong\n"
     ]
    },
    {
     "name": "stderr",
     "output_type": "stream",
     "text": [
      " 60%|██████    | 10816/18004 [2:26:33<1:13:58,  1.62it/s]"
     ]
    },
    {
     "name": "stdout",
     "output_type": "stream",
     "text": [
      "Failed to parse URL at index 10814, URL: https://nextpittsburgh.com/events/14-things-to-do-this-weekend-in-pittsburgh-from-the-jazz-festival-to-the-gap-relay/\n"
     ]
    },
    {
     "name": "stderr",
     "output_type": "stream",
     "text": [
      " 60%|██████    | 10820/18004 [2:26:41<4:17:56,  2.15s/it]"
     ]
    },
    {
     "name": "stdout",
     "output_type": "stream",
     "text": [
      "Failed to parse URL at index 10819, URL: http://local-pittsburgh.com/culture/music/make-music-festival-brings-pgh-musicians-out-of-the-woodwork/\n"
     ]
    },
    {
     "name": "stderr",
     "output_type": "stream",
     "text": [
      " 60%|██████    | 10825/18004 [2:26:55<6:51:27,  3.44s/it]"
     ]
    },
    {
     "name": "stdout",
     "output_type": "stream",
     "text": [
      "Failed to parse URL at index 10824, URL: http://blogs.post-gazette.com/arts-entertainment/measured-words/44313-make-music-pittsburgh-call-for-artists-venues\n"
     ]
    },
    {
     "name": "stderr",
     "output_type": "stream",
     "text": [
      " 61%|██████▏   | 11053/18004 [2:28:19<3:17:20,  1.70s/it]"
     ]
    },
    {
     "name": "stdout",
     "output_type": "stream",
     "text": [
      "Failed to parse URL at index 11052, URL: https://web.archive.org/web/20121023192200/http://www.time.com/time/magazine/article/0,9171,757929,00.html?iid=chix-sphere\n"
     ]
    },
    {
     "name": "stderr",
     "output_type": "stream",
     "text": [
      " 61%|██████▏   | 11054/18004 [2:28:19<2:36:12,  1.35s/it]"
     ]
    },
    {
     "name": "stdout",
     "output_type": "stream",
     "text": [
      "Failed to parse URL at index 11053, URL: http://www.time.com/time/magazine/article/0,9171,757929,00.html?iid=chix-sphere\n"
     ]
    },
    {
     "name": "stderr",
     "output_type": "stream",
     "text": [
      " 62%|██████▏   | 11087/18004 [2:29:24<42:18,  2.72it/s]   "
     ]
    },
    {
     "name": "stdout",
     "output_type": "stream",
     "text": [
      "Failed to parse URL at index 11087, URL: https://www.nytimes.com/2014/07/14/arts/music/lorin-maazel-brilliant-intense-and-enigmatic-conductor-dies-at-84.html\n"
     ]
    },
    {
     "name": "stderr",
     "output_type": "stream",
     "text": [
      " 62%|██████▏   | 11090/18004 [2:29:25<36:40,  3.14it/s]"
     ]
    },
    {
     "name": "stdout",
     "output_type": "stream",
     "text": [
      "Failed to parse URL at index 11090, URL: https://www.nytimes.com/1986/03/26/arts/music-lorin-maazel-leads-the-pittsburgh.html\n"
     ]
    },
    {
     "name": "stderr",
     "output_type": "stream",
     "text": [
      " 62%|██████▏   | 11093/18004 [2:29:25<30:00,  3.84it/s]"
     ]
    },
    {
     "name": "stdout",
     "output_type": "stream",
     "text": [
      "Failed to parse URL at index 11093, URL: https://www.nytimes.com/1994/07/04/arts/maazel-to-leave-pittsburgh-symphony-in-96.html\n"
     ]
    },
    {
     "name": "stderr",
     "output_type": "stream",
     "text": [
      " 62%|██████▏   | 11096/18004 [2:29:31<3:11:58,  1.67s/it]"
     ]
    },
    {
     "name": "stdout",
     "output_type": "stream",
     "text": [
      "Failed to parse URL at index 11095, URL: https://web.archive.org/web/20160924194436/http://www.broadwayworld.com/bwwclassical/article/Pittsburgh-Symphony-Orchestra-Issues-Statement-on-Passing-of-Maestro-Lorin-Maazel-20140714-page2\n"
     ]
    },
    {
     "name": "stderr",
     "output_type": "stream",
     "text": [
      " 62%|██████▏   | 11101/18004 [2:29:35<1:37:50,  1.18it/s]"
     ]
    },
    {
     "name": "stdout",
     "output_type": "stream",
     "text": [
      "Failed to parse URL at index 11100, URL: http://www.post-gazette.com/pg/04137/315957.stm\n"
     ]
    },
    {
     "name": "stderr",
     "output_type": "stream",
     "text": [
      " 62%|██████▏   | 11118/18004 [2:29:48<3:29:10,  1.82s/it]"
     ]
    },
    {
     "name": "stdout",
     "output_type": "stream",
     "text": [
      "Failed to parse URL at index 11117, URL: https://web.archive.org/web/20111223065525/http://www.post-gazette.com/pg/07300/828842-42.stm\n"
     ]
    },
    {
     "name": "stderr",
     "output_type": "stream",
     "text": [
      " 62%|██████▏   | 11119/18004 [2:29:48<2:47:22,  1.46s/it]"
     ]
    },
    {
     "name": "stdout",
     "output_type": "stream",
     "text": [
      "Failed to parse URL at index 11118, URL: http://www.post-gazette.com/pg/07300/828842-42.stm\n"
     ]
    },
    {
     "name": "stderr",
     "output_type": "stream",
     "text": [
      " 62%|██████▏   | 11121/18004 [2:29:49<1:37:25,  1.18it/s]"
     ]
    },
    {
     "name": "stdout",
     "output_type": "stream",
     "text": [
      "Failed to parse URL at index 11120, URL: http://www.pittsburghlive.com/x/pittsburghtrib/s_490039.html\n"
     ]
    },
    {
     "name": "stderr",
     "output_type": "stream",
     "text": [
      " 62%|██████▏   | 11122/18004 [2:29:49<1:19:18,  1.45it/s]"
     ]
    },
    {
     "name": "stdout",
     "output_type": "stream",
     "text": [
      "Failed to parse URL at index 11122, URL: https://www.nytimes.com/2007/01/24/arts/24hone.html?ex=1327294800&en=63c573b6727e887e&ei=5088&partner=rssnyt&emc=rss\n"
     ]
    },
    {
     "name": "stderr",
     "output_type": "stream",
     "text": [
      " 62%|██████▏   | 11125/18004 [2:29:50<1:15:55,  1.51it/s]"
     ]
    },
    {
     "name": "stdout",
     "output_type": "stream",
     "text": [
      "Failed to parse URL at index 11124, URL: http://www.pittsburghsymphony.org/honeckpr.pdf\n"
     ]
    },
    {
     "name": "stderr",
     "output_type": "stream",
     "text": [
      " 62%|██████▏   | 11127/18004 [2:29:51<50:34,  2.27it/s]  "
     ]
    },
    {
     "name": "stdout",
     "output_type": "stream",
     "text": [
      "Failed to parse URL at index 11126, URL: http://www.post-gazette.com/pg/09253/996931-388.stm\n"
     ]
    },
    {
     "name": "stderr",
     "output_type": "stream",
     "text": [
      " 62%|██████▏   | 11129/18004 [2:29:51<37:07,  3.09it/s]"
     ]
    },
    {
     "name": "stdout",
     "output_type": "stream",
     "text": [
      "Failed to parse URL at index 11128, URL: http://www.post-gazette.com/pg/12044/1209951-100.stm\n"
     ]
    },
    {
     "name": "stderr",
     "output_type": "stream",
     "text": [
      " 62%|██████▏   | 11131/18004 [2:29:57<3:18:58,  1.74s/it]"
     ]
    },
    {
     "name": "stdout",
     "output_type": "stream",
     "text": [
      "Failed to parse URL at index 11130, URL: https://www.washingtonpost.com/wp-dyn/content/article/2007/06/14/AR2007061402486.html\n"
     ]
    },
    {
     "name": "stderr",
     "output_type": "stream",
     "text": [
      " 62%|██████▏   | 11135/18004 [2:29:58<1:08:16,  1.68it/s]"
     ]
    },
    {
     "name": "stdout",
     "output_type": "stream",
     "text": [
      "Failed to parse URL at index 11134, URL: http://www.post-gazette.com/pg/07014/753720-42.stm\n"
     ]
    },
    {
     "name": "stderr",
     "output_type": "stream",
     "text": [
      " 62%|██████▏   | 11137/18004 [2:29:58<48:53,  2.34it/s]  "
     ]
    },
    {
     "name": "stdout",
     "output_type": "stream",
     "text": [
      "Failed to parse URL at index 11136, URL: http://www.post-gazette.com/pg/06335/742583-42.stm\n"
     ]
    },
    {
     "name": "stderr",
     "output_type": "stream",
     "text": [
      " 62%|██████▏   | 11139/18004 [2:29:59<37:47,  3.03it/s]"
     ]
    },
    {
     "name": "stdout",
     "output_type": "stream",
     "text": [
      "Failed to parse URL at index 11138, URL: http://www.post-gazette.com/pg/09086/958602-42.stm\n"
     ]
    },
    {
     "name": "stderr",
     "output_type": "stream",
     "text": [
      " 62%|██████▏   | 11148/18004 [2:30:07<3:23:23,  1.78s/it]"
     ]
    },
    {
     "name": "stdout",
     "output_type": "stream",
     "text": [
      "Failed to parse URL at index 11147, URL: https://web.archive.org/web/20150116202155/http://wqed.org/fm/psoradio/pso_history.php\n"
     ]
    },
    {
     "name": "stderr",
     "output_type": "stream",
     "text": [
      " 62%|██████▏   | 11149/18004 [2:30:09<3:49:49,  2.01s/it]"
     ]
    },
    {
     "name": "stdout",
     "output_type": "stream",
     "text": [
      "Failed to parse URL at index 11148, URL: http://wqed.org/fm/psoradio/pso_history.php\n"
     ]
    },
    {
     "name": "stderr",
     "output_type": "stream",
     "text": [
      " 62%|██████▏   | 11194/18004 [2:30:37<44:27,  2.55it/s]  "
     ]
    },
    {
     "name": "stdout",
     "output_type": "stream",
     "text": [
      "Failed to parse URL at index 11192, URL: https://www.pittsburghsymphony.org/shopping_cart/show\n"
     ]
    },
    {
     "name": "stderr",
     "output_type": "stream",
     "text": [
      " 62%|██████▏   | 11200/18004 [2:30:42<1:07:42,  1.67it/s]"
     ]
    },
    {
     "name": "stdout",
     "output_type": "stream",
     "text": [
      "Failed to parse URL at index 11199, URL: https://culturaldistrict.org/advertising/advertise\n"
     ]
    },
    {
     "name": "stderr",
     "output_type": "stream",
     "text": [
      " 62%|██████▏   | 11218/18004 [2:31:01<54:07,  2.09it/s]  "
     ]
    },
    {
     "name": "stdout",
     "output_type": "stream",
     "text": [
      "Failed to parse URL at index 11214, URL: https://www.pittsburghsymphony.org/order_history/show\n",
      "Failed to parse URL at index 11215, URL: https://www.pittsburghsymphony.org/terminate\n",
      "Failed to parse URL at index 11216, URL: https://www.pittsburghsymphony.org/session\n",
      "Failed to parse URL at index 11217, URL: https://www.pittsburghsymphony.org/promotion/new\n"
     ]
    },
    {
     "name": "stderr",
     "output_type": "stream",
     "text": [
      " 62%|██████▏   | 11229/18004 [2:31:13<2:49:40,  1.50s/it]"
     ]
    },
    {
     "name": "stdout",
     "output_type": "stream",
     "text": [
      "Failed to parse URL at index 11228, URL: https://www.pittsburghsymphony.org/pso_home/web/about-landing/tel:4123924900\n"
     ]
    },
    {
     "name": "stderr",
     "output_type": "stream",
     "text": [
      " 62%|██████▏   | 11236/18004 [2:31:19<1:49:53,  1.03it/s]"
     ]
    },
    {
     "name": "stdout",
     "output_type": "stream",
     "text": [
      "Failed to parse URL at index 11235, URL: https://www.pittsburghsymphony.org/pso_home/biographies/pso-conductors/tel:4123924900\n"
     ]
    },
    {
     "name": "stderr",
     "output_type": "stream",
     "text": [
      " 63%|██████▎   | 11327/18004 [2:33:17<2:25:59,  1.31s/it]"
     ]
    },
    {
     "name": "stdout",
     "output_type": "stream",
     "text": [
      "Failed to parse URL at index 11326, URL: https://www.pittsburghsymphony.org/pso_home/web/tel:4123924900\n"
     ]
    },
    {
     "name": "stderr",
     "output_type": "stream",
     "text": [
      " 63%|██████▎   | 11334/18004 [2:33:25<2:05:59,  1.13s/it]"
     ]
    },
    {
     "name": "stdout",
     "output_type": "stream",
     "text": [
      "Failed to parse URL at index 11333, URL: https://www.pittsburghsymphony.org/pso_home/web/community-landing/tel:4123924900\n"
     ]
    },
    {
     "name": "stderr",
     "output_type": "stream",
     "text": [
      " 63%|██████▎   | 11339/18004 [2:33:25<55:02,  2.02it/s]  "
     ]
    },
    {
     "name": "stdout",
     "output_type": "stream",
     "text": [
      "Failed to parse URL at index 11335, URL: https://www.pittsburghsymphony.org/package/13405\n",
      "Failed to parse URL at index 11336, URL: https://www.pittsburghsymphony.org/package/renew/27427\n",
      "Failed to parse URL at index 11337, URL: https://www.pittsburghsymphony.org/production/94087/fiddlesticks-natures-soundtrack\n",
      "Failed to parse URL at index 11338, URL: https://www.pittsburghsymphony.org/production/94088/fiddlesticks-the-sounds-of-invention\n",
      "Failed to parse URL at index 11339, URL: https://www.pittsburghsymphony.org/production/94089/fiddlesticks-imagine-that\n"
     ]
    },
    {
     "name": "stderr",
     "output_type": "stream",
     "text": [
      " 63%|██████▎   | 11347/18004 [2:33:34<2:17:26,  1.24s/it]"
     ]
    },
    {
     "name": "stdout",
     "output_type": "stream",
     "text": [
      "Failed to parse URL at index 11346, URL: https://www.pittsburghsymphony.org/pso_home/web/subscriptions/why-subscribe-24-25/tel:4123924900\n"
     ]
    },
    {
     "name": "stderr",
     "output_type": "stream",
     "text": [
      " 63%|██████▎   | 11359/18004 [2:33:46<2:33:16,  1.38s/it]"
     ]
    },
    {
     "name": "stdout",
     "output_type": "stream",
     "text": [
      "Failed to parse URL at index 11358, URL: https://www.pittsburghsymphony.org/pso_home/web/community-landing/learning-programs/tel:4123924900\n"
     ]
    },
    {
     "name": "stderr",
     "output_type": "stream",
     "text": [
      " 63%|██████▎   | 11366/18004 [2:33:56<3:00:13,  1.63s/it]"
     ]
    },
    {
     "name": "stdout",
     "output_type": "stream",
     "text": [
      "Failed to parse URL at index 11365, URL: https://www.pittsburghsymphony.org/pso_home/web/community-landing/learning-programs/schooltime-concerts/tel:4123924900\n"
     ]
    },
    {
     "name": "stderr",
     "output_type": "stream",
     "text": [
      " 63%|██████▎   | 11380/18004 [2:34:05<1:12:32,  1.52it/s]"
     ]
    },
    {
     "name": "stdout",
     "output_type": "stream",
     "text": [
      "Failed to parse URL at index 11379, URL: https://www.pittsburghsymphony.org/pso_home/web/subscriptions/why-subscribe\n"
     ]
    },
    {
     "name": "stderr",
     "output_type": "stream",
     "text": [
      " 63%|██████▎   | 11381/18004 [2:34:08<2:02:06,  1.11s/it]"
     ]
    },
    {
     "name": "stdout",
     "output_type": "stream",
     "text": [
      "Failed to parse URL at index 11380, URL: https://www.pittsburghsymphony.org/pso_home/web/give-landing/corporate-partnerships/tel:4123924900\n"
     ]
    },
    {
     "name": "stderr",
     "output_type": "stream",
     "text": [
      " 64%|██████▎   | 11455/18004 [2:34:39<3:04:01,  1.69s/it]"
     ]
    },
    {
     "name": "stdout",
     "output_type": "stream",
     "text": [
      "Failed to parse URL at index 11453, URL: https://artists.bandsintown.com?utm_source=bandsintown&utm_medium=web&utm_campaign=website\n"
     ]
    },
    {
     "name": "stderr",
     "output_type": "stream",
     "text": [
      " 64%|██████▎   | 11470/18004 [2:34:51<1:43:07,  1.06it/s]"
     ]
    },
    {
     "name": "stdout",
     "output_type": "stream",
     "text": [
      "Failed to parse URL at index 11470, URL: http://www.ticketweb.com/venue/club-cafe-pittsburgh-pa/23219?pl=opus\n"
     ]
    },
    {
     "name": "stderr",
     "output_type": "stream",
     "text": [
      " 64%|██████▎   | 11475/18004 [2:34:54<56:51,  1.91it/s]  "
     ]
    },
    {
     "name": "stdout",
     "output_type": "stream",
     "text": [
      "Failed to parse URL at index 11474, URL: http://citywinery.com/pittsburgh\n"
     ]
    },
    {
     "name": "stderr",
     "output_type": "stream",
     "text": [
      " 64%|██████▍   | 11495/18004 [2:35:11<1:32:21,  1.17it/s]"
     ]
    },
    {
     "name": "stdout",
     "output_type": "stream",
     "text": [
      "Failed to parse URL at index 11494, URL: http://www.thebridgemusicbar.com/\n"
     ]
    },
    {
     "name": "stderr",
     "output_type": "stream",
     "text": [
      " 64%|██████▍   | 11540/18004 [2:35:51<3:06:02,  1.73s/it]"
     ]
    },
    {
     "name": "stdout",
     "output_type": "stream",
     "text": [
      "Failed to parse URL at index 11538, URL: https://www.visitpittsburgh.com/blog/childrens-theater-2024-pittsburgh/\n"
     ]
    },
    {
     "name": "stderr",
     "output_type": "stream",
     "text": [
      " 64%|██████▍   | 11559/18004 [2:36:06<1:17:32,  1.39it/s]"
     ]
    },
    {
     "name": "stdout",
     "output_type": "stream",
     "text": [
      "Failed to parse URL at index 11558, URL: http://www.citywinery.com/pittsburgh\n"
     ]
    },
    {
     "name": "stderr",
     "output_type": "stream",
     "text": [
      " 65%|██████▍   | 11620/18004 [2:37:01<37:00,  2.88it/s]  "
     ]
    },
    {
     "name": "stdout",
     "output_type": "stream",
     "text": [
      "Failed to parse URL at index 11619, URL: http://www.pittsburghlive.com/x/pittsburghtrib/s_592946.html\n"
     ]
    },
    {
     "name": "stderr",
     "output_type": "stream",
     "text": [
      " 65%|██████▍   | 11621/18004 [2:37:06<3:06:30,  1.75s/it]"
     ]
    },
    {
     "name": "stdout",
     "output_type": "stream",
     "text": [
      "Failed to parse URL at index 11620, URL: https://web.archive.org/web/20090907070038/http://www.pittsburghlive.com/x/pittsburghtrib/s_592946.html\n"
     ]
    },
    {
     "name": "stderr",
     "output_type": "stream",
     "text": [
      " 65%|██████▍   | 11624/18004 [2:37:07<1:31:35,  1.16it/s]"
     ]
    },
    {
     "name": "stdout",
     "output_type": "stream",
     "text": [
      "Failed to parse URL at index 11623, URL: http://www.pittsburghopera.org/pages/green-initiative\n"
     ]
    },
    {
     "name": "stderr",
     "output_type": "stream",
     "text": [
      " 65%|██████▍   | 11642/18004 [2:37:13<29:51,  3.55it/s]  "
     ]
    },
    {
     "name": "stdout",
     "output_type": "stream",
     "text": [
      "Failed to parse URL at index 11642, URL: https://www.nytimes.com/2017/11/07/arts/music/metropolitan-opera-high-note-exterminating-angel.html\n"
     ]
    },
    {
     "name": "stderr",
     "output_type": "stream",
     "text": [
      " 65%|██████▍   | 11644/18004 [2:37:13<27:08,  3.90it/s]"
     ]
    },
    {
     "name": "stdout",
     "output_type": "stream",
     "text": [
      "Failed to parse URL at index 11643, URL: https://www.pittsburghopera.org/about/pittsburgh-opera-headquarters\n"
     ]
    },
    {
     "name": "stderr",
     "output_type": "stream",
     "text": [
      " 65%|██████▍   | 11645/18004 [2:37:18<2:58:36,  1.69s/it]"
     ]
    },
    {
     "name": "stdout",
     "output_type": "stream",
     "text": [
      "Failed to parse URL at index 11644, URL: https://web.archive.org/web/20210614062414/https://www.pittsburghopera.org/about/pittsburgh-opera-headquarters/\n"
     ]
    },
    {
     "name": "stderr",
     "output_type": "stream",
     "text": [
      " 65%|██████▍   | 11649/18004 [2:37:21<1:35:39,  1.11it/s]"
     ]
    },
    {
     "name": "stdout",
     "output_type": "stream",
     "text": [
      "Failed to parse URL at index 11648, URL: http://www.wolvertonartists.com/artists/walker/walker_bio.php\n"
     ]
    },
    {
     "name": "stderr",
     "output_type": "stream",
     "text": [
      " 65%|██████▍   | 11656/18004 [2:37:23<47:58,  2.21it/s]  "
     ]
    },
    {
     "name": "stdout",
     "output_type": "stream",
     "text": [
      "Failed to parse URL at index 11655, URL: https://en.wikipedia.org/w/index.php?title=Theo_Alc%C3%A1ntara&action=edit&redlink=1\n"
     ]
    },
    {
     "name": "stderr",
     "output_type": "stream",
     "text": [
      " 65%|██████▍   | 11663/18004 [2:37:31<3:16:14,  1.86s/it]"
     ]
    },
    {
     "name": "stdout",
     "output_type": "stream",
     "text": [
      "Failed to parse URL at index 11662, URL: https://web.archive.org/web/20120207224032/http://www.pittsburghopera.org/company/history.shtml?search=history=F000\n"
     ]
    },
    {
     "name": "stderr",
     "output_type": "stream",
     "text": [
      " 65%|██████▍   | 11664/18004 [2:37:32<2:34:50,  1.47s/it]"
     ]
    },
    {
     "name": "stdout",
     "output_type": "stream",
     "text": [
      "Failed to parse URL at index 11663, URL: http://www.pittsburghopera.org/company/history.shtml?search=history=F000\n"
     ]
    },
    {
     "name": "stderr",
     "output_type": "stream",
     "text": [
      " 65%|██████▍   | 11667/18004 [2:37:33<1:21:30,  1.30it/s]"
     ]
    },
    {
     "name": "stdout",
     "output_type": "stream",
     "text": [
      "Failed to parse URL at index 11666, URL: http://www.post-gazette.com/magazine/19990504opera6.asp\n"
     ]
    },
    {
     "name": "stderr",
     "output_type": "stream",
     "text": [
      " 65%|██████▍   | 11669/18004 [2:37:33<55:50,  1.89it/s]  "
     ]
    },
    {
     "name": "stdout",
     "output_type": "stream",
     "text": [
      "Failed to parse URL at index 11668, URL: http://www.post-gazette.com/pg/05282/584613-148.stm\n"
     ]
    },
    {
     "name": "stderr",
     "output_type": "stream",
     "text": [
      " 65%|██████▍   | 11670/18004 [2:37:33<46:29,  2.27it/s]"
     ]
    },
    {
     "name": "stdout",
     "output_type": "stream",
     "text": [
      "Failed to parse URL at index 11670, URL: http://www.pittsburghlive.com/x/pittsburghtrib/living/arts/opera/s_499095.html\n"
     ]
    },
    {
     "name": "stderr",
     "output_type": "stream",
     "text": [
      " 65%|██████▍   | 11672/18004 [2:37:34<37:47,  2.79it/s]"
     ]
    },
    {
     "name": "stdout",
     "output_type": "stream",
     "text": [
      "Failed to parse URL at index 11672, URL: http://www.pittsburghlive.com/x/pittsburghtrib/living/arts/opera/s_537217.html\n"
     ]
    },
    {
     "name": "stderr",
     "output_type": "stream",
     "text": [
      " 65%|██████▍   | 11675/18004 [2:37:34<33:23,  3.16it/s]"
     ]
    },
    {
     "name": "stdout",
     "output_type": "stream",
     "text": [
      "Failed to parse URL at index 11674, URL: http://www.post-gazette.com/pg/07302/829345-388.stm\n"
     ]
    },
    {
     "name": "stderr",
     "output_type": "stream",
     "text": [
      " 65%|██████▍   | 11677/18004 [2:37:35<27:56,  3.77it/s]"
     ]
    },
    {
     "name": "stdout",
     "output_type": "stream",
     "text": [
      "Failed to parse URL at index 11676, URL: http://www.post-gazette.com/pg/06133/689693-42.stm\n"
     ]
    },
    {
     "name": "stderr",
     "output_type": "stream",
     "text": [
      " 65%|██████▍   | 11679/18004 [2:37:40<2:57:39,  1.69s/it]"
     ]
    },
    {
     "name": "stdout",
     "output_type": "stream",
     "text": [
      "Failed to parse URL at index 11678, URL: https://web.archive.org/web/20070210171459/http://www.pittsburghlive.com/x/pittsburghtrib/living/arts/opera/s_474523.html\n",
      "Failed to parse URL at index 11679, URL: http://www.pittsburghlive.com/x/pittsburghtrib/living/arts/opera/s_474523.html\n"
     ]
    },
    {
     "name": "stderr",
     "output_type": "stream",
     "text": [
      " 65%|██████▍   | 11682/18004 [2:37:41<1:41:18,  1.04it/s]"
     ]
    },
    {
     "name": "stdout",
     "output_type": "stream",
     "text": [
      "Failed to parse URL at index 11681, URL: http://www.post-gazette.com/pg/06285/729338-42.stm\n"
     ]
    },
    {
     "name": "stderr",
     "output_type": "stream",
     "text": [
      " 65%|██████▍   | 11684/18004 [2:37:41<1:02:01,  1.70it/s]"
     ]
    },
    {
     "name": "stdout",
     "output_type": "stream",
     "text": [
      "Failed to parse URL at index 11683, URL: http://www.post-gazette.com/pg/08093/869798-388.stm\n"
     ]
    },
    {
     "name": "stderr",
     "output_type": "stream",
     "text": [
      " 65%|██████▍   | 11698/18004 [2:37:47<42:12,  2.49it/s]  "
     ]
    },
    {
     "name": "stdout",
     "output_type": "stream",
     "text": [
      "Failed to parse URL at index 11697, URL: https://opera.culturaldistrict.org/donate-now/give-to-the-pittsburgh-opera?_ga=2.211692373.1108986527.1715015278-1076642171.1704821445\n",
      "Failed to parse URL at index 11698, URL: https://opera.culturaldistrict.org/order_history/show?_ga=2.237858368.1108986527.1715015278-1076642171.1704821445\n"
     ]
    },
    {
     "name": "stderr",
     "output_type": "stream",
     "text": [
      " 65%|██████▌   | 11737/18004 [2:37:55<26:14,  3.98it/s]"
     ]
    },
    {
     "name": "stdout",
     "output_type": "stream",
     "text": [
      "Failed to parse URL at index 11735, URL: https://pittsburghoperalegacy.org/\n"
     ]
    },
    {
     "name": "stderr",
     "output_type": "stream",
     "text": [
      " 66%|██████▌   | 11906/18004 [2:38:27<35:57,  2.83it/s]"
     ]
    },
    {
     "name": "stdout",
     "output_type": "stream",
     "text": [
      "Failed to parse URL at index 11905, URL: https://trustarts.org/\n"
     ]
    },
    {
     "name": "stderr",
     "output_type": "stream",
     "text": [
      " 66%|██████▌   | 11912/18004 [2:38:33<57:22,  1.77it/s]  "
     ]
    },
    {
     "name": "stdout",
     "output_type": "stream",
     "text": [
      "Failed to parse URL at index 11912, URL: https://www.linkedin.com/company/pittsburgh-opera/\n"
     ]
    },
    {
     "name": "stderr",
     "output_type": "stream",
     "text": [
      " 66%|██████▌   | 11924/18004 [2:38:38<1:05:10,  1.55it/s]"
     ]
    },
    {
     "name": "stdout",
     "output_type": "stream",
     "text": [
      "Failed to parse URL at index 11922, URL: https://opera.culturaldistrict.org/donate-now/give-to-the-pittsburgh-opera\n"
     ]
    },
    {
     "name": "stderr",
     "output_type": "stream",
     "text": [
      " 66%|██████▋   | 11948/18004 [2:38:54<45:40,  2.21it/s]  "
     ]
    },
    {
     "name": "stdout",
     "output_type": "stream",
     "text": [
      "Failed to parse URL at index 11947, URL: http://noahbaetge.com/\n"
     ]
    },
    {
     "name": "stderr",
     "output_type": "stream",
     "text": [
      " 66%|██████▋   | 11965/18004 [2:39:14<3:39:25,  2.18s/it]"
     ]
    },
    {
     "name": "stdout",
     "output_type": "stream",
     "text": [
      "Failed to parse URL at index 11964, URL: http://www.stepheneisenhard.com/default.htm\n"
     ]
    },
    {
     "name": "stderr",
     "output_type": "stream",
     "text": [
      " 67%|██████▋   | 11977/18004 [2:39:24<1:37:20,  1.03it/s]"
     ]
    },
    {
     "name": "stdout",
     "output_type": "stream",
     "text": [
      "Failed to parse URL at index 11976, URL: https://www.tapestryoperock.com/holli-harrison\n"
     ]
    },
    {
     "name": "stderr",
     "output_type": "stream",
     "text": [
      " 67%|██████▋   | 11981/18004 [2:39:25<40:41,  2.47it/s]  "
     ]
    },
    {
     "name": "stdout",
     "output_type": "stream",
     "text": [
      "Failed to parse URL at index 11979, URL: https://nancyfabiolaherrera.com/\n"
     ]
    },
    {
     "name": "stderr",
     "output_type": "stream",
     "text": [
      " 67%|██████▋   | 12006/18004 [2:39:44<1:02:15,  1.61it/s]"
     ]
    },
    {
     "name": "stdout",
     "output_type": "stream",
     "text": [
      "Failed to parse URL at index 12005, URL: http://www.francesrabalais.com/\n"
     ]
    },
    {
     "name": "stderr",
     "output_type": "stream",
     "text": [
      " 67%|██████▋   | 12012/18004 [2:39:47<57:54,  1.72it/s]  "
     ]
    },
    {
     "name": "stdout",
     "output_type": "stream",
     "text": [
      "Failed to parse URL at index 12011, URL: https://www.arsis-artists.com/en/artists/angel-romero\n"
     ]
    },
    {
     "name": "stderr",
     "output_type": "stream",
     "text": [
      " 67%|██████▋   | 12013/18004 [2:39:48<53:26,  1.87it/s]"
     ]
    },
    {
     "name": "stdout",
     "output_type": "stream",
     "text": [
      "Failed to parse URL at index 12012, URL: http://www.matthewscollin.com/\n"
     ]
    },
    {
     "name": "stderr",
     "output_type": "stream",
     "text": [
      " 67%|██████▋   | 12016/18004 [2:39:50<54:18,  1.84it/s]  "
     ]
    },
    {
     "name": "stdout",
     "output_type": "stream",
     "text": [
      "Failed to parse URL at index 12015, URL: http://kevin-short.com/index.php\n"
     ]
    },
    {
     "name": "stderr",
     "output_type": "stream",
     "text": [
      " 67%|██████▋   | 12023/18004 [2:39:58<1:12:52,  1.37it/s]"
     ]
    },
    {
     "name": "stdout",
     "output_type": "stream",
     "text": [
      "Failed to parse URL at index 12022, URL: http://philiptorre.com/\n"
     ]
    },
    {
     "name": "stderr",
     "output_type": "stream",
     "text": [
      " 67%|██████▋   | 12065/18004 [2:40:05<1:24:01,  1.18it/s]"
     ]
    },
    {
     "name": "stdout",
     "output_type": "stream",
     "text": [
      "Failed to parse URL at index 12065, URL: https://44143915.fs1.hubspotusercontent-na1.net/hubfs/44143915/Directions_to_2425_Liberty_Avenue_in_Strip_District__11.13.2018-1.pdf\n"
     ]
    },
    {
     "name": "stderr",
     "output_type": "stream",
     "text": [
      " 67%|██████▋   | 12072/18004 [2:40:15<1:36:16,  1.03it/s]"
     ]
    },
    {
     "name": "stdout",
     "output_type": "stream",
     "text": [
      "Failed to parse URL at index 12072, URL: http://www.arts.pa.gov/Pages/default.aspx\n"
     ]
    },
    {
     "name": "stderr",
     "output_type": "stream",
     "text": [
      " 67%|██████▋   | 12078/18004 [2:40:21<1:19:05,  1.25it/s]"
     ]
    },
    {
     "name": "stdout",
     "output_type": "stream",
     "text": [
      "Failed to parse URL at index 12077, URL: https://operaamerica.org/content/about/PressRoom/2018/04102018.pdf\n"
     ]
    },
    {
     "name": "stderr",
     "output_type": "stream",
     "text": [
      " 67%|██████▋   | 12079/18004 [2:40:24<2:39:15,  1.61s/it]"
     ]
    },
    {
     "name": "stdout",
     "output_type": "stream",
     "text": [
      "Failed to parse URL at index 12078, URL: http://www.getty.edu/foundation/\n"
     ]
    },
    {
     "name": "stderr",
     "output_type": "stream",
     "text": [
      " 67%|██████▋   | 12080/18004 [2:40:25<1:58:51,  1.20s/it]"
     ]
    },
    {
     "name": "stdout",
     "output_type": "stream",
     "text": [
      "Failed to parse URL at index 12079, URL: https://hillmanfamilyfoundations.org/foundations/hillman-foundation/\n"
     ]
    },
    {
     "name": "stderr",
     "output_type": "stream",
     "text": [
      " 67%|██████▋   | 12082/18004 [2:40:25<1:11:01,  1.39it/s]"
     ]
    },
    {
     "name": "stdout",
     "output_type": "stream",
     "text": [
      "Failed to parse URL at index 12081, URL: https://learn.instantencore.com/livenote\n"
     ]
    },
    {
     "name": "stderr",
     "output_type": "stream",
     "text": [
      " 67%|██████▋   | 12088/18004 [2:40:27<34:15,  2.88it/s]  "
     ]
    },
    {
     "name": "stdout",
     "output_type": "stream",
     "text": [
      "Failed to parse URL at index 12087, URL: https://opera.culturaldistrict.org/production/92654/tosca\n"
     ]
    },
    {
     "name": "stderr",
     "output_type": "stream",
     "text": [
      " 67%|██████▋   | 12100/18004 [2:40:40<2:02:32,  1.25s/it]"
     ]
    },
    {
     "name": "stdout",
     "output_type": "stream",
     "text": [
      "Failed to parse URL at index 12099, URL: https://opera.culturaldistrict.org/production/92661/cavalleria-rusticana-slash-pagliacci\n"
     ]
    },
    {
     "name": "stderr",
     "output_type": "stream",
     "text": [
      " 67%|██████▋   | 12104/18004 [2:40:49<3:40:04,  2.24s/it]"
     ]
    },
    {
     "name": "stdout",
     "output_type": "stream",
     "text": [
      "Failed to parse URL at index 12103, URL: https://piperartists.com/portfolio/ricardo-jose-rivera/\n"
     ]
    },
    {
     "name": "stderr",
     "output_type": "stream",
     "text": [
      " 67%|██████▋   | 12107/18004 [2:40:49<2:00:57,  1.23s/it]"
     ]
    },
    {
     "name": "stdout",
     "output_type": "stream",
     "text": [
      "Failed to parse URL at index 12105, URL: https://opera.culturaldistrict.org/production/92675/armida\n",
      "Failed to parse URL at index 12106, URL: https://opera.culturaldistrict.org/production/92666/madama-butterfly\n"
     ]
    },
    {
     "name": "stderr",
     "output_type": "stream",
     "text": [
      " 67%|██████▋   | 12112/18004 [2:40:56<2:47:45,  1.71s/it]"
     ]
    },
    {
     "name": "stdout",
     "output_type": "stream",
     "text": [
      "Failed to parse URL at index 12111, URL: https://www.truccomanagement.com/nozomi-kato\n"
     ]
    },
    {
     "name": "stderr",
     "output_type": "stream",
     "text": [
      " 67%|██████▋   | 12119/18004 [2:41:01<1:23:57,  1.17it/s]"
     ]
    },
    {
     "name": "stdout",
     "output_type": "stream",
     "text": [
      "Failed to parse URL at index 12117, URL: https://opera.culturaldistrict.org/production/92683/woman-with-eyes-closed\n"
     ]
    },
    {
     "name": "stderr",
     "output_type": "stream",
     "text": [
      " 68%|██████▊   | 12259/18004 [2:44:38<2:17:27,  1.44s/it]"
     ]
    },
    {
     "name": "stdout",
     "output_type": "stream",
     "text": [
      "Failed to parse URL at index 12258, URL: https://www.etix.com/ticket/p/42112549/guttermouth-new-kensington-preserving?partner_id=100\n"
     ]
    },
    {
     "name": "stderr",
     "output_type": "stream",
     "text": [
      " 68%|██████▊   | 12279/18004 [2:45:16<1:24:42,  1.13it/s]"
     ]
    },
    {
     "name": "stdout",
     "output_type": "stream",
     "text": [
      "Failed to parse URL at index 12278, URL: https://playhouse.culturaldistrict.org/production/95451/list_performances\n"
     ]
    },
    {
     "name": "stderr",
     "output_type": "stream",
     "text": [
      " 68%|██████▊   | 12282/18004 [2:45:19<1:08:53,  1.38it/s]"
     ]
    },
    {
     "name": "stdout",
     "output_type": "stream",
     "text": [
      "Failed to parse URL at index 12280, URL: https://www.pghcitypaper.com/pittsburgh/club-cafe/Location?oid=1422467\n",
      "Failed to parse URL at index 12281, URL: https://www.ticketweb.com/event/smokin-betties-burlesque-presents-return-club-cafe-tickets/13865573\n"
     ]
    },
    {
     "name": "stderr",
     "output_type": "stream",
     "text": [
      " 68%|██████▊   | 12290/18004 [2:45:33<2:31:14,  1.59s/it]"
     ]
    },
    {
     "name": "stdout",
     "output_type": "stream",
     "text": [
      "Failed to parse URL at index 12289, URL: https://pittsburghmusicals.com/evildeadtickets\n"
     ]
    },
    {
     "name": "stderr",
     "output_type": "stream",
     "text": [
      " 68%|██████▊   | 12299/18004 [2:45:52<2:53:06,  1.82s/it]"
     ]
    },
    {
     "name": "stdout",
     "output_type": "stream",
     "text": [
      "Failed to parse URL at index 12298, URL: https://www.pghcitypaper.com/pittsburgh/carnegie-library-oakland/Location?oid=1423155\n"
     ]
    },
    {
     "name": "stderr",
     "output_type": "stream",
     "text": [
      " 75%|███████▍  | 13415/18004 [2:57:39<59:42,  1.28it/s]  "
     ]
    },
    {
     "name": "stdout",
     "output_type": "stream",
     "text": [
      "Failed to parse URL at index 13414, URL: https://www.visitpittsburgh.com/directory/ppg-paints-arena-1037748-disabled/\n"
     ]
    },
    {
     "name": "stderr",
     "output_type": "stream",
     "text": [
      " 75%|███████▍  | 13438/18004 [2:58:03<1:05:03,  1.17it/s]"
     ]
    },
    {
     "name": "stdout",
     "output_type": "stream",
     "text": [
      "Failed to parse URL at index 13438, URL: http://secure.steelers.com/catalog/\n"
     ]
    },
    {
     "name": "stderr",
     "output_type": "stream",
     "text": [
      " 75%|███████▍  | 13440/18004 [2:58:03<49:47,  1.53it/s]  "
     ]
    },
    {
     "name": "stdout",
     "output_type": "stream",
     "text": [
      "Failed to parse URL at index 13439, URL: http://www.steelersbars.com/\n"
     ]
    },
    {
     "name": "stderr",
     "output_type": "stream",
     "text": [
      " 75%|███████▍  | 13462/18004 [2:58:27<1:11:31,  1.06it/s]"
     ]
    },
    {
     "name": "stdout",
     "output_type": "stream",
     "text": [
      "Failed to parse URL at index 13461, URL: http://www.carlow.edu/Athletics.aspx\n"
     ]
    },
    {
     "name": "stderr",
     "output_type": "stream",
     "text": [
      " 75%|███████▍  | 13467/18004 [2:58:37<2:03:19,  1.63s/it]"
     ]
    },
    {
     "name": "stdout",
     "output_type": "stream",
     "text": [
      "Failed to parse URL at index 13466, URL: http://www.ccac.edu/default.aspx?id=152716\n"
     ]
    },
    {
     "name": "stderr",
     "output_type": "stream",
     "text": [
      " 75%|███████▍  | 13471/18004 [2:58:39<1:06:07,  1.14it/s]"
     ]
    },
    {
     "name": "stdout",
     "output_type": "stream",
     "text": [
      "Failed to parse URL at index 13470, URL: http://www.knights.gg/\n"
     ]
    },
    {
     "name": "stderr",
     "output_type": "stream",
     "text": [
      " 75%|███████▌  | 13524/18004 [2:59:34<1:56:57,  1.57s/it]"
     ]
    },
    {
     "name": "stdout",
     "output_type": "stream",
     "text": [
      "Failed to parse URL at index 13523, URL: http://www.mikesbeerbar.com\n"
     ]
    },
    {
     "name": "stderr",
     "output_type": "stream",
     "text": [
      " 75%|███████▌  | 13548/18004 [2:59:54<1:08:03,  1.09it/s]"
     ]
    },
    {
     "name": "stdout",
     "output_type": "stream",
     "text": [
      "Failed to parse URL at index 13547, URL: http://www.smallmanstreetdeli.com/\n"
     ]
    },
    {
     "name": "stderr",
     "output_type": "stream",
     "text": [
      " 75%|███████▌  | 13579/18004 [3:00:14<54:01,  1.37it/s]  "
     ]
    },
    {
     "name": "stdout",
     "output_type": "stream",
     "text": [
      "Failed to parse URL at index 13578, URL: http://www.pittsburghzoo.org/penguins-on-parade/\n"
     ]
    },
    {
     "name": "stderr",
     "output_type": "stream",
     "text": [
      " 76%|███████▌  | 13643/18004 [3:00:42<26:02,  2.79it/s]  "
     ]
    },
    {
     "name": "stdout",
     "output_type": "stream",
     "text": [
      "Failed to parse URL at index 13642, URL: https://www.steelers.com/fans/yinzchat/ \n"
     ]
    },
    {
     "name": "stderr",
     "output_type": "stream",
     "text": [
      " 76%|███████▋  | 13767/18004 [3:01:55<25:44,  2.74it/s]  "
     ]
    },
    {
     "name": "stdout",
     "output_type": "stream",
     "text": [
      "Failed to parse URL at index 13766, URL: https://onlocationexp.com/nfl/super-bowl-tickets?utm_source=steelers.com&utm_medium=referral&utm_campaign=super_bowl_teams-steelers_footer_menu\n"
     ]
    },
    {
     "name": "stderr",
     "output_type": "stream",
     "text": [
      " 77%|███████▋  | 13780/18004 [3:02:02<32:53,  2.14it/s]"
     ]
    },
    {
     "name": "stdout",
     "output_type": "stream",
     "text": [
      "Failed to parse URL at index 13779, URL: https://acrisurestadium.com/stadium/tours/\n"
     ]
    },
    {
     "name": "stderr",
     "output_type": "stream",
     "text": [
      " 77%|███████▋  | 13821/18004 [3:02:15<24:26,  2.85it/s]"
     ]
    },
    {
     "name": "stdout",
     "output_type": "stream",
     "text": [
      "Failed to parse URL at index 13820, URL: https://www.nflshop.com/source/bm-nflcom-2017-BottomBanner-shopgeneric\n"
     ]
    },
    {
     "name": "stderr",
     "output_type": "stream",
     "text": [
      " 77%|███████▋  | 13822/18004 [3:02:16<33:04,  2.11it/s]"
     ]
    },
    {
     "name": "stdout",
     "output_type": "stream",
     "text": [
      "Failed to parse URL at index 13821, URL: https://nflonlocation.com/?utm_campaign=OLE&utm_medium=referral&utm_source=nfl&utm_content=footerlink\n"
     ]
    },
    {
     "name": "stderr",
     "output_type": "stream",
     "text": [
      " 77%|███████▋  | 13827/18004 [3:02:19<35:41,  1.95it/s]"
     ]
    },
    {
     "name": "stdout",
     "output_type": "stream",
     "text": [
      "Failed to parse URL at index 13827, URL: https://www.nflexperience.com/\n"
     ]
    },
    {
     "name": "stderr",
     "output_type": "stream",
     "text": [
      " 77%|███████▋  | 13841/18004 [3:02:25<15:02,  4.61it/s]  "
     ]
    },
    {
     "name": "stdout",
     "output_type": "stream",
     "text": [
      "Failed to parse URL at index 13840, URL: https://onlocationexp.com/nfl/super-bowl-tickets?utm_source=steelers.com&utm_medium=referral&utm_campaign=super_bowl_teams-steelers_schedule_menu\n"
     ]
    },
    {
     "name": "stderr",
     "output_type": "stream",
     "text": [
      " 77%|███████▋  | 13852/18004 [3:02:29<18:46,  3.68it/s]"
     ]
    },
    {
     "name": "stdout",
     "output_type": "stream",
     "text": [
      "Failed to parse URL at index 13850, URL: https://www.ticketmaster.com/pittsburgh-steelers-vs-new-york-jets-pittsburgh-pennsylvania/event/16006065B9393431?brand=steelers&artistid=806007&landing=s&wt.mc_id=NFL_TEAM_PIT_SCHED_PG_LINK_STEELERS_JETS&utm_source=NFL.com&utm_medium=client&utm_campaign=NFL_TEAM_PIT&utm_content=SCHED_PG_LINK_STEELERS_JETS&campaign=pit-ti-it-sp-2000577\n",
      "Failed to parse URL at index 13851, URL: https://www.ticketmaster.com/pittsburgh-steelers-vs-new-york-giants-pittsburgh-pennsylvania/event/16006065B934342B?brand=steelers&artistid=806007&landing=s&wt.mc_id=NFL_TEAM_PIT_SCHED_PG_LINK_STEELERS_GIANTS&utm_source=NFL.com&utm_medium=client&utm_campaign=NFL_TEAM_PIT&utm_content=SCHED_PG_LINK_STEELERS_GIANTS&campaign=pit-ti-it-sp-2000576\n"
     ]
    },
    {
     "name": "stderr",
     "output_type": "stream",
     "text": [
      " 77%|███████▋  | 13854/18004 [3:02:30<30:13,  2.29it/s]"
     ]
    },
    {
     "name": "stdout",
     "output_type": "stream",
     "text": [
      "Failed to parse URL at index 13853, URL: https://www.ticketmaster.com/event/150060A318B56FFF?wt.mc_id=NFL_TEAM_PIT_SCHED_PG_LINK_AWAY_STEELERS_COMMANDERS&utm_source=NFL.com&utm_medium=client&utm_campaign=NFL_TEAM_PIT&utm_content=SCHED_PG_LINK_AWAY_STEELERS_COMMANDERS&campaign=pit-ti-it-sp-2000639\n"
     ]
    },
    {
     "name": "stderr",
     "output_type": "stream",
     "text": [
      " 77%|███████▋  | 13855/18004 [3:02:31<29:36,  2.33it/s]"
     ]
    },
    {
     "name": "stdout",
     "output_type": "stream",
     "text": [
      "Failed to parse URL at index 13854, URL: https://www.ticketmaster.com/pittsburgh-steelers-vs-baltimore-ravens-pittsburgh-pennsylvania/event/16006065B91733BE?brand=steelers&artistid=806007&wt.mc_id=NFL_TEAM_PIT_SCHED_PG_LINK_STEELERS_RAVENS&utm_source=NFL.com&utm_medium=client&utm_campaign=NFL_TEAM_PIT&utm_content=SCHED_PG_LINK_STEELERS_RAVENS&campaign=pit-ti-it-sp-2000600\n"
     ]
    },
    {
     "name": "stderr",
     "output_type": "stream",
     "text": [
      " 77%|███████▋  | 13857/18004 [3:02:32<30:50,  2.24it/s]"
     ]
    },
    {
     "name": "stdout",
     "output_type": "stream",
     "text": [
      "Failed to parse URL at index 13856, URL: https://www.ticketmaster.com/event/05006090E6C95A17?wt.mc_id=NFL_TEAM_PIT_SCHED_PG_LINK_AWAY_STEELERS_BROWNS&utm_source=NFL.com&utm_medium=client&utm_campaign=NFL_TEAM_PIT&utm_content=SCHED_PG_LINK_AWAY_STEELERS_BROWNS&campaign=pit-ti-it-sp-2000635\n"
     ]
    },
    {
     "name": "stderr",
     "output_type": "stream",
     "text": [
      " 77%|███████▋  | 13860/18004 [3:02:33<24:28,  2.82it/s]"
     ]
    },
    {
     "name": "stdout",
     "output_type": "stream",
     "text": [
      "Failed to parse URL at index 13858, URL: https://www.ticketmaster.com/event/1600607AC0CC4752?wt.mc_id=NFL_TEAM_PIT_SCHED_PG_LINK_AWAY_STEELERS_BENGALS&utm_source=NFL.com&utm_medium=client&utm_campaign=NFL_TEAM_PIT&utm_content=SCHED_PG_LINK_AWAY_STEELERS_BENGALS&campaign=pit-ti-it-sp-2000634\n",
      "Failed to parse URL at index 13859, URL: https://www.ticketmaster.com/pittsburgh-steelers-vs-cleveland-browns-pittsburgh-pennsylvania/event/16006065B92133DF?brand=steelers&artistid=806007&landing=s&wt.mc_id=NFL_TEAM_PIT_SCHED_PG_LINK_STEELERS_BROWNS&utm_source=NFL.com&utm_medium=client&utm_campaign=NFL_TEAM_PIT&utm_content=SCHED_PG_LINK_STEELERS_BROWNS&campaign=pit-ti-it-sp-2000572\n"
     ]
    },
    {
     "name": "stderr",
     "output_type": "stream",
     "text": [
      " 77%|███████▋  | 13862/18004 [3:02:34<30:03,  2.30it/s]"
     ]
    },
    {
     "name": "stdout",
     "output_type": "stream",
     "text": [
      "Failed to parse URL at index 13861, URL: https://www.ticketmaster.com/event/0200609DD2C9484F?wt.mc_id=NFL_TEAM_PIT_SCHED_PG_LINK_AWAY_STEELERS_EAGLES&utm_source=NFL.com&utm_medium=client&utm_campaign=NFL_TEAM_PIT&utm_content=SCHED_PG_LINK_AWAY_STEELERS_EAGLES&campaign=pit-ti-it-sp-2000638\n"
     ]
    },
    {
     "name": "stderr",
     "output_type": "stream",
     "text": [
      " 77%|███████▋  | 13865/18004 [3:02:35<26:13,  2.63it/s]"
     ]
    },
    {
     "name": "stdout",
     "output_type": "stream",
     "text": [
      "Failed to parse URL at index 13863, URL: https://www.ticketmaster.com/event/150060A39C0034C8?wt.mc_id=NFL_TEAM_PIT_SCHED_PG_LINK_AWAY_STEELERS_RAVENS&utm_source=NFL.com&utm_medium=client&utm_campaign=NFL_TEAM_PIT&utm_content=SCHED_PG_LINK_AWAY_STEELERS_RAVENS&campaign=pit-ti-it-sp-2000633\n",
      "Failed to parse URL at index 13864, URL: https://www.ticketmaster.com/pittsburgh-steelers-vs-kansas-city-chiefs-pittsburgh-pennsylvania/event/16006065B92A3415?brand=steelers&artistid=806007&wt.mc_id=NFL_TEAM_PIT_SCHED_PG_LINK_STEELERS_CHIEFS&utm_source=NFL.com&utm_medium=client&utm_campaign=NFL_TEAM_PIT&utm_content=SCHED_PG_LINK_STEELERS_CHIEFS&campaign=pit-ti-it-sp-2000604\n"
     ]
    },
    {
     "name": "stderr",
     "output_type": "stream",
     "text": [
      " 77%|███████▋  | 13866/18004 [3:02:36<22:12,  3.10it/s]"
     ]
    },
    {
     "name": "stdout",
     "output_type": "stream",
     "text": [
      "Failed to parse URL at index 13865, URL: https://www.ticketmaster.com/pittsburgh-steelers-vs-cincinnati-bengals-pittsburgh-pennsylvania/event/16006065B91C33CC?brand=steelers&artistid=806007&landing=s&wt.mc_id=NFL_TEAM_PIT_SCHED_PG_LINK_STEELERS_BENGALS&utm_source=NFL.com&utm_medium=client&utm_campaign=NFL_TEAM_PIT&utm_content=SCHED_PG_LINK_STEELERS_BENGALS&campaign=pit-ti-it-sp-2000571\n"
     ]
    },
    {
     "name": "stderr",
     "output_type": "stream",
     "text": [
      " 78%|███████▊  | 14027/18004 [3:03:40<35:52,  1.85it/s]  "
     ]
    },
    {
     "name": "stdout",
     "output_type": "stream",
     "text": [
      "Failed to parse URL at index 14026, URL: https://archive.org/details/myroncopedoubley00cope/page/229\n"
     ]
    },
    {
     "name": "stderr",
     "output_type": "stream",
     "text": [
      " 78%|███████▊  | 14032/18004 [3:03:47<1:58:40,  1.79s/it]"
     ]
    },
    {
     "name": "stdout",
     "output_type": "stream",
     "text": [
      "Failed to parse URL at index 14031, URL: https://web.archive.org/web/20080303014050/http://www.radiohof.org/sportscasters/myroncope.html\n"
     ]
    },
    {
     "name": "stderr",
     "output_type": "stream",
     "text": [
      " 78%|███████▊  | 14033/18004 [3:03:47<1:29:22,  1.35s/it]"
     ]
    },
    {
     "name": "stdout",
     "output_type": "stream",
     "text": [
      "Failed to parse URL at index 14032, URL: http://www.radiohof.org/sportscasters/myroncope.html\n"
     ]
    },
    {
     "name": "stderr",
     "output_type": "stream",
     "text": [
      " 78%|███████▊  | 14048/18004 [3:03:53<26:03,  2.53it/s]  "
     ]
    },
    {
     "name": "stdout",
     "output_type": "stream",
     "text": [
      "Failed to parse URL at index 14047, URL: https://en.wikipedia.org/w/index.php?title=Gene_Collier&action=edit&redlink=1\n"
     ]
    },
    {
     "name": "stderr",
     "output_type": "stream",
     "text": [
      " 78%|███████▊  | 14049/18004 [3:03:54<30:13,  2.18it/s]"
     ]
    },
    {
     "name": "stdout",
     "output_type": "stream",
     "text": [
      "Failed to parse URL at index 14048, URL: http://www.post-gazette.com/pg/08059/861127-66.stm\n"
     ]
    },
    {
     "name": "stderr",
     "output_type": "stream",
     "text": [
      " 78%|███████▊  | 14052/18004 [3:03:55<26:39,  2.47it/s]"
     ]
    },
    {
     "name": "stdout",
     "output_type": "stream",
     "text": [
      "Failed to parse URL at index 14051, URL: http://www.post-gazette.com/stories/local/neighborhoods-east/comedian-marty-allen-part-of-allderdices-first-hall-class-355087/\n"
     ]
    },
    {
     "name": "stderr",
     "output_type": "stream",
     "text": [
      " 78%|███████▊  | 14055/18004 [3:04:00<1:23:12,  1.26s/it]"
     ]
    },
    {
     "name": "stdout",
     "output_type": "stream",
     "text": [
      "Failed to parse URL at index 14053, URL: https://web.archive.org/web/20061230144250/http://www.univ-relations.pitt.edu/pittmag/sep96/copeh.html\n",
      "Failed to parse URL at index 14054, URL: http://www.univ-relations.pitt.edu/pittmag/sep96/copeh.html\n"
     ]
    },
    {
     "name": "stderr",
     "output_type": "stream",
     "text": [
      " 78%|███████▊  | 14058/18004 [3:04:06<2:13:53,  2.04s/it]"
     ]
    },
    {
     "name": "stdout",
     "output_type": "stream",
     "text": [
      "Failed to parse URL at index 14057, URL: https://web.archive.org/web/20080402095715/http://kdka.com/local/Myron.Cope.honor.2.664822.html\n"
     ]
    },
    {
     "name": "stderr",
     "output_type": "stream",
     "text": [
      " 78%|███████▊  | 14059/18004 [3:04:06<1:45:14,  1.60s/it]"
     ]
    },
    {
     "name": "stdout",
     "output_type": "stream",
     "text": [
      "Failed to parse URL at index 14058, URL: http://kdka.com/local/Myron.Cope.honor.2.664822.html\n"
     ]
    },
    {
     "name": "stderr",
     "output_type": "stream",
     "text": [
      " 78%|███████▊  | 14065/18004 [3:04:08<26:20,  2.49it/s]  "
     ]
    },
    {
     "name": "stdout",
     "output_type": "stream",
     "text": [
      "Failed to parse URL at index 14064, URL: http://www.goerie.com/apps/pbcs.dll/article?AID=2008120336470\n"
     ]
    },
    {
     "name": "stderr",
     "output_type": "stream",
     "text": [
      " 78%|███████▊  | 14071/18004 [3:04:10<25:37,  2.56it/s]"
     ]
    },
    {
     "name": "stdout",
     "output_type": "stream",
     "text": [
      "Failed to parse URL at index 14070, URL: http://www.post-gazette.com/pg/08058/860750-13.stm\n"
     ]
    },
    {
     "name": "stderr",
     "output_type": "stream",
     "text": [
      " 78%|███████▊  | 14077/18004 [3:04:13<24:16,  2.70it/s]"
     ]
    },
    {
     "name": "stdout",
     "output_type": "stream",
     "text": [
      "Failed to parse URL at index 14076, URL: http://www.post-gazette.com/pg/06308/735188-30.stm\n"
     ]
    },
    {
     "name": "stderr",
     "output_type": "stream",
     "text": [
      " 78%|███████▊  | 14082/18004 [3:04:19<1:52:30,  1.72s/it]"
     ]
    },
    {
     "name": "stdout",
     "output_type": "stream",
     "text": [
      "Failed to parse URL at index 14081, URL: https://web.archive.org/web/20110522151044/http://sports.yahoo.com/nfl/news?slug=ap-obit-cope\n"
     ]
    },
    {
     "name": "stderr",
     "output_type": "stream",
     "text": [
      " 78%|███████▊  | 14083/18004 [3:04:19<1:29:55,  1.38s/it]"
     ]
    },
    {
     "name": "stdout",
     "output_type": "stream",
     "text": [
      "Failed to parse URL at index 14082, URL: https://sports.yahoo.com/nfl/news?slug=ap-obit-cope\n"
     ]
    },
    {
     "name": "stderr",
     "output_type": "stream",
     "text": [
      " 78%|███████▊  | 14087/18004 [3:04:25<2:09:03,  1.98s/it]"
     ]
    },
    {
     "name": "stdout",
     "output_type": "stream",
     "text": [
      "Failed to parse URL at index 14086, URL: https://web.archive.org/web/20080511235240/http://www.avs.net/terribletowel.cfm\n"
     ]
    },
    {
     "name": "stderr",
     "output_type": "stream",
     "text": [
      " 78%|███████▊  | 14088/18004 [3:04:26<1:36:33,  1.48s/it]"
     ]
    },
    {
     "name": "stdout",
     "output_type": "stream",
     "text": [
      "Failed to parse URL at index 14087, URL: http://www.avs.net/terribletowel.cfm\n"
     ]
    },
    {
     "name": "stderr",
     "output_type": "stream",
     "text": [
      " 78%|███████▊  | 14090/18004 [3:04:31<2:29:09,  2.29s/it]"
     ]
    },
    {
     "name": "stdout",
     "output_type": "stream",
     "text": [
      "Failed to parse URL at index 14089, URL: https://web.archive.org/web/20081204014026/http://news.steelers.com/article/87345/\n",
      "Failed to parse URL at index 14090, URL: http://news.steelers.com/article/87345/\n"
     ]
    },
    {
     "name": "stderr",
     "output_type": "stream",
     "text": [
      " 78%|███████▊  | 14093/18004 [3:04:36<2:55:22,  2.69s/it]"
     ]
    },
    {
     "name": "stdout",
     "output_type": "stream",
     "text": [
      "Failed to parse URL at index 14092, URL: https://web.archive.org/web/20090206102953/http://www.museum.tv/rhofsection.php?page=187\n"
     ]
    },
    {
     "name": "stderr",
     "output_type": "stream",
     "text": [
      " 78%|███████▊  | 14095/18004 [3:04:37<1:38:33,  1.51s/it]"
     ]
    },
    {
     "name": "stdout",
     "output_type": "stream",
     "text": [
      "Failed to parse URL at index 14094, URL: http://www.museum.tv/rhofsection.php?page=187\n"
     ]
    },
    {
     "name": "stderr",
     "output_type": "stream",
     "text": [
      " 78%|███████▊  | 14097/18004 [3:04:42<2:30:48,  2.32s/it]"
     ]
    },
    {
     "name": "stdout",
     "output_type": "stream",
     "text": [
      "Failed to parse URL at index 14096, URL: https://web.archive.org/web/20080306230433/http://www.pittsburghlive.com/x/pittsburghtrib/news/specialreports/myroncope/s_554619.html\n",
      "Failed to parse URL at index 14097, URL: http://pittsburghlive.com/x/pittsburghtrib/news/specialreports/myroncope/s_554619.html\n"
     ]
    },
    {
     "name": "stderr",
     "output_type": "stream",
     "text": [
      " 78%|███████▊  | 14102/18004 [3:04:48<2:22:50,  2.20s/it]"
     ]
    },
    {
     "name": "stdout",
     "output_type": "stream",
     "text": [
      "Failed to parse URL at index 14101, URL: https://web.archive.org/web/20080509185242/http://www.steelersfever.com/myron_cope.html\n"
     ]
    },
    {
     "name": "stderr",
     "output_type": "stream",
     "text": [
      " 78%|███████▊  | 14103/18004 [3:04:50<2:05:53,  1.94s/it]"
     ]
    },
    {
     "name": "stdout",
     "output_type": "stream",
     "text": [
      "Failed to parse URL at index 14102, URL: http://www.steelersfever.com/myron_cope.html\n"
     ]
    },
    {
     "name": "stderr",
     "output_type": "stream",
     "text": [
      " 78%|███████▊  | 14108/18004 [3:04:51<43:56,  1.48it/s]  "
     ]
    },
    {
     "name": "stdout",
     "output_type": "stream",
     "text": [
      "Failed to parse URL at index 14106, URL: https://www.nytimes.com/2008/02/29/sports/football/29cope.html\n",
      "Failed to parse URL at index 14107, URL: https://search.worldcat.org/issn/0362-4331\n"
     ]
    },
    {
     "name": "stderr",
     "output_type": "stream",
     "text": [
      " 78%|███████▊  | 14110/18004 [3:04:57<2:03:33,  1.90s/it]"
     ]
    },
    {
     "name": "stdout",
     "output_type": "stream",
     "text": [
      "Failed to parse URL at index 14109, URL: https://web.archive.org/web/20210711142827/https://www.baltimoresun.com/bs-mtblog-2008-02-post_195-story.html\n"
     ]
    },
    {
     "name": "stderr",
     "output_type": "stream",
     "text": [
      " 78%|███████▊  | 14111/18004 [3:04:57<1:36:19,  1.48s/it]"
     ]
    },
    {
     "name": "stdout",
     "output_type": "stream",
     "text": [
      "Failed to parse URL at index 14110, URL: https://www.baltimoresun.com/bs-mtblog-2008-02-post_195-story.html\n"
     ]
    },
    {
     "name": "stderr",
     "output_type": "stream",
     "text": [
      " 78%|███████▊  | 14118/18004 [3:05:03<37:58,  1.71it/s]  "
     ]
    },
    {
     "name": "stdout",
     "output_type": "stream",
     "text": [
      "Failed to parse URL at index 14118, URL: https://www.nytimes.com/2015/06/20/upshot/clemente-the-double-outsider.html\n"
     ]
    },
    {
     "name": "stderr",
     "output_type": "stream",
     "text": [
      " 78%|███████▊  | 14122/18004 [3:05:08<1:55:32,  1.79s/it]"
     ]
    },
    {
     "name": "stdout",
     "output_type": "stream",
     "text": [
      "Failed to parse URL at index 14121, URL: https://web.archive.org/web/20080302030114/http://kdka.com/steelers/Myron.Cope.dies.2.663862.html\n"
     ]
    },
    {
     "name": "stderr",
     "output_type": "stream",
     "text": [
      " 78%|███████▊  | 14123/18004 [3:05:09<1:30:08,  1.39s/it]"
     ]
    },
    {
     "name": "stdout",
     "output_type": "stream",
     "text": [
      "Failed to parse URL at index 14122, URL: http://kdka.com/steelers/Myron.Cope.dies.2.663862.html\n"
     ]
    },
    {
     "name": "stderr",
     "output_type": "stream",
     "text": [
      " 78%|███████▊  | 14128/18004 [3:05:15<2:02:52,  1.90s/it]"
     ]
    },
    {
     "name": "stdout",
     "output_type": "stream",
     "text": [
      "Failed to parse URL at index 14127, URL: https://web.archive.org/web/20060226080826/http://www.avs.net/mission.cfm\n"
     ]
    },
    {
     "name": "stderr",
     "output_type": "stream",
     "text": [
      " 78%|███████▊  | 14129/18004 [3:05:15<1:31:43,  1.42s/it]"
     ]
    },
    {
     "name": "stdout",
     "output_type": "stream",
     "text": [
      "Failed to parse URL at index 14128, URL: http://www.avs.net/mission.cfm\n"
     ]
    },
    {
     "name": "stderr",
     "output_type": "stream",
     "text": [
      " 78%|███████▊  | 14131/18004 [3:05:21<2:26:03,  2.26s/it]"
     ]
    },
    {
     "name": "stdout",
     "output_type": "stream",
     "text": [
      "Failed to parse URL at index 14130, URL: https://web.archive.org/web/20090901061009/http://www.post-gazette.com/pg/09242/994215-455.stm\n"
     ]
    },
    {
     "name": "stderr",
     "output_type": "stream",
     "text": [
      " 78%|███████▊  | 14132/18004 [3:05:21<1:54:14,  1.77s/it]"
     ]
    },
    {
     "name": "stdout",
     "output_type": "stream",
     "text": [
      "Failed to parse URL at index 14131, URL: http://www.post-gazette.com/pg/09242/994215-455.stm\n"
     ]
    },
    {
     "name": "stderr",
     "output_type": "stream",
     "text": [
      " 79%|███████▊  | 14135/18004 [3:05:27<2:24:35,  2.24s/it]"
     ]
    },
    {
     "name": "stdout",
     "output_type": "stream",
     "text": [
      "Failed to parse URL at index 14134, URL: https://web.archive.org/web/20081010220457/http://sports.espn.go.com/nfl/news/story?id=2091527\n"
     ]
    },
    {
     "name": "stderr",
     "output_type": "stream",
     "text": [
      " 79%|███████▊  | 14140/18004 [3:05:29<48:47,  1.32it/s]  "
     ]
    },
    {
     "name": "stdout",
     "output_type": "stream",
     "text": [
      "Failed to parse URL at index 14139, URL: http://www.post-gazette.com/pg/05305/598575-66.stm\n"
     ]
    },
    {
     "name": "stderr",
     "output_type": "stream",
     "text": [
      " 79%|███████▊  | 14143/18004 [3:05:32<1:04:26,  1.00s/it]"
     ]
    },
    {
     "name": "stdout",
     "output_type": "stream",
     "text": [
      "Failed to parse URL at index 14142, URL: http://www.post-gazette.com/pg/08058/860782-100.stm\n"
     ]
    },
    {
     "name": "stderr",
     "output_type": "stream",
     "text": [
      " 79%|███████▊  | 14145/18004 [3:05:32<37:53,  1.70it/s]  "
     ]
    },
    {
     "name": "stdout",
     "output_type": "stream",
     "text": [
      "Failed to parse URL at index 14144, URL: http://www.post-gazette.com/pg/08060/861464-100.stm\n"
     ]
    },
    {
     "name": "stderr",
     "output_type": "stream",
     "text": [
      " 79%|███████▊  | 14148/18004 [3:05:33<23:31,  2.73it/s]"
     ]
    },
    {
     "name": "stdout",
     "output_type": "stream",
     "text": [
      "Failed to parse URL at index 14147, URL: http://www.post-gazette.com/pg/08062/861894-194.stm\n"
     ]
    },
    {
     "name": "stderr",
     "output_type": "stream",
     "text": [
      " 79%|███████▊  | 14152/18004 [3:05:35<30:11,  2.13it/s]"
     ]
    },
    {
     "name": "stdout",
     "output_type": "stream",
     "text": [
      "Failed to parse URL at index 14151, URL: http://www.post-gazette.com/pg/08164/889468-360.stm\n"
     ]
    },
    {
     "name": "stderr",
     "output_type": "stream",
     "text": [
      " 79%|███████▊  | 14154/18004 [3:05:36<23:47,  2.70it/s]"
     ]
    },
    {
     "name": "stdout",
     "output_type": "stream",
     "text": [
      "Failed to parse URL at index 14153, URL: http://www.post-gazette.com/pg/08058/860991-66.stm\n"
     ]
    },
    {
     "name": "stderr",
     "output_type": "stream",
     "text": [
      " 79%|███████▊  | 14155/18004 [3:05:41<1:53:18,  1.77s/it]"
     ]
    },
    {
     "name": "stdout",
     "output_type": "stream",
     "text": [
      "Failed to parse URL at index 14154, URL: https://web.archive.org/web/20080517161913/http://www.myroncopesounds.com/\n"
     ]
    },
    {
     "name": "stderr",
     "output_type": "stream",
     "text": [
      " 79%|███████▊  | 14156/18004 [3:05:42<1:42:16,  1.59s/it]"
     ]
    },
    {
     "name": "stdout",
     "output_type": "stream",
     "text": [
      "Failed to parse URL at index 14155, URL: http://www.pabook.libraries.psu.edu/LitMap/bios/Cope__Myron.html\n"
     ]
    },
    {
     "name": "stderr",
     "output_type": "stream",
     "text": [
      " 79%|███████▉  | 14296/18004 [3:06:33<16:33,  3.73it/s]  "
     ]
    },
    {
     "name": "stdout",
     "output_type": "stream",
     "text": [
      "Failed to parse URL at index 14295, URL: https://en.wikipedia.org/w/index.php?title=Template_talk:Pete_Rozelle_Radio-Television_Award&action=edit&redlink=1\n"
     ]
    },
    {
     "name": "stderr",
     "output_type": "stream",
     "text": [
      " 80%|████████  | 14472/18004 [3:07:50<22:52,  2.57it/s]  "
     ]
    },
    {
     "name": "stdout",
     "output_type": "stream",
     "text": [
      "Failed to parse URL at index 14471, URL: https://en.wikipedia.org/w/index.php?title=Pittsburgh_Steeltoes&action=edit&redlink=1\n"
     ]
    },
    {
     "name": "stderr",
     "output_type": "stream",
     "text": [
      " 81%|████████  | 14602/18004 [3:08:38<23:24,  2.42it/s]"
     ]
    },
    {
     "name": "stdout",
     "output_type": "stream",
     "text": [
      "Failed to parse URL at index 14601, URL: https://en.wikipedia.org/w/index.php?title=Pittsburgh_Forge_Rugby_Club&action=edit&redlink=1\n"
     ]
    },
    {
     "name": "stderr",
     "output_type": "stream",
     "text": [
      " 82%|████████▏ | 14739/18004 [3:09:30<24:01,  2.26it/s]"
     ]
    },
    {
     "name": "stdout",
     "output_type": "stream",
     "text": [
      "Failed to parse URL at index 14738, URL: https://en.wikipedia.org/w/index.php?title=Tri_State_Open&action=edit&redlink=1\n"
     ]
    },
    {
     "name": "stderr",
     "output_type": "stream",
     "text": [
      " 82%|████████▏ | 14744/18004 [3:09:32<21:16,  2.55it/s]"
     ]
    },
    {
     "name": "stdout",
     "output_type": "stream",
     "text": [
      "Failed to parse URL at index 14743, URL: http://www.post-gazette.com/stories/sports/hunting-fishing/native-and-plentiful-pennsylvania-takes-a-closer-look-at-catfish-643807/\n"
     ]
    },
    {
     "name": "stderr",
     "output_type": "stream",
     "text": [
      " 82%|████████▏ | 14793/18004 [3:09:50<21:09,  2.53it/s]"
     ]
    },
    {
     "name": "stdout",
     "output_type": "stream",
     "text": [
      "Failed to parse URL at index 14792, URL: https://en.wikipedia.org/w/index.php?title=Frick_Gallery&action=edit&redlink=1\n"
     ]
    },
    {
     "name": "stderr",
     "output_type": "stream",
     "text": [
      " 82%|████████▏ | 14805/18004 [3:09:54<21:06,  2.53it/s]"
     ]
    },
    {
     "name": "stdout",
     "output_type": "stream",
     "text": [
      "Failed to parse URL at index 14804, URL: https://en.wikipedia.org/w/index.php?title=Kylie_Gleason&action=edit&redlink=1\n"
     ]
    },
    {
     "name": "stderr",
     "output_type": "stream",
     "text": [
      " 83%|████████▎ | 15008/18004 [3:11:06<16:50,  2.96it/s]"
     ]
    },
    {
     "name": "stdout",
     "output_type": "stream",
     "text": [
      "Failed to parse URL at index 15007, URL: https://en.wikipedia.org/w/index.php?title=Romp%27n_Roll_Roller_Skating_Rink&action=edit&redlink=1\n"
     ]
    },
    {
     "name": "stderr",
     "output_type": "stream",
     "text": [
      " 83%|████████▎ | 15025/18004 [3:11:15<29:26,  1.69it/s]"
     ]
    },
    {
     "name": "stdout",
     "output_type": "stream",
     "text": [
      "Failed to parse URL at index 15024, URL: http://www.post-gazette.com/pg/08315/926805-13.stm\n"
     ]
    },
    {
     "name": "stderr",
     "output_type": "stream",
     "text": [
      " 84%|████████▎ | 15035/18004 [3:11:20<33:01,  1.50it/s]"
     ]
    },
    {
     "name": "stdout",
     "output_type": "stream",
     "text": [
      "Failed to parse URL at index 15034, URL: https://www.nytimes.com/1991/01/20/sports/views-of-sport-true-grit-quarterbacks-from-steel-belt-football.html\n"
     ]
    },
    {
     "name": "stderr",
     "output_type": "stream",
     "text": [
      " 84%|████████▎ | 15038/18004 [3:11:22<27:22,  1.81it/s]"
     ]
    },
    {
     "name": "stdout",
     "output_type": "stream",
     "text": [
      "Failed to parse URL at index 15037, URL: http://www.post-gazette.com/pg/05238/558775.stm\n"
     ]
    },
    {
     "name": "stderr",
     "output_type": "stream",
     "text": [
      " 84%|████████▎ | 15047/18004 [3:11:26<35:54,  1.37it/s]"
     ]
    },
    {
     "name": "stdout",
     "output_type": "stream",
     "text": [
      "Failed to parse URL at index 15046, URL: http://www.upress.pitt.edu/htmlSourceFiles/pdfs/9780822959700exr.pdf\n"
     ]
    },
    {
     "name": "stderr",
     "output_type": "stream",
     "text": [
      " 84%|████████▎ | 15054/18004 [3:11:30<29:41,  1.66it/s]"
     ]
    },
    {
     "name": "stdout",
     "output_type": "stream",
     "text": [
      "Failed to parse URL at index 15053, URL: http://www.pittsburghxplosion.com/xplosion/frontoffice.php\n"
     ]
    },
    {
     "name": "stderr",
     "output_type": "stream",
     "text": [
      " 84%|████████▎ | 15056/18004 [3:11:31<25:30,  1.93it/s]"
     ]
    },
    {
     "name": "stdout",
     "output_type": "stream",
     "text": [
      "Failed to parse URL at index 15055, URL: http://www.pghsports.com/2008-Issues/psr0803/08030126.html\n"
     ]
    },
    {
     "name": "stderr",
     "output_type": "stream",
     "text": [
      " 84%|████████▎ | 15059/18004 [3:11:36<1:29:33,  1.82s/it]"
     ]
    },
    {
     "name": "stdout",
     "output_type": "stream",
     "text": [
      "Failed to parse URL at index 15058, URL: https://web.archive.org/web/20090629213230/http://www.nhl.com/cup/champs.html\n"
     ]
    },
    {
     "name": "stderr",
     "output_type": "stream",
     "text": [
      " 84%|████████▎ | 15069/18004 [3:11:45<1:30:12,  1.84s/it]"
     ]
    },
    {
     "name": "stdout",
     "output_type": "stream",
     "text": [
      "Failed to parse URL at index 15068, URL: https://web.archive.org/web/20081217092640/http://penguins.nhl.com/team/app/?service=page&page=NHLPage&bcid=tea_office\n"
     ]
    },
    {
     "name": "stderr",
     "output_type": "stream",
     "text": [
      " 84%|████████▎ | 15076/18004 [3:11:49<33:39,  1.45it/s]  "
     ]
    },
    {
     "name": "stdout",
     "output_type": "stream",
     "text": [
      "Failed to parse URL at index 15075, URL: http://www.profootballhof.com/history/general/birth_certificate.jsp\n"
     ]
    },
    {
     "name": "stderr",
     "output_type": "stream",
     "text": [
      " 84%|████████▍ | 15082/18004 [3:11:56<1:29:02,  1.83s/it]"
     ]
    },
    {
     "name": "stdout",
     "output_type": "stream",
     "text": [
      "Failed to parse URL at index 15081, URL: https://web.archive.org/web/20080528074040/http://news.steelers.com/MediaContent/2007/08/22/05/Steelers_History_80311.pdf\n",
      "Failed to parse URL at index 15082, URL: http://news.steelers.com/MediaContent/2007/08/22/05/Steelers_History_80311.pdf\n"
     ]
    },
    {
     "name": "stderr",
     "output_type": "stream",
     "text": [
      " 84%|████████▍ | 15087/18004 [3:12:03<1:46:20,  2.19s/it]"
     ]
    },
    {
     "name": "stdout",
     "output_type": "stream",
     "text": [
      "Failed to parse URL at index 15086, URL: https://web.archive.org/web/20080822043445/http://www.profootballhof.com/hof/teams.html\n"
     ]
    },
    {
     "name": "stderr",
     "output_type": "stream",
     "text": [
      " 84%|████████▍ | 15090/18004 [3:12:10<2:00:41,  2.49s/it]"
     ]
    },
    {
     "name": "stdout",
     "output_type": "stream",
     "text": [
      "Failed to parse URL at index 15089, URL: https://web.archive.org/web/20090209004841/http://media3.steelers.com/article/62906/\n"
     ]
    },
    {
     "name": "stderr",
     "output_type": "stream",
     "text": [
      " 84%|████████▍ | 15091/18004 [3:12:15<2:38:17,  3.26s/it]"
     ]
    },
    {
     "name": "stdout",
     "output_type": "stream",
     "text": [
      "Failed to parse URL at index 15090, URL: http://media3.steelers.com/article/62906/\n"
     ]
    },
    {
     "name": "stderr",
     "output_type": "stream",
     "text": [
      " 84%|████████▍ | 15096/18004 [3:12:17<41:10,  1.18it/s]  "
     ]
    },
    {
     "name": "stdout",
     "output_type": "stream",
     "text": [
      "Failed to parse URL at index 15095, URL: http://www.post-gazette.com/pg/08326/929655-66.stm\n"
     ]
    },
    {
     "name": "stderr",
     "output_type": "stream",
     "text": [
      " 84%|████████▍ | 15099/18004 [3:12:18<23:14,  2.08it/s]"
     ]
    },
    {
     "name": "stdout",
     "output_type": "stream",
     "text": [
      "Failed to parse URL at index 15098, URL: http://www.pittsburghpassion.com/history.htm\n"
     ]
    },
    {
     "name": "stderr",
     "output_type": "stream",
     "text": [
      " 84%|████████▍ | 15102/18004 [3:12:23<1:03:42,  1.32s/it]"
     ]
    },
    {
     "name": "stdout",
     "output_type": "stream",
     "text": [
      "Failed to parse URL at index 15100, URL: https://web.archive.org/web/20090408101242/http://www.pittsburghpassion.com/seasoninreview.htm\n",
      "Failed to parse URL at index 15101, URL: http://www.pittsburghpassion.com/seasoninreview.htm\n"
     ]
    },
    {
     "name": "stderr",
     "output_type": "stream",
     "text": [
      " 84%|████████▍ | 15105/18004 [3:12:24<32:38,  1.48it/s]  "
     ]
    },
    {
     "name": "stdout",
     "output_type": "stream",
     "text": [
      "Failed to parse URL at index 15104, URL: http://rafl.net/2008teams.htm\n"
     ]
    },
    {
     "name": "stderr",
     "output_type": "stream",
     "text": [
      " 84%|████████▍ | 15109/18004 [3:12:25<19:39,  2.45it/s]"
     ]
    },
    {
     "name": "stdout",
     "output_type": "stream",
     "text": [
      "Failed to parse URL at index 15108, URL: http://www.post-gazette.com/pg/08191/895693-139.stm\n"
     ]
    },
    {
     "name": "stderr",
     "output_type": "stream",
     "text": [
      " 84%|████████▍ | 15115/18004 [3:12:28<23:03,  2.09it/s]"
     ]
    },
    {
     "name": "stdout",
     "output_type": "stream",
     "text": [
      "Failed to parse URL at index 15114, URL: http://www.beadling.com/100yearshistory.asp\n"
     ]
    },
    {
     "name": "stderr",
     "output_type": "stream",
     "text": [
      " 84%|████████▍ | 15127/18004 [3:12:37<1:23:30,  1.74s/it]"
     ]
    },
    {
     "name": "stdout",
     "output_type": "stream",
     "text": [
      "Failed to parse URL at index 15126, URL: https://web.archive.org/web/20200920083235/https://www.nationalgeographic.com/travel/city-guides/six-best-cities-to-kayak/\n"
     ]
    },
    {
     "name": "stderr",
     "output_type": "stream",
     "text": [
      " 84%|████████▍ | 15130/18004 [3:12:44<1:52:15,  2.34s/it]"
     ]
    },
    {
     "name": "stdout",
     "output_type": "stream",
     "text": [
      "Failed to parse URL at index 15129, URL: https://web.archive.org/web/20080919140502/http://www.cfbdatawarehouse.com/data/national_championships/year_by_year.php\n"
     ]
    },
    {
     "name": "stderr",
     "output_type": "stream",
     "text": [
      " 84%|████████▍ | 15132/18004 [3:12:45<1:08:33,  1.43s/it]"
     ]
    },
    {
     "name": "stdout",
     "output_type": "stream",
     "text": [
      "Failed to parse URL at index 15132, URL: http://graphics.fansonly.com/photos/schools/pitt/sports/m-footbl/auto_pdf/06guide-pantherhistory.pdf\n"
     ]
    },
    {
     "name": "stderr",
     "output_type": "stream",
     "text": [
      " 84%|████████▍ | 15140/18004 [3:12:53<53:25,  1.12s/it]  "
     ]
    },
    {
     "name": "stdout",
     "output_type": "stream",
     "text": [
      "Failed to parse URL at index 15140, URL: http://goduquesne.cstv.com/s-finder/duqu-s-finder.html\n"
     ]
    },
    {
     "name": "stderr",
     "output_type": "stream",
     "text": [
      " 84%|████████▍ | 15154/18004 [3:13:05<1:26:49,  1.83s/it]"
     ]
    },
    {
     "name": "stdout",
     "output_type": "stream",
     "text": [
      "Failed to parse URL at index 15153, URL: https://web.archive.org/web/20090302203619/http://www.pittsburghmarathon.com/About_Us/Our_Story.htm\n"
     ]
    },
    {
     "name": "stderr",
     "output_type": "stream",
     "text": [
      " 84%|████████▍ | 15155/18004 [3:13:06<1:06:25,  1.40s/it]"
     ]
    },
    {
     "name": "stdout",
     "output_type": "stream",
     "text": [
      "Failed to parse URL at index 15154, URL: http://www.pittsburghmarathon.com/About_Us/Our_Story.htm\n"
     ]
    },
    {
     "name": "stderr",
     "output_type": "stream",
     "text": [
      " 84%|████████▍ | 15159/18004 [3:13:07<28:14,  1.68it/s]  "
     ]
    },
    {
     "name": "stdout",
     "output_type": "stream",
     "text": [
      "Failed to parse URL at index 15158, URL: http://www.pittsburghcricket.com/\n"
     ]
    },
    {
     "name": "stderr",
     "output_type": "stream",
     "text": [
      " 84%|████████▍ | 15160/18004 [3:13:07<26:35,  1.78it/s]"
     ]
    },
    {
     "name": "stdout",
     "output_type": "stream",
     "text": [
      "Failed to parse URL at index 15160, URL: http://www.pittsburghcricket.com/PCA_About_us.php\n"
     ]
    },
    {
     "name": "stderr",
     "output_type": "stream",
     "text": [
      " 84%|████████▍ | 15182/18004 [3:13:14<12:42,  3.70it/s]"
     ]
    },
    {
     "name": "stdout",
     "output_type": "stream",
     "text": [
      "Failed to parse URL at index 15181, URL: http://www.pittsburghlive.com/x/pittsburghtrib/sports/s_476159.html\n"
     ]
    },
    {
     "name": "stderr",
     "output_type": "stream",
     "text": [
      " 84%|████████▍ | 15186/18004 [3:13:20<1:20:33,  1.72s/it]"
     ]
    },
    {
     "name": "stdout",
     "output_type": "stream",
     "text": [
      "Failed to parse URL at index 15185, URL: https://web.archive.org/web/20100111015542/http://www.wnba.com/playerfile/swin_cash/bio.html\n"
     ]
    },
    {
     "name": "stderr",
     "output_type": "stream",
     "text": [
      " 84%|████████▍ | 15187/18004 [3:13:20<1:03:48,  1.36s/it]"
     ]
    },
    {
     "name": "stdout",
     "output_type": "stream",
     "text": [
      "Failed to parse URL at index 15186, URL: http://www.wnba.com/playerfile/swin_cash/bio.html\n"
     ]
    },
    {
     "name": "stderr",
     "output_type": "stream",
     "text": [
      " 84%|████████▍ | 15189/18004 [3:13:22<48:10,  1.03s/it]  "
     ]
    },
    {
     "name": "stdout",
     "output_type": "stream",
     "text": [
      "Failed to parse URL at index 15188, URL: http://swincash.com/biography.html\n"
     ]
    },
    {
     "name": "stderr",
     "output_type": "stream",
     "text": [
      " 84%|████████▍ | 15191/18004 [3:13:27<1:38:24,  2.10s/it]"
     ]
    },
    {
     "name": "stdout",
     "output_type": "stream",
     "text": [
      "Failed to parse URL at index 15190, URL: https://www.washingtonpost.com/wp-srv/sports/olympics/longterm/wrestlng/freebios/angle.htm\n"
     ]
    },
    {
     "name": "stderr",
     "output_type": "stream",
     "text": [
      " 84%|████████▍ | 15193/18004 [3:13:28<56:58,  1.22s/it]  "
     ]
    },
    {
     "name": "stdout",
     "output_type": "stream",
     "text": [
      "Failed to parse URL at index 15192, URL: http://www.pgatour.com/players/00/17/97/\n"
     ]
    },
    {
     "name": "stderr",
     "output_type": "stream",
     "text": [
      " 84%|████████▍ | 15195/18004 [3:13:33<1:41:56,  2.18s/it]"
     ]
    },
    {
     "name": "stdout",
     "output_type": "stream",
     "text": [
      "Failed to parse URL at index 15194, URL: https://web.archive.org/web/20090124012615/http://www.pgatour.com/players/00/19/10/\n"
     ]
    },
    {
     "name": "stderr",
     "output_type": "stream",
     "text": [
      " 84%|████████▍ | 15196/18004 [3:13:34<1:16:46,  1.64s/it]"
     ]
    },
    {
     "name": "stdout",
     "output_type": "stream",
     "text": [
      "Failed to parse URL at index 15195, URL: http://www.pgatour.com/players/00/19/10/\n"
     ]
    },
    {
     "name": "stderr",
     "output_type": "stream",
     "text": [
      " 85%|████████▍ | 15260/18004 [3:14:58<2:26:02,  3.19s/it]"
     ]
    },
    {
     "name": "stdout",
     "output_type": "stream",
     "text": [
      "Failed to parse URL at index 15259, URL: https://www.nytimes.com/athletic/tag/the-pulse/\n"
     ]
    },
    {
     "name": "stderr",
     "output_type": "stream",
     "text": [
      " 85%|████████▌ | 15368/18004 [3:18:30<2:38:16,  3.60s/it]"
     ]
    },
    {
     "name": "stdout",
     "output_type": "stream",
     "text": [
      "Failed to parse URL at index 15367, URL: https://www.ebay.com/b/Sports-Memorabilia-Fan-Shop-Sports-Cards/64482/bn_1857919?mk[…]55-0&siteid=0&campid=5339067565&customid=&toolid=10001&mkevt=1\n"
     ]
    },
    {
     "name": "stderr",
     "output_type": "stream",
     "text": [
      " 85%|████████▌ | 15379/18004 [3:18:44<53:28,  1.22s/it]  "
     ]
    },
    {
     "name": "stdout",
     "output_type": "stream",
     "text": [
      "Failed to parse URL at index 15378, URL: https://theathletic.zendesk.com/hc/en-us\n"
     ]
    },
    {
     "name": "stderr",
     "output_type": "stream",
     "text": [
      " 85%|████████▌ | 15383/18004 [3:18:47<43:13,  1.01it/s]"
     ]
    },
    {
     "name": "stdout",
     "output_type": "stream",
     "text": [
      "Failed to parse URL at index 15381, URL: https://theathletic.zendesk.com/hc/en-us/requests/new\n",
      "Failed to parse URL at index 15382, URL: https://help.nytimes.com/hc/en-us/articles/115014893428-Terms-of-Service\n"
     ]
    },
    {
     "name": "stderr",
     "output_type": "stream",
     "text": [
      " 86%|████████▌ | 15394/18004 [3:19:00<33:13,  1.31it/s]  "
     ]
    },
    {
     "name": "stdout",
     "output_type": "stream",
     "text": [
      "Failed to parse URL at index 15392, URL: https://help.nytimes.com/hc/en-us/articles/10940941449492-The-New-York-Times-Company-Privacy-Policy\n"
     ]
    },
    {
     "name": "stderr",
     "output_type": "stream",
     "text": [
      " 86%|████████▋ | 15538/18004 [3:21:09<36:03,  1.14it/s]  "
     ]
    },
    {
     "name": "stdout",
     "output_type": "stream",
     "text": [
      "Failed to parse URL at index 15537, URL: https://givenow.cmu.edu/athletics/?a=8338683\n"
     ]
    },
    {
     "name": "stderr",
     "output_type": "stream",
     "text": [
      " 87%|████████▋ | 15647/18004 [3:23:02<28:47,  1.36it/s]  "
     ]
    },
    {
     "name": "stdout",
     "output_type": "stream",
     "text": [
      "Failed to parse URL at index 15646, URL: https://trustarts.org/shopping_cart/show\n"
     ]
    },
    {
     "name": "stderr",
     "output_type": "stream",
     "text": [
      " 87%|████████▋ | 15658/18004 [3:23:07<16:10,  2.42it/s]"
     ]
    },
    {
     "name": "stdout",
     "output_type": "stream",
     "text": [
      "Failed to parse URL at index 15654, URL: https://trustarts.org/order_history/show\n",
      "Failed to parse URL at index 15655, URL: https://trustarts.org/terminate\n",
      "Failed to parse URL at index 15656, URL: https://trustarts.org/session\n",
      "Failed to parse URL at index 15657, URL: https://trustarts.org/promotion/new\n"
     ]
    },
    {
     "name": "stderr",
     "output_type": "stream",
     "text": [
      " 88%|████████▊ | 15849/18004 [3:26:50<20:46,  1.73it/s]  "
     ]
    },
    {
     "name": "stdout",
     "output_type": "stream",
     "text": [
      "Failed to parse URL at index 15846, URL: https://trustarts.org/contact\n"
     ]
    },
    {
     "name": "stderr",
     "output_type": "stream",
     "text": [
      " 88%|████████▊ | 15856/18004 [3:26:54<22:03,  1.62it/s]"
     ]
    },
    {
     "name": "stdout",
     "output_type": "stream",
     "text": [
      "Failed to parse URL at index 15855, URL: https://trustarts.org/pct_home/tel:4124716070\n"
     ]
    },
    {
     "name": "stderr",
     "output_type": "stream",
     "text": [
      " 88%|████████▊ | 15857/18004 [3:26:55<26:26,  1.35it/s]"
     ]
    },
    {
     "name": "stdout",
     "output_type": "stream",
     "text": [
      "Failed to parse URL at index 15856, URL: https://trustarts.org/pct_home/tel:4124566666\n"
     ]
    },
    {
     "name": "stderr",
     "output_type": "stream",
     "text": [
      " 88%|████████▊ | 15859/18004 [3:26:55<17:33,  2.04it/s]"
     ]
    },
    {
     "name": "stdout",
     "output_type": "stream",
     "text": [
      "Failed to parse URL at index 15858, URL: https://culturaldistrict.org/terms-and-conditions\n"
     ]
    },
    {
     "name": "stderr",
     "output_type": "stream",
     "text": [
      " 88%|████████▊ | 15881/18004 [3:27:17<32:31,  1.09it/s]"
     ]
    },
    {
     "name": "stdout",
     "output_type": "stream",
     "text": [
      "Failed to parse URL at index 15880, URL: https://trustarts.org/pct_home/about/contact-us\n"
     ]
    },
    {
     "name": "stderr",
     "output_type": "stream",
     "text": [
      " 88%|████████▊ | 15882/18004 [3:27:17<25:06,  1.41it/s]"
     ]
    },
    {
     "name": "stdout",
     "output_type": "stream",
     "text": [
      "Failed to parse URL at index 15881, URL: https://trustarts.org/pct_home/about/advertise-with-us\n"
     ]
    },
    {
     "name": "stderr",
     "output_type": "stream",
     "text": [
      " 88%|████████▊ | 15886/18004 [3:27:18<13:05,  2.70it/s]"
     ]
    },
    {
     "name": "stdout",
     "output_type": "stream",
     "text": [
      "Failed to parse URL at index 15884, URL: https://trustarts.org/about\n",
      "Failed to parse URL at index 15885, URL: https://trustarts.org/visit/facilities/theater-square/\n",
      "Failed to parse URL at index 15886, URL: https://trustarts.org/visit/facilities/theater-square-box-office/\n"
     ]
    },
    {
     "name": "stderr",
     "output_type": "stream",
     "text": [
      " 88%|████████▊ | 15891/18004 [3:27:20<20:30,  1.72it/s]"
     ]
    },
    {
     "name": "stdout",
     "output_type": "stream",
     "text": [
      "Failed to parse URL at index 15888, URL: https://trustarts.org/pct_home/visit/facilities/backstage-bar/\n",
      "Failed to parse URL at index 15889, URL: https://trustarts.org/visit/facilities/cabaret/\n",
      "Failed to parse URL at index 15890, URL: https://trustarts.org/visit/facilities/benedum/\n",
      "Failed to parse URL at index 15891, URL: https://trustarts.org/visit/facilities/byham/\n"
     ]
    },
    {
     "name": "stderr",
     "output_type": "stream",
     "text": [
      " 88%|████████▊ | 15905/18004 [3:27:33<40:53,  1.17s/it]"
     ]
    },
    {
     "name": "stdout",
     "output_type": "stream",
     "text": [
      "Failed to parse URL at index 15905, URL: http://trustarts.org/kids\n"
     ]
    },
    {
     "name": "stderr",
     "output_type": "stream",
     "text": [
      " 88%|████████▊ | 15916/18004 [3:27:41<28:42,  1.21it/s]"
     ]
    },
    {
     "name": "stdout",
     "output_type": "stream",
     "text": [
      "Failed to parse URL at index 15915, URL: https://trustarts.org/pct_home/events/series/beer\n"
     ]
    },
    {
     "name": "stderr",
     "output_type": "stream",
     "text": [
      " 88%|████████▊ | 15917/18004 [3:27:43<31:08,  1.12it/s]"
     ]
    },
    {
     "name": "stdout",
     "output_type": "stream",
     "text": [
      "Failed to parse URL at index 15916, URL: https://trustarts.org/pct_home/events/series/wine\n"
     ]
    },
    {
     "name": "stderr",
     "output_type": "stream",
     "text": [
      " 88%|████████▊ | 15918/18004 [3:27:48<1:14:35,  2.15s/it]"
     ]
    },
    {
     "name": "stdout",
     "output_type": "stream",
     "text": [
      "Failed to parse URL at index 15917, URL: http://www.g20pittsburghsummit.org/\n"
     ]
    },
    {
     "name": "stderr",
     "output_type": "stream",
     "text": [
      " 88%|████████▊ | 15923/18004 [3:27:57<1:06:18,  1.91s/it]"
     ]
    },
    {
     "name": "stdout",
     "output_type": "stream",
     "text": [
      "Failed to parse URL at index 15922, URL: http://www.ppt.org/\n"
     ]
    },
    {
     "name": "stderr",
     "output_type": "stream",
     "text": [
      " 88%|████████▊ | 15926/18004 [3:28:01<48:31,  1.40s/it]  "
     ]
    },
    {
     "name": "stdout",
     "output_type": "stream",
     "text": [
      "Failed to parse URL at index 15925, URL: https://trustarts.org/pct_home/about/tel:4124716070\n"
     ]
    },
    {
     "name": "stderr",
     "output_type": "stream",
     "text": [
      " 88%|████████▊ | 15927/18004 [3:28:02<43:31,  1.26s/it]"
     ]
    },
    {
     "name": "stdout",
     "output_type": "stream",
     "text": [
      "Failed to parse URL at index 15926, URL: https://trustarts.org/pct_home/about/tel:4124566666\n"
     ]
    },
    {
     "name": "stderr",
     "output_type": "stream",
     "text": [
      " 88%|████████▊ | 15933/18004 [3:28:06<32:05,  1.08it/s]"
     ]
    },
    {
     "name": "stdout",
     "output_type": "stream",
     "text": [
      "Failed to parse URL at index 15932, URL: http://www.futuretenant.org/\n"
     ]
    },
    {
     "name": "stderr",
     "output_type": "stream",
     "text": [
      " 89%|████████▉ | 16004/18004 [3:28:59<11:34,  2.88it/s]  "
     ]
    },
    {
     "name": "stdout",
     "output_type": "stream",
     "text": [
      "Failed to parse URL at index 16003, URL: https://en.wikipedia.org/w/index.php?title=Kendra_Whitlock_Ingram&action=edit&redlink=1\n"
     ]
    },
    {
     "name": "stderr",
     "output_type": "stream",
     "text": [
      " 89%|████████▉ | 16073/18004 [3:29:24<53:54,  1.68s/it]"
     ]
    },
    {
     "name": "stdout",
     "output_type": "stream",
     "text": [
      "Failed to parse URL at index 16072, URL: https://archive.org/details/pittsburghurbanp00toke\n"
     ]
    },
    {
     "name": "stderr",
     "output_type": "stream",
     "text": [
      " 89%|████████▉ | 16083/18004 [3:29:36<1:03:24,  1.98s/it]"
     ]
    },
    {
     "name": "stdout",
     "output_type": "stream",
     "text": [
      "Failed to parse URL at index 16082, URL: https://web.archive.org/web/20150924073642/http://www.pittsburghartscouncil.org/storage/documents/Advocacy/Sample_Testimony_2010.pdf\n"
     ]
    },
    {
     "name": "stderr",
     "output_type": "stream",
     "text": [
      " 89%|████████▉ | 16084/18004 [3:29:36<49:40,  1.55s/it]  "
     ]
    },
    {
     "name": "stdout",
     "output_type": "stream",
     "text": [
      "Failed to parse URL at index 16083, URL: http://www.pittsburghartscouncil.org/storage/documents/Advocacy/Sample_Testimony_2010.pdf\n"
     ]
    },
    {
     "name": "stderr",
     "output_type": "stream",
     "text": [
      " 89%|████████▉ | 16086/18004 [3:29:37<27:37,  1.16it/s]"
     ]
    },
    {
     "name": "stdout",
     "output_type": "stream",
     "text": [
      "Failed to parse URL at index 16085, URL: https://www.trustarts.org/about\n"
     ]
    },
    {
     "name": "stderr",
     "output_type": "stream",
     "text": [
      " 89%|████████▉ | 16097/18004 [3:29:48<43:30,  1.37s/it]  "
     ]
    },
    {
     "name": "stdout",
     "output_type": "stream",
     "text": [
      "Failed to parse URL at index 16095, URL: https://web.archive.org/web/20140714130306/http://pressroom.pgharts.org/the-pittsburgh-cultural-trust-timeline/\n",
      "Failed to parse URL at index 16096, URL: http://pressroom.pgharts.org/the-pittsburgh-cultural-trust-timeline/\n"
     ]
    },
    {
     "name": "stderr",
     "output_type": "stream",
     "text": [
      " 89%|████████▉ | 16105/18004 [3:29:59<1:05:37,  2.07s/it]"
     ]
    },
    {
     "name": "stdout",
     "output_type": "stream",
     "text": [
      "Failed to parse URL at index 16104, URL: https://web.archive.org/web/20140704113610/http://www.pps.org/great_public_spaces/one?public_place_id=603&type_id=1\n"
     ]
    },
    {
     "name": "stderr",
     "output_type": "stream",
     "text": [
      " 89%|████████▉ | 16106/18004 [3:30:01<1:07:19,  2.13s/it]"
     ]
    },
    {
     "name": "stdout",
     "output_type": "stream",
     "text": [
      "Failed to parse URL at index 16105, URL: http://www.pps.org/great_public_spaces/one?public_place_id=603&type_id=1\n"
     ]
    },
    {
     "name": "stderr",
     "output_type": "stream",
     "text": [
      " 90%|████████▉ | 16114/18004 [3:30:10<1:02:32,  1.99s/it]"
     ]
    },
    {
     "name": "stdout",
     "output_type": "stream",
     "text": [
      "Failed to parse URL at index 16113, URL: https://web.archive.org/web/20140729223328/http://www.popcitymedia.com/innovationnews/magnolias0627.aspx\n"
     ]
    },
    {
     "name": "stderr",
     "output_type": "stream",
     "text": [
      " 90%|████████▉ | 16116/18004 [3:30:33<4:03:55,  7.75s/it]"
     ]
    },
    {
     "name": "stdout",
     "output_type": "stream",
     "text": [
      "Failed to parse URL at index 16115, URL: http://www.popcitymedia.com/innovationnews/magnolias0627.aspx\n"
     ]
    },
    {
     "name": "stderr",
     "output_type": "stream",
     "text": [
      " 90%|████████▉ | 16119/18004 [3:30:34<1:30:26,  2.88s/it]"
     ]
    },
    {
     "name": "stdout",
     "output_type": "stream",
     "text": [
      "Failed to parse URL at index 16119, URL: https://www.trustarts.org/visualarts/public_art/sign_of_light/\n"
     ]
    },
    {
     "name": "stderr",
     "output_type": "stream",
     "text": [
      " 90%|█████████ | 16205/18004 [3:31:06<08:16,  3.62it/s]  "
     ]
    },
    {
     "name": "stdout",
     "output_type": "stream",
     "text": [
      "Failed to parse URL at index 16203, URL: https://carnegiemnh.org/visitor/things-to-do/super-science-saturdays/\n"
     ]
    },
    {
     "name": "stderr",
     "output_type": "stream",
     "text": [
      " 90%|█████████ | 16215/18004 [3:31:10<10:39,  2.80it/s]"
     ]
    },
    {
     "name": "stdout",
     "output_type": "stream",
     "text": [
      "Failed to parse URL at index 16213, URL: https://www.linkedin.com/company/carnegie-museums-of-pittsburgh/\n"
     ]
    },
    {
     "name": "stderr",
     "output_type": "stream",
     "text": [
      " 91%|█████████ | 16306/18004 [3:31:44<11:11,  2.53it/s]"
     ]
    },
    {
     "name": "stdout",
     "output_type": "stream",
     "text": [
      "Failed to parse URL at index 16305, URL: https://www.pinterest.com/pin/308567011944870696/\n"
     ]
    },
    {
     "name": "stderr",
     "output_type": "stream",
     "text": [
      " 91%|█████████ | 16359/18004 [3:32:06<47:00,  1.71s/it]"
     ]
    },
    {
     "name": "stdout",
     "output_type": "stream",
     "text": [
      "Failed to parse URL at index 16358, URL: https://web.archive.org/web/20070127092030/http://www.phlf.org/plaques/locallist.html\n"
     ]
    },
    {
     "name": "stderr",
     "output_type": "stream",
     "text": [
      " 91%|█████████ | 16360/18004 [3:32:08<48:07,  1.76s/it]"
     ]
    },
    {
     "name": "stdout",
     "output_type": "stream",
     "text": [
      "Failed to parse URL at index 16359, URL: http://www.phlf.org/plaques/locallist.html\n"
     ]
    },
    {
     "name": "stderr",
     "output_type": "stream",
     "text": [
      " 91%|█████████ | 16365/18004 [3:32:10<13:54,  1.97it/s]"
     ]
    },
    {
     "name": "stdout",
     "output_type": "stream",
     "text": [
      "Failed to parse URL at index 16364, URL: https://www.jstor.org/stable/j.ctt5hjs27\n"
     ]
    },
    {
     "name": "stderr",
     "output_type": "stream",
     "text": [
      " 91%|█████████ | 16366/18004 [3:32:10<12:28,  2.19it/s]"
     ]
    },
    {
     "name": "stdout",
     "output_type": "stream",
     "text": [
      "Failed to parse URL at index 16365, URL: https://doi.org/10.2307%2Fj.ctt5hjs27\n"
     ]
    },
    {
     "name": "stderr",
     "output_type": "stream",
     "text": [
      " 91%|█████████ | 16369/18004 [3:32:12<14:15,  1.91it/s]"
     ]
    },
    {
     "name": "stdout",
     "output_type": "stream",
     "text": [
      "Failed to parse URL at index 16368, URL: http://www.carnegiemuseums.org/interior.php?pageID=24\n"
     ]
    },
    {
     "name": "stderr",
     "output_type": "stream",
     "text": [
      " 91%|█████████ | 16370/18004 [3:32:12<11:58,  2.28it/s]"
     ]
    },
    {
     "name": "stdout",
     "output_type": "stream",
     "text": [
      "Failed to parse URL at index 16370, URL: https://www.nytimes.com/1994/05/26/arts/review-art-the-new-warhol-museum-a-shrine-for-an-iconoclast.html\n"
     ]
    },
    {
     "name": "stderr",
     "output_type": "stream",
     "text": [
      " 91%|█████████ | 16373/18004 [3:32:13<08:59,  3.02it/s]"
     ]
    },
    {
     "name": "stdout",
     "output_type": "stream",
     "text": [
      "Failed to parse URL at index 16373, URL: https://public.ebookcentral.proquest.com/choice/publicfullrecord.aspx?p=4527753\n"
     ]
    },
    {
     "name": "stderr",
     "output_type": "stream",
     "text": [
      " 91%|█████████ | 16382/18004 [3:32:20<25:38,  1.05it/s]"
     ]
    },
    {
     "name": "stdout",
     "output_type": "stream",
     "text": [
      "Failed to parse URL at index 16381, URL: https://web.archive.org/web/20211229180637/https://carnegiemuseums.org/magazine-archive/2003/julaug/feature2.html\n"
     ]
    },
    {
     "name": "stderr",
     "output_type": "stream",
     "text": [
      " 91%|█████████ | 16394/18004 [3:32:23<06:18,  4.25it/s]"
     ]
    },
    {
     "name": "stdout",
     "output_type": "stream",
     "text": [
      "Failed to parse URL at index 16394, URL: https://www.science.org/content/article/tiniest-mammal-ancestor\n"
     ]
    },
    {
     "name": "stderr",
     "output_type": "stream",
     "text": [
      " 91%|█████████ | 16402/18004 [3:32:34<56:42,  2.12s/it]"
     ]
    },
    {
     "name": "stdout",
     "output_type": "stream",
     "text": [
      "Failed to parse URL at index 16401, URL: https://web.archive.org/web/20190314142405/https://cmoa.org/\n"
     ]
    },
    {
     "name": "stderr",
     "output_type": "stream",
     "text": [
      " 92%|█████████▏| 16653/18004 [3:34:27<38:54,  1.73s/it]"
     ]
    },
    {
     "name": "stdout",
     "output_type": "stream",
     "text": [
      "Failed to parse URL at index 16652, URL: https://web.archive.org/web/20081013131502/http://www.cmoa.org/info/history.asp\n"
     ]
    },
    {
     "name": "stderr",
     "output_type": "stream",
     "text": [
      " 93%|█████████▎| 16656/18004 [3:34:33<49:46,  2.22s/it]"
     ]
    },
    {
     "name": "stdout",
     "output_type": "stream",
     "text": [
      "Failed to parse URL at index 16655, URL: https://web.archive.org/web/20080907004105/http://www.carnegiemuseums.org/cmag/bk_issue/2003/julaug/feature2.html\n"
     ]
    },
    {
     "name": "stderr",
     "output_type": "stream",
     "text": [
      " 93%|█████████▎| 16657/18004 [3:34:34<40:18,  1.80s/it]"
     ]
    },
    {
     "name": "stdout",
     "output_type": "stream",
     "text": [
      "Failed to parse URL at index 16656, URL: http://www.carnegiemuseums.org/cmag/bk_issue/2003/julaug/feature2.html\n"
     ]
    },
    {
     "name": "stderr",
     "output_type": "stream",
     "text": [
      " 93%|█████████▎| 16662/18004 [3:34:36<16:11,  1.38it/s]"
     ]
    },
    {
     "name": "stdout",
     "output_type": "stream",
     "text": [
      "Failed to parse URL at index 16660, URL: https://www.worldcat.org/oclc/871325567\n",
      "Failed to parse URL at index 16661, URL: https://search.worldcat.org/oclc/871325567\n"
     ]
    },
    {
     "name": "stderr",
     "output_type": "stream",
     "text": [
      " 93%|█████████▎| 16672/18004 [3:34:41<09:11,  2.42it/s]"
     ]
    },
    {
     "name": "stdout",
     "output_type": "stream",
     "text": [
      "Failed to parse URL at index 16671, URL: http://www.carnegiemuseums.org/section.php?pageID=55\n"
     ]
    },
    {
     "name": "stderr",
     "output_type": "stream",
     "text": [
      " 93%|█████████▎| 16675/18004 [3:34:43<12:16,  1.80it/s]"
     ]
    },
    {
     "name": "stdout",
     "output_type": "stream",
     "text": [
      "Failed to parse URL at index 16675, URL: https://www.nytimes.com/2023/09/13/arts/design/nazi-stolen-schiele-works-seized.html\n"
     ]
    },
    {
     "name": "stderr",
     "output_type": "stream",
     "text": [
      " 93%|█████████▎| 16799/18004 [3:35:49<05:36,  3.58it/s]"
     ]
    },
    {
     "name": "stdout",
     "output_type": "stream",
     "text": [
      "Failed to parse URL at index 16798, URL: https://www.warhol.org/art-and-archives/\n"
     ]
    },
    {
     "name": "stderr",
     "output_type": "stream",
     "text": [
      " 93%|█████████▎| 16817/18004 [3:36:02<28:16,  1.43s/it]"
     ]
    },
    {
     "name": "stdout",
     "output_type": "stream",
     "text": [
      "Failed to parse URL at index 16816, URL: https://carnegiemnh.org/learn/learn/\n"
     ]
    },
    {
     "name": "stderr",
     "output_type": "stream",
     "text": [
      " 93%|█████████▎| 16819/18004 [3:36:03<19:36,  1.01it/s]"
     ]
    },
    {
     "name": "stdout",
     "output_type": "stream",
     "text": [
      "Failed to parse URL at index 16819, URL: https://carnegiemnh.org/learn/programs-at-the-museum/\n"
     ]
    },
    {
     "name": "stderr",
     "output_type": "stream",
     "text": [
      " 93%|█████████▎| 16822/18004 [3:36:04<14:31,  1.36it/s]"
     ]
    },
    {
     "name": "stdout",
     "output_type": "stream",
     "text": [
      "Failed to parse URL at index 16822, URL: https://carnegiemnh.org/learn/programs-online/\n"
     ]
    },
    {
     "name": "stderr",
     "output_type": "stream",
     "text": [
      " 94%|█████████▎| 16866/18004 [3:36:33<08:30,  2.23it/s]"
     ]
    },
    {
     "name": "stdout",
     "output_type": "stream",
     "text": [
      "Failed to parse URL at index 16865, URL: https://open.spotify.com/show/5B8N5YM38kphLzrrWuT0RV\n"
     ]
    },
    {
     "name": "stderr",
     "output_type": "stream",
     "text": [
      " 94%|█████████▍| 16960/18004 [3:36:54<04:49,  3.60it/s]"
     ]
    },
    {
     "name": "stdout",
     "output_type": "stream",
     "text": [
      "Failed to parse URL at index 16960, URL: https://www.linkedin.com/company/carnegie-museum-of-art\n"
     ]
    },
    {
     "name": "stderr",
     "output_type": "stream",
     "text": [
      " 95%|█████████▍| 17071/18004 [3:37:41<26:55,  1.73s/it]"
     ]
    },
    {
     "name": "stdout",
     "output_type": "stream",
     "text": [
      "Failed to parse URL at index 17070, URL: https://web.archive.org/web/20110629071614/http://www.post-gazette.com/magazine/19990702dippy2.asp\n"
     ]
    },
    {
     "name": "stderr",
     "output_type": "stream",
     "text": [
      " 95%|█████████▍| 17072/18004 [3:37:41<20:15,  1.30s/it]"
     ]
    },
    {
     "name": "stdout",
     "output_type": "stream",
     "text": [
      "Failed to parse URL at index 17071, URL: http://www.post-gazette.com/magazine/19990702dippy2.asp\n"
     ]
    },
    {
     "name": "stderr",
     "output_type": "stream",
     "text": [
      " 95%|█████████▍| 17074/18004 [3:37:46<34:09,  2.20s/it]"
     ]
    },
    {
     "name": "stdout",
     "output_type": "stream",
     "text": [
      "Failed to parse URL at index 17073, URL: https://web.archive.org/web/20131016194405/http://news.nationalgeographic.com/news/2013/10/131016-tyrannosaurus-rex-smithsonian-wankel-fossil-day/\n"
     ]
    },
    {
     "name": "stderr",
     "output_type": "stream",
     "text": [
      " 95%|█████████▌| 17142/18004 [3:38:20<09:15,  1.55it/s]"
     ]
    },
    {
     "name": "stdout",
     "output_type": "stream",
     "text": [
      "Failed to parse URL at index 17141, URL: https://www.jstor.org/action/doBasicSearch?Query=%22Heinz+History+Center%22&acc=on&wc=on\n"
     ]
    },
    {
     "name": "stderr",
     "output_type": "stream",
     "text": [
      " 95%|█████████▌| 17187/18004 [3:38:38<23:16,  1.71s/it]"
     ]
    },
    {
     "name": "stdout",
     "output_type": "stream",
     "text": [
      "Failed to parse URL at index 17186, URL: https://web.archive.org/web/20141231083504/http://www.heinzhistorycenter.org/about\n"
     ]
    },
    {
     "name": "stderr",
     "output_type": "stream",
     "text": [
      " 96%|█████████▌| 17201/18004 [3:38:44<04:51,  2.76it/s]"
     ]
    },
    {
     "name": "stdout",
     "output_type": "stream",
     "text": [
      "Failed to parse URL at index 17200, URL: https://search.worldcat.org/issn/1525-4755\n"
     ]
    },
    {
     "name": "stderr",
     "output_type": "stream",
     "text": [
      " 96%|█████████▌| 17205/18004 [3:38:50<23:01,  1.73s/it]"
     ]
    },
    {
     "name": "stdout",
     "output_type": "stream",
     "text": [
      "Failed to parse URL at index 17204, URL: https://web.archive.org/web/20150112212305/http://www.post-gazette.com/life/seen/2014/11/24/1879-Founders-Dinner-held-at-Heinz-History-Center/stories/201411230222\n"
     ]
    },
    {
     "name": "stderr",
     "output_type": "stream",
     "text": [
      " 96%|█████████▌| 17265/18004 [3:39:11<03:45,  3.28it/s]"
     ]
    },
    {
     "name": "stdout",
     "output_type": "stream",
     "text": [
      "Failed to parse URL at index 17263, URL: https://my.heinzhistorycenter.org/orders/558/calendar?cart=true&eventId=64babd55351d6b414477592b&membershipIds=\n"
     ]
    },
    {
     "name": "stderr",
     "output_type": "stream",
     "text": [
      " 96%|█████████▌| 17294/18004 [3:39:18<06:36,  1.79it/s]"
     ]
    },
    {
     "name": "stdout",
     "output_type": "stream",
     "text": [
      "Failed to parse URL at index 17293, URL: https://lp.constantcontactpages.com/su/JY1eUky\n"
     ]
    },
    {
     "name": "stderr",
     "output_type": "stream",
     "text": [
      " 96%|█████████▌| 17296/18004 [3:39:21<12:05,  1.03s/it]"
     ]
    },
    {
     "name": "stdout",
     "output_type": "stream",
     "text": [
      "Failed to parse URL at index 17295, URL: https://www.heinzhistorycenter.org/tel:4124546000\n"
     ]
    },
    {
     "name": "stderr",
     "output_type": "stream",
     "text": [
      " 96%|█████████▌| 17300/18004 [3:39:23<08:33,  1.37it/s]"
     ]
    },
    {
     "name": "stdout",
     "output_type": "stream",
     "text": [
      "Failed to parse URL at index 17299, URL: https://www.heinzhistorycenter.org/tel:4122819284\n"
     ]
    },
    {
     "name": "stderr",
     "output_type": "stream",
     "text": [
      " 96%|█████████▌| 17305/18004 [3:39:26<06:28,  1.80it/s]"
     ]
    },
    {
     "name": "stdout",
     "output_type": "stream",
     "text": [
      "Failed to parse URL at index 17302, URL: https://www.heinzhistorycenter.org/tel:7245873412\n"
     ]
    },
    {
     "name": "stderr",
     "output_type": "stream",
     "text": [
      " 97%|█████████▋| 17448/18004 [3:40:34<03:46,  2.45it/s]"
     ]
    },
    {
     "name": "stdout",
     "output_type": "stream",
     "text": [
      "Failed to parse URL at index 17448, URL: http://thefrickpittsburgh.org\n"
     ]
    },
    {
     "name": "stderr",
     "output_type": "stream",
     "text": [
      " 97%|█████████▋| 17477/18004 [3:40:44<03:24,  2.58it/s]"
     ]
    },
    {
     "name": "stdout",
     "output_type": "stream",
     "text": [
      "Failed to parse URL at index 17476, URL: https://en.wikipedia.org/w/index.php?title=Bailey_Electric&action=edit&redlink=1\n"
     ]
    },
    {
     "name": "stderr",
     "output_type": "stream",
     "text": [
      " 97%|█████████▋| 17509/18004 [3:40:56<03:36,  2.29it/s]"
     ]
    },
    {
     "name": "stdout",
     "output_type": "stream",
     "text": [
      "Failed to parse URL at index 17508, URL: https://en.wikipedia.org/w/index.php?title=Rainaldo_di_Rainuccio_da_Spoleto&action=edit&redlink=1\n"
     ]
    },
    {
     "name": "stderr",
     "output_type": "stream",
     "text": [
      " 97%|█████████▋| 17515/18004 [3:41:03<14:11,  1.74s/it]"
     ]
    },
    {
     "name": "stdout",
     "output_type": "stream",
     "text": [
      "Failed to parse URL at index 17514, URL: https://web.archive.org/web/20130619125035/http://www.post-gazette.com/stories/local/neighborhoods-city/frick-art-historical-center-to-get-15-million-makeover-689348\n"
     ]
    },
    {
     "name": "stderr",
     "output_type": "stream",
     "text": [
      " 97%|█████████▋| 17516/18004 [3:41:04<12:57,  1.59s/it]"
     ]
    },
    {
     "name": "stdout",
     "output_type": "stream",
     "text": [
      "Failed to parse URL at index 17515, URL: http://www.post-gazette.com/stories/local/neighborhoods-city/frick-art-historical-center-to-get-15-million-makeover-689348/\n"
     ]
    },
    {
     "name": "stderr",
     "output_type": "stream",
     "text": [
      " 97%|█████████▋| 17531/18004 [3:41:18<15:05,  1.91s/it]"
     ]
    },
    {
     "name": "stdout",
     "output_type": "stream",
     "text": [
      "Failed to parse URL at index 17530, URL: https://web.archive.org/web/20100102065638/http://postgazette.com/pg/09068/953457-429.stm\n"
     ]
    },
    {
     "name": "stderr",
     "output_type": "stream",
     "text": [
      " 97%|█████████▋| 17533/18004 [3:41:23<16:03,  2.05s/it]"
     ]
    },
    {
     "name": "stdout",
     "output_type": "stream",
     "text": [
      "Failed to parse URL at index 17531, URL: https://web.archive.org/web/20110928020849/http://postgazette.com/pg/09103/962016-429.stm\n"
     ]
    },
    {
     "name": "stderr",
     "output_type": "stream",
     "text": [
      " 97%|█████████▋| 17537/18004 [3:41:26<07:04,  1.10it/s]"
     ]
    },
    {
     "name": "stdout",
     "output_type": "stream",
     "text": [
      "Failed to parse URL at index 17536, URL: http://olduli.nli.org.il/F/?func=find-b&local_base=NLX10&find_code=UID&request=987007261348905171\n"
     ]
    },
    {
     "name": "stderr",
     "output_type": "stream",
     "text": [
      " 98%|█████████▊| 17566/18004 [3:41:51<10:00,  1.37s/it]"
     ]
    },
    {
     "name": "stdout",
     "output_type": "stream",
     "text": [
      "Failed to parse URL at index 17565, URL: https://macandcheesefestival.com/city-events/pittsburgh-mac-and-cheese-festival-2-2/\n"
     ]
    },
    {
     "name": "stderr",
     "output_type": "stream",
     "text": [
      " 98%|█████████▊| 17605/18004 [3:42:40<41:09,  6.19s/it]"
     ]
    },
    {
     "name": "stdout",
     "output_type": "stream",
     "text": [
      "Failed to parse URL at index 17604, URL: https://www.picklesburgh.com/wp-content/uploads/2024/07/THursdayLayers.jpg\n"
     ]
    },
    {
     "name": "stderr",
     "output_type": "stream",
     "text": [
      " 98%|█████████▊| 17606/18004 [3:42:50<47:24,  7.15s/it]"
     ]
    },
    {
     "name": "stdout",
     "output_type": "stream",
     "text": [
      "Failed to parse URL at index 17605, URL: https://www.picklesburgh.com/wp-content/uploads/2024/07/FridayLayers-1.jpg\n"
     ]
    },
    {
     "name": "stderr",
     "output_type": "stream",
     "text": [
      " 98%|█████████▊| 17607/18004 [3:42:59<51:55,  7.85s/it]"
     ]
    },
    {
     "name": "stdout",
     "output_type": "stream",
     "text": [
      "Failed to parse URL at index 17606, URL: https://www.picklesburgh.com/wp-content/uploads/2024/07/SaturdayLayers.jpg\n"
     ]
    },
    {
     "name": "stderr",
     "output_type": "stream",
     "text": [
      " 98%|█████████▊| 17608/18004 [3:43:08<54:16,  8.22s/it]"
     ]
    },
    {
     "name": "stdout",
     "output_type": "stream",
     "text": [
      "Failed to parse URL at index 17607, URL: https://www.picklesburgh.com/wp-content/uploads/2024/07/SaturdayLayers-1.jpg\n"
     ]
    },
    {
     "name": "stderr",
     "output_type": "stream",
     "text": [
      " 98%|█████████▊| 17610/18004 [3:43:11<29:58,  4.56s/it]"
     ]
    },
    {
     "name": "stdout",
     "output_type": "stream",
     "text": [
      "Failed to parse URL at index 17609, URL: http://www.picklesburgh.com/wp-content/uploads/2015/05/PDP-logo-trans.png\n",
      "Failed to parse URL at index 17610, URL: https://www.linkedin.com/company/pittsburgh-downtown-partnership/\n"
     ]
    },
    {
     "name": "stderr",
     "output_type": "stream",
     "text": [
      " 98%|█████████▊| 17621/18004 [3:43:17<03:40,  1.73it/s]"
     ]
    },
    {
     "name": "stdout",
     "output_type": "stream",
     "text": [
      "Failed to parse URL at index 17619, URL: http://www.ticketmaster.com/event/16005442CEFA8C2F\n",
      "Failed to parse URL at index 17620, URL: http://www.ticketmaster.com/event/16005442CF098C40\n"
     ]
    },
    {
     "name": "stderr",
     "output_type": "stream",
     "text": [
      " 98%|█████████▊| 17624/18004 [3:43:22<06:24,  1.01s/it]"
     ]
    },
    {
     "name": "stdout",
     "output_type": "stream",
     "text": [
      "Failed to parse URL at index 17623, URL: https://sites.google.com/phdcincubator.org/phdc/about-us\n"
     ]
    },
    {
     "name": "stderr",
     "output_type": "stream",
     "text": [
      " 98%|█████████▊| 17629/18004 [3:43:23<03:00,  2.08it/s]"
     ]
    },
    {
     "name": "stdout",
     "output_type": "stream",
     "text": [
      "Failed to parse URL at index 17628, URL: https://www.etix.com/ticket/v/21016/the-original-pittsburgh-taco-festival?orderBy=2\n"
     ]
    },
    {
     "name": "stderr",
     "output_type": "stream",
     "text": [
      " 98%|█████████▊| 17684/18004 [3:43:35<02:45,  1.94it/s]"
     ]
    },
    {
     "name": "stdout",
     "output_type": "stream",
     "text": [
      "Failed to parse URL at index 17683, URL: https://sustainablepghrestaurants.org/site/home-eat-sustainably/\n"
     ]
    },
    {
     "name": "stderr",
     "output_type": "stream",
     "text": [
      " 99%|█████████▊| 17743/18004 [3:44:03<04:18,  1.01it/s]"
     ]
    },
    {
     "name": "stdout",
     "output_type": "stream",
     "text": [
      "Failed to parse URL at index 17742, URL: http://littleitalydays.com/wp-content/uploads/2015/07/highmark.jpg\n"
     ]
    },
    {
     "name": "stderr",
     "output_type": "stream",
     "text": [
      " 99%|█████████▊| 17750/18004 [3:44:11<05:16,  1.25s/it]"
     ]
    },
    {
     "name": "stdout",
     "output_type": "stream",
     "text": [
      "Failed to parse URL at index 17749, URL: http://littleitalydays.com/wp-content/uploads/2024/07/MISS-LITTLE-ITALY-2024.pdf\n"
     ]
    },
    {
     "name": "stderr",
     "output_type": "stream",
     "text": [
      " 99%|█████████▊| 17751/18004 [3:44:13<06:13,  1.48s/it]"
     ]
    },
    {
     "name": "stdout",
     "output_type": "stream",
     "text": [
      "Failed to parse URL at index 17750, URL: https://littleitalydays.com/wp-content/uploads/2017/07/13995538_1752240328322087_1800593659089128617_o.jpg\n"
     ]
    },
    {
     "name": "stderr",
     "output_type": "stream",
     "text": [
      " 99%|█████████▊| 17752/18004 [3:44:14<06:35,  1.57s/it]"
     ]
    },
    {
     "name": "stdout",
     "output_type": "stream",
     "text": [
      "Failed to parse URL at index 17751, URL: https://littleitalydays.com/wp-content/uploads/2017/07/13996229_1752240551655398_123428501207492172_o.jpg\n"
     ]
    },
    {
     "name": "stderr",
     "output_type": "stream",
     "text": [
      " 99%|█████████▊| 17754/18004 [3:44:15<04:28,  1.07s/it]"
     ]
    },
    {
     "name": "stdout",
     "output_type": "stream",
     "text": [
      "Failed to parse URL at index 17753, URL: https://littleitalydays.com/wp-content/uploads/2017/07/14088430_574706156034568_6149722159653816399_n.jpg\n"
     ]
    },
    {
     "name": "stderr",
     "output_type": "stream",
     "text": [
      " 99%|█████████▊| 17755/18004 [3:44:17<04:31,  1.09s/it]"
     ]
    },
    {
     "name": "stdout",
     "output_type": "stream",
     "text": [
      "Failed to parse URL at index 17754, URL: https://littleitalydays.com/wp-content/uploads/2017/07/girls2B.jpg\n"
     ]
    },
    {
     "name": "stderr",
     "output_type": "stream",
     "text": [
      " 99%|█████████▊| 17756/18004 [3:44:18<04:17,  1.04s/it]"
     ]
    },
    {
     "name": "stdout",
     "output_type": "stream",
     "text": [
      "Failed to parse URL at index 17755, URL: https://littleitalydays.com/wp-content/uploads/2017/07/signB.jpg\n"
     ]
    },
    {
     "name": "stderr",
     "output_type": "stream",
     "text": [
      " 99%|█████████▊| 17757/18004 [3:44:18<04:02,  1.02it/s]"
     ]
    },
    {
     "name": "stdout",
     "output_type": "stream",
     "text": [
      "Failed to parse URL at index 17756, URL: https://littleitalydays.com/wp-content/uploads/2017/07/trophyB.jpg\n"
     ]
    },
    {
     "name": "stderr",
     "output_type": "stream",
     "text": [
      " 99%|█████████▊| 17759/18004 [3:44:20<03:39,  1.11it/s]"
     ]
    },
    {
     "name": "stdout",
     "output_type": "stream",
     "text": [
      "Failed to parse URL at index 17758, URL: https://littleitalydays.com/wp-content/uploads/2017/07/IMG_1729.jpg\n"
     ]
    },
    {
     "name": "stderr",
     "output_type": "stream",
     "text": [
      " 99%|█████████▊| 17760/18004 [3:44:21<03:22,  1.20it/s]"
     ]
    },
    {
     "name": "stdout",
     "output_type": "stream",
     "text": [
      "Failed to parse URL at index 17759, URL: https://littleitalydays.com/wp-content/uploads/2017/07/2.jpg\n"
     ]
    },
    {
     "name": "stderr",
     "output_type": "stream",
     "text": [
      " 99%|█████████▊| 17761/18004 [3:44:22<03:24,  1.19it/s]"
     ]
    },
    {
     "name": "stdout",
     "output_type": "stream",
     "text": [
      "Failed to parse URL at index 17760, URL: https://littleitalydays.com/wp-content/uploads/2017/07/IMG_1731.jpg\n"
     ]
    },
    {
     "name": "stderr",
     "output_type": "stream",
     "text": [
      " 99%|█████████▊| 17762/18004 [3:44:22<03:11,  1.27it/s]"
     ]
    },
    {
     "name": "stdout",
     "output_type": "stream",
     "text": [
      "Failed to parse URL at index 17761, URL: https://littleitalydays.com/wp-content/uploads/2017/07/IMG_1733.jpg\n"
     ]
    },
    {
     "name": "stderr",
     "output_type": "stream",
     "text": [
      " 99%|█████████▊| 17764/18004 [3:44:24<03:13,  1.24it/s]"
     ]
    },
    {
     "name": "stdout",
     "output_type": "stream",
     "text": [
      "Failed to parse URL at index 17763, URL: https://littleitalydays.com/wp-content/uploads/2017/07/IMG_1742.jpg\n"
     ]
    },
    {
     "name": "stderr",
     "output_type": "stream",
     "text": [
      " 99%|█████████▊| 17767/18004 [3:44:26<03:07,  1.27it/s]"
     ]
    },
    {
     "name": "stdout",
     "output_type": "stream",
     "text": [
      "Failed to parse URL at index 17766, URL: https://littleitalydays.com/wp-content/uploads/2017/07/IMG_1723C.jpg\n"
     ]
    },
    {
     "name": "stderr",
     "output_type": "stream",
     "text": [
      " 99%|█████████▉| 17804/18004 [3:44:36<01:25,  2.34it/s]"
     ]
    },
    {
     "name": "stdout",
     "output_type": "stream",
     "text": [
      "Failed to parse URL at index 17802, URL: https://store.bananasplitfest.com\n"
     ]
    },
    {
     "name": "stderr",
     "output_type": "stream",
     "text": [
      " 99%|█████████▉| 17817/18004 [3:44:45<02:38,  1.18it/s]"
     ]
    },
    {
     "name": "stdout",
     "output_type": "stream",
     "text": [
      "Failed to parse URL at index 17816, URL: https://www.superiormotors.net/\n"
     ]
    },
    {
     "name": "stderr",
     "output_type": "stream",
     "text": [
      " 99%|█████████▉| 17828/18004 [3:44:59<05:39,  1.93s/it]"
     ]
    },
    {
     "name": "stdout",
     "output_type": "stream",
     "text": [
      "Failed to parse URL at index 17827, URL: https://www.pnc.com/en/personal-banking.html?&WT.srch=1&WT.mc_id=BRND_GOOGLE_Search_SWPA_S_G_B_BRND_Brand_E&e=GOOGLE&m=p&k=pnc&&gad_source=1&gclid=Cj0KCQjwzva1BhD3ARIsADQuPnWEr_Y4PcG1Slz6dDDoMSzCqcNvnu1QvXgR5rIPWyJs1WrP38gX3sQaAs2hEALw_wcB&gclsrc=aw.ds\n"
     ]
    },
    {
     "name": "stderr",
     "output_type": "stream",
     "text": [
      "100%|█████████▉| 17922/18004 [3:45:41<02:34,  1.88s/it]"
     ]
    },
    {
     "name": "stdout",
     "output_type": "stream",
     "text": [
      "Failed to parse URL at index 17921, URL: https://web.archive.org/web/20231101013552/https://www.cbsnews.com/pittsburgh/news/picklesburgh-returns-to-pittsburgh/\n"
     ]
    },
    {
     "name": "stderr",
     "output_type": "stream",
     "text": [
      "100%|█████████▉| 17927/18004 [3:45:47<02:35,  2.02s/it]"
     ]
    },
    {
     "name": "stdout",
     "output_type": "stream",
     "text": [
      "Failed to parse URL at index 17926, URL: https://web.archive.org/web/20231101013553/https://www.cbsnews.com/pittsburgh/news/pittsburgh-becomes-picklesburgh-this-july/\n"
     ]
    },
    {
     "name": "stderr",
     "output_type": "stream",
     "text": [
      "100%|█████████▉| 17931/18004 [3:45:53<02:34,  2.11s/it]"
     ]
    },
    {
     "name": "stdout",
     "output_type": "stream",
     "text": [
      "Failed to parse URL at index 17930, URL: https://web.archive.org/web/20231101013552/https://www.post-gazette.com/life/food/2023/06/06/picklesburgh-downtown-pittsburgh-festival-location/stories/202306060117\n"
     ]
    },
    {
     "name": "stderr",
     "output_type": "stream",
     "text": [
      "100%|█████████▉| 17934/18004 [3:45:59<02:49,  2.43s/it]"
     ]
    },
    {
     "name": "stdout",
     "output_type": "stream",
     "text": [
      "Failed to parse URL at index 17933, URL: https://web.archive.org/web/20231101013552/https://triblive.com/lifestyles/food-drink/quench-your-thirst-picklesburgh-has-plenty-of-dill-icious-drink-options/\n"
     ]
    },
    {
     "name": "stderr",
     "output_type": "stream",
     "text": [
      "100%|█████████▉| 17937/18004 [3:46:05<02:58,  2.66s/it]"
     ]
    },
    {
     "name": "stdout",
     "output_type": "stream",
     "text": [
      "Failed to parse URL at index 17936, URL: https://web.archive.org/web/20231101013602/https://www.wtae.com/article/picklesburgh-downtown-pittsburgh-boulevard-of-the-allies/44603819\n"
     ]
    },
    {
     "name": "stderr",
     "output_type": "stream",
     "text": [
      "100%|█████████▉| 17941/18004 [3:46:12<02:37,  2.50s/it]"
     ]
    },
    {
     "name": "stdout",
     "output_type": "stream",
     "text": [
      "Failed to parse URL at index 17940, URL: https://web.archive.org/web/20231101013552/https://www.pittsburghmagazine.com/why-is-picklesburgh-moving-to-a-new-location-in-2023/\n"
     ]
    },
    {
     "name": "stderr",
     "output_type": "stream",
     "text": [
      "100%|█████████▉| 17943/18004 [3:46:18<02:49,  2.77s/it]"
     ]
    },
    {
     "name": "stdout",
     "output_type": "stream",
     "text": [
      "Failed to parse URL at index 17942, URL: https://web.archive.org/web/20231101013554/https://www.cbsnews.com/pittsburgh/news/picklesburgh-voted-best-specialty-food-festival-2023/\n"
     ]
    },
    {
     "name": "stderr",
     "output_type": "stream",
     "text": [
      "100%|█████████▉| 17947/18004 [3:46:24<02:14,  2.36s/it]"
     ]
    },
    {
     "name": "stdout",
     "output_type": "stream",
     "text": [
      "Failed to parse URL at index 17946, URL: https://web.archive.org/web/20231101024024/https://www.wesa.fm/identity-justice/2015-05-13/the-future-will-meet-the-past-at-picklesburgh-food-festival\n"
     ]
    },
    {
     "name": "stderr",
     "output_type": "stream",
     "text": [
      "100%|█████████▉| 17952/18004 [3:46:32<02:03,  2.38s/it]"
     ]
    },
    {
     "name": "stdout",
     "output_type": "stream",
     "text": [
      "Failed to parse URL at index 17951, URL: https://web.archive.org/web/20231101024024/https://www.pittsburghmagazine.com/how-to-make-the-most-of-the-2023-picklesburgh-festival/\n"
     ]
    },
    {
     "name": "stderr",
     "output_type": "stream",
     "text": [
      "100%|█████████▉| 17954/18004 [3:46:37<02:18,  2.77s/it]"
     ]
    },
    {
     "name": "stdout",
     "output_type": "stream",
     "text": [
      "Failed to parse URL at index 17953, URL: https://www.washingtonpost.com/news/food/wp/2016/07/19/forget-steel-pittsburgh-now-wants-to-be-known-as-a-pickle-town/\n"
     ]
    },
    {
     "name": "stderr",
     "output_type": "stream",
     "text": [
      "100%|█████████▉| 17955/18004 [3:46:42<02:52,  3.52s/it]"
     ]
    },
    {
     "name": "stdout",
     "output_type": "stream",
     "text": [
      "Failed to parse URL at index 17954, URL: https://web.archive.org/web/20181222125828/https://www.washingtonpost.com/news/food/wp/2016/07/19/forget-steel-pittsburgh-now-wants-to-be-known-as-a-pickle-town/\n"
     ]
    },
    {
     "name": "stderr",
     "output_type": "stream",
     "text": [
      "100%|█████████▉| 17957/18004 [3:46:43<01:29,  1.91s/it]"
     ]
    },
    {
     "name": "stdout",
     "output_type": "stream",
     "text": [
      "Failed to parse URL at index 17956, URL: https://www.bizjournals.com/chicago/news/2016/07/14/kraftheinz-finally-showering-some-love-on-pickle.html\n"
     ]
    },
    {
     "name": "stderr",
     "output_type": "stream",
     "text": [
      "100%|█████████▉| 17960/18004 [3:46:49<01:40,  2.28s/it]"
     ]
    },
    {
     "name": "stdout",
     "output_type": "stream",
     "text": [
      "Failed to parse URL at index 17959, URL: https://web.archive.org/web/20231101024027/https://www.post-gazette.com/life/recreation/2017/07/13/Relishing-PIttsburgh-Picklesburgh-festival-Heinz-Clemente-Bridge/stories/201707130151\n"
     ]
    },
    {
     "name": "stderr",
     "output_type": "stream",
     "text": [
      "100%|█████████▉| 17963/18004 [3:46:54<01:38,  2.41s/it]"
     ]
    },
    {
     "name": "stdout",
     "output_type": "stream",
     "text": [
      "Failed to parse URL at index 17962, URL: https://web.archive.org/web/20231101024026/https://www.post-gazette.com/life/food/2019/04/16/Picklesburgh-2019-expands-beyond-Roberto-Clemente-Bridge-Pittsburgh-July/stories/201904160120\n"
     ]
    },
    {
     "name": "stderr",
     "output_type": "stream",
     "text": [
      "100%|█████████▉| 17966/18004 [3:47:00<01:35,  2.52s/it]"
     ]
    },
    {
     "name": "stdout",
     "output_type": "stream",
     "text": [
      "Failed to parse URL at index 17965, URL: https://web.archive.org/web/20231101142901/https://www.cbsnews.com/pittsburgh/news/pittsburgh-picklesburgh-2018/\n"
     ]
    },
    {
     "name": "stderr",
     "output_type": "stream",
     "text": [
      "100%|█████████▉| 17969/18004 [3:47:06<01:28,  2.54s/it]"
     ]
    },
    {
     "name": "stdout",
     "output_type": "stream",
     "text": [
      "Failed to parse URL at index 17968, URL: https://web.archive.org/web/20240415024350/https://www.cbsnews.com/pittsburgh/news/picklesburgh-adds-fourth-day-2024/\n"
     ]
    },
    {
     "name": "stderr",
     "output_type": "stream",
     "text": [
      "100%|█████████▉| 17972/18004 [3:47:13<01:26,  2.70s/it]"
     ]
    },
    {
     "name": "stdout",
     "output_type": "stream",
     "text": [
      "Failed to parse URL at index 17971, URL: https://web.archive.org/web/20231101013553/https://www.wpxi.com/news/top-stories/picklesburgh-returns-pittsburgh-with-safety-precautions-music-juice-drinking-contest/IRULY7K2GZCE5NUYYWOPZCIADI/\n"
     ]
    },
    {
     "name": "stderr",
     "output_type": "stream",
     "text": [
      "100%|█████████▉| 17975/18004 [3:47:18<01:13,  2.54s/it]"
     ]
    },
    {
     "name": "stdout",
     "output_type": "stream",
     "text": [
      "Failed to parse URL at index 17974, URL: https://web.archive.org/web/20231101024023/https://www.post-gazette.com/life/recreation/2022/07/01/picklesburgh-pittsburgh-10th-street-bypass-ninth-street-bridge-pickles-food-drinks-festival/stories/202207010095\n"
     ]
    },
    {
     "name": "stderr",
     "output_type": "stream",
     "text": [
      "100%|█████████▉| 17978/18004 [3:47:24<01:05,  2.51s/it]"
     ]
    },
    {
     "name": "stdout",
     "output_type": "stream",
     "text": [
      "Failed to parse URL at index 17977, URL: https://web.archive.org/web/20231101013552/https://www.post-gazette.com/life/recipes/2023/07/18/picklesburgh-pickles-recipes-papa-j-s-cucumbers/stories/202307050079\n"
     ]
    },
    {
     "name": "stderr",
     "output_type": "stream",
     "text": [
      "100%|█████████▉| 17981/18004 [3:47:30<00:57,  2.50s/it]"
     ]
    },
    {
     "name": "stdout",
     "output_type": "stream",
     "text": [
      "Failed to parse URL at index 17980, URL: https://web.archive.org/web/20231101013555/https://www.wesa.fm/arts-sports-culture/2023-07-19/picklesburgh-festival-new-downtown-location\n"
     ]
    },
    {
     "name": "stderr",
     "output_type": "stream",
     "text": [
      "100%|█████████▉| 17984/18004 [3:47:36<00:50,  2.51s/it]"
     ]
    },
    {
     "name": "stdout",
     "output_type": "stream",
     "text": [
      "Failed to parse URL at index 17983, URL: https://web.archive.org/web/20230920142229/https://triblive.com/local/nearly-all-of-downtown-pittsburgh-visitors-have-returned-says-report/\n"
     ]
    },
    {
     "name": "stderr",
     "output_type": "stream",
     "text": [
      "100%|█████████▉| 17987/18004 [3:47:42<00:42,  2.52s/it]"
     ]
    },
    {
     "name": "stdout",
     "output_type": "stream",
     "text": [
      "Failed to parse URL at index 17986, URL: https://web.archive.org/web/20231101013554/https://www.post-gazette.com/local/city/2023/07/24/picklesburgh-hospital-pittsburgh-public-safety-paramedics-weather/stories/202307240084\n"
     ]
    },
    {
     "name": "stderr",
     "output_type": "stream",
     "text": [
      "100%|█████████▉| 17992/18004 [3:47:48<00:25,  2.10s/it]"
     ]
    },
    {
     "name": "stdout",
     "output_type": "stream",
     "text": [
      "Failed to parse URL at index 17991, URL: https://web.archive.org/web/20231101033516/https://www.post-gazette.com/local/city/2023/07/23/picklesburgh-s-pickle-juice-drinking-contest-pittsburgh/stories/202307240022\n"
     ]
    },
    {
     "name": "stderr",
     "output_type": "stream",
     "text": [
      "100%|█████████▉| 17995/18004 [3:47:53<00:21,  2.34s/it]"
     ]
    },
    {
     "name": "stdout",
     "output_type": "stream",
     "text": [
      "Failed to parse URL at index 17994, URL: https://web.archive.org/web/20231101033517/https://triblive.com/news/top-stories/picklesburgh-the-nations-best-specialty-food-festival-continues-saturday-and-sunday-in-downtown-pittsburgh/\n"
     ]
    },
    {
     "name": "stderr",
     "output_type": "stream",
     "text": [
      "100%|█████████▉| 17997/18004 [3:47:54<00:09,  1.35s/it]"
     ]
    },
    {
     "name": "stdout",
     "output_type": "stream",
     "text": [
      "Failed to parse URL at index 17996, URL: https://www.wtrf.com/pennsylvania/watch-man-breaks-record-for-chugging-pickle-juice-in-pennsylvania/\n"
     ]
    },
    {
     "name": "stderr",
     "output_type": "stream",
     "text": [
      "100%|█████████▉| 17998/18004 [3:47:59<00:14,  2.45s/it]"
     ]
    },
    {
     "name": "stdout",
     "output_type": "stream",
     "text": [
      "Failed to parse URL at index 17997, URL: https://web.archive.org/web/20231101034853/https://www.wtrf.com/pennsylvania/watch-man-breaks-record-for-chugging-pickle-juice-in-pennsylvania/\n"
     ]
    },
    {
     "name": "stderr",
     "output_type": "stream",
     "text": [
      "100%|██████████| 18004/18004 [3:48:02<00:00,  1.32it/s]"
     ]
    },
    {
     "name": "stdout",
     "output_type": "stream",
     "text": [
      "Crawling complete!\n"
     ]
    },
    {
     "name": "stderr",
     "output_type": "stream",
     "text": [
      "\n"
     ]
    }
   ],
   "source": [
    "import requests\n",
    "from bs4 import BeautifulSoup\n",
    "import pandas as pd\n",
    "import time\n",
    "import random\n",
    "import warnings\n",
    "from urllib.parse import urljoin\n",
    "from urllib3.exceptions import InsecureRequestWarning\n",
    "from tqdm import tqdm\n",
    "\n",
    "# Define user agents\n",
    "user_agents = [\n",
    "    'Mozilla/5.0 (Windows NT 10.0; Win64; x64) AppleWebKit/537.36 (KHTML, like Gecko) Chrome/58.0.3029.110 Safari/537.3',\n",
    "    'Mozilla/5.0 (X11; Linux x86_64) AppleWebKit/537.36 (KHTML, like Gecko) Chrome/58.0.3029.110 Safari/537.3',\n",
    "    'Mozilla/5.0 (Macintosh; Intel Mac OS X 10_12_6) AppleWebKit/537.36 (KHTML, like Gecko) Chrome/60.0.3112.113 Safari/537.36',\n",
    "]\n",
    "warnings.filterwarnings('ignore', category=InsecureRequestWarning)\n",
    "\n",
    "# Define headers for requests\n",
    "headers = {'User-Agent': random.choice(user_agents)}\n",
    "session = requests.Session()\n",
    "\n",
    "# Fetch the page text with retry mechanism\n",
    "def fetch_page_text(url, retries=1, timeout=5):\n",
    "    attempt = 0\n",
    "    while attempt < retries:\n",
    "        try:\n",
    "            # Send a GET request to the URL with a timeout\n",
    "            response = session.get(url, timeout=timeout, headers=headers, verify=False)\n",
    "            response.raise_for_status()  # Raise an error for bad responses\n",
    "            \n",
    "            # Parse the page content\n",
    "            soup = BeautifulSoup(response.content, 'lxml')\n",
    "            \n",
    "            # Extract and return the text from the page and the soup object\n",
    "            return soup.get_text(separator='\\n', strip=True), soup\n",
    "        \n",
    "        except requests.exceptions.RequestException as e:\n",
    "            attempt += 1\n",
    "\n",
    "        if attempt == retries:\n",
    "            return None, None\n",
    "\n",
    "# Save the crawled text data to .txt files\n",
    "def save_crawled_text(url, text, index):\n",
    "    # Clean up the text by removing newlines\n",
    "    cleaned_text = text.replace('\\n', ' ')\n",
    "\n",
    "    # Define the file name with the index from the URLs list\n",
    "    output_file = f\"/Users/alan/11711/nlp-from-scratch-assignment/data/1010_160_entries/crawled/crawled_sublink_text_data/{index}.txt\"\n",
    "\n",
    "    # Save the cleaned text to the file\n",
    "    with open(output_file, 'w', encoding='utf-8') as file:\n",
    "        file.write(cleaned_text)\n",
    "\n",
    "# Crawl through the URLs, parse and save one by one\n",
    "def crawl_and_save(url_list):\n",
    "    for index, url in tqdm(enumerate(url_list), total=len(url_list)):\n",
    "        if url.startswith('http'):\n",
    "            text, _ = fetch_page_text(url)\n",
    "            if text:\n",
    "                # Save the parsed text immediately after parsing\n",
    "                save_crawled_text(url, text, index)\n",
    "            else:\n",
    "                print(f\"Failed to parse URL at index {index}, URL: {url}\")\n",
    "\n",
    "if __name__ == \"__main__\":\n",
    "    # Read the CSV file with URLs\n",
    "    file_path = '/Users/alan/11711/nlp-from-scratch-assignment/data/1010_160_entries/crawled/crawled_sublinks.csv'\n",
    "    data = pd.read_csv(file_path)\n",
    "\n",
    "    # Extract non-empty URLs from the 'Source URL' column\n",
    "    urls = data['Sublink'].dropna().unique()\n",
    "\n",
    "    # Start crawling the URLs and save the result one by one\n",
    "    crawl_and_save(urls)\n",
    "\n",
    "    print(\"Crawling complete!\")"
   ]
  },
  {
   "cell_type": "markdown",
   "metadata": {},
   "source": [
    "The below cell create a mapping between the sublink file names (in index numbers) and the actual urls."
   ]
  },
  {
   "cell_type": "code",
   "execution_count": 16,
   "metadata": {},
   "outputs": [
    {
     "name": "stdout",
     "output_type": "stream",
     "text": [
      "CSV mapping file created at /Users/alan/11711/nlp-from-scratch-assignment/data/1010_160_entries/crawled/sublink_file_name_url_mapping.csv\n"
     ]
    }
   ],
   "source": [
    "import csv\n",
    "\n",
    "output_csv = '/Users/alan/11711/nlp-from-scratch-assignment/data/1010_160_entries/crawled/sublink_file_name_url_mapping.csv'\n",
    "\n",
    "# Create the CSV mapping file\n",
    "with open(output_csv, mode='w', newline='', encoding='utf-8') as file:\n",
    "    writer = csv.writer(file)\n",
    "    \n",
    "    # Write the header (optional)\n",
    "    writer.writerow(['Index', 'Value'])\n",
    "    \n",
    "    # Write the index and value pairs to the CSV\n",
    "    for index, value in enumerate(urls):\n",
    "        writer.writerow([index, value])\n",
    "\n",
    "print(f\"CSV mapping file created at {output_csv}\")"
   ]
  },
  {
   "cell_type": "code",
   "execution_count": null,
   "metadata": {},
   "outputs": [],
   "source": [
    "import pandas as pd\n",
    "from urllib.parse import urlparse, urlunparse\n",
    "\n",
    "# Function to normalize a URL by removing the fragment (i.e., anything after #)\n",
    "def normalize_url(url):\n",
    "    parsed_url = urlparse(url)\n",
    "    # Reconstruct the URL without the fragment\n",
    "    return urlunparse(parsed_url._replace(fragment=''))\n",
    "\n",
    "# Function to check and remove duplicate URLs based on the base URL (without fragments)\n",
    "def remove_duplicate_urls(file_path, column_name):\n",
    "    # Read the CSV file\n",
    "    data = pd.read_csv(file_path)\n",
    "\n",
    "    # Normalize the URLs (i.e., remove the fragment part)\n",
    "    data['normalized_url'] = data[column_name].apply(normalize_url)\n",
    "\n",
    "    # Remove duplicate rows based on the 'normalized_url' column\n",
    "    data_cleaned = data.drop_duplicates(subset='normalized_url', keep='first')\n",
    "\n",
    "    # Drop the 'normalized_url' column as it's no longer needed\n",
    "    data_cleaned = data_cleaned.drop(columns=['normalized_url'])\n",
    "\n",
    "    # Save the cleaned data back to a CSV file\n",
    "    output_file = file_path.replace('.csv', '_cleaned.csv')\n",
    "    data_cleaned.to_csv(output_file, index=False)\n",
    "\n",
    "    print(f\"Duplicates removed. Cleaned data saved to {output_file}\")\n",
    "\n",
    "if __name__ == \"__main__\":\n",
    "    # Path to the CSV file\n",
    "    file_path = '/Users/alan/11711/nlp-from-scratch-assignment/data/1010_160_entries/crawled/crawled_sublinks.csv'\n",
    "    \n",
    "    # Column in the CSV file containing the URLs\n",
    "    column_name = 'Source URL'  # Adjust based on your CSV column name\n",
    "\n",
    "    # Remove duplicates\n",
    "    remove_duplicate_urls(file_path, column_name)"
   ]
  },
  {
   "cell_type": "markdown",
   "metadata": {},
   "source": [
    "Below is the code for Selenium web driver crawling (which is evetually not used)."
   ]
  },
  {
   "cell_type": "code",
   "execution_count": null,
   "metadata": {},
   "outputs": [],
   "source": [
    "import csv\n",
    "import time\n",
    "from selenium import webdriver\n",
    "from selenium.webdriver.chrome.service import Service\n",
    "from selenium.webdriver.common.by import By\n",
    "from bs4 import BeautifulSoup\n",
    "from webdriver_manager.chrome import ChromeDriverManager\n",
    "from tqdm import tqdm\n",
    "\n",
    "# Function to fetch the page content using Selenium\n",
    "def fetch_page_text_selenium(url):\n",
    "    try:\n",
    "        driver = webdriver.Chrome(driverPath) \n",
    "        # Initialize Chrome WebDriver\n",
    "        driver.get(url)\n",
    "        \n",
    "        # Wait for the page to load (adjust time if needed)\n",
    "        time.sleep(3)\n",
    "        \n",
    "        # Get page source and close the browser\n",
    "        page_source = driver.page_source\n",
    "        driver.quit()\n",
    "\n",
    "        # Parse the page content using BeautifulSoup\n",
    "        soup = BeautifulSoup(page_source, 'html.parser')\n",
    "\n",
    "        # Extract and clean the text from the page\n",
    "        page_text = soup.get_text(separator='\\n', strip=True)\n",
    "        return page_text\n",
    "\n",
    "    except Exception as e:\n",
    "        print(f\"Error fetching {url}: {e}\")\n",
    "        return None\n",
    "\n",
    "# Function to read URLs from CSV and crawl each one\n",
    "def crawl_urls_from_csv(csv_file_path, url_column_name):\n",
    "    with open(csv_file_path, newline='', encoding='utf-8') as csvfile:\n",
    "        reader = csv.DictReader(csvfile)\n",
    "        for index, row in enumerate(reader):\n",
    "            url = row[url_column_name]\n",
    "            print(f\"Fetching: {url}\")\n",
    "            text = fetch_page_text_selenium(url)\n",
    "            if text:\n",
    "                # Save the crawled text to a file with the index as the filename\n",
    "                output_file = f\"/Users/alan/11711/nlp-from-scratch-assignment/data/1010_160_entries/crawled/crawled_text_data/{index}.txt\"\n",
    "                with open(output_file, 'w', encoding='utf-8') as f:\n",
    "                    f.write(text)\n",
    "                print(f\"Saved content to {output_file}\")\n",
    "\n",
    "if __name__ == \"__main__\":\n",
    "    csv_file_path = '/Users/alan/11711/nlp-from-scratch-assignment/data/1010_160_entries/raw/raw_csv_data/data_source.csv'\n",
    "    url_column_name = 'Source URL'\n",
    "    driverPath = '/Users/alan/Downloads/chromedriver-mac-arm64/chromedriver'\n",
    "\n",
    "\n",
    "    # Start crawling the URLs from the CSV\n",
    "    crawl_urls_from_csv(csv_file_path, url_column_name)"
   ]
  }
 ],
 "metadata": {
  "kernelspec": {
   "display_name": "Python 3",
   "language": "python",
   "name": "python3"
  },
  "language_info": {
   "codemirror_mode": {
    "name": "ipython",
    "version": 3
   },
   "file_extension": ".py",
   "mimetype": "text/x-python",
   "name": "python",
   "nbconvert_exporter": "python",
   "pygments_lexer": "ipython3",
   "version": "3.8.5"
  }
 },
 "nbformat": 4,
 "nbformat_minor": 2
}
