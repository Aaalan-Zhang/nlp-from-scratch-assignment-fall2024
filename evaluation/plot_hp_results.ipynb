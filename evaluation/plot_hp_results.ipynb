{
 "cells": [
  {
   "cell_type": "code",
   "execution_count": 1,
   "metadata": {},
   "outputs": [],
   "source": [
    "import pandas as pd\n",
    "import numpy as np\n",
    "import matplotlib.pyplot as plt\n",
    "import seaborn as sns"
   ]
  },
  {
   "cell_type": "code",
   "execution_count": 2,
   "metadata": {},
   "outputs": [],
   "source": [
    "# load all result json files under the /results folder\n",
    "import glob\n",
    "import json\n",
    "import os\n",
    "\n",
    "results = glob.glob('../results/tests/*.json')"
   ]
  },
  {
   "cell_type": "code",
   "execution_count": 5,
   "metadata": {},
   "outputs": [
    {
     "name": "stdout",
     "output_type": "stream",
     "text": [
      "['../results/llama3_recursive_chunk750_chroma_top3_sample100.json', '../results/llama3_recursive_chunk1500_chroma_top3_sample100.json', '../results/llama3_recursive_chunk1000_chroma_top3_sample100.json', '../results/llama3_recursive_chunk2000_chroma_top3_sample100.json', '../results/llama3_recursive_chunk500_chroma_top3_sample100.json']\n",
      "['../results/llama3_semantic_chroma_top3_sample100.json', '../results/llama3_character_chroma_top3_sample100.json', '../results/llama3_tokensplit_chroma_top3_sample100.json', '../results/llama3_recursive_chunk1000_chroma_top3_sample100.json']\n",
      "['../results/lhj_100_chroma_all-MiniLM-L6-v2.json', '../results/lhj_100_faiss_all-MiniLM-L6-v2.json']\n",
      "['../results/lhj_100_faiss_mmr_all-MiniLM-L6-v2.json', '../results/lhj_100_faiss_all-MiniLM-L6-v2.json']\n",
      "['../results/hj_100_1000sublinkfiles_faiss_mmr_all-MiniLM-L6-v2.json', '../results/lhj_100_1000sublinkfiles_faiss_similarity_all-MiniLM-L6-v2.json']\n",
      "['../results/llama3_faiss_test.json', '../results/llama3_faiss_test_rerank.json', '../results/llama3_faiss_test_rerank_t5.json', '../results/llama3_faiss_test_rerank_MiniLM.json']\n",
      "['../results/llama3_faiss_test.json', '../results/llama3_faiss_test_hypo.json', '../results/llama3_faiss_test_hypo_promptENG3.json']\n"
     ]
    }
   ],
   "source": [
    "default_chroma_results = \"../results/tests/llama3_recursive_chunk1000_chroma_top3_sample100.json\"\n",
    "# group 1: chunking-size experiments\n",
    "chunking_size_results = [r for r in results if 'chunk' in r]\n",
    "print(chunking_size_results)\n",
    "\n",
    "# group 2: text splitter experiments\n",
    "splitter_type = [\"semantic\", \"tokensplit\", \"character\"]\n",
    "splitter_type_results = [r for r in results if any([s in r for s in splitter_type])]\n",
    "splitter_type_results.append(default_chroma_results)\n",
    "print(splitter_type_results)\n",
    "\n",
    "# group3: retriver-type experiments\n",
    "retriever_type_results = [\"../results/tests/lhj_100_chroma_all-MiniLM-L6-v2.json\", \n",
    "                          \"../results/tests/lhj_100_faiss_all-MiniLM-L6-v2.json\"]\n",
    "print(retriever_type_results)\n",
    "\n",
    "# group4: embedding-model experiments\n",
    "embedding_model_results = [\"../results/tests/lhj_100_faiss_all-MiniLM-L6-v2.json\", \n",
    "                           \"../results/tests/lhj_100_faiss_all-MiniLM-L12-v2.json\"]\n",
    "\n",
    "# group4: faiss-hyper-param experiments\n",
    "faiss_hyper_param_results = [\"../results/tests/lhj_100_faiss_mmr_all-MiniLM-L6-v2.json\", \n",
    "                             \"../results/tests/lhj_100_faiss_all-MiniLM-L6-v2.json\"]\n",
    "print(faiss_hyper_param_results)\n",
    "\n",
    "# group5: add-sublink-data experiments --> can be compared with group4\n",
    "add_sublink_data_results = [\"../results/tests/hj_100_1000sublinkfiles_faiss_mmr_all-MiniLM-L6-v2.json\", \n",
    "                            \"../results/tests/lhj_100_1000sublinkfiles_faiss_similarity_all-MiniLM-L6-v2.json\"]\n",
    "print(add_sublink_data_results)\n",
    "\n",
    "# group6: faiss-reranking experiments\n",
    "reranking_results = [\"../results/tests/llama3_faiss_test.json\", \"../results/tests/llama3_faiss_test_rerank.json\", \"../results/tests/llama3_faiss_test_rerank_t5.json\", \"../results/tests/llama3_faiss_test_rerank_MiniLM.json\"]\n",
    "print(reranking_results)\n",
    "\n",
    "# group7: faiss-hypo-doc experiments\n",
    "hypo_doc_results = [\"../results/tests/llama3_faiss_test.json\", \"../results/tests/llama3_faiss_test_hypo.json\", \"../results/tests/llama3_faiss_test_hypo_promptENG3.json\"]\n",
    "print(hypo_doc_results)"
   ]
  }
 ],
 "metadata": {
  "kernelspec": {
   "display_name": "base",
   "language": "python",
   "name": "python3"
  },
  "language_info": {
   "codemirror_mode": {
    "name": "ipython",
    "version": 3
   },
   "file_extension": ".py",
   "mimetype": "text/x-python",
   "name": "python",
   "nbconvert_exporter": "python",
   "pygments_lexer": "ipython3",
   "version": "3.10.9"
  }
 },
 "nbformat": 4,
 "nbformat_minor": 2
}
