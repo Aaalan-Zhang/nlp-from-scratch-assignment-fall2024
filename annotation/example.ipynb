{
 "cells": [
  {
   "cell_type": "code",
   "execution_count": 1,
   "metadata": {},
   "outputs": [],
   "source": [
    "# read in the doc\n",
    "def read_preprocess_doc(doc_path):\n",
    "    with open(doc_path, 'r', encoding='utf-8') as file:\n",
    "        content = file.read()\n",
    "    content = content.split()[:4096]\n",
    "    content = ' '.join(content)\n",
    "    return content"
   ]
  },
  {
   "cell_type": "code",
   "execution_count": 2,
   "metadata": {},
   "outputs": [],
   "source": [
    "doc_list = [\n",
    "    '../data/crawled/crawled_text_data/3.txt',\n",
    "    '../data/crawled/crawled_text_data/5.txt',\n",
    "    '../data/crawled/crawled_text_data/137.txt'\n",
    "]"
   ]
  },
  {
   "cell_type": "code",
   "execution_count": 3,
   "metadata": {},
   "outputs": [
    {
     "data": {
      "application/vnd.jupyter.widget-view+json": {
       "model_id": "0f66e93f8cfb4da0b535796a88479de3",
       "version_major": 2,
       "version_minor": 0
      },
      "text/plain": [
       "Loading checkpoint shards:   0%|          | 0/4 [00:00<?, ?it/s]"
      ]
     },
     "metadata": {},
     "output_type": "display_data"
    }
   ],
   "source": [
    "from transformers import AutoTokenizer, AutoModelForCausalLM\n",
    "import torch\n",
    "# load the model\n",
    "# model_id = \"meta-llama/Llama-2-7b-chat-hf\"\n",
    "model_id = \"meta-llama/Llama-3.1-8B-Instruct\"\n",
    "model = AutoModelForCausalLM.from_pretrained(model_id, torch_dtype=torch.float16, device_map=\"auto\")"
   ]
  },
  {
   "cell_type": "code",
   "execution_count": 4,
   "metadata": {},
   "outputs": [],
   "source": [
    "# load the tokenizer\n",
    "tokenizer = AutoTokenizer.from_pretrained(model_id)\n",
    "tokenizer.pad_token = tokenizer.eos_token\n",
    "tokenizer.padding_side = \"left\""
   ]
  },
  {
   "cell_type": "code",
   "execution_count": 5,
   "metadata": {},
   "outputs": [],
   "source": [
    "from transformers import pipeline\n",
    "pipe = pipeline(\"text-generation\", model=model, tokenizer=tokenizer, torch_dtype=torch.float16)"
   ]
  },
  {
   "cell_type": "code",
   "execution_count": 6,
   "metadata": {},
   "outputs": [],
   "source": [
    "INSTRUCTION = \"\"\"\n",
    "I have provided a document above that may be relevant to one or more topics such as \n",
    "general information, history, economy, music, culture, sports, or upcoming events \n",
    "related to Pittsburgh or Carnegie Mellon University. Based on this document, \n",
    "generate 10 factual question and answer pairs that cover different types of inquiries, \n",
    "such as time, events, people, locations, or numerical data.\n",
    "If there are fewer than 10 pairs available, only provide the number you can find.\n",
    "The questions should make sense independently of the document by including enough context from the document.\n",
    "For example, the question \"Q: What is the event in 2000?\" is not acceptable, \n",
    "because it is meaningless without a given context.\n",
    "Please provide concise answers without repeating the question or using complete sentences.\n",
    "For example, given the question \"Q: When was Carnegie Mellon University founded?\",\n",
    "you should only answer \"A: 1900\".\n",
    "\\n\\nExamples: \\n\n",
    "Q: Who is Pittsburgh named after? A: William Pitt \\n\n",
    "Q: What famous machine learning venue had its first conference in Pittsburgh in 1980? A: ICML \\n\n",
    "Q: What musical artist is performing at PPG Arena on October 13? A: Billie Eilish\\n\\n\n",
    "Before you start, please read the document above and provide the number of question and answer pairs you can find.\"\"\""
   ]
  },
  {
   "cell_type": "code",
   "execution_count": 7,
   "metadata": {},
   "outputs": [
    {
     "name": "stdout",
     "output_type": "stream",
     "text": [
      "2726\n"
     ]
    },
    {
     "name": "stderr",
     "output_type": "stream",
     "text": [
      "Starting from v4.46, the `logits` model output will have the same type as the model (except at train time, where it will always be FP32)\n"
     ]
    },
    {
     "name": "stdout",
     "output_type": "stream",
     "text": [
      "I was able to find 9 factual question and answer pairs that cover different types of inquiries related to Pittsburgh or Carnegie Mellon University. Here are the pairs:\n",
      "\n",
      "1. Q: Who is Pittsburgh named after? \n",
      "A: William Pitt\n",
      "\n",
      "2. Q: When was the Pennsylvania Canal and the Portage Railroad completed? \n",
      "A: 1834\n",
      "\n",
      "3. Q: What was the population of Pittsburgh in 1900? \n",
      "A: 321,616\n",
      "\n",
      "4. Q: What year did the American Federation of Labor emerge in Pittsburgh? \n",
      "A: 1881\n",
      "\n",
      "5. Q: What was the name of the blast furnace erected by George Anschutz? \n",
      "A: (Not mentioned in the text, but implied to be a blast furnace)\n",
      "\n",
      "6. Q: What was the name of the steel mill where Bessemer converters were in operation in 1886? \n",
      "A: (Not mentioned in the text)\n",
      "\n",
      "7. Q: When did the city of Pittsburgh generate electricity by nuclear power? \n",
      "A: 1957\n",
      "\n",
      "8. Q: What is the name of the convention center in Pittsburgh? \n",
      "A: David L. Lawrence Convention Center\n",
      "\n",
      "9. Q: What is the name of the planetarium in Pittsburgh? \n",
      "A: Henry Buhl, Jr., Planetarium\n",
      "3219\n",
      "I can find 10 factual question and answer pairs from the provided document.\n",
      "\n",
      "1. Q: When is Move-In Day in Pittsburgh? \n",
      "A: Late August\n",
      "\n",
      "2. Q: What is the name of the Pittsburgh neighborhood with unique coffee shops and international flavors? \n",
      "A: Squirrel Hill\n",
      "\n",
      "3. Q: What is the name of the restaurant on Forbes Avenue serving famous crepes and hash? \n",
      "A: Pamela's\n",
      "\n",
      "4. Q: What is the name of the Pittsburgh landmark with a great view of Downtown? \n",
      "A: Duquesne Incline\n",
      "\n",
      "5. Q: When is the Pittsburgh Pirates home game against the Cincinnati Reds? \n",
      "A: August 22-28, 2024\n",
      "\n",
      "6. Q: What is the name of the museum on Forbes Avenue between Pitt and Carnegie Mellon? \n",
      "A: Carnegie Museums of Art and Natural History\n",
      "\n",
      "7. Q: What is the name of the Pittsburgh neighborhood with a hidden gem, The Clemente Museum? \n",
      "A: Lawrenceville/The Strip District\n",
      "\n",
      "8. Q: When is the Duquesne University move-in day? \n",
      "A: August 20\n",
      "\n",
      "9. Q: What is the name of the Pittsburgh landmark with a great view of the city's three rivers? \n",
      "A: Point State Park\n",
      "\n",
      "10. Q: What is the name of the riverboat that offers tours of the city? \n",
      "A: Gateway Clipper\n",
      "1383\n",
      "Based on the provided document, I can find 10 factual question and answer pairs that cover different types of inquiries. Here are the pairs:\n",
      "\n",
      "1. Q: What are the hours of operation for the Heinz History Center? \n",
      "A: 10 AM - 5 PM\n",
      "\n",
      "2. Q: What is the name of the new exhibition at the Heinz History Center? \n",
      "A: A Woman’s Place: How Women Shaped Pittsburgh\n",
      "\n",
      "3. Q: What is the date of the Hometown-Homegrown event? \n",
      "A: November 2\n",
      "\n",
      "4. Q: What is the name of the Jewish holiday experience at the Heinz History Center? \n",
      "A: Gut Yontif: A Patchwork Holiday Experience\n",
      "\n",
      "5. Q: What is the name of the program that will celebrate women in sports? \n",
      "A: Game Changers: Women and Sport\n",
      "\n",
      "6. Q: What is the name of the workshop where girls can build their own robot? \n",
      "A: Girls of Steel Robotics Workshop\n",
      "\n",
      "7. Q: What is the address of the Heinz History Center? \n",
      "A: 1212 Smallman Street, Pittsburgh, PA 15222\n",
      "\n",
      "8. Q: What are the hours of operation for the Fort Pitt Museum? \n",
      "A: 10 AM - 5 PM\n",
      "\n",
      "9. Q: What is the name of the library and archives at the Heinz History Center? \n",
      "A: Detre Library & Archives\n",
      "\n",
      "10. Q: What are the hours of operation for the Meadowcroft Rockshelter and Historic Village? \n",
      "A: 10 AM - 4 PM\n"
     ]
    }
   ],
   "source": [
    "for content in doc_list:\n",
    "    # read the doc\n",
    "    content = read_preprocess_doc(content)\n",
    "    formatted_input = content + \"\\n\\n\" + INSTRUCTION + \"\\n\\n\" + \"Your answer:\"\n",
    "    tokenized_prompt = tokenizer(formatted_input, return_tensors=\"pt\").to(model.device)\n",
    "    print(tokenized_prompt.input_ids.size(1))\n",
    "    \n",
    "    # generate the response\n",
    "    messages = [\n",
    "    {\"role\": \"user\", \"content\": formatted_input},\n",
    "    ]\n",
    "    with torch.no_grad():\n",
    "        result = pipe(messages, max_new_tokens=512)\n",
    "    print(result[0]['generated_text'][1]['content'])"
   ]
  }
 ],
 "metadata": {
  "kernelspec": {
   "display_name": "detox-nonpin",
   "language": "python",
   "name": "python3"
  },
  "language_info": {
   "codemirror_mode": {
    "name": "ipython",
    "version": 3
   },
   "file_extension": ".py",
   "mimetype": "text/x-python",
   "name": "python",
   "nbconvert_exporter": "python",
   "pygments_lexer": "ipython3",
   "version": "3.10.12"
  }
 },
 "nbformat": 4,
 "nbformat_minor": 2
}
