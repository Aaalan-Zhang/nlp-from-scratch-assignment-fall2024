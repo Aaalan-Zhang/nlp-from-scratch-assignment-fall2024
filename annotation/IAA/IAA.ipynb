{
 "cells": [
  {
   "cell_type": "code",
   "execution_count": 8,
   "metadata": {},
   "outputs": [],
   "source": [
    "import pandas as pd\n",
    "\n",
    "# Load the CSV file\n",
    "qa_df = pd.read_csv('../../data/annotated/QA_pairs.csv')\n",
    "\n",
    "sample_size = 100\n",
    "sampled_qa_df = qa_df.sample(n=sample_size, random_state=42)\n",
    "\n",
    "# Save sampled subset to a new CSV for review\n",
    "sampled_qa_df.to_csv('./sampled_qa_pairs.csv', index=False)"
   ]
  },
  {
   "cell_type": "code",
   "execution_count": 9,
   "metadata": {},
   "outputs": [],
   "source": [
    "# # Split the subset into three parts for the reviewers (including some overlap)\n",
    "# # Reviewer 1: rows 0 to 100\n",
    "# reviewer_1_df = sampled_qa_df[:100]\n",
    "\n",
    "# # Reviewer 2: rows 50 to 150 (50 overlaps with Reviewer 1)\n",
    "# reviewer_2_df = sampled_qa_df[50:150]\n",
    "\n",
    "# # Reviewer 3: rows 100 to 150 and rows 0 to 50 (50 overlaps with Reviewer 1)\n",
    "# reviewer_3_df = pd.concat([sampled_qa_df.iloc[100:150], sampled_qa_df.iloc[0:50]])\n",
    "reviewer_1_df = sampled_qa_df\n",
    "reviewer_2_df = sampled_qa_df\n",
    "reviewer_3_df = sampled_qa_df\n",
    "# Save to separate CSV files for each reviewer\n",
    "reviewer_1_df.to_csv('./review_files/chengliz.csv', index=False)\n",
    "reviewer_2_df.to_csv('./review_files/qliu3.csv', index=False)\n",
    "reviewer_3_df.to_csv('./review_files/haojunli.csv', index=False)"
   ]
  },
  {
   "cell_type": "code",
   "execution_count": null,
   "metadata": {},
   "outputs": [],
   "source": [
    "# Load reviewed CSVs\n",
    "reviewer_1 = pd.read_csv('./review_files/chengliz.csv')\n",
    "reviewer_2 = pd.read_csv('./review_files/qliu3.csv')\n",
    "reviewer_3 = pd.read_csv('./review_files/haojunli.csv')\n",
    "\n",
    "# Concatenate the reviews for comparison\n",
    "combined_reviews = pd.concat([reviewer_1, reviewer_2, reviewer_3], axis=0)\n",
    "\n",
    "# Save the combined result\n",
    "combined_reviews.to_csv('./review_files/combined_reviews.csv', index=False)"
   ]
  },
  {
   "cell_type": "code",
   "execution_count": null,
   "metadata": {},
   "outputs": [],
   "source": [
    "from sklearn.metrics import cohen_kappa_score, accuracy_score\n",
    "\n",
    "# Example of calculating Cohen's Kappa for Reviewer 1 and Reviewer 2 on question relevance\n",
    "kappa_score = cohen_kappa_score(reviewer_1['question_relevance'], reviewer_2['question_relevance'])\n",
    "print(f\"Cohen's Kappa between Reviewer 1 and Reviewer 2: {kappa_score}\")"
   ]
  }
 ],
 "metadata": {
  "kernelspec": {
   "display_name": "Python 3",
   "language": "python",
   "name": "python3"
  },
  "language_info": {
   "codemirror_mode": {
    "name": "ipython",
    "version": 3
   },
   "file_extension": ".py",
   "mimetype": "text/x-python",
   "name": "python",
   "nbconvert_exporter": "python",
   "pygments_lexer": "ipython3",
   "version": "3.8.5"
  }
 },
 "nbformat": 4,
 "nbformat_minor": 2
}
