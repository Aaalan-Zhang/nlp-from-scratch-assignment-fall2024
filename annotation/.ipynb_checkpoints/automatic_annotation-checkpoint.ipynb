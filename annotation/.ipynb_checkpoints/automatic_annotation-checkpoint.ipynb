{
 "cells": [
  {
   "cell_type": "code",
   "execution_count": null,
   "metadata": {},
   "outputs": [],
   "source": [
    "# add hugginface login\n",
    "# from huggingface_hub import login\n",
    "# from dotenv import load_dotenv\n",
    "# import os\n",
    "\n",
    "# load_dotenv()\n",
    "# login(token=os.getenv('HUGGINGFACE_TOKEN')) # add the token to an .env file"
   ]
  },
  {
   "cell_type": "code",
   "execution_count": 1,
   "metadata": {},
   "outputs": [
    {
     "name": "stdout",
     "output_type": "stream",
     "text": [
      "GPU is available: NVIDIA A10G\n"
     ]
    }
   ],
   "source": [
    "import torch\n",
    "\n",
    "if torch.cuda.is_available():\n",
    "    print(f\"GPU is available: {torch.cuda.get_device_name(0)}\")\n",
    "else:\n",
    "    print(\"GPU is not available.\")"
   ]
  },
  {
   "cell_type": "code",
   "execution_count": 2,
   "metadata": {},
   "outputs": [
    {
     "name": "stdin",
     "output_type": "stream",
     "text": [
      "Enter your Hugging Face token:  ········\n"
     ]
    }
   ],
   "source": [
    "from huggingface_hub import login\n",
    "import getpass\n",
    "\n",
    "# Prompt the user to enter the Hugging Face token securely\n",
    "token = getpass.getpass(\"Enter your Hugging Face token: \")\n",
    "\n",
    "# Login to Hugging Face using the token\n",
    "login(token=token)"
   ]
  },
  {
   "cell_type": "code",
   "execution_count": 3,
   "metadata": {},
   "outputs": [],
   "source": [
    "# read in the doc\n",
    "def read_preprocess_doc(doc_path):\n",
    "    with open(doc_path, 'r', encoding='utf-8') as file:\n",
    "        content = file.read()\n",
    "    \n",
    "    content = content.split()\n",
    "    if len(content) > 3072:\n",
    "        print(f'the document {doc_path} is too long, it will be truncated to 3072 tokens')\n",
    "        content = content[:3072]\n",
    "    content = ' '.join(content)\n",
    "    return content"
   ]
  },
  {
   "cell_type": "code",
   "execution_count": 4,
   "metadata": {},
   "outputs": [
    {
     "name": "stdout",
     "output_type": "stream",
     "text": [
      "['../data/crawled/crawled_text_data_append_sharding_3072_600_max_3072/0-0-0.txt', '../data/crawled/crawled_text_data_append_sharding_3072_600_max_3072/0-1-0.txt', '../data/crawled/crawled_text_data_append_sharding_3072_600_max_3072/0-10-0.txt', '../data/crawled/crawled_text_data_append_sharding_3072_600_max_3072/0-11-0.txt', '../data/crawled/crawled_text_data_append_sharding_3072_600_max_3072/0-12-0.txt']\n",
      "760\n"
     ]
    }
   ],
   "source": [
    "# read in all doc dir under the folder path and return a list of doc content\n",
    "data_folder_dir = '../data/crawled/crawled_text_data_append_sharding_3072_600_max_3072'\n",
    "\n",
    "doc_list = []\n",
    "# extract all doc content\n",
    "import os\n",
    "for root, dirs, files in os.walk(data_folder_dir):\n",
    "    for file in files:\n",
    "        if file.endswith('.txt'):\n",
    "            doc_path = os.path.join(root, file)\n",
    "            doc_list.append(doc_path)\n",
    "    \n",
    "print(doc_list[:5])\n",
    "print(len(doc_list))\n",
    "\n",
    "# # randomely select 10 doc to test\n",
    "# doc_list = doc_list[:20]"
   ]
  },
  {
   "cell_type": "code",
   "execution_count": 5,
   "metadata": {},
   "outputs": [
    {
     "data": {
      "application/vnd.jupyter.widget-view+json": {
       "model_id": "9c13716165f64d35a2a20f812adca424",
       "version_major": 2,
       "version_minor": 0
      },
      "text/plain": [
       "Loading checkpoint shards:   0%|          | 0/4 [00:00<?, ?it/s]"
      ]
     },
     "metadata": {},
     "output_type": "display_data"
    }
   ],
   "source": [
    "from transformers import AutoTokenizer, AutoModelForCausalLM\n",
    "import torch\n",
    "# load the model\n",
    "# model_id = \"meta-llama/Llama-2-7b-chat-hf\"\n",
    "model_id = \"meta-llama/Llama-3.1-8B-Instruct\"\n",
    "model = AutoModelForCausalLM.from_pretrained(model_id, torch_dtype=torch.float16, device_map=\"auto\")"
   ]
  },
  {
   "cell_type": "code",
   "execution_count": 6,
   "metadata": {},
   "outputs": [],
   "source": [
    "# load the tokenizer\n",
    "tokenizer = AutoTokenizer.from_pretrained(model_id)\n",
    "tokenizer.pad_token = tokenizer.eos_token\n",
    "tokenizer.padding_side = \"left\""
   ]
  },
  {
   "cell_type": "code",
   "execution_count": 7,
   "metadata": {},
   "outputs": [],
   "source": [
    "from transformers import pipeline\n",
    "pipe = pipeline(\"text-generation\", model=model, tokenizer=tokenizer, torch_dtype=torch.float16)"
   ]
  },
  {
   "cell_type": "code",
   "execution_count": 8,
   "metadata": {},
   "outputs": [],
   "source": [
    "INSTRUCTION = \"\"\"\n",
    "I have provided a web-crawled document above that may be relevant to one or more topics such as \n",
    "general information, history, economy, music, culture, sports, or upcoming events \n",
    "related to Pittsburgh or Carnegie Mellon University. Based on this document, \n",
    "generate 5~10 factual question and answer pairs that cover different types of inquiries, \n",
    "such as time, events, people, locations, or numerical data.\n",
    "If there are fewer pairs available, only provide the number you can find.\n",
    "The questions should make sense independently of the document by including key words from the document.\n",
    "For example, the question \"Q: What is the fee of the event?\" is not acceptable, \n",
    "because words like \"the event\" is too vague without context of the document.\n",
    "It should be sufficiently detailed as \"Q: What is the fee of the event at PPG Arena on October 13?\" \n",
    "or \"Q: What is the fee of the event that celebrates the 50th anniversary of CMU?\".\n",
    "Please provide concise answers without repeating the question or using complete sentences.\n",
    "For example, given the question \"Q: When was Carnegie Mellon University founded?\",\n",
    "you should only answer \"A: 1900\".\n",
    "\\n\\nExamples: \\n\n",
    "Q: Who is Pittsburgh named after? A: William Pitt \\n\n",
    "Q: What famous machine learning venue had its first conference in Pittsburgh in 1980? A: ICML \\n\n",
    "Q: What musical artist is performing at PPG Arena on October 13? A: Billie Eilish\\n\\n\n",
    "Before you start, please read the document above and provide the number of question and answer pairs you can find.\"\"\""
   ]
  },
  {
   "cell_type": "code",
   "execution_count": 9,
   "metadata": {},
   "outputs": [],
   "source": [
    "import re\n",
    "import pandas as pd\n",
    "def extract_qa_pairs(generated_text, doc_id):\n",
    "    # Use regular expressions to extract all the questions and answers\n",
    "    questions = re.findall(r'(?:\\d*\\.\\s*)?Q:\\s*(.*?)\\s*A:', generated_text, re.DOTALL)\n",
    "    answers = re.findall(r'A:\\s*(.*?)(?=\\s*(?:\\d*\\.\\s*Q:|Q:|$))', generated_text, re.DOTALL)\n",
    "\n",
    "    doc_ids = [doc_id] * len(questions)\n",
    "    # Create a pandas DataFrame from the extracted questions and answers\n",
    "    df = pd.DataFrame({\n",
    "        'Doc_id': doc_ids,\n",
    "        'Question': questions,\n",
    "        'Answer': answers\n",
    "    })\n",
    "\n",
    "    # Display the resulting DataFrame\n",
    "    return df"
   ]
  },
  {
   "cell_type": "code",
   "execution_count": 27,
   "metadata": {},
   "outputs": [],
   "source": [
    "torch.cuda.empty_cache()"
   ]
  },
  {
   "cell_type": "code",
   "execution_count": null,
   "metadata": {},
   "outputs": [
    {
     "name": "stderr",
     "output_type": "stream",
     "text": [
      "  0%|                                                                  | 0/760 [00:00<?, ?it/s]"
     ]
    },
    {
     "name": "stdout",
     "output_type": "stream",
     "text": [
      "Skipping already processed document: 0-0-0.txt\n",
      "Skipping already processed document: 0-1-0.txt\n",
      "Skipping already processed document: 0-10-0.txt\n",
      "Skipping already processed document: 0-11-0.txt\n",
      "Skipping already processed document: 0-12-0.txt\n",
      "Skipping already processed document: 0-13-0.txt\n",
      "Skipping already processed document: 0-14-0.txt\n",
      "Skipping already processed document: 0-15-0.txt\n",
      "Skipping already processed document: 0-16-0.txt\n",
      "Skipping already processed document: 0-17-0.txt\n",
      "Skipping already processed document: 0-18-0.txt\n",
      "Skipping already processed document: 0-19-0.txt\n",
      "Skipping already processed document: 0-2-0.txt\n",
      "Skipping already processed document: 0-20-0.txt\n",
      "Skipping already processed document: 0-21-0.txt\n",
      "Skipping already processed document: 0-22-0.txt\n",
      "Skipping already processed document: 0-23-0.txt\n",
      "Skipping already processed document: 0-24-0.txt\n",
      "Skipping already processed document: 0-25-0.txt\n",
      "Skipping already processed document: 0-26-0.txt\n",
      "Skipping already processed document: 0-27-0.txt\n",
      "Skipping already processed document: 0-28-0.txt\n",
      "Skipping already processed document: 0-29-0.txt\n",
      "Skipping already processed document: 0-3-0.txt\n",
      "Skipping already processed document: 0-30-0.txt\n",
      "Skipping already processed document: 0-31-0.txt\n",
      "Skipping already processed document: 0-32-0.txt\n",
      "Skipping already processed document: 0-33-0.txt\n",
      "Skipping already processed document: 0-34-0.txt\n",
      "Skipping already processed document: 0-35-0.txt\n",
      "Skipping already processed document: 0-36-0.txt\n",
      "Skipping already processed document: 0-37-0.txt\n",
      "Skipping already processed document: 0-38-0.txt\n",
      "Skipping already processed document: 0-39-0.txt\n",
      "Skipping already processed document: 0-4-0.txt\n",
      "Skipping already processed document: 0-40-0.txt\n",
      "Skipping already processed document: 0-41-0.txt\n",
      "Skipping already processed document: 0-42-0.txt\n",
      "Skipping already processed document: 0-43-0.txt\n",
      "Skipping already processed document: 0-44-0.txt\n",
      "Skipping already processed document: 0-45-0.txt\n",
      "Skipping already processed document: 0-5-0.txt\n",
      "Skipping already processed document: 0-6-0.txt\n",
      "Skipping already processed document: 0-7-0.txt\n",
      "Skipping already processed document: 0-8-0.txt\n",
      "Skipping already processed document: 0-9-0.txt\n",
      "Skipping already processed document: 1-0-0.txt\n",
      "Skipping already processed document: 1-1-0.txt\n",
      "Skipping already processed document: 1-10-0.txt\n",
      "Skipping already processed document: 1-11-0.txt\n",
      "Skipping already processed document: 1-12-0.txt\n",
      "Skipping already processed document: 1-13-0.txt\n",
      "Skipping already processed document: 1-13-1.txt\n",
      "Skipping already processed document: 1-14-0.txt\n",
      "Skipping already processed document: 1-15-0.txt\n",
      "Skipping already processed document: 1-16-0.txt\n",
      "Skipping already processed document: 1-17-0.txt\n",
      "Skipping already processed document: 1-17-1.txt\n",
      "Skipping already processed document: 1-18-0.txt\n",
      "Skipping already processed document: 1-19-0.txt\n",
      "Skipping already processed document: 1-2-0.txt\n",
      "Skipping already processed document: 1-3-0.txt\n",
      "Skipping already processed document: 1-4-0.txt\n",
      "Skipping already processed document: 1-5-0.txt\n",
      "Skipping already processed document: 1-6-0.txt\n",
      "Skipping already processed document: 1-7-0.txt\n",
      "Skipping already processed document: 1-8-0.txt\n",
      "Skipping already processed document: 1-9-0.txt\n",
      "Skipping already processed document: 10-0-0.txt\n",
      "Skipping already processed document: 10-1-0.txt\n",
      "Processing document: 10-2-0.txt\n",
      "1513\n"
     ]
    },
    {
     "name": "stderr",
     "output_type": "stream",
     "text": [
      "Starting from v4.46, the `logits` model output will have the same type as the model (except at train time, where it will always be FP32)\n",
      "  9%|█████▎                                                   | 71/760 [00:12<02:04,  5.52it/s]"
     ]
    },
    {
     "name": "stdout",
     "output_type": "stream",
     "text": [
      "Processing document: 10-3-0.txt\n",
      "1460\n"
     ]
    },
    {
     "name": "stderr",
     "output_type": "stream",
     "text": [
      "  9%|█████▍                                                   | 72/760 [00:29<05:53,  1.94it/s]"
     ]
    },
    {
     "name": "stdout",
     "output_type": "stream",
     "text": [
      "Processing document: 10-4-0.txt\n",
      "1288\n"
     ]
    },
    {
     "name": "stderr",
     "output_type": "stream",
     "text": [
      " 10%|█████▍                                                   | 73/760 [00:38<08:32,  1.34it/s]"
     ]
    },
    {
     "name": "stdout",
     "output_type": "stream",
     "text": [
      "Processing document: 10-5-0.txt\n",
      "1408\n"
     ]
    },
    {
     "name": "stderr",
     "output_type": "stream",
     "text": [
      " 10%|█████▌                                                   | 74/760 [00:48<12:14,  1.07s/it]"
     ]
    },
    {
     "name": "stdout",
     "output_type": "stream",
     "text": [
      "Processing document: 100-0-0.txt\n",
      "1162\n"
     ]
    },
    {
     "name": "stderr",
     "output_type": "stream",
     "text": [
      " 10%|█████▋                                                   | 75/760 [00:58<17:29,  1.53s/it]"
     ]
    },
    {
     "name": "stdout",
     "output_type": "stream",
     "text": [
      "Processing document: 101-0-0.txt\n",
      "1079\n"
     ]
    },
    {
     "name": "stderr",
     "output_type": "stream",
     "text": [
      " 10%|█████▋                                                   | 76/760 [01:07<23:35,  2.07s/it]"
     ]
    },
    {
     "name": "stdout",
     "output_type": "stream",
     "text": [
      "Processing document: 102-0-0.txt\n",
      "788\n"
     ]
    },
    {
     "name": "stderr",
     "output_type": "stream",
     "text": [
      " 10%|█████▊                                                   | 77/760 [01:14<28:38,  2.52s/it]"
     ]
    },
    {
     "name": "stdout",
     "output_type": "stream",
     "text": [
      "Processing document: 103-0-0.txt\n",
      "1046\n"
     ]
    },
    {
     "name": "stderr",
     "output_type": "stream",
     "text": [
      " 10%|█████▊                                                   | 78/760 [01:23<36:28,  3.21s/it]"
     ]
    },
    {
     "name": "stdout",
     "output_type": "stream",
     "text": [
      "Processing document: 104-0-0.txt\n",
      "997\n"
     ]
    },
    {
     "name": "stderr",
     "output_type": "stream",
     "text": [
      " 10%|█████▉                                                   | 79/760 [01:31<43:34,  3.84s/it]"
     ]
    },
    {
     "name": "stdout",
     "output_type": "stream",
     "text": [
      "Processing document: 105-0-0.txt\n",
      "1557\n"
     ]
    },
    {
     "name": "stderr",
     "output_type": "stream",
     "text": [
      " 11%|██████                                                   | 80/760 [01:42<57:31,  5.08s/it]You seem to be using the pipelines sequentially on GPU. In order to maximize efficiency please use a dataset\n"
     ]
    },
    {
     "name": "stdout",
     "output_type": "stream",
     "text": [
      "Processing document: 105-1-0.txt\n",
      "750\n"
     ]
    },
    {
     "name": "stderr",
     "output_type": "stream",
     "text": [
      " 11%|█████▊                                                 | 81/760 [01:50<1:02:53,  5.56s/it]"
     ]
    },
    {
     "name": "stdout",
     "output_type": "stream",
     "text": [
      "Processing document: 106-0-0.txt\n",
      "933\n"
     ]
    },
    {
     "name": "stderr",
     "output_type": "stream",
     "text": [
      " 11%|█████▉                                                 | 82/760 [01:58<1:09:04,  6.11s/it]"
     ]
    },
    {
     "name": "stdout",
     "output_type": "stream",
     "text": [
      "Processing document: 107-0-0.txt\n",
      "1464\n"
     ]
    },
    {
     "name": "stderr",
     "output_type": "stream",
     "text": [
      " 11%|██████                                                 | 83/760 [02:11<1:26:08,  7.63s/it]"
     ]
    },
    {
     "name": "stdout",
     "output_type": "stream",
     "text": [
      "Processing document: 107-1-0.txt\n",
      "799\n"
     ]
    },
    {
     "name": "stderr",
     "output_type": "stream",
     "text": [
      " 11%|██████                                                 | 84/760 [02:19<1:27:53,  7.80s/it]"
     ]
    },
    {
     "name": "stdout",
     "output_type": "stream",
     "text": [
      "Processing document: 108-0-0.txt\n",
      "1481\n"
     ]
    },
    {
     "name": "stderr",
     "output_type": "stream",
     "text": [
      " 11%|██████▏                                                | 85/760 [02:30<1:38:36,  8.76s/it]"
     ]
    },
    {
     "name": "stdout",
     "output_type": "stream",
     "text": [
      "Processing document: 108-1-0.txt\n",
      "1445\n"
     ]
    },
    {
     "name": "stderr",
     "output_type": "stream",
     "text": [
      " 11%|██████▏                                                | 86/760 [02:40<1:39:52,  8.89s/it]"
     ]
    },
    {
     "name": "stdout",
     "output_type": "stream",
     "text": [
      "Processing document: 108-2-0.txt\n",
      "1555\n"
     ]
    },
    {
     "name": "stderr",
     "output_type": "stream",
     "text": [
      " 11%|██████▎                                                | 87/760 [02:54<1:55:40, 10.31s/it]"
     ]
    },
    {
     "name": "stdout",
     "output_type": "stream",
     "text": [
      "Processing document: 109-0-0.txt\n",
      "1493\n"
     ]
    },
    {
     "name": "stderr",
     "output_type": "stream",
     "text": [
      " 12%|██████▎                                                | 88/760 [03:08<2:07:23, 11.37s/it]"
     ]
    },
    {
     "name": "stdout",
     "output_type": "stream",
     "text": [
      "Processing document: 109-1-0.txt\n",
      "1501\n"
     ]
    },
    {
     "name": "stderr",
     "output_type": "stream",
     "text": [
      " 12%|██████▍                                                | 89/760 [03:21<2:12:26, 11.84s/it]"
     ]
    },
    {
     "name": "stdout",
     "output_type": "stream",
     "text": [
      "Processing document: 11-0-0.txt\n",
      "1737\n"
     ]
    },
    {
     "name": "stderr",
     "output_type": "stream",
     "text": [
      " 12%|██████▌                                                | 90/760 [03:43<2:48:36, 15.10s/it]"
     ]
    },
    {
     "name": "stdout",
     "output_type": "stream",
     "text": [
      "Processing document: 11-1-0.txt\n",
      "1250\n"
     ]
    },
    {
     "name": "stderr",
     "output_type": "stream",
     "text": [
      " 12%|██████▌                                                | 91/760 [04:02<3:00:35, 16.20s/it]"
     ]
    },
    {
     "name": "stdout",
     "output_type": "stream",
     "text": [
      "Processing document: 110-0-0.txt\n",
      "1488\n"
     ]
    },
    {
     "name": "stderr",
     "output_type": "stream",
     "text": [
      " 12%|██████▋                                                | 92/760 [04:15<2:49:33, 15.23s/it]"
     ]
    },
    {
     "name": "stdout",
     "output_type": "stream",
     "text": [
      "Processing document: 110-1-0.txt\n",
      "1491\n"
     ]
    },
    {
     "name": "stderr",
     "output_type": "stream",
     "text": [
      " 12%|██████▋                                                | 93/760 [04:26<2:34:32, 13.90s/it]"
     ]
    },
    {
     "name": "stdout",
     "output_type": "stream",
     "text": [
      "Processing document: 111-0-0.txt\n",
      "1522\n"
     ]
    },
    {
     "name": "stderr",
     "output_type": "stream",
     "text": [
      " 12%|██████▊                                                | 94/760 [04:34<2:15:25, 12.20s/it]"
     ]
    },
    {
     "name": "stdout",
     "output_type": "stream",
     "text": [
      "Processing document: 111-1-0.txt\n",
      "1193\n"
     ]
    },
    {
     "name": "stderr",
     "output_type": "stream",
     "text": [
      " 12%|██████▉                                                | 95/760 [04:43<2:04:49, 11.26s/it]"
     ]
    },
    {
     "name": "stdout",
     "output_type": "stream",
     "text": [
      "Processing document: 111-2-0.txt\n",
      "1615\n"
     ]
    },
    {
     "name": "stderr",
     "output_type": "stream",
     "text": [
      " 13%|██████▉                                                | 96/760 [04:54<2:03:59, 11.20s/it]"
     ]
    },
    {
     "name": "stdout",
     "output_type": "stream",
     "text": [
      "Processing document: 111-2-1.txt\n",
      "819\n"
     ]
    },
    {
     "name": "stderr",
     "output_type": "stream",
     "text": [
      " 13%|███████                                                | 97/760 [05:01<1:48:57,  9.86s/it]"
     ]
    },
    {
     "name": "stdout",
     "output_type": "stream",
     "text": [
      "Processing document: 111-3-0.txt\n",
      "1513\n"
     ]
    },
    {
     "name": "stderr",
     "output_type": "stream",
     "text": [
      " 13%|███████                                                | 98/760 [05:14<1:58:26, 10.74s/it]"
     ]
    },
    {
     "name": "stdout",
     "output_type": "stream",
     "text": [
      "Processing document: 111-4-0.txt\n",
      "1386\n"
     ]
    },
    {
     "name": "stderr",
     "output_type": "stream",
     "text": [
      " 13%|███████▏                                               | 99/760 [05:21<1:46:49,  9.70s/it]"
     ]
    },
    {
     "name": "stdout",
     "output_type": "stream",
     "text": [
      "Processing document: 111-5-0.txt\n",
      "1237\n"
     ]
    },
    {
     "name": "stderr",
     "output_type": "stream",
     "text": [
      " 13%|███████                                               | 100/760 [05:31<1:46:21,  9.67s/it]"
     ]
    },
    {
     "name": "stdout",
     "output_type": "stream",
     "text": [
      "Processing document: 112-0-0.txt\n",
      "1873\n"
     ]
    },
    {
     "name": "stderr",
     "output_type": "stream",
     "text": [
      " 13%|███████▏                                              | 101/760 [05:41<1:48:00,  9.83s/it]"
     ]
    },
    {
     "name": "stdout",
     "output_type": "stream",
     "text": [
      "Processing document: 112-1-0.txt\n",
      "1493\n"
     ]
    },
    {
     "name": "stderr",
     "output_type": "stream",
     "text": [
      " 13%|███████▏                                              | 102/760 [05:50<1:43:50,  9.47s/it]"
     ]
    },
    {
     "name": "stdout",
     "output_type": "stream",
     "text": [
      "Processing document: 112-2-0.txt\n",
      "1304\n"
     ]
    },
    {
     "name": "stderr",
     "output_type": "stream",
     "text": [
      " 14%|███████▎                                              | 103/760 [05:57<1:38:25,  8.99s/it]"
     ]
    },
    {
     "name": "stdout",
     "output_type": "stream",
     "text": [
      "Processing document: 113-0-0.txt\n",
      "1577\n"
     ]
    },
    {
     "name": "stderr",
     "output_type": "stream",
     "text": [
      " 14%|███████▍                                              | 104/760 [06:10<1:50:44, 10.13s/it]"
     ]
    },
    {
     "name": "stdout",
     "output_type": "stream",
     "text": [
      "Processing document: 113-1-0.txt\n",
      "1543\n"
     ]
    },
    {
     "name": "stderr",
     "output_type": "stream",
     "text": [
      " 14%|███████▍                                              | 105/760 [06:30<2:23:55, 13.18s/it]"
     ]
    },
    {
     "name": "stdout",
     "output_type": "stream",
     "text": [
      "Processing document: 113-2-0.txt\n",
      "1595\n"
     ]
    },
    {
     "name": "stderr",
     "output_type": "stream",
     "text": [
      " 14%|███████▌                                              | 106/760 [06:48<2:37:18, 14.43s/it]"
     ]
    },
    {
     "name": "stdout",
     "output_type": "stream",
     "text": [
      "Processing document: 113-3-0.txt\n",
      "1745\n"
     ]
    },
    {
     "name": "stderr",
     "output_type": "stream",
     "text": [
      " 14%|███████▌                                              | 107/760 [07:03<2:40:14, 14.72s/it]"
     ]
    },
    {
     "name": "stdout",
     "output_type": "stream",
     "text": [
      "Processing document: 113-4-0.txt\n",
      "1245\n"
     ]
    },
    {
     "name": "stderr",
     "output_type": "stream",
     "text": [
      " 14%|███████▋                                              | 108/760 [07:19<2:44:45, 15.16s/it]"
     ]
    },
    {
     "name": "stdout",
     "output_type": "stream",
     "text": [
      "Processing document: 113-5-0.txt\n",
      "1738\n"
     ]
    },
    {
     "name": "stderr",
     "output_type": "stream",
     "text": [
      " 14%|███████▋                                              | 109/760 [07:31<2:33:56, 14.19s/it]"
     ]
    },
    {
     "name": "stdout",
     "output_type": "stream",
     "text": [
      "Processing document: 113-6-0.txt\n",
      "855\n"
     ]
    },
    {
     "name": "stderr",
     "output_type": "stream",
     "text": [
      " 14%|███████▊                                              | 110/760 [07:42<2:22:23, 13.14s/it]"
     ]
    },
    {
     "name": "stdout",
     "output_type": "stream",
     "text": [
      "Processing document: 114-0-0.txt\n",
      "359\n"
     ]
    },
    {
     "name": "stderr",
     "output_type": "stream",
     "text": [
      " 15%|███████▉                                              | 111/760 [07:47<1:54:35, 10.59s/it]"
     ]
    },
    {
     "name": "stdout",
     "output_type": "stream",
     "text": [
      "Processing document: 115-0-0.txt\n",
      "1629\n"
     ]
    },
    {
     "name": "stderr",
     "output_type": "stream",
     "text": [
      " 15%|███████▉                                              | 112/760 [07:58<1:55:07, 10.66s/it]"
     ]
    },
    {
     "name": "stdout",
     "output_type": "stream",
     "text": [
      "Processing document: 115-1-0.txt\n",
      "1560\n"
     ]
    },
    {
     "name": "stderr",
     "output_type": "stream",
     "text": [
      " 15%|████████                                              | 113/760 [08:18<2:27:32, 13.68s/it]"
     ]
    },
    {
     "name": "stdout",
     "output_type": "stream",
     "text": [
      "Processing document: 115-10-0.txt\n",
      "1533\n"
     ]
    },
    {
     "name": "stderr",
     "output_type": "stream",
     "text": [
      " 15%|████████                                              | 114/760 [08:41<2:56:13, 16.37s/it]"
     ]
    },
    {
     "name": "stdout",
     "output_type": "stream",
     "text": [
      "Processing document: 115-11-0.txt\n",
      "1471\n"
     ]
    },
    {
     "name": "stderr",
     "output_type": "stream",
     "text": [
      " 15%|████████▏                                             | 115/760 [08:57<2:56:44, 16.44s/it]"
     ]
    },
    {
     "name": "stdout",
     "output_type": "stream",
     "text": [
      "Processing document: 115-12-0.txt\n",
      "1872\n"
     ]
    },
    {
     "name": "stderr",
     "output_type": "stream",
     "text": [
      " 15%|████████▏                                             | 116/760 [09:21<3:18:09, 18.46s/it]"
     ]
    },
    {
     "name": "stdout",
     "output_type": "stream",
     "text": [
      "Processing document: 115-13-0.txt\n",
      "1880\n"
     ]
    },
    {
     "name": "stderr",
     "output_type": "stream",
     "text": [
      " 15%|████████▎                                             | 117/760 [09:44<3:33:02, 19.88s/it]"
     ]
    },
    {
     "name": "stdout",
     "output_type": "stream",
     "text": [
      "Processing document: 115-14-0.txt\n",
      "1739\n"
     ]
    },
    {
     "name": "stderr",
     "output_type": "stream",
     "text": [
      " 16%|████████▍                                             | 118/760 [10:05<3:35:35, 20.15s/it]"
     ]
    },
    {
     "name": "stdout",
     "output_type": "stream",
     "text": [
      "Processing document: 115-15-0.txt\n",
      "1809\n"
     ]
    },
    {
     "name": "stderr",
     "output_type": "stream",
     "text": [
      " 16%|████████▍                                             | 119/760 [10:28<3:44:38, 21.03s/it]"
     ]
    },
    {
     "name": "stdout",
     "output_type": "stream",
     "text": [
      "Processing document: 115-16-0.txt\n",
      "1381\n"
     ]
    },
    {
     "name": "stderr",
     "output_type": "stream",
     "text": [
      " 16%|████████▌                                             | 120/760 [10:46<3:34:07, 20.07s/it]"
     ]
    },
    {
     "name": "stdout",
     "output_type": "stream",
     "text": [
      "Processing document: 115-2-0.txt\n",
      "1612\n"
     ]
    },
    {
     "name": "stderr",
     "output_type": "stream",
     "text": [
      " 16%|████████▌                                             | 121/760 [11:05<3:33:07, 20.01s/it]"
     ]
    },
    {
     "name": "stdout",
     "output_type": "stream",
     "text": [
      "Processing document: 115-3-0.txt\n",
      "1550\n"
     ]
    },
    {
     "name": "stderr",
     "output_type": "stream",
     "text": [
      " 16%|████████▋                                             | 122/760 [11:16<3:02:09, 17.13s/it]"
     ]
    },
    {
     "name": "stdout",
     "output_type": "stream",
     "text": [
      "Processing document: 115-4-0.txt\n",
      "1535\n"
     ]
    },
    {
     "name": "stderr",
     "output_type": "stream",
     "text": [
      " 16%|████████▋                                             | 123/760 [11:38<3:19:25, 18.78s/it]"
     ]
    },
    {
     "name": "stdout",
     "output_type": "stream",
     "text": [
      "Processing document: 115-5-0.txt\n",
      "1640\n"
     ]
    },
    {
     "name": "stderr",
     "output_type": "stream",
     "text": [
      " 16%|████████▊                                             | 124/760 [11:56<3:15:26, 18.44s/it]"
     ]
    },
    {
     "name": "stdout",
     "output_type": "stream",
     "text": [
      "Processing document: 115-6-0.txt\n",
      "1755\n"
     ]
    },
    {
     "name": "stderr",
     "output_type": "stream",
     "text": [
      " 16%|████████▉                                             | 125/760 [12:15<3:17:05, 18.62s/it]"
     ]
    },
    {
     "name": "stdout",
     "output_type": "stream",
     "text": [
      "Processing document: 115-7-0.txt\n",
      "1740\n"
     ]
    },
    {
     "name": "stderr",
     "output_type": "stream",
     "text": [
      " 17%|████████▉                                             | 126/760 [12:35<3:20:47, 19.00s/it]"
     ]
    },
    {
     "name": "stdout",
     "output_type": "stream",
     "text": [
      "Processing document: 115-8-0.txt\n",
      "1547\n"
     ]
    },
    {
     "name": "stderr",
     "output_type": "stream",
     "text": [
      " 17%|█████████                                             | 127/760 [12:58<3:32:02, 20.10s/it]"
     ]
    },
    {
     "name": "stdout",
     "output_type": "stream",
     "text": [
      "Processing document: 115-9-0.txt\n",
      "1509\n"
     ]
    },
    {
     "name": "stderr",
     "output_type": "stream",
     "text": [
      " 17%|█████████                                             | 128/760 [13:16<3:25:21, 19.50s/it]"
     ]
    },
    {
     "name": "stdout",
     "output_type": "stream",
     "text": [
      "Processing document: 116-0-0.txt\n",
      "1552\n"
     ]
    },
    {
     "name": "stderr",
     "output_type": "stream",
     "text": [
      " 17%|█████████▏                                            | 129/760 [13:34<3:19:39, 18.98s/it]"
     ]
    },
    {
     "name": "stdout",
     "output_type": "stream",
     "text": [
      "Processing document: 116-1-0.txt\n",
      "929\n"
     ]
    },
    {
     "name": "stderr",
     "output_type": "stream",
     "text": [
      " 17%|█████████▏                                            | 130/760 [13:42<2:45:43, 15.78s/it]"
     ]
    },
    {
     "name": "stdout",
     "output_type": "stream",
     "text": [
      "Processing document: 117-0-0.txt\n",
      "1676\n"
     ]
    },
    {
     "name": "stderr",
     "output_type": "stream",
     "text": [
      " 17%|█████████▎                                            | 131/760 [13:55<2:36:45, 14.95s/it]"
     ]
    },
    {
     "name": "stdout",
     "output_type": "stream",
     "text": [
      "Processing document: 117-1-0.txt\n",
      "1987\n"
     ]
    },
    {
     "name": "stderr",
     "output_type": "stream",
     "text": [
      " 17%|█████████▍                                            | 132/760 [14:18<3:03:02, 17.49s/it]"
     ]
    },
    {
     "name": "stdout",
     "output_type": "stream",
     "text": [
      "Processing document: 117-1-1.txt\n",
      "637\n"
     ]
    },
    {
     "name": "stderr",
     "output_type": "stream",
     "text": [
      " 18%|█████████▍                                            | 133/760 [14:26<2:33:18, 14.67s/it]"
     ]
    },
    {
     "name": "stdout",
     "output_type": "stream",
     "text": [
      "Processing document: 117-2-0.txt\n",
      "720\n"
     ]
    },
    {
     "name": "stderr",
     "output_type": "stream",
     "text": [
      " 18%|█████████▌                                            | 134/760 [14:36<2:17:25, 13.17s/it]"
     ]
    },
    {
     "name": "stdout",
     "output_type": "stream",
     "text": [
      "Processing document: 118-0-0.txt\n",
      "1709\n"
     ]
    },
    {
     "name": "stderr",
     "output_type": "stream",
     "text": [
      " 18%|█████████▌                                            | 135/760 [14:48<2:13:31, 12.82s/it]"
     ]
    },
    {
     "name": "stdout",
     "output_type": "stream",
     "text": [
      "Processing document: 119-0-0.txt\n",
      "1493\n"
     ]
    },
    {
     "name": "stderr",
     "output_type": "stream",
     "text": [
      " 18%|█████████▋                                            | 136/760 [15:01<2:12:52, 12.78s/it]"
     ]
    },
    {
     "name": "stdout",
     "output_type": "stream",
     "text": [
      "Processing document: 12-0-0.txt\n",
      "1776\n"
     ]
    },
    {
     "name": "stderr",
     "output_type": "stream",
     "text": [
      " 18%|█████████▋                                            | 137/760 [15:09<1:58:29, 11.41s/it]"
     ]
    },
    {
     "name": "stdout",
     "output_type": "stream",
     "text": [
      "Processing document: 12-1-0.txt\n",
      "1661\n"
     ]
    },
    {
     "name": "stderr",
     "output_type": "stream",
     "text": [
      " 18%|█████████▊                                            | 138/760 [15:21<2:00:07, 11.59s/it]"
     ]
    },
    {
     "name": "stdout",
     "output_type": "stream",
     "text": [
      "Processing document: 12-10-0.txt\n",
      "1700\n"
     ]
    },
    {
     "name": "stderr",
     "output_type": "stream",
     "text": [
      " 18%|█████████▉                                            | 139/760 [15:35<2:06:36, 12.23s/it]"
     ]
    },
    {
     "name": "stdout",
     "output_type": "stream",
     "text": [
      "Processing document: 12-11-0.txt\n",
      "1004\n"
     ]
    },
    {
     "name": "stderr",
     "output_type": "stream",
     "text": [
      " 18%|█████████▉                                            | 140/760 [15:45<1:59:10, 11.53s/it]"
     ]
    },
    {
     "name": "stdout",
     "output_type": "stream",
     "text": [
      "Processing document: 12-2-0.txt\n",
      "1565\n"
     ]
    },
    {
     "name": "stderr",
     "output_type": "stream",
     "text": [
      " 19%|██████████                                            | 141/760 [16:07<2:33:29, 14.88s/it]"
     ]
    },
    {
     "name": "stdout",
     "output_type": "stream",
     "text": [
      "Processing document: 12-3-0.txt\n",
      "1601\n"
     ]
    },
    {
     "name": "stderr",
     "output_type": "stream",
     "text": [
      " 19%|██████████                                            | 142/760 [16:30<2:57:32, 17.24s/it]"
     ]
    },
    {
     "name": "stdout",
     "output_type": "stream",
     "text": [
      "Processing document: 12-4-0.txt\n",
      "1603\n"
     ]
    },
    {
     "name": "stderr",
     "output_type": "stream",
     "text": [
      " 19%|██████████▏                                           | 143/760 [16:53<3:14:14, 18.89s/it]"
     ]
    },
    {
     "name": "stdout",
     "output_type": "stream",
     "text": [
      "Processing document: 12-5-0.txt\n",
      "1606\n"
     ]
    },
    {
     "name": "stderr",
     "output_type": "stream",
     "text": [
      " 19%|██████████▏                                           | 144/760 [17:16<3:25:48, 20.05s/it]"
     ]
    },
    {
     "name": "stdout",
     "output_type": "stream",
     "text": [
      "Processing document: 12-6-0.txt\n",
      "1610\n"
     ]
    },
    {
     "name": "stderr",
     "output_type": "stream",
     "text": [
      " 19%|██████████▎                                           | 145/760 [17:38<3:33:45, 20.85s/it]"
     ]
    },
    {
     "name": "stdout",
     "output_type": "stream",
     "text": [
      "Processing document: 12-7-0.txt\n",
      "1651\n"
     ]
    },
    {
     "name": "stderr",
     "output_type": "stream",
     "text": [
      " 19%|██████████▎                                           | 146/760 [17:57<3:25:19, 20.06s/it]"
     ]
    },
    {
     "name": "stdout",
     "output_type": "stream",
     "text": [
      "Processing document: 12-8-0.txt\n",
      "1703\n"
     ]
    },
    {
     "name": "stderr",
     "output_type": "stream",
     "text": [
      " 19%|██████████▍                                           | 147/760 [18:19<3:33:42, 20.92s/it]"
     ]
    },
    {
     "name": "stdout",
     "output_type": "stream",
     "text": [
      "Processing document: 12-9-0.txt\n",
      "1755\n"
     ]
    },
    {
     "name": "stderr",
     "output_type": "stream",
     "text": [
      " 19%|██████████▌                                           | 148/760 [18:33<3:10:26, 18.67s/it]"
     ]
    },
    {
     "name": "stdout",
     "output_type": "stream",
     "text": [
      "Processing document: 120-0-0.txt\n",
      "336\n"
     ]
    },
    {
     "name": "stderr",
     "output_type": "stream",
     "text": [
      " 20%|██████████▌                                           | 149/760 [18:35<2:19:20, 13.68s/it]"
     ]
    },
    {
     "name": "stdout",
     "output_type": "stream",
     "text": [
      "Processing document: 122-0-0.txt\n",
      "1478\n"
     ]
    },
    {
     "name": "stderr",
     "output_type": "stream",
     "text": [
      " 20%|██████████▋                                           | 150/760 [18:54<2:36:10, 15.36s/it]"
     ]
    },
    {
     "name": "stdout",
     "output_type": "stream",
     "text": [
      "Processing document: 122-1-0.txt\n",
      "1235\n"
     ]
    },
    {
     "name": "stderr",
     "output_type": "stream",
     "text": [
      " 20%|██████████▋                                           | 151/760 [19:16<2:55:10, 17.26s/it]"
     ]
    },
    {
     "name": "stdout",
     "output_type": "stream",
     "text": [
      "Processing document: 122-2-0.txt\n",
      "1547\n"
     ]
    },
    {
     "name": "stderr",
     "output_type": "stream",
     "text": [
      " 20%|██████████▊                                           | 152/760 [19:35<3:01:48, 17.94s/it]"
     ]
    },
    {
     "name": "stdout",
     "output_type": "stream",
     "text": [
      "Processing document: 122-3-0.txt\n",
      "1415\n"
     ]
    },
    {
     "name": "stderr",
     "output_type": "stream",
     "text": [
      " 20%|██████████▊                                           | 153/760 [19:58<3:15:06, 19.29s/it]"
     ]
    },
    {
     "name": "stdout",
     "output_type": "stream",
     "text": [
      "Processing document: 123-0-0.txt\n",
      "884\n"
     ]
    },
    {
     "name": "stderr",
     "output_type": "stream",
     "text": [
      " 20%|██████████▉                                           | 154/760 [20:06<2:42:11, 16.06s/it]"
     ]
    },
    {
     "name": "stdout",
     "output_type": "stream",
     "text": [
      "Processing document: 124-0-0.txt\n",
      "1413\n"
     ]
    },
    {
     "name": "stderr",
     "output_type": "stream",
     "text": [
      " 20%|███████████                                           | 155/760 [20:17<2:24:11, 14.30s/it]"
     ]
    },
    {
     "name": "stdout",
     "output_type": "stream",
     "text": [
      "Processing document: 124-1-0.txt\n",
      "696\n"
     ]
    },
    {
     "name": "stderr",
     "output_type": "stream",
     "text": [
      " 21%|███████████                                           | 156/760 [20:24<2:04:35, 12.38s/it]"
     ]
    },
    {
     "name": "stdout",
     "output_type": "stream",
     "text": [
      "Processing document: 125-0-0.txt\n",
      "867\n"
     ]
    },
    {
     "name": "stderr",
     "output_type": "stream",
     "text": [
      " 21%|███████████▏                                          | 157/760 [20:33<1:53:43, 11.32s/it]"
     ]
    },
    {
     "name": "stdout",
     "output_type": "stream",
     "text": [
      "Processing document: 126-0-0.txt\n",
      "1012\n"
     ]
    },
    {
     "name": "stderr",
     "output_type": "stream",
     "text": [
      " 21%|███████████▏                                          | 158/760 [20:55<2:23:48, 14.33s/it]"
     ]
    },
    {
     "name": "stdout",
     "output_type": "stream",
     "text": [
      "Processing document: 127-0-0.txt\n",
      "1536\n"
     ]
    },
    {
     "name": "stderr",
     "output_type": "stream",
     "text": [
      " 21%|███████████▎                                          | 159/760 [21:04<2:07:14, 12.70s/it]"
     ]
    },
    {
     "name": "stdout",
     "output_type": "stream",
     "text": [
      "Processing document: 127-1-0.txt\n",
      "1616\n"
     ]
    },
    {
     "name": "stderr",
     "output_type": "stream",
     "text": [
      " 21%|███████████▎                                          | 160/760 [21:25<2:32:54, 15.29s/it]"
     ]
    },
    {
     "name": "stdout",
     "output_type": "stream",
     "text": [
      "Processing document: 127-2-0.txt\n",
      "1655\n"
     ]
    },
    {
     "name": "stderr",
     "output_type": "stream",
     "text": [
      " 21%|███████████▍                                          | 161/760 [21:36<2:18:59, 13.92s/it]"
     ]
    },
    {
     "name": "stdout",
     "output_type": "stream",
     "text": [
      "Processing document: 128-0-0.txt\n",
      "1434\n"
     ]
    },
    {
     "name": "stderr",
     "output_type": "stream",
     "text": [
      " 21%|███████████▌                                          | 162/760 [21:49<2:18:30, 13.90s/it]"
     ]
    },
    {
     "name": "stdout",
     "output_type": "stream",
     "text": [
      "Processing document: 128-1-0.txt\n",
      "631\n"
     ]
    },
    {
     "name": "stderr",
     "output_type": "stream",
     "text": [
      " 21%|███████████▌                                          | 163/760 [21:58<2:02:59, 12.36s/it]"
     ]
    },
    {
     "name": "stdout",
     "output_type": "stream",
     "text": [
      "Processing document: 129-0-0.txt\n",
      "1735\n"
     ]
    },
    {
     "name": "stderr",
     "output_type": "stream",
     "text": [
      " 22%|███████████▋                                          | 164/760 [22:12<2:06:10, 12.70s/it]"
     ]
    },
    {
     "name": "stdout",
     "output_type": "stream",
     "text": [
      "Processing document: 129-1-0.txt\n",
      "896\n"
     ]
    }
   ],
   "source": [
    "# import pandas as pd\n",
    "from tqdm import tqdm\n",
    "\n",
    "# Load the existing QA pairs from the CSV file to see what has already been processed\n",
    "processed_qa_df_1 = pd.read_csv('../data/annotated/generated_qa_pairs_1.csv')\n",
    "processed_qa_df_2 = pd.read_csv('../data/annotated/new_generated_qa_pairs_2.csv')\n",
    "processed_qa_df = pd.concat([processed_qa_df_1, processed_qa_df_2], axis=0)\n",
    "\n",
    "# Get the list of already processed doc IDs (assuming doc_id is stored in a column called 'doc_id')\n",
    "processed_doc_ids = processed_qa_df['Doc_id'].unique()\n",
    "\n",
    "# Initialize an empty DataFrame for new QA pairs\n",
    "all_qa_df = pd.DataFrame()\n",
    "\n",
    "# Iterate over the documents in doc_list\n",
    "for doc in tqdm(doc_list):\n",
    "    # Extract the doc_id from the document path\n",
    "    doc_id = doc.split('/')[-1]\n",
    "\n",
    "    # Check if this doc_id has already been processed\n",
    "    if doc_id in processed_doc_ids:\n",
    "        print(f\"Skipping already processed document: {doc_id}\")\n",
    "        continue  # Skip the file if it has already been processed\n",
    "\n",
    "    # Process the document\n",
    "    print(f\"Processing document: {doc_id}\")\n",
    "    content = read_preprocess_doc(doc)\n",
    "    formatted_input = content + \"\\n\\n\" + INSTRUCTION + \"\\n\\n\" + \"Your answer:\"\n",
    "    tokenized_prompt = tokenizer(formatted_input, return_tensors=\"pt\").to(model.device)\n",
    "    print(tokenized_prompt.input_ids.size(1))\n",
    "    \n",
    "    # Generate the response\n",
    "    messages = [\n",
    "        {\"role\": \"user\", \"content\": formatted_input},\n",
    "    ]\n",
    "    with torch.no_grad():\n",
    "        result = pipe(messages, max_new_tokens=512)\n",
    "\n",
    "    # Extract the question and answer pairs\n",
    "    qa_df = extract_qa_pairs(result[0]['generated_text'][1]['content'], doc_id)\n",
    "    # qa_df.to_csv('../data/annotated/new_generated_qa_pairs_2.csv')\n",
    "    \n",
    "    # Append the new QA pairs to the all_qa_df\n",
    "    all_qa_df = pd.concat([all_qa_df, qa_df], axis=0)\n",
    "    \n",
    "    # Reindex the DataFrame\n",
    "    all_qa_df.reset_index(drop=True, inplace=True)"
   ]
  },
  {
   "cell_type": "code",
   "execution_count": 18,
   "metadata": {},
   "outputs": [
    {
     "data": {
      "text/html": [
       "<div>\n",
       "<style scoped>\n",
       "    .dataframe tbody tr th:only-of-type {\n",
       "        vertical-align: middle;\n",
       "    }\n",
       "\n",
       "    .dataframe tbody tr th {\n",
       "        vertical-align: top;\n",
       "    }\n",
       "\n",
       "    .dataframe thead th {\n",
       "        text-align: right;\n",
       "    }\n",
       "</style>\n",
       "<table border=\"1\" class=\"dataframe\">\n",
       "  <thead>\n",
       "    <tr style=\"text-align: right;\">\n",
       "      <th></th>\n",
       "      <th>Doc_id</th>\n",
       "      <th>Question</th>\n",
       "      <th>Answer</th>\n",
       "    </tr>\n",
       "  </thead>\n",
       "  <tbody>\n",
       "    <tr>\n",
       "      <th>0</th>\n",
       "      <td>10-0-0.txt</td>\n",
       "      <td>What is the name of the cul-de-sac located in ...</td>\n",
       "      <td>Roslyn Place</td>\n",
       "    </tr>\n",
       "    <tr>\n",
       "      <th>1</th>\n",
       "      <td>10-0-0.txt</td>\n",
       "      <td>What is the name of the street with the larges...</td>\n",
       "      <td>East Carson Street</td>\n",
       "    </tr>\n",
       "    <tr>\n",
       "      <th>2</th>\n",
       "      <td>10-0-0.txt</td>\n",
       "      <td>What is the name of the highway connecting Pit...</td>\n",
       "      <td>I-376</td>\n",
       "    </tr>\n",
       "    <tr>\n",
       "      <th>3</th>\n",
       "      <td>10-0-0.txt</td>\n",
       "      <td>What is the name of the highway that runs nort...</td>\n",
       "      <td>I-279</td>\n",
       "    </tr>\n",
       "    <tr>\n",
       "      <th>4</th>\n",
       "      <td>10-0-0.txt</td>\n",
       "      <td>What is the name of the belt system in Alleghe...</td>\n",
       "      <td>Allegheny County Belt System</td>\n",
       "    </tr>\n",
       "  </tbody>\n",
       "</table>\n",
       "</div>"
      ],
      "text/plain": [
       "       Doc_id                                           Question  \\\n",
       "0  10-0-0.txt  What is the name of the cul-de-sac located in ...   \n",
       "1  10-0-0.txt  What is the name of the street with the larges...   \n",
       "2  10-0-0.txt  What is the name of the highway connecting Pit...   \n",
       "3  10-0-0.txt  What is the name of the highway that runs nort...   \n",
       "4  10-0-0.txt  What is the name of the belt system in Alleghe...   \n",
       "\n",
       "                         Answer  \n",
       "0                  Roslyn Place  \n",
       "1            East Carson Street  \n",
       "2                         I-376  \n",
       "3                         I-279  \n",
       "4  Allegheny County Belt System  "
      ]
     },
     "execution_count": 18,
     "metadata": {},
     "output_type": "execute_result"
    }
   ],
   "source": [
    "all_qa_df.head()"
   ]
  },
  {
   "cell_type": "code",
   "execution_count": 19,
   "metadata": {},
   "outputs": [],
   "source": [
    "# Save the new QA pairs back to the CSV file (optional)\n",
    "all_qa_df.to_csv('../data/annotated/new_generated_qa_pairs_2.csv', index=False)"
   ]
  },
  {
   "cell_type": "code",
   "execution_count": null,
   "metadata": {},
   "outputs": [],
   "source": []
  }
 ],
 "metadata": {
  "kernelspec": {
   "display_name": "Python 3 (ipykernel)",
   "language": "python",
   "name": "python3"
  },
  "language_info": {
   "codemirror_mode": {
    "name": "ipython",
    "version": 3
   },
   "file_extension": ".py",
   "mimetype": "text/x-python",
   "name": "python",
   "nbconvert_exporter": "python",
   "pygments_lexer": "ipython3",
   "version": "3.11.10"
  }
 },
 "nbformat": 4,
 "nbformat_minor": 4
}
