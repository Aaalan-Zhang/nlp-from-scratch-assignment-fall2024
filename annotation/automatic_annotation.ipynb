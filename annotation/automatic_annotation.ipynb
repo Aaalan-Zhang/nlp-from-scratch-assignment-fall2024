{
 "cells": [
  {
   "cell_type": "code",
   "execution_count": 1,
   "metadata": {},
   "outputs": [
    {
     "name": "stdout",
     "output_type": "stream",
     "text": [
      "GPU is available: NVIDIA A10G\n"
     ]
    }
   ],
   "source": [
    "import torch\n",
    "\n",
    "if torch.cuda.is_available():\n",
    "    print(f\"GPU is available: {torch.cuda.get_device_name(0)}\")\n",
    "else:\n",
    "    print(\"GPU is not available.\")"
   ]
  },
  {
   "cell_type": "code",
   "execution_count": 2,
   "metadata": {},
   "outputs": [
    {
     "name": "stdout",
     "output_type": "stream",
     "text": [
      "Enter your Hugging Face token:  ········\n"
     ]
    }
   ],
   "source": [
    "from huggingface_hub import login\n",
    "import getpass\n",
    "\n",
    "# Prompt the user to enter the Hugging Face token securely\n",
    "token = getpass.getpass(\"Enter your Hugging Face token: \")\n",
    "\n",
    "# Login to Hugging Face using the token\n",
    "login(token=token)"
   ]
  },
  {
   "cell_type": "code",
   "execution_count": 1,
   "metadata": {},
   "outputs": [
    {
     "data": {
      "application/vnd.jupyter.widget-view+json": {
       "model_id": "b277a00670f64636a22117bf1ca34e4c",
       "version_major": 2,
       "version_minor": 0
      },
      "text/plain": [
       "Loading checkpoint shards:   0%|          | 0/4 [00:00<?, ?it/s]"
      ]
     },
     "metadata": {},
     "output_type": "display_data"
    }
   ],
   "source": [
    "from transformers import AutoTokenizer, AutoModelForCausalLM\n",
    "import torch\n",
    "# load the model\n",
    "# model_id = \"meta-llama/Llama-2-7b-chat-hf\"\n",
    "model_id = \"meta-llama/Llama-3.1-8B-Instruct\"\n",
    "model = AutoModelForCausalLM.from_pretrained(model_id, torch_dtype=torch.float16, device_map=\"auto\")"
   ]
  },
  {
   "cell_type": "code",
   "execution_count": 3,
   "metadata": {},
   "outputs": [],
   "source": [
    "# load the tokenizer\n",
    "tokenizer = AutoTokenizer.from_pretrained(model_id)\n",
    "tokenizer.pad_token = tokenizer.eos_token\n",
    "tokenizer.padding_side = \"left\""
   ]
  },
  {
   "cell_type": "code",
   "execution_count": 4,
   "metadata": {},
   "outputs": [],
   "source": [
    "from transformers import pipeline\n",
    "pipe = pipeline(\"text-generation\", model=model, tokenizer=tokenizer, torch_dtype=torch.float16)"
   ]
  },
  {
   "cell_type": "code",
   "execution_count": 6,
   "metadata": {},
   "outputs": [],
   "source": [
    "INSTRUCTION = \\\n",
    "\"\"\"\n",
    "You are an assistant trained to detect if a question is asking about a future event. Here are some examples:\n",
    "\n",
    "Example 1:\n",
    "Question: \"When will the next meeting happen?\"\n",
    "Answer: Yes\n",
    "\n",
    "Example 2:\n",
    "Question: \"What happened during the last meeting?\"\n",
    "Answer: No\n",
    "\n",
    "Example 3:\n",
    "Question: \"What will be covered in the next conference?\"\n",
    "Answer: Yes\n",
    "\n",
    "Now analyze the following question and decide if it refers to a future event:\n",
    "Question:\n",
    "\"\"\""
   ]
  },
  {
   "cell_type": "code",
   "execution_count": 23,
   "metadata": {},
   "outputs": [],
   "source": [
    "# torch.cuda.empty_cache()\n",
    "# read in the doc\n",
    "import pandas as pd\n",
    "csv_path = '../data/annotated/QA_pairs_2.csv'\n",
    "df = pd.read_csv(csv_path)\n",
    "questions = []\n",
    "# Iterate through the rows in the dataframe\n",
    "for index, row in df.iterrows():\n",
    "    questions.append(row['Question'])"
   ]
  },
  {
   "cell_type": "code",
   "execution_count": 24,
   "metadata": {},
   "outputs": [
    {
     "data": {
      "text/plain": [
       "3938"
      ]
     },
     "execution_count": 24,
     "metadata": {},
     "output_type": "execute_result"
    }
   ],
   "source": [
    "len(questions)"
   ]
  },
  {
   "cell_type": "code",
   "execution_count": 25,
   "metadata": {},
   "outputs": [
    {
     "name": "stderr",
     "output_type": "stream",
     "text": [
      "100%|███████████████████████████████████████████████████████████| 3938/3938 [09:21<00:00,  7.01it/s]\n"
     ]
    }
   ],
   "source": [
    "# import pandas as pd\n",
    "from tqdm import tqdm\n",
    "import datetime\n",
    "results = []\n",
    "for question in tqdm(questions):\n",
    "# formatted_input = INSTRUCTION + \" \" + \"When did Pittsburgh welcome a series of major film and television productions?\" + \"\\n\\n\" + \"Is this question about a future event? Please answer 'Yes' or 'No'.\"\n",
    "    formatted_input = INSTRUCTION + \" \" + f\"{question}\" + \"\\n\\n\" + \"Is this question about a future event? Please answer 'Yes' or 'No'.\"\n",
    "    \n",
    "    tokenized_prompt = tokenizer(formatted_input, return_tensors=\"pt\").to(model.device)\n",
    "        \n",
    "    # Generate the response\n",
    "    messages = [\n",
    "        {\"role\": \"user\", \"content\": formatted_input},\n",
    "    ]\n",
    "    with torch.no_grad():\n",
    "        result = pipe(messages, max_new_tokens=512)\n",
    "    \n",
    "    results.append(result[0]['generated_text'][1]['content'])"
   ]
  },
  {
   "cell_type": "code",
   "execution_count": 19,
   "metadata": {},
   "outputs": [],
   "source": [
    "df['is_future_event'] = results"
   ]
  },
  {
   "cell_type": "code",
   "execution_count": 22,
   "metadata": {},
   "outputs": [],
   "source": [
    "df.to_csv('../data/annotated/QA_pairs_2_with_future_event.csv')"
   ]
  }
 ],
 "metadata": {
  "kernelspec": {
   "display_name": "Python 3 (ipykernel)",
   "language": "python",
   "name": "python3"
  },
  "language_info": {
   "codemirror_mode": {
    "name": "ipython",
    "version": 3
   },
   "file_extension": ".py",
   "mimetype": "text/x-python",
   "name": "python",
   "nbconvert_exporter": "python",
   "pygments_lexer": "ipython3",
   "version": "3.11.10"
  }
 },
 "nbformat": 4,
 "nbformat_minor": 4
}
